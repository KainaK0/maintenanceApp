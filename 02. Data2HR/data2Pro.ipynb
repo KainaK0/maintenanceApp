{
 "metadata": {
  "language_info": {
   "codemirror_mode": {
    "name": "ipython",
    "version": 3
   },
   "file_extension": ".py",
   "mimetype": "text/x-python",
   "name": "python",
   "nbconvert_exporter": "python",
   "pygments_lexer": "ipython3",
   "version": "3.8.7-final"
  },
  "orig_nbformat": 2,
  "kernelspec": {
   "name": "python387jvsc74a57bd0c627be1547c7c874688ddee1aaaa67b367275f1752d282bff5eb427acd241334",
   "display_name": "Python 3.8.7 64-bit"
  },
  "metadata": {
   "interpreter": {
    "hash": "c627be1547c7c874688ddee1aaaa67b367275f1752d282bff5eb427acd241334"
   }
  }
 },
 "nbformat": 4,
 "nbformat_minor": 2,
 "cells": [
  {
   "cell_type": "code",
   "execution_count": 350,
   "metadata": {},
   "outputs": [],
   "source": [
    "import pandas as pd\n",
    "import numpy as np\n",
    "import os\n",
    "from datetime import date,timedelta\n",
    "from dateutil.relativedelta import relativedelta"
   ]
  },
  {
   "cell_type": "code",
   "execution_count": 351,
   "metadata": {},
   "outputs": [],
   "source": [
    "folder = r'C:\\Users\\jcallomamanib\\Documents\\GitProjects\\maintenanceApp\\02. Data2HR\\output data'\n",
    "namedataASCD_M = r'dataASCD_M.xlsx'\n",
    "rutedataASCD_M = os.path.join(folder,namedataASCD_M)"
   ]
  },
  {
   "cell_type": "code",
   "execution_count": 352,
   "metadata": {},
   "outputs": [
    {
     "output_type": "stream",
     "name": "stderr",
     "text": [
      "C:\\Users\\jcallomamanib\\AppData\\Roaming\\Python\\Python38\\site-packages\\openpyxl\\worksheet\\_reader.py:312: UserWarning: Unknown extension is not supported and will be removed\n  warn(msg)\n"
     ]
    }
   ],
   "source": [
    "dataASCD_M = pd.read_excel(rutedataASCD_M,header=0)"
   ]
  },
  {
   "cell_type": "code",
   "execution_count": 353,
   "metadata": {},
   "outputs": [],
   "source": [
    "filterMT = dataASCD_M.loc[:,'Maintenance type'] != 'COND'\n",
    "dataASCD_1TM = dataASCD_M.loc[filterMT,:].reset_index(drop=True)"
   ]
  },
  {
   "cell_type": "code",
   "execution_count": 354,
   "metadata": {},
   "outputs": [],
   "source": [
    "dataASCD_1TM.loc[:,'Strategy'] = dataASCD_1TM.loc[:,'Frequency'].astype(int).astype(str) + dataASCD_1TM.loc[:,'Unidad Periodo']\n",
    "\n",
    "dataASCD_1TM.loc[:,'Man hour'] = dataASCD_1TM.loc[:,'Time']*dataASCD_1TM.loc[:,'Amount Craft']"
   ]
  },
  {
   "cell_type": "code",
   "execution_count": 355,
   "metadata": {},
   "outputs": [],
   "source": [
    "# Adding the pivot column to project\n",
    "dataASCD_1TM.loc[:,'pivot'] = dataASCD_1TM.loc[:,'key_dutie'] + '-' + dataASCD_1TM.loc[:,'Strategy'] \n",
    "#dataASCD_1TP.loc[:,'pivot'] = dataASCD_1TP.loc[:,'Asset tag'] + '-' + dataASCD_1TP.loc[:,'Strategy']"
   ]
  },
  {
   "cell_type": "code",
   "execution_count": 356,
   "metadata": {},
   "outputs": [],
   "source": [
    "columnfilter = ['key_system', 'Component','Primary task', 'Maintenance type', 'Specialist', 'Constraint', 'Time', 'Amount Craft','Frequency', 'Unidad Periodo','Strategy', 'Date task done']"
   ]
  },
  {
   "cell_type": "code",
   "execution_count": 357,
   "metadata": {},
   "outputs": [
    {
     "output_type": "execute_result",
     "data": {
      "text/plain": [
       "Index(['Asset tag', 'Name', 'Cod sap', 'WBS_1_EN', 'WBS_2_EN', 'WBS_3_EN',\n",
       "       'WBS_4_EN', 'Responsable', 'Hour day', 'Criticidad', 'Criticidad Name',\n",
       "       'key_system', 'System', 'key_component', 'Component', 'key_dutie',\n",
       "       'Primary task', 'Primary task detail activity', 'Maintenance type',\n",
       "       'Specialist', 'Constraint', 'Time', 'Amount Craft', 'Frequency',\n",
       "       'Unidad Periodo', 'Last date task done', 'Man hour', 'Strategy',\n",
       "       'pivot'],\n",
       "      dtype='object')"
      ]
     },
     "metadata": {},
     "execution_count": 357
    }
   ],
   "source": [
    "dataASCD_1TM.columns"
   ]
  },
  {
   "cell_type": "code",
   "execution_count": 358,
   "metadata": {},
   "outputs": [],
   "source": [
    "projectionM = dataASCD_1TM.loc[:,['key_dutie','Strategy','Frequency', 'Unidad Periodo','Last date task done','Hour day']].groupby(['key_dutie','Strategy','Frequency', 'Unidad Periodo','Last date task done','Hour day']).size().reset_index()\n",
    "projectionM.drop(columns = {0},inplace =True)\n",
    "projectionM.loc[:,'Date plan'] = projectionM.loc[:,'Last date task done']\n",
    "[row,column] = projectionM.shape"
   ]
  },
  {
   "cell_type": "code",
   "execution_count": 359,
   "metadata": {},
   "outputs": [
    {
     "output_type": "execute_result",
     "data": {
      "text/plain": [
       "              key_dutie Strategy  Frequency Unidad Periodo  \\\n",
       "0  2221-PU-201|01-04-01     165H      165.0              H   \n",
       "1  2221-PU-201|01-05-01     165H      165.0              H   \n",
       "2  2221-PU-201|01-06-01     165H      165.0              H   \n",
       "3  2221-PU-201|01-06-02     165H      165.0              H   \n",
       "4  2221-PU-201|01-06-03    4000H     4000.0              H   \n",
       "\n",
       "  Last date task done  Hour day  Date plan  \n",
       "0          2021-03-30        24 2021-03-30  \n",
       "1          2021-03-30        24 2021-03-30  \n",
       "2          2021-03-30        24 2021-03-30  \n",
       "3          2021-03-30        24 2021-03-30  \n",
       "4          2021-03-27        24 2021-03-27  "
      ],
      "text/html": "<div>\n<style scoped>\n    .dataframe tbody tr th:only-of-type {\n        vertical-align: middle;\n    }\n\n    .dataframe tbody tr th {\n        vertical-align: top;\n    }\n\n    .dataframe thead th {\n        text-align: right;\n    }\n</style>\n<table border=\"1\" class=\"dataframe\">\n  <thead>\n    <tr style=\"text-align: right;\">\n      <th></th>\n      <th>key_dutie</th>\n      <th>Strategy</th>\n      <th>Frequency</th>\n      <th>Unidad Periodo</th>\n      <th>Last date task done</th>\n      <th>Hour day</th>\n      <th>Date plan</th>\n    </tr>\n  </thead>\n  <tbody>\n    <tr>\n      <th>0</th>\n      <td>2221-PU-201|01-04-01</td>\n      <td>165H</td>\n      <td>165.0</td>\n      <td>H</td>\n      <td>2021-03-30</td>\n      <td>24</td>\n      <td>2021-03-30</td>\n    </tr>\n    <tr>\n      <th>1</th>\n      <td>2221-PU-201|01-05-01</td>\n      <td>165H</td>\n      <td>165.0</td>\n      <td>H</td>\n      <td>2021-03-30</td>\n      <td>24</td>\n      <td>2021-03-30</td>\n    </tr>\n    <tr>\n      <th>2</th>\n      <td>2221-PU-201|01-06-01</td>\n      <td>165H</td>\n      <td>165.0</td>\n      <td>H</td>\n      <td>2021-03-30</td>\n      <td>24</td>\n      <td>2021-03-30</td>\n    </tr>\n    <tr>\n      <th>3</th>\n      <td>2221-PU-201|01-06-02</td>\n      <td>165H</td>\n      <td>165.0</td>\n      <td>H</td>\n      <td>2021-03-30</td>\n      <td>24</td>\n      <td>2021-03-30</td>\n    </tr>\n    <tr>\n      <th>4</th>\n      <td>2221-PU-201|01-06-03</td>\n      <td>4000H</td>\n      <td>4000.0</td>\n      <td>H</td>\n      <td>2021-03-27</td>\n      <td>24</td>\n      <td>2021-03-27</td>\n    </tr>\n  </tbody>\n</table>\n</div>"
     },
     "metadata": {},
     "execution_count": 359
    }
   ],
   "source": [
    "projectionM.head()"
   ]
  },
  {
   "cell_type": "code",
   "execution_count": 360,
   "metadata": {},
   "outputs": [
    {
     "output_type": "stream",
     "name": "stdout",
     "text": [
      "Wall time: 2min 25s\n"
     ]
    }
   ],
   "source": [
    "%%time\n",
    "planDatesM = pd.DataFrame(columns = projectionM.columns)\n",
    "projectionflag = projectionM.copy()\n",
    "for m in range(row):\n",
    "    while projectionflag.loc[m,'Date plan'] < date(2022,1,1):\n",
    "        hour2days = round(projectionflag.loc[m,'Frequency']/projectionflag.loc[m,'Hour day'],0)\n",
    "        if projectionflag.loc[m,'Unidad Periodo'] == 'H':\n",
    "            delta = relativedelta(days = hour2days)\n",
    "        elif  projectionflag.loc[m,'Unidad Periodo'] == 'S':\n",
    "            delta = relativedelta(weeks = projectionflag.loc[m,'Frequency'])\n",
    "        elif  projectionflag.loc[m,'Unidad Periodo'] == 'M':\n",
    "            delta = relativedelta(months = projectionflag.loc[m,'Frequency'])\n",
    "        elif  projectionflag.loc[m,'Unidad Periodo'] == 'A':\n",
    "            delta = relativedelta(years = projectionflag.loc[m,'Frequency'])\n",
    "        projectionflag.loc[m,'Date plan'] = projectionflag.loc[m,'Date plan'] + delta\n",
    "        if projectionflag.loc[m,'Date plan'] < date(2022,1,1):\n",
    "            planDatesM = planDatesM.append(projectionflag.loc[m,:],ignore_index=True)\n",
    "        else:\n",
    "            pass\n",
    "planDatesM.loc[:,'pivot'] = planDatesM.loc[:,'key_dutie'] + '-' + planDatesM.loc[:,'Strategy']"
   ]
  },
  {
   "cell_type": "code",
   "execution_count": null,
   "metadata": {},
   "outputs": [],
   "source": []
  },
  {
   "cell_type": "code",
   "execution_count": 361,
   "metadata": {},
   "outputs": [
    {
     "output_type": "execute_result",
     "data": {
      "text/plain": [
       "              key_dutie Strategy  Frequency Unidad Periodo  \\\n",
       "0  2221-PU-201|01-04-01     165H      165.0              H   \n",
       "1  2221-PU-201|01-04-01     165H      165.0              H   \n",
       "2  2221-PU-201|01-04-01     165H      165.0              H   \n",
       "3  2221-PU-201|01-04-01     165H      165.0              H   \n",
       "4  2221-PU-201|01-04-01     165H      165.0              H   \n",
       "\n",
       "  Last date task done Hour day  Date plan                      pivot  \n",
       "0          2021-03-30       24 2021-04-06  2221-PU-201|01-04-01-165H  \n",
       "1          2021-03-30       24 2021-04-13  2221-PU-201|01-04-01-165H  \n",
       "2          2021-03-30       24 2021-04-20  2221-PU-201|01-04-01-165H  \n",
       "3          2021-03-30       24 2021-04-27  2221-PU-201|01-04-01-165H  \n",
       "4          2021-03-30       24 2021-05-04  2221-PU-201|01-04-01-165H  "
      ],
      "text/html": "<div>\n<style scoped>\n    .dataframe tbody tr th:only-of-type {\n        vertical-align: middle;\n    }\n\n    .dataframe tbody tr th {\n        vertical-align: top;\n    }\n\n    .dataframe thead th {\n        text-align: right;\n    }\n</style>\n<table border=\"1\" class=\"dataframe\">\n  <thead>\n    <tr style=\"text-align: right;\">\n      <th></th>\n      <th>key_dutie</th>\n      <th>Strategy</th>\n      <th>Frequency</th>\n      <th>Unidad Periodo</th>\n      <th>Last date task done</th>\n      <th>Hour day</th>\n      <th>Date plan</th>\n      <th>pivot</th>\n    </tr>\n  </thead>\n  <tbody>\n    <tr>\n      <th>0</th>\n      <td>2221-PU-201|01-04-01</td>\n      <td>165H</td>\n      <td>165.0</td>\n      <td>H</td>\n      <td>2021-03-30</td>\n      <td>24</td>\n      <td>2021-04-06</td>\n      <td>2221-PU-201|01-04-01-165H</td>\n    </tr>\n    <tr>\n      <th>1</th>\n      <td>2221-PU-201|01-04-01</td>\n      <td>165H</td>\n      <td>165.0</td>\n      <td>H</td>\n      <td>2021-03-30</td>\n      <td>24</td>\n      <td>2021-04-13</td>\n      <td>2221-PU-201|01-04-01-165H</td>\n    </tr>\n    <tr>\n      <th>2</th>\n      <td>2221-PU-201|01-04-01</td>\n      <td>165H</td>\n      <td>165.0</td>\n      <td>H</td>\n      <td>2021-03-30</td>\n      <td>24</td>\n      <td>2021-04-20</td>\n      <td>2221-PU-201|01-04-01-165H</td>\n    </tr>\n    <tr>\n      <th>3</th>\n      <td>2221-PU-201|01-04-01</td>\n      <td>165H</td>\n      <td>165.0</td>\n      <td>H</td>\n      <td>2021-03-30</td>\n      <td>24</td>\n      <td>2021-04-27</td>\n      <td>2221-PU-201|01-04-01-165H</td>\n    </tr>\n    <tr>\n      <th>4</th>\n      <td>2221-PU-201|01-04-01</td>\n      <td>165H</td>\n      <td>165.0</td>\n      <td>H</td>\n      <td>2021-03-30</td>\n      <td>24</td>\n      <td>2021-05-04</td>\n      <td>2221-PU-201|01-04-01-165H</td>\n    </tr>\n  </tbody>\n</table>\n</div>"
     },
     "metadata": {},
     "execution_count": 361
    }
   ],
   "source": [
    "planDatesM.head()"
   ]
  },
  {
   "cell_type": "code",
   "execution_count": 362,
   "metadata": {},
   "outputs": [
    {
     "output_type": "execute_result",
     "data": {
      "text/plain": [
       "(27970, 8)"
      ]
     },
     "metadata": {},
     "execution_count": 362
    }
   ],
   "source": [
    "planDatesM.shape"
   ]
  },
  {
   "cell_type": "code",
   "execution_count": 363,
   "metadata": {},
   "outputs": [
    {
     "output_type": "stream",
     "name": "stdout",
     "text": [
      "Wall time: 19.3 s\n"
     ]
    }
   ],
   "source": [
    "%%time\n",
    "dataASCD_1TMPlan = pd.merge(dataASCD_1TM,planDatesM.loc[:,['pivot','Date plan']],how='left',on='pivot')\n",
    "dataASCD_1TMPlan.to_excel('dataASCD_1TMPlan.xlsx', encoding='utf-8-sig',index=False)"
   ]
  },
  {
   "cell_type": "code",
   "execution_count": 364,
   "metadata": {},
   "outputs": [
    {
     "output_type": "execute_result",
     "data": {
      "text/plain": [
       "(28893, 30)"
      ]
     },
     "metadata": {},
     "execution_count": 364
    }
   ],
   "source": [
    "dataASCD_1TMPlan.shape"
   ]
  },
  {
   "cell_type": "code",
   "execution_count": 365,
   "metadata": {},
   "outputs": [
    {
     "output_type": "execute_result",
     "data": {
      "text/plain": [
       "Index(['Asset tag', 'Name', 'Cod sap', 'WBS_1_EN', 'WBS_2_EN', 'WBS_3_EN',\n",
       "       'WBS_4_EN', 'Responsable', 'Hour day', 'Criticidad', 'Criticidad Name',\n",
       "       'key_system', 'System', 'key_component', 'Component', 'key_dutie',\n",
       "       'Primary task', 'Primary task detail activity', 'Maintenance type',\n",
       "       'Specialist', 'Constraint', 'Time', 'Amount Craft', 'Frequency',\n",
       "       'Unidad Periodo', 'Last date task done', 'Man hour', 'Strategy',\n",
       "       'pivot', 'Date plan'],\n",
       "      dtype='object')"
      ]
     },
     "metadata": {},
     "execution_count": 365
    }
   ],
   "source": [
    "dataASCD_1TMPlan.columns"
   ]
  }
 ]
}