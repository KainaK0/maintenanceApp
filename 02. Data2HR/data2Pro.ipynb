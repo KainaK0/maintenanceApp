{
 "metadata": {
  "language_info": {
   "codemirror_mode": {
    "name": "ipython",
    "version": 3
   },
   "file_extension": ".py",
   "mimetype": "text/x-python",
   "name": "python",
   "nbconvert_exporter": "python",
   "pygments_lexer": "ipython3",
   "version": "3.8.7-final"
  },
  "orig_nbformat": 2,
  "kernelspec": {
   "name": "python387jvsc74a57bd0c627be1547c7c874688ddee1aaaa67b367275f1752d282bff5eb427acd241334",
   "display_name": "Python 3.8.7 64-bit"
  },
  "metadata": {
   "interpreter": {
    "hash": "c627be1547c7c874688ddee1aaaa67b367275f1752d282bff5eb427acd241334"
   }
  }
 },
 "nbformat": 4,
 "nbformat_minor": 2,
 "cells": [
  {
   "cell_type": "code",
   "execution_count": 10,
   "metadata": {},
   "outputs": [],
   "source": [
    "import pandas as pd\n",
    "import numpy as np\n",
    "import os\n",
    "from datetime import date,timedelta\n",
    "from dateutil.relativedelta import relativedelta"
   ]
  },
  {
   "cell_type": "code",
   "execution_count": 11,
   "metadata": {},
   "outputs": [],
   "source": [
    "folder = r'C:\\Users\\jcallomamanib\\Documents\\GitProjects\\maintenanceApp\\02. Data2HR\\output data'\n",
    "namedataASCD_M = r'dataASCD_M.xlsx'\n",
    "rutedataASCD_M = os.path.join(folder,namedataASCD_M)"
   ]
  },
  {
   "cell_type": "code",
   "execution_count": 12,
   "metadata": {},
   "outputs": [],
   "source": [
    "dataASCD_M = pd.read_excel(rutedataASCD_M,header=0)"
   ]
  },
  {
   "cell_type": "code",
   "execution_count": 13,
   "metadata": {},
   "outputs": [],
   "source": [
    "filterMT = dataASCD_M.loc[:,'Maintenance type'] != 'COND'\n",
    "dataASCD_1TM = dataASCD_M.loc[filterMT,:].reset_index(drop=True)"
   ]
  },
  {
   "cell_type": "code",
   "execution_count": 14,
   "metadata": {},
   "outputs": [],
   "source": [
    "dataASCD_1TM.loc[:,'Strategy'] = dataASCD_1TM.loc[:,'Frequency'].astype(int).astype(str) + dataASCD_1TM.loc[:,'Unidad Periodo']\n",
    "\n",
    "dataASCD_1TM.loc[:,'Man hour'] = dataASCD_1TM.loc[:,'Time']*dataASCD_1TM.loc[:,'Amount Craft']"
   ]
  },
  {
   "cell_type": "code",
   "execution_count": 15,
   "metadata": {},
   "outputs": [],
   "source": [
    "# Adding the pivot column to project\n",
    "dataASCD_1TM.loc[:,'pivot'] = dataASCD_1TM.loc[:,'Asset tag'] + '-' + dataASCD_1TM.loc[:,'Strategy'] \n",
    "#dataASCD_1TP.loc[:,'pivot'] = dataASCD_1TP.loc[:,'Asset tag'] + '-' + dataASCD_1TP.loc[:,'Strategy']"
   ]
  },
  {
   "cell_type": "code",
   "execution_count": 16,
   "metadata": {},
   "outputs": [],
   "source": [
    "columnfilter = ['key_system', 'Component','Primary task', 'Maintenance type', 'Specialist', 'Constraint', 'Time', 'Amount Craft','Frequency', 'Unidad Periodo','Strategy', 'Date task done']"
   ]
  },
  {
   "cell_type": "code",
   "execution_count": 17,
   "metadata": {},
   "outputs": [],
   "source": [
    "projectionM = dataASCD_1TM.loc[:,['Asset tag','Strategy','Frequency', 'Unidad Periodo','Last date task done','Hour day']].groupby(['Asset tag','Strategy','Frequency', 'Unidad Periodo','Last date task done','Hour day']).size().reset_index()\n",
    "projectionM.drop(columns = {0},inplace =True)\n",
    "projectionM.loc[:,'Date plan'] = projectionM.loc[:,'Last date task done']\n",
    "[row,column] = projectionM.shape"
   ]
  },
  {
   "cell_type": "code",
   "execution_count": 18,
   "metadata": {},
   "outputs": [
    {
     "output_type": "stream",
     "name": "stdout",
     "text": [
      "Wall time: 2min 24s\n"
     ]
    }
   ],
   "source": [
    "%%time\n",
    "planDatesM = pd.DataFrame(columns = projectionM.columns)\n",
    "projectionflag = projectionM.copy()\n",
    "for m in range(row):\n",
    "    while projectionflag.loc[m,'Date plan'] < date(2023,1,1):\n",
    "        hour2days = round(projectionflag.loc[m,'Frequency']/projectionflag.loc[m,'Hour day'],0)\n",
    "        if projectionflag.loc[m,'Unidad Periodo'] == 'H':\n",
    "            delta = relativedelta(days = hour2days)\n",
    "        elif  projectionflag.loc[m,'Unidad Periodo'] == 'S':\n",
    "            delta = relativedelta(weeks = projectionflag.loc[m,'Frequency'])\n",
    "        elif  projectionflag.loc[m,'Unidad Periodo'] == 'M':\n",
    "            delta = relativedelta(months = projectionflag.loc[m,'Frequency'])\n",
    "        elif  projectionflag.loc[m,'Unidad Periodo'] == 'A':\n",
    "            delta = relativedelta(years = projectionflag.loc[m,'Frequency'])\n",
    "        projectionflag.loc[m,'Date plan'] = projectionflag.loc[m,'Date plan'] + delta\n",
    "        if projectionflag.loc[m,'Date plan'] < date(2023,1,1):\n",
    "            planDatesM = planDatesM.append(projectionflag.loc[m,:],ignore_index=True)\n",
    "        else:\n",
    "            pass\n",
    "planDatesM.loc[:,'pivot'] = planDatesM.loc[:,'Asset tag'] + '-' + planDatesM.loc[:,'Strategy']"
   ]
  },
  {
   "cell_type": "code",
   "execution_count": 19,
   "metadata": {},
   "outputs": [
    {
     "output_type": "execute_result",
     "data": {
      "text/plain": [
       "(13025, 8)"
      ]
     },
     "metadata": {},
     "execution_count": 19
    }
   ],
   "source": [
    "planDatesM.shape"
   ]
  },
  {
   "cell_type": "code",
   "execution_count": 20,
   "metadata": {},
   "outputs": [
    {
     "output_type": "stream",
     "name": "stdout",
     "text": [
      "Wall time: 1min 41s\n"
     ]
    }
   ],
   "source": [
    "%%time\n",
    "dataASCD_1TMPlan = pd.merge(dataASCD_1TM,planDatesM.loc[:,['pivot','Date plan']],how='left',on='pivot')\n",
    "dataASCD_1TMPlan.to_excel('dataASCD_1TMPlan.xlsx', encoding='utf-8-sig',index=False)"
   ]
  },
  {
   "cell_type": "code",
   "execution_count": 21,
   "metadata": {},
   "outputs": [
    {
     "output_type": "execute_result",
     "data": {
      "text/plain": [
       "(59629, 30)"
      ]
     },
     "metadata": {},
     "execution_count": 21
    }
   ],
   "source": [
    "dataASCD_1TMPlan.shape"
   ]
  },
  {
   "cell_type": "code",
   "execution_count": 22,
   "metadata": {},
   "outputs": [
    {
     "output_type": "execute_result",
     "data": {
      "text/plain": [
       "Index(['Asset tag', 'Name', 'Cod sap', 'WBS_1_EN', 'WBS_2_EN', 'WBS_3_EN',\n",
       "       'WBS_4_EN', 'Responsable', 'Hour day', 'Criticidad', 'Criticidad Name',\n",
       "       'key_system', 'System', 'key_component', 'Component', 'key_dutie',\n",
       "       'Primary task', 'Primary task detail activity', 'Maintenance type',\n",
       "       'Specialist', 'Constraint', 'Time', 'Amount Craft', 'Frequency',\n",
       "       'Unidad Periodo', 'Last date task done', 'Man hour', 'Strategy',\n",
       "       'pivot', 'Date plan'],\n",
       "      dtype='object')"
      ]
     },
     "metadata": {},
     "execution_count": 22
    }
   ],
   "source": [
    "dataASCD_1TMPlan.columns"
   ]
  }
 ]
}