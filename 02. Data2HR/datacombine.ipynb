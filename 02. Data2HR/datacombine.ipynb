{
 "metadata": {
  "language_info": {
   "codemirror_mode": {
    "name": "ipython",
    "version": 3
   },
   "file_extension": ".py",
   "mimetype": "text/x-python",
   "name": "python",
   "nbconvert_exporter": "python",
   "pygments_lexer": "ipython3",
   "version": "3.8.7-final"
  },
  "orig_nbformat": 2,
  "kernelspec": {
   "name": "python3",
   "display_name": "Python 3.8.7 64-bit",
   "metadata": {
    "interpreter": {
     "hash": "c627be1547c7c874688ddee1aaaa67b367275f1752d282bff5eb427acd241334"
    }
   }
  }
 },
 "nbformat": 4,
 "nbformat_minor": 2,
 "cells": [
  {
   "cell_type": "code",
   "execution_count": 34,
   "metadata": {},
   "outputs": [],
   "source": [
    "import pandas as pd\n",
    "import numpy as np\n",
    "import os"
   ]
  },
  {
   "cell_type": "code",
   "execution_count": 66,
   "metadata": {},
   "outputs": [],
   "source": [
    "iw29 = pd.read_excel('IW29.XLSX',sheet_name='Sheet1',header=0)\n",
    "iw37n = pd.read_excel('IW37N.XLSX',sheet_name='Sheet1',header=0)\n",
    "iw39 = pd.read_excel('IW39.XLSX',sheet_name='Sheet1',header=0)"
   ]
  },
  {
   "cell_type": "code",
   "execution_count": 81,
   "metadata": {},
   "outputs": [],
   "source": [
    "columnsdropiw29 = ['Línea seleccionada','Centro planificación', 'Grupo planificación','3Nivel', 'Creado a las','Modificado por', 'Modificado el', 'Hora de modificación','Hora del aviso', 'Hora de inicio de avería', 'Hora de fin de avería','Duración de parada', 'Unidad durac.parada', 'Inicio deseado', 'Hora de inicio deseada', 'Fin deseado', 'Hora de fin deseada', 'Cierre por fecha', 'Hora de cierre', 'Grupo códigos',      'Cód.codificación', 'Texto grupos codificación','Texto código p. codificación','Clase de la actividad de mantenimiento']"
   ]
  },
  {
   "cell_type": "code",
   "execution_count": 82,
   "metadata": {},
   "outputs": [],
   "source": [
    "iw29C = iw29.drop(columns=columnsdropiw29)"
   ]
  },
  {
   "cell_type": "code",
   "execution_count": 83,
   "metadata": {},
   "outputs": [],
   "source": [
    "iw29CT =iw29C\n",
    "iw29CT.columns = 'IW29-' + iw29C.columns"
   ]
  },
  {
   "cell_type": "code",
   "execution_count": 84,
   "metadata": {},
   "outputs": [],
   "source": [
    "columnsdropiw37n=['Línea seleccionada', 'Fecha entrada','Modificado por', 'Fecha modific.maestro orden', 'Petición de borrado', 'Texto para prioridad', 'Estado instalación', 'Centro planificación', 'Centro emplazamiento', 'Hora inicio extrema', 'Fecha fin extrema', 'Hora de fin extrema', 'Inicio programado', 'Hora de inicio prog.',    'Fin programado', 'Hora de fin progr.', 'Fecha de inicio real', 'Hora de inicio real', 'Fecha de fin real', 'Hora de fin real','Fe.liberación real', 'Fecha planificada', 'Grupo hojas ruta',   'Cont.grupo HRuta']"
   ]
  },
  {
   "cell_type": "code",
   "execution_count": 85,
   "metadata": {},
   "outputs": [],
   "source": [
    "iw37nC = iw37n.drop(columns=columnsdropiw37n)"
   ]
  },
  {
   "cell_type": "code",
   "execution_count": 86,
   "metadata": {},
   "outputs": [],
   "source": [
    "iw37nCT = iw37nC\n",
    "iw37nCT.columns = 'IW37N-' + iw37nC.columns"
   ]
  },
  {
   "cell_type": "code",
   "execution_count": 87,
   "metadata": {},
   "outputs": [],
   "source": [
    "iw29iw37n = pd.merge(iw29CT,iw37nCT,left_on= 'IW29-Orden',right_on = 'IW37N-Orden',how ='left')"
   ]
  },
  {
   "cell_type": "code",
   "execution_count": 91,
   "metadata": {},
   "outputs": [],
   "source": [
    "iw29iw37n.to_excel('IW29IW37N.xlsx',encoding='utf-8-sig',index=False)"
   ]
  },
  {
   "cell_type": "code",
   "execution_count": null,
   "metadata": {},
   "outputs": [],
   "source": []
  }
 ]
}