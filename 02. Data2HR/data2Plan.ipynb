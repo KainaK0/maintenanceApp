{
 "metadata": {
  "language_info": {
   "codemirror_mode": {
    "name": "ipython",
    "version": 3
   },
   "file_extension": ".py",
   "mimetype": "text/x-python",
   "name": "python",
   "nbconvert_exporter": "python",
   "pygments_lexer": "ipython3",
   "version": "3.8.7-final"
  },
  "orig_nbformat": 2,
  "kernelspec": {
   "name": "python3",
   "display_name": "Python 3.8.7 64-bit",
   "metadata": {
    "interpreter": {
     "hash": "c627be1547c7c874688ddee1aaaa67b367275f1752d282bff5eb427acd241334"
    }
   }
  }
 },
 "nbformat": 4,
 "nbformat_minor": 2,
 "cells": [
  {
   "cell_type": "code",
   "execution_count": 26,
   "metadata": {},
   "outputs": [],
   "source": [
    "import pandas as pd\n",
    "import numpy as np\n",
    "import os\n",
    "from datetime import date,timedelta"
   ]
  },
  {
   "cell_type": "code",
   "execution_count": 27,
   "metadata": {},
   "outputs": [],
   "source": [
    "folder = r'C:\\Users\\jcallomamanib\\Documents\\GitProjects\\maintenanceApp\\02. Data2HR\\output data'\n",
    "\n",
    "asset_data = r'dataAD.xlsx'\n",
    "asset_system = r'dataAS.xlsx'\n",
    "system_component = r'dataSC.xlsx'\n",
    "component_dutie = r'dataCD.xlsx'\n",
    "dutie_dataM = r'dataDD_M.xlsx'\n",
    "dutie_dataP = r'dataDD_P.xlsx'\n",
    "\n",
    "ruteA_D = os.path.join(folder,asset_data)\n",
    "ruteA_S = os.path.join(folder,asset_system)\n",
    "ruteS_C = os.path.join(folder,system_component)\n",
    "ruteC_D = os.path.join(folder,component_dutie)\n",
    "ruteD_DM = os.path.join(folder,dutie_dataM)\n",
    "ruteD_DP = os.path.join(folder,dutie_dataP)\n"
   ]
  },
  {
   "cell_type": "code",
   "execution_count": null,
   "metadata": {},
   "outputs": [],
   "source": [
    "dataA_D = pd.read_excel(ruteA_D, dtype = {'Cod sap':str})\n",
    "dataA_S = pd.read_excel(ruteA_S, dtype = {'System':str})\n",
    "dataS_C = pd.read_excel(ruteS_C)\n",
    "dataC_D = pd.read_excel(ruteC_D)\n",
    "dataD_DM = pd.read_excel(ruteD_DM, dtype = {'Specialist':str,'Amount Craft':int,'Time':float})\n",
    "dataD_DP = pd.read_excel(ruteD_DP, dtype = {'Specialist':str,'Amount Craft':int,'Time':float})\n",
    "dataD_DM.loc[:,'Last date task done']=pd.to_datetime(dataD_DM.loc[:,'Last date task done'],format='%d/%m/%Y')\n",
    "dataD_DP.loc[:,'Last date task done']=pd.to_datetime(dataD_DP.loc[:,'Last date task done'],format='%d/%m/%Y')"
   ]
  },
  {
   "cell_type": "code",
   "execution_count": null,
   "metadata": {},
   "outputs": [],
   "source": [
    "## DATA OF DUTIES AND TASK INFORMATION\n",
    "rowfilterM = ~dataD_DM.loc[:,'Frequency'].isnull()\n",
    "rowfilterP = ~dataD_DP.loc[:,'Frequency'].isnull()\n",
    "\n",
    "dataD_D_M.loc[rowfilterM,'Strategy'] = dataD_DM.loc[rowfilterM,'Frequency'].astype(int).astype(str) + dataD_DM.loc[rowfilterM,'Unidad Periodo']\n",
    "\n",
    "dataD_D_P.loc[rowfilterP,'Strategy'] = dataD_DP.loc[rowfilterP,'Frequency'].astype(int).astype(str) + dataD_DP.loc[rowfilterP,'Unidad Periodo']\n",
    "\n",
    "# All the conditional activities are remove (1T: first task: all activities with frequency 2T second task: all conditional activities)\n",
    "dataD_D_M_1T = dataD_D_M.loc[dataD_D_M.loc[:,'Maintenance type'] != 'COND',:].reset_index(drop = True)\n",
    "dataD_D_P_1T = dataD_D_P.loc[dataD_D_P.loc[:,'Maintenance type'] != 'COND',:].reset_index(drop = True)\n",
    "dataD_D_MP_2T = dataD_D_MP.loc[dataD_D_MP.loc[:,'Maintenance type'] == 'COND',:].reset_index(drop = True)"
   ]
  },
  {
   "cell_type": "code",
   "execution_count": null,
   "metadata": {},
   "outputs": [],
   "source": [
    "%%time\n",
    "# Merging all datas csv \n",
    "# Asset&Data(Johan&Jorge) -> Asset&System -> System&Component -> Component&Duties -> \n",
    "# Duties&Data(Mechanical/Predective/Mechanical&Predective)\n",
    "dataA_D_S = pd.merge(dataA_D,dataA_S,how = 'left',on = 'Asset tag')\n",
    "dataA_S_C = pd.merge(dataA_D_S, dataS_C, how='left', on = 'key_system')\n",
    "dataA_S_C_D = pd.merge(dataA_S_C, dataC_D, how='left', on='key_component')\n",
    "# Merging all with conditional activities\n",
    "dataASCD_M = pd.merge(dataA_S_C_D, dataD_DM, how = 'inner', on = 'key_dutie')\n",
    "dataASCD_P = pd.merge(dataA_S_C_D, dataD_DP, how = 'inner', on = 'key_dutie')\n",
    "# Merging all without conditional activities, just first task\n",
    "dataASCD_1TM = pd.merge(dataA_S_C_D, dataD_D_M_1T, how = 'inner', on = 'key_dutie')\n",
    "dataASCD_1TP = pd.merge(dataA_S_C_D, dataD_D_P_1T, how = 'inner', on = 'key_dutie')\n",
    "# Saving the data\n",
    "#dataASCD_1TM.to_excel('dataASCD_1TM.xlsx',encoding='utf-8-sig', index=False)\n",
    "#dataASCD_1TP.to_excel('dataASCD_1TP.xlsx',encoding='utf-8-sig', index=False)\n",
    "\n",
    "#dataASCD_M.to_excel('dataASCD_M.xlsx',encoding='utf-8-sig', index=False)\n",
    "#dataASCD_P.to_excel('dataASCD_P.xlsx',encoding='utf-8-sig', index=False)"
   ]
  },
  {
   "cell_type": "code",
   "execution_count": 30,
   "metadata": {},
   "outputs": [
    {
     "output_type": "execute_result",
     "data": {
      "text/plain": [
       "Asset tag                          0\n",
       "Name                              23\n",
       "Cod sap                          270\n",
       "WBS_1_EN                           0\n",
       "WBS_2_EN                           0\n",
       "WBS_3_EN                           0\n",
       "WBS_4_EN                           0\n",
       "Responsable                        0\n",
       "Hour day                           0\n",
       "Criticidad                         0\n",
       "Criticidad Name                    0\n",
       "key_system                         0\n",
       "System                          3276\n",
       "key_component                      0\n",
       "Component                          0\n",
       "key_dutie                          0\n",
       "Primary task                       0\n",
       "Primary task detail activity       0\n",
       "Maintenance type                   0\n",
       "Specialist                         0\n",
       "Constraint                         0\n",
       "Time                               0\n",
       "Amount Craft                       0\n",
       "Frequency                          0\n",
       "Unidad Periodo                     0\n",
       "Last date task done                0\n",
       "Man hour                           0\n",
       "Strategy                           0\n",
       "dtype: int64"
      ]
     },
     "metadata": {},
     "execution_count": 30
    }
   ],
   "source": [
    "%%time\n",
    "# Adding the pivot column to project\n",
    "dataAllcompileM.loc[:,'pivot'] = dataAllcompileM.loc[:,'Asset tag'] + '-' + dataAllcompileM.loc[:,'Strategy'] "
   ]
  }
 ]
}