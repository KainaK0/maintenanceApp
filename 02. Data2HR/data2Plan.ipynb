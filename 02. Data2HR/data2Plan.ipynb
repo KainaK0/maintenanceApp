{
 "metadata": {
  "language_info": {
   "codemirror_mode": {
    "name": "ipython",
    "version": 3
   },
   "file_extension": ".py",
   "mimetype": "text/x-python",
   "name": "python",
   "nbconvert_exporter": "python",
   "pygments_lexer": "ipython3",
   "version": "3.8.7-final"
  },
  "orig_nbformat": 2,
  "kernelspec": {
   "name": "python3",
   "display_name": "Python 3.8.7 64-bit",
   "metadata": {
    "interpreter": {
     "hash": "c627be1547c7c874688ddee1aaaa67b367275f1752d282bff5eb427acd241334"
    }
   }
  }
 },
 "nbformat": 4,
 "nbformat_minor": 2,
 "cells": [
  {
   "cell_type": "code",
   "execution_count": 26,
   "metadata": {},
   "outputs": [],
   "source": [
    "import pandas as pd\n",
    "import numpy as np\n",
    "import os\n",
    "from datetime import date,timedelta"
   ]
  },
  {
   "cell_type": "code",
   "execution_count": 27,
   "metadata": {},
   "outputs": [],
   "source": [
    "folder = r'C:\\Users\\jcallomamanib\\Documents\\GitProjects\\maintenanceApp\\02. Data2HR\\output data'\n",
    "name_DD_M = r'dataASCD_M.xlsx'\n",
    "name_DD_P = r'dataASCD_P.xlsx'\n",
    "\n",
    "asset_data = 'AssetData.csv'\n",
    "asset_system = 'AssetStructureA&S.csv'\n",
    "system_component = 'AssetStructureS&C.csv'\n",
    "component_dutie = 'DutieStructureC&D.csv'\n",
    "dutie_resource = 'DutieStructureD&R.csv'\n",
    "\n",
    "ruteA_D = os.path.join(folder,asset_data)\n",
    "ruteA_S = os.path.join(folder,asset_system)\n",
    "ruteS_C = os.path.join(folder,system_component)\n",
    "ruteC_D = os.path.join(folder,component_dutie)\n",
    "ruteD_D = os.path.join(folder,dutie_data)\n",
    "ruteD_R = os.path.join(folder,dutie_resource)\n",
    "\n",
    "ruteDD_M = os.path.join(folder,name_DD_M)\n",
    "ruteDD_P = os.path.join(folder,name_DD_P)\n",
    "\n"
   ]
  },
  {
   "cell_type": "code",
   "execution_count": 28,
   "metadata": {},
   "outputs": [],
   "source": [
    "dataASCD_M = pd.read_excel(ruteDD_M, header=0)\n",
    "dataASCD_P = pd.read_excel(ruteDD_P, header=0)"
   ]
  },
  {
   "cell_type": "code",
   "execution_count": null,
   "metadata": {},
   "outputs": [],
   "source": [
    "dataA_D_S = pd.merge(dataA_D_JJ,dataA_S,how = 'left',on = 'Asset tag')\n",
    "dataA_S_C = pd.merge(dataA_D_S, dataS_C, how='left', on = 'key_system')\n",
    "dataA_S_C_D = pd.merge(dataA_S_C, dataC_D, how='left', on='key_component')\n",
    "\n",
    "dataASCD_M = pd.merge(dataA_S_C_D, dataD_D_M_1T, how = 'inner', on = 'key_dutie')\n",
    "dataASCD_P = pd.merge(dataA_S_C_D, dataD_D_P_1T, how = 'inner', on = 'key_dutie')\n",
    "\n",
    "# Saving the data\n",
    "dataASCD_M.to_excel('dataASCD_M.xlsx',encoding='utf-8-sig', index=False)\n",
    "dataASCD_P.to_excel('dataASCD_P.xlsx',encoding='utf-8-sig', index=False)"
   ]
  },
  {
   "cell_type": "code",
   "execution_count": 30,
   "metadata": {},
   "outputs": [
    {
     "output_type": "execute_result",
     "data": {
      "text/plain": [
       "Asset tag                          0\n",
       "Name                              23\n",
       "Cod sap                          270\n",
       "WBS_1_EN                           0\n",
       "WBS_2_EN                           0\n",
       "WBS_3_EN                           0\n",
       "WBS_4_EN                           0\n",
       "Responsable                        0\n",
       "Hour day                           0\n",
       "Criticidad                         0\n",
       "Criticidad Name                    0\n",
       "key_system                         0\n",
       "System                          3276\n",
       "key_component                      0\n",
       "Component                          0\n",
       "key_dutie                          0\n",
       "Primary task                       0\n",
       "Primary task detail activity       0\n",
       "Maintenance type                   0\n",
       "Specialist                         0\n",
       "Constraint                         0\n",
       "Time                               0\n",
       "Amount Craft                       0\n",
       "Frequency                          0\n",
       "Unidad Periodo                     0\n",
       "Last date task done                0\n",
       "Man hour                           0\n",
       "Strategy                           0\n",
       "dtype: int64"
      ]
     },
     "metadata": {},
     "execution_count": 30
    }
   ],
   "source": [
    "%%time\n",
    "# Adding the pivot column to project\n",
    "dataAllcompileM.loc[:,'pivot'] = dataAllcompileM.loc[:,'Asset tag'] + '-' + dataAllcompileM.loc[:,'Strategy'] "
   ]
  }
 ]
}