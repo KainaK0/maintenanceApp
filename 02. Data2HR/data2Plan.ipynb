{
 "metadata": {
  "language_info": {
   "codemirror_mode": {
    "name": "ipython",
    "version": 3
   },
   "file_extension": ".py",
   "mimetype": "text/x-python",
   "name": "python",
   "nbconvert_exporter": "python",
   "pygments_lexer": "ipython3",
   "version": "3.8.7-final"
  },
  "orig_nbformat": 2,
  "kernelspec": {
   "name": "python3",
   "display_name": "Python 3.8.7 64-bit",
   "metadata": {
    "interpreter": {
     "hash": "c627be1547c7c874688ddee1aaaa67b367275f1752d282bff5eb427acd241334"
    }
   }
  }
 },
 "nbformat": 4,
 "nbformat_minor": 2,
 "cells": [
  {
   "cell_type": "code",
   "execution_count": 116,
   "metadata": {},
   "outputs": [],
   "source": [
    "import pandas as pd\n",
    "import numpy as np\n",
    "import os\n",
    "from datetime import date,timedelta"
   ]
  },
  {
   "cell_type": "code",
   "execution_count": 117,
   "metadata": {},
   "outputs": [],
   "source": [
    "folder = r'C:\\Users\\jcallomamanib\\Documents\\GitProjects\\maintenanceApp\\02. Data2HR\\output data'\n",
    "\n",
    "asset_data = r'dataAD.xlsx'\n",
    "asset_system = r'dataAS.xlsx'\n",
    "system_component = r'dataSC.xlsx'\n",
    "component_dutie = r'dataCD.xlsx'\n",
    "dutie_dataM = r'dataDD_M.xlsx'\n",
    "dutie_dataP = r'dataDD_P.xlsx'\n",
    "\n",
    "ruteA_D = os.path.join(folder,asset_data)\n",
    "ruteA_S = os.path.join(folder,asset_system)\n",
    "ruteS_C = os.path.join(folder,system_component)\n",
    "ruteC_D = os.path.join(folder,component_dutie)\n",
    "ruteD_DM = os.path.join(folder,dutie_dataM)\n",
    "ruteD_DP = os.path.join(folder,dutie_dataP)\n"
   ]
  },
  {
   "cell_type": "code",
   "execution_count": 130,
   "metadata": {},
   "outputs": [
    {
     "output_type": "stream",
     "name": "stdout",
     "text": [
      "Wall time: 2.13 s\n"
     ]
    }
   ],
   "source": [
    "%%time\n",
    "dataA_D = pd.read_excel(ruteA_D, dtype = {'Cod sap':str})\n",
    "dataA_S = pd.read_excel(ruteA_S, dtype = {'System':str})\n",
    "dataS_C = pd.read_excel(ruteS_C)\n",
    "dataC_D = pd.read_excel(ruteC_D)\n",
    "dataD_DM = pd.read_excel(ruteD_DM, dtype = {'Specialist':str,'Amount Craft':int,'Time':float})\n",
    "dataD_DP = pd.read_excel(ruteD_DP, dtype = {'Specialist':str,'Amount Craft':int,'Time':float})\n",
    "dataD_DM.loc[:,'Last date task done']=pd.to_datetime(dataD_DM.loc[:,'Last date task done'],format='%d/%m/%Y')\n",
    "dataD_DP.loc[:,'Last date task done']=pd.to_datetime(dataD_DP.loc[:,'Last date task done'],format='%d/%m/%Y')"
   ]
  },
  {
   "cell_type": "code",
   "execution_count": 131,
   "metadata": {},
   "outputs": [],
   "source": [
    "## DATA OF DUTIES AND TASK INFORMATION\n",
    "dataD_DM.loc[:,'Man hour'] = dataD_DM.loc[:,'Time']*dataD_DM.loc[:,'Amount Craft']\n",
    "dataD_DP.loc[:,'Man hour'] = dataD_DP.loc[:,'Time']*dataD_DP.loc[:,'Amount Craft']\n",
    "\n",
    "rowfilterM = ~dataD_DM.loc[:,'Frequency'].isnull()\n",
    "rowfilterP = ~dataD_DP.loc[:,'Frequency'].isnull()\n",
    "\n",
    "dataD_DM.loc[rowfilterM,'Strategy'] = dataD_DM.loc[rowfilterM,'Frequency'].astype(int).astype(str) + dataD_DM.loc[rowfilterM,'Unidad Periodo']\n",
    "\n",
    "dataD_DP.loc[rowfilterP,'Strategy'] = dataD_DP.loc[rowfilterP,'Frequency'].astype(int).astype(str) + dataD_DP.loc[rowfilterP,'Unidad Periodo']\n",
    "\n",
    "# All the conditional activities are remove (1T: first task: all activities with frequency 2T second task: all conditional activities)\n",
    "dataD_DM_1T = dataD_DM.loc[dataD_DM.loc[:,'Maintenance type'] != 'COND',:].reset_index(drop = True)\n",
    "dataD_DP_1T = dataD_DP.loc[dataD_DP.loc[:,'Maintenance type'] != 'COND',:].reset_index(drop = True)"
   ]
  },
  {
   "cell_type": "code",
   "execution_count": 133,
   "metadata": {},
   "outputs": [
    {
     "output_type": "stream",
     "name": "stdout",
     "text": [
      "Wall time: 51.6 ms\n"
     ]
    }
   ],
   "source": [
    "%%time\n",
    "# Merging all datas csv \n",
    "# Asset&Data(Johan&Jorge) -> Asset&System -> System&Component -> Component&Duties -> \n",
    "# Duties&Data(Mechanical/Predective/Mechanical&Predective)\n",
    "dataA_D_S = pd.merge(dataA_D,dataA_S,how = 'left',on = 'Asset tag')\n",
    "dataA_S_C = pd.merge(dataA_D_S, dataS_C, how='left', on = 'key_system')\n",
    "dataA_S_C_D = pd.merge(dataA_S_C, dataC_D, how='left', on='key_component')\n",
    "# Merging all with conditional activities\n",
    "dataASCD_M = pd.merge(dataA_S_C_D, dataD_DM, how = 'inner', on = 'key_dutie')\n",
    "dataASCD_P = pd.merge(dataA_S_C_D, dataD_DP, how = 'inner', on = 'key_dutie')\n",
    "# Merging all without conditional activities, just first task\n",
    "dataASCD_1TM = pd.merge(dataA_S_C_D, dataD_DM_1T, how = 'inner', on = 'key_dutie')\n",
    "dataASCD_1TP = pd.merge(dataA_S_C_D, dataD_DP_1T, how = 'inner', on = 'key_dutie')\n"
   ]
  },
  {
   "cell_type": "code",
   "execution_count": 134,
   "metadata": {},
   "outputs": [],
   "source": [
    "# Adding the pivot column to project\n",
    "dataASCD_1TM.loc[:,'pivot'] = dataASCD_1TM.loc[:,'Asset tag'] + '-' + dataASCD_1TM.loc[:,'Strategy'] \n",
    "dataASCD_1TP.loc[:,'pivot'] = dataASCD_1TP.loc[:,'Asset tag'] + '-' + dataASCD_1TP.loc[:,'Strategy']"
   ]
  },
  {
   "cell_type": "code",
   "execution_count": 135,
   "metadata": {},
   "outputs": [],
   "source": [
    "columnfilter = ['key_system', 'Component','Primary task', 'Maintenance type', 'Specialist', 'Constraint', 'Time', 'Amount Craft','Frequency', 'Unidad Periodo','Strategy', 'Date task done']"
   ]
  },
  {
   "cell_type": "code",
   "execution_count": 136,
   "metadata": {},
   "outputs": [],
   "source": [
    "projectionM = dataASCD_1TM.loc[:,['Asset tag','Strategy','Frequency', 'Unidad Periodo','Last date task done','Hour day']].groupby(['Asset tag','Strategy','Frequency', 'Unidad Periodo','Last date task done','Hour day']).size().reset_index()\n",
    "projectionM.drop(columns = {0},inplace =True)\n",
    "projectionM.loc[:,'Date plan'] = projectionM.loc[:,'Last date task done']\n",
    "[row,column] = projectionM.shape"
   ]
  },
  {
   "cell_type": "code",
   "execution_count": 125,
   "metadata": {},
   "outputs": [
    {
     "output_type": "stream",
     "name": "stdout",
     "text": [
      "Wall time: 28.2 s\n"
     ]
    }
   ],
   "source": [
    "%%time\n",
    "planDatesM = pd.DataFrame(columns = projectionM.columns)\n",
    "projectionflag = projectionM\n",
    "\n",
    "for m in range(row):\n",
    "    while projectionflag.loc[m,'Date plan'] < date(2022,1,1):\n",
    "        hour2days = round(projectionflag.loc[m,'Frequency']/projectionflag.loc[m,'Hour day'],0)\n",
    "        if projectionflag.loc[m,'Unidad Periodo'] == 'H':\n",
    "            delta=timedelta(days = hour2days)\n",
    "        elif  projectionflag.loc[m,'Unidad Periodo'] == 'S':\n",
    "            delta = timedelta(weeks = projectionflag.loc[m,'Frequency'])\n",
    "        elif  projectionflag.loc[m,'Unidad Periodo'] == 'M':\n",
    "            delta = timedelta(weeks = 4*projectionflag.loc[m,'Frequency'])\n",
    "        elif  projectionflag.loc[m,'Unidad Periodo'] == 'A':\n",
    "            delta = timedelta(weeks = 52*projectionflag.loc[m,'Frequency'])\n",
    "        \n",
    "        projectionflag.loc[m,'Date plan'] = projectionflag.loc[m,'Date plan'] + delta\n",
    "        planDatesM = planDatesM.append(projectionflag.loc[m,:],ignore_index=True)\n",
    "planDatesM.loc[:,'pivot'] = planDatesM.loc[:,'Asset tag'] + '-' + planDatesM.loc[:,'Strategy']"
   ]
  },
  {
   "cell_type": "code",
   "execution_count": 126,
   "metadata": {},
   "outputs": [
    {
     "output_type": "stream",
     "name": "stdout",
     "text": [
      "Wall time: 21.1 s\n"
     ]
    }
   ],
   "source": [
    "%%time\n",
    "dataASCD_1TMPlan = pd.merge(dataASCD_1TM,planDatesM.loc[:,['pivot','Date plan']],how='left',on='pivot')\n",
    "dataASCD_1TMPlan.to_excel('dataASCD_1TMPlan.xlsx', encoding='utf-8-sig',index=False)"
   ]
  },
  {
   "cell_type": "code",
   "execution_count": 127,
   "metadata": {},
   "outputs": [],
   "source": [
    "projectionP = dataASCD_1TP.loc[:,['Asset tag','Strategy','Frequency', 'Unidad Periodo','Last date task done','Hour day']].groupby(['Asset tag','Strategy','Frequency', 'Unidad Periodo','Last date task done','Hour day']).size().reset_index()\n",
    "projectionP.drop(columns = {0},inplace =True)\n",
    "projectionP.loc[:,'Date plan'] = projectionP.loc[:,'Last date task done']\n",
    "[row,column] = projectionP.shape"
   ]
  },
  {
   "cell_type": "code",
   "execution_count": 128,
   "metadata": {},
   "outputs": [
    {
     "output_type": "stream",
     "name": "stdout",
     "text": [
      "Wall time: 6.32 s\n"
     ]
    }
   ],
   "source": [
    "%%time\n",
    "planDatesP = pd.DataFrame(columns = projectionP.columns)\n",
    "projectionflag = projectionP\n",
    "\n",
    "for m in range(row):\n",
    "    while projectionflag.loc[m,'Date plan'] < date(2022,1,1):\n",
    "        hour2days = round(projectionflag.loc[m,'Frequency']/projectionflag.loc[m,'Hour day'],0)\n",
    "        if projectionflag.loc[m,'Unidad Periodo'] == 'H':\n",
    "            delta=timedelta(days = hour2days)\n",
    "        elif  projectionflag.loc[m,'Unidad Periodo'] == 'S':\n",
    "            delta = timedelta(weeks = projectionflag.loc[m,'Frequency'])\n",
    "        elif  projectionflag.loc[m,'Unidad Periodo'] == 'M':\n",
    "            delta = timedelta(weeks = 4*projectionflag.loc[m,'Frequency'])\n",
    "        elif  projectionflag.loc[m,'Unidad Periodo'] == 'A':\n",
    "            delta = timedelta(weeks = 52*projectionflag.loc[m,'Frequency'])\n",
    "        \n",
    "        projectionflag.loc[m,'Date plan'] = projectionflag.loc[m,'Date plan'] + delta\n",
    "        planDatesP = planDatesP.append(projectionflag.loc[m,:],ignore_index=True)\n",
    "planDatesP.loc[:,'pivot'] = planDatesP.loc[:,'Asset tag'] + '-' + planDatesP.loc[:,'Strategy']"
   ]
  },
  {
   "cell_type": "code",
   "execution_count": 129,
   "metadata": {},
   "outputs": [
    {
     "output_type": "stream",
     "name": "stdout",
     "text": [
      "Wall time: 5.25 s\n"
     ]
    }
   ],
   "source": [
    "%%time\n",
    "dataASCD_1TPPlan = pd.merge(dataASCD_1TP,planDatesP.loc[:,['pivot','Date plan']],how='left',on='pivot')\n",
    "dataASCD_1TPPlan.to_excel('dataASCD_1TPPlan.xlsx', encoding='utf-8-sig',index=False)"
   ]
  }
 ]
}