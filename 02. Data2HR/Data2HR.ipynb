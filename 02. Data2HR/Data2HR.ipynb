{
 "metadata": {
  "language_info": {
   "codemirror_mode": {
    "name": "ipython",
    "version": 3
   },
   "file_extension": ".py",
   "mimetype": "text/x-python",
   "name": "python",
   "nbconvert_exporter": "python",
   "pygments_lexer": "ipython3",
   "version": "3.8.7-final"
  },
  "orig_nbformat": 2,
  "kernelspec": {
   "name": "python3",
   "display_name": "Python 3.8.7 64-bit",
   "metadata": {
    "interpreter": {
     "hash": "c627be1547c7c874688ddee1aaaa67b367275f1752d282bff5eb427acd241334"
    }
   }
  }
 },
 "nbformat": 4,
 "nbformat_minor": 2,
 "cells": [
  {
   "cell_type": "code",
   "execution_count": 813,
   "metadata": {},
   "outputs": [],
   "source": [
    "import pandas as pd\n",
    "import numpy as np\n",
    "import os\n",
    "from datetime import date,timedelta"
   ]
  },
  {
   "cell_type": "code",
   "execution_count": 785,
   "metadata": {},
   "outputs": [],
   "source": [
    "folder = r'C:\\Users\\jcallomamanib\\Documents\\GitProjects\\maintenanceApp\\02. Data2HR\\data'\n",
    "asset_data = 'AssetData.csv'\n",
    "asset_system = 'AssetStructureA&S.csv'\n",
    "system_component = 'AssetStructureS&C.csv'\n",
    "component_dutie = 'DutieStructureC&D.csv'\n",
    "dutie_data = 'DutieStructureD&D.csv'\n",
    "dutie_resource = 'DutieStructureD&R.csv'\n",
    "wbs = 'WBS.csv'\n",
    "\n",
    "ruteA_D = os.path.join(folder,asset_data)\n",
    "ruteA_S = os.path.join(folder,asset_system)\n",
    "ruteS_C = os.path.join(folder,system_component)\n",
    "ruteC_D = os.path.join(folder,component_dutie)\n",
    "ruteD_D = os.path.join(folder,dutie_data)\n",
    "ruteD_R = os.path.join(folder,dutie_resource)\n",
    "rute_wbs = os.path.join(folder,wbs)\n"
   ]
  },
  {
   "cell_type": "code",
   "execution_count": 786,
   "metadata": {},
   "outputs": [],
   "source": [
    "dataA_D = pd.read_csv(ruteA_D, dtype = {'Cod sap':str})\n",
    "dataA_S = pd.read_csv(ruteA_S, dtype = {'System':str})\n",
    "dataS_C = pd.read_csv(ruteS_C)\n",
    "dataC_D = pd.read_csv(ruteC_D)\n",
    "dataD_D = pd.read_csv(ruteD_D, dtype = {'Specialist':str,'Amount Craft':int,'Time':float})\n",
    "dataD_R = pd.read_csv(ruteD_R, dtype = {'Cod. Material':str})\n",
    "data_wbs = pd.read_csv(rute_wbs)"
   ]
  },
  {
   "cell_type": "code",
   "execution_count": 787,
   "metadata": {},
   "outputs": [],
   "source": [
    "## DATA OF DUTIES AND TASK INFORMATION\n",
    "# All the conditional activities are remove\n",
    "dataD_D_1task = dataD_D.loc[dataD_D.loc[:,'Maintenance type'] != 'COND',:].reset_index(drop = True)\n",
    "dataD_D_2task = dataD_D.loc[dataD_D.loc[:,'Maintenance type'] == 'COND',:].reset_index(drop = True)\n",
    "# Adding Date of last Task done\n",
    "dataD_D_1task.loc[:, 'Date task done'] = date(2021,4,1)\n",
    "# All the non Mechanical or Predective activities are remove\n",
    "dataD_D_1task.loc[:,'Man hour'] = dataD_D_1task.loc[:,'Time']*dataD_D_1task.loc[:,'Amount Craft']\n",
    "# Adding Estrategy to the activities\n",
    "dataD_D_1task.loc[:,'Strategy'] = dataD_D_1task.loc[:,'Frequency'].astype(int).astype(str)+dataD_D_1task.loc[:,'Unidad Periodo']\n",
    "\n",
    "dataD_D_1T_MP = dataD_D_1task.loc[(dataD_D_1task.loc[:,'Specialist']=='TEC-MEC') | (dataD_D_1task.loc[:,'Specialist']=='TEC-PRD'),:].reset_index(drop = True)\n",
    "dataD_D_1T_M = dataD_D_1task.loc[dataD_D_1task.loc[:,'Specialist']=='TEC-MEC',:].reset_index(drop = True)\n",
    "dataD_D_1T_P = dataD_D_1task.loc[dataD_D_1task.loc[:,'Specialist']=='TEC-PRD',:].reset_index(drop = True)\n",
    "# load the data to work on\n",
    "dataD_D_1T_M.to_csv('dataD_D_1T_M.csv',encoding='utf-8-sig')\n",
    "dataD_D_1T_M.to_excel('dataD_D_1T_M.xlsx',encoding='utf-8-sig')\n",
    "dataD_D_1T_P.to_csv('dataD_D_1T_P.csv',encoding='utf-8-sig')\n",
    "dataD_D_1T_P.to_excel('dataD_D_1T_P.xlsx',encoding='utf-8-sig')"
   ]
  },
  {
   "cell_type": "code",
   "execution_count": 788,
   "metadata": {},
   "outputs": [],
   "source": [
    "# DATA OF ASSET INFORMATION\n",
    "# Removing Spanish information\n",
    "asset_SP_EN = ['WBS_1_ES', 'WBS_2_ES', 'WBS_3_ES']\n",
    "dataA_D_EN = dataA_D.drop(asset_SP_EN, axis=1)\n",
    "# All Johan&Jorge clearence\n",
    "dataA_D_JJ = dataA_D_EN.loc[dataA_D.loc[:,'Responsable']=='Johan&Jorge',:].sort_values(by='Asset tag').reset_index(drop = True)"
   ]
  },
  {
   "cell_type": "code",
   "execution_count": 789,
   "metadata": {},
   "outputs": [
    {
     "output_type": "stream",
     "name": "stdout",
     "text": [
      "Wall time: 88.8 ms\n"
     ]
    }
   ],
   "source": [
    "%%time\n",
    "# Merging all datas csv \n",
    "# Asset&Data(Johan&Jorge) -> Asset&System -> System&Component -> Component&Duties -> \n",
    "# Duties&Data(Mechanical/Predective/Mechanical&Predective)\n",
    "dataA_D_JJ_S = pd.merge(dataA_D_JJ,dataA_S,how = 'left',on = 'Asset tag')\n",
    "dataA_S_C_JJ = pd.merge(dataA_D_JJ_S, dataS_C, how='left', on = 'key_system')\n",
    "dataA_S_C_D_JJ = pd.merge(dataA_S_C_JJ, dataC_D, how='left', on='key_component')\n",
    "dataAllcompileMP = pd.merge(dataA_S_C_D_JJ, dataD_D_1T_MP, how = 'inner', on = 'key_dutie')\n",
    "dataAllcompileP = pd.merge(dataA_S_C_D_JJ, dataD_D_1T_P, how = 'inner', on = 'key_dutie')\n",
    "dataAllcompileM = pd.merge(dataA_S_C_D_JJ, dataD_D_1T_M, how = 'inner', on = 'key_dutie')"
   ]
  },
  {
   "cell_type": "code",
   "execution_count": 790,
   "metadata": {},
   "outputs": [],
   "source": [
    "# Saving all data compile Predective and Mechanical\n",
    "dataAllcompileP.to_csv('data_all_prd.csv', encoding = 'utf-8-sig')\n",
    "dataAllcompileM.to_csv('data_all_mec.csv', encoding = 'utf-8-sig')"
   ]
  },
  {
   "cell_type": "code",
   "execution_count": 791,
   "metadata": {},
   "outputs": [
    {
     "output_type": "execute_result",
     "data": {
      "text/plain": [
       "Index(['Asset tag', 'Cod sap', 'WBS_1_EN', 'WBS_2_EN', 'WBS_3_EN',\n",
       "       'Responsable', 'Hour day', 'key_system', 'System', 'key_component',\n",
       "       'Component', 'key_dutie', 'Primary task',\n",
       "       'Primary task detail activity', 'Maintenance type', 'Specialist',\n",
       "       'Constraint', 'Time', 'Amount Craft', 'Frequency', 'Unidad Periodo',\n",
       "       'Date task done', 'Man hour', 'Strategy'],\n",
       "      dtype='object')"
      ]
     },
     "metadata": {},
     "execution_count": 791
    }
   ],
   "source": [
    "dataAllcompileM.columns"
   ]
  },
  {
   "cell_type": "code",
   "execution_count": 792,
   "metadata": {},
   "outputs": [
    {
     "output_type": "execute_result",
     "data": {
      "text/plain": [
       "Index(['key_dutie', 'Primary task detail activity', 'Maintenance type',\n",
       "       'Specialist', 'Constraint', 'Time', 'Amount Craft', 'Frequency',\n",
       "       'Unidad Periodo', 'Date task done', 'Man hour', 'Strategy'],\n",
       "      dtype='object')"
      ]
     },
     "metadata": {},
     "execution_count": 792
    }
   ],
   "source": [
    "dataD_D_1T_M.columns"
   ]
  },
  {
   "cell_type": "code",
   "execution_count": 848,
   "metadata": {},
   "outputs": [],
   "source": [
    "columnfilter = ['key_system', 'Component','Primary task', 'Maintenance type', 'Specialist', 'Constraint', 'Time', 'Amount Craft','Frequency', 'Unidad Periodo','Strategy', 'Date task done']\n",
    "projection = dataAllcompileM.loc[:,['Asset tag','Strategy','Frequency', 'Unidad Periodo','Date task done','Hour day']].groupby(['Asset tag','Strategy','Frequency', 'Unidad Periodo','Date task done','Hour day']).size().reset_index()\n",
    "projection.drop(columns = {0},inplace =True)"
   ]
  },
  {
   "cell_type": "code",
   "execution_count": 849,
   "metadata": {},
   "outputs": [],
   "source": [
    "[row,column] = projection.shape"
   ]
  },
  {
   "cell_type": "code",
   "execution_count": 851,
   "metadata": {},
   "outputs": [],
   "source": [
    "projection.loc[:,'Date plan'] = projection.loc[:,'Date task done']"
   ]
  },
  {
   "cell_type": "code",
   "execution_count": 852,
   "metadata": {},
   "outputs": [
    {
     "output_type": "execute_result",
     "data": {
      "text/plain": [
       "Empty DataFrame\n",
       "Columns: [Asset tag, Strategy, Frequency, Unidad Periodo, Date task done, Hour day, Date plan]\n",
       "Index: []"
      ],
      "text/html": "<div>\n<style scoped>\n    .dataframe tbody tr th:only-of-type {\n        vertical-align: middle;\n    }\n\n    .dataframe tbody tr th {\n        vertical-align: top;\n    }\n\n    .dataframe thead th {\n        text-align: right;\n    }\n</style>\n<table border=\"1\" class=\"dataframe\">\n  <thead>\n    <tr style=\"text-align: right;\">\n      <th></th>\n      <th>Asset tag</th>\n      <th>Strategy</th>\n      <th>Frequency</th>\n      <th>Unidad Periodo</th>\n      <th>Date task done</th>\n      <th>Hour day</th>\n      <th>Date plan</th>\n    </tr>\n  </thead>\n  <tbody>\n  </tbody>\n</table>\n</div>"
     },
     "metadata": {},
     "execution_count": 852
    }
   ],
   "source": [
    "planDates = pd.DataFrame(columns = projection.columns)\n",
    "planDates "
   ]
  },
  {
   "cell_type": "code",
   "execution_count": 853,
   "metadata": {},
   "outputs": [
    {
     "output_type": "execute_result",
     "data": {
      "text/plain": [
       "datetime.date(2021, 4, 1)"
      ]
     },
     "metadata": {},
     "execution_count": 853
    }
   ],
   "source": [
    "projection.loc[0,'Date task done'] + timedelta(days = 0)"
   ]
  },
  {
   "cell_type": "code",
   "execution_count": 854,
   "metadata": {
    "tags": []
   },
   "outputs": [],
   "source": [
    "x = 0\n",
    "for i in range(row):\n",
    "    while x < 5:\n",
    "        projection.loc[i,'Date plan'] = projection.loc[i,'Date plan'] + timedelta(hours = projection.loc[i,'Frequency'])\n",
    "        planDates = planDates.append(projection.loc[i,:],ignore_index=True)\n",
    "        x +=1\n"
   ]
  },
  {
   "cell_type": "code",
   "execution_count": 855,
   "metadata": {},
   "outputs": [
    {
     "output_type": "execute_result",
     "data": {
      "text/plain": [
       "     Asset tag Strategy  Frequency Unidad Periodo Date task done Hour day  \\\n",
       "0  2221-PU-201    1000H     1000.0              H     2021-04-01       24   \n",
       "1  2221-PU-201    1000H     1000.0              H     2021-04-01       24   \n",
       "2  2221-PU-201    1000H     1000.0              H     2021-04-01       24   \n",
       "3  2221-PU-201    1000H     1000.0              H     2021-04-01       24   \n",
       "4  2221-PU-201    1000H     1000.0              H     2021-04-01       24   \n",
       "\n",
       "    Date plan  \n",
       "0  2021-05-12  \n",
       "1  2021-06-22  \n",
       "2  2021-08-02  \n",
       "3  2021-09-12  \n",
       "4  2021-10-23  "
      ],
      "text/html": "<div>\n<style scoped>\n    .dataframe tbody tr th:only-of-type {\n        vertical-align: middle;\n    }\n\n    .dataframe tbody tr th {\n        vertical-align: top;\n    }\n\n    .dataframe thead th {\n        text-align: right;\n    }\n</style>\n<table border=\"1\" class=\"dataframe\">\n  <thead>\n    <tr style=\"text-align: right;\">\n      <th></th>\n      <th>Asset tag</th>\n      <th>Strategy</th>\n      <th>Frequency</th>\n      <th>Unidad Periodo</th>\n      <th>Date task done</th>\n      <th>Hour day</th>\n      <th>Date plan</th>\n    </tr>\n  </thead>\n  <tbody>\n    <tr>\n      <th>0</th>\n      <td>2221-PU-201</td>\n      <td>1000H</td>\n      <td>1000.0</td>\n      <td>H</td>\n      <td>2021-04-01</td>\n      <td>24</td>\n      <td>2021-05-12</td>\n    </tr>\n    <tr>\n      <th>1</th>\n      <td>2221-PU-201</td>\n      <td>1000H</td>\n      <td>1000.0</td>\n      <td>H</td>\n      <td>2021-04-01</td>\n      <td>24</td>\n      <td>2021-06-22</td>\n    </tr>\n    <tr>\n      <th>2</th>\n      <td>2221-PU-201</td>\n      <td>1000H</td>\n      <td>1000.0</td>\n      <td>H</td>\n      <td>2021-04-01</td>\n      <td>24</td>\n      <td>2021-08-02</td>\n    </tr>\n    <tr>\n      <th>3</th>\n      <td>2221-PU-201</td>\n      <td>1000H</td>\n      <td>1000.0</td>\n      <td>H</td>\n      <td>2021-04-01</td>\n      <td>24</td>\n      <td>2021-09-12</td>\n    </tr>\n    <tr>\n      <th>4</th>\n      <td>2221-PU-201</td>\n      <td>1000H</td>\n      <td>1000.0</td>\n      <td>H</td>\n      <td>2021-04-01</td>\n      <td>24</td>\n      <td>2021-10-23</td>\n    </tr>\n  </tbody>\n</table>\n</div>"
     },
     "metadata": {},
     "execution_count": 855
    }
   ],
   "source": [
    "planDates"
   ]
  },
  {
   "cell_type": "code",
   "execution_count": null,
   "metadata": {},
   "outputs": [],
   "source": []
  },
  {
   "cell_type": "code",
   "execution_count": 800,
   "metadata": {},
   "outputs": [],
   "source": [
    "# DATA OF DATES AND PLANIFICATION\n",
    "dataStrategy = dataAllcompileM.loc[:,['Frequency','Unidad Periodo']].groupby(['Frequency','Unidad Periodo']).size().reset_index()\n",
    "dataStrategy.loc[:,0] = dataStrategy.loc[:,'Frequency'].astype(int).astype(str) + dataStrategy.loc[:,'Unidad Periodo']\n",
    "dataStrategy.rename(columns = {0:'claveStrategy'},inplace =True)"
   ]
  },
  {
   "cell_type": "code",
   "execution_count": 801,
   "metadata": {},
   "outputs": [
    {
     "output_type": "execute_result",
     "data": {
      "text/plain": [
       "   Frequency Unidad Periodo claveStrategy\n",
       "0        1.0              A            1A\n",
       "1        1.0              M            1M\n",
       "2        1.0              S            1S\n",
       "3        2.0              M            2M\n",
       "4        3.0              M            3M"
      ],
      "text/html": "<div>\n<style scoped>\n    .dataframe tbody tr th:only-of-type {\n        vertical-align: middle;\n    }\n\n    .dataframe tbody tr th {\n        vertical-align: top;\n    }\n\n    .dataframe thead th {\n        text-align: right;\n    }\n</style>\n<table border=\"1\" class=\"dataframe\">\n  <thead>\n    <tr style=\"text-align: right;\">\n      <th></th>\n      <th>Frequency</th>\n      <th>Unidad Periodo</th>\n      <th>claveStrategy</th>\n    </tr>\n  </thead>\n  <tbody>\n    <tr>\n      <th>0</th>\n      <td>1.0</td>\n      <td>A</td>\n      <td>1A</td>\n    </tr>\n    <tr>\n      <th>1</th>\n      <td>1.0</td>\n      <td>M</td>\n      <td>1M</td>\n    </tr>\n    <tr>\n      <th>2</th>\n      <td>1.0</td>\n      <td>S</td>\n      <td>1S</td>\n    </tr>\n    <tr>\n      <th>3</th>\n      <td>2.0</td>\n      <td>M</td>\n      <td>2M</td>\n    </tr>\n    <tr>\n      <th>4</th>\n      <td>3.0</td>\n      <td>M</td>\n      <td>3M</td>\n    </tr>\n  </tbody>\n</table>\n</div>"
     },
     "metadata": {},
     "execution_count": 801
    }
   ],
   "source": [
    "dataStrategy.head()"
   ]
  },
  {
   "cell_type": "code",
   "execution_count": 802,
   "metadata": {},
   "outputs": [],
   "source": [
    "# Data wrangling\n",
    "filtertype = dataAllcompileM.loc[:,'Maintenance type'] == 'INSP'\n",
    "filterunidad = dataAllcompileM.loc[:,'Unidad Periodo'] == 'H'\n",
    "filterhour = dataAllcompileM.loc[:,'Frequency'] == 1400\n",
    "dataAllcompileM.loc[filtertype & filterunidad,'Frequency_eq'] = (dataAllcompileM.loc[filtertype & filterunidad,'Frequency']/(24*7)).round(0)"
   ]
  },
  {
   "cell_type": "code",
   "execution_count": 803,
   "metadata": {},
   "outputs": [
    {
     "output_type": "execute_result",
     "data": {
      "text/plain": [
       "Frequency  Frequency_eq\n",
       "165.0      1.0             242\n",
       "330.0      2.0             101\n",
       "660.0      4.0             711\n",
       "1000.0     6.0              24\n",
       "1400.0     8.0               2\n",
       "1500.0     9.0               7\n",
       "2000.0     12.0            168\n",
       "3000.0     18.0              4\n",
       "4000.0     24.0             89\n",
       "6000.0     36.0              1\n",
       "8000.0     48.0             79\n",
       "dtype: int64"
      ]
     },
     "metadata": {},
     "execution_count": 803
    }
   ],
   "source": [
    "dataAllcompileM.loc[filtertype & filterunidad,['Frequency','Frequency_eq']].groupby(['Frequency','Frequency_eq']).size()"
   ]
  },
  {
   "cell_type": "code",
   "execution_count": 804,
   "metadata": {},
   "outputs": [],
   "source": [
    "# Combine activities based on similar columns\n",
    "columnfilter = ['key_system', 'Component','Primary task', 'Maintenance type', 'Specialist', 'Constraint', 'Time', 'Amount Craft','Frequency', 'Unidad Periodo']\n",
    "# '2253-PU-212'\n",
    "rowfilter = dataAllcompileM.loc[:,'Asset tag'] == '2221-PU-201'\n",
    "# dataAllcompile.loc[rowfilter,columnfilter]\n",
    "datacombine = dataAllcompileM.loc[rowfilter,columnfilter].groupby(['key_system','Component','Maintenance type','Constraint','Frequency']).agg({'Primary task': lambda x: \"\\n\".join(x)}).reset_index()"
   ]
  },
  {
   "cell_type": "code",
   "execution_count": 805,
   "metadata": {},
   "outputs": [
    {
     "output_type": "execute_result",
     "data": {
      "text/plain": [
       "        key_system                Component Maintenance type Constraint  \\\n",
       "0   2221-PU-201|01           Acople de alta             INSP        MAR   \n",
       "1   2221-PU-201|01           Acople de baja             INSP        MAR   \n",
       "2   2221-PU-201|01    Reductor de velocidad             INSP        MAR   \n",
       "3   2221-PU-201|01    Reductor de velocidad             PREV        DET   \n",
       "4   2221-PU-201|01  Sistema de enfriamiento             INSP        MAR   \n",
       "5   2221-PU-201|01  Sistema de enfriamiento             PREV        DET   \n",
       "6   2221-PU-201|01  Sistema de enfriamiento             PREV        DET   \n",
       "7   2221-PU-201|02                  Carcasa             INSP        DET   \n",
       "8   2221-PU-201|02                  Carcasa             INSP        MAR   \n",
       "9   2221-PU-201|02                  Carcasa             PREV        DET   \n",
       "10  2221-PU-201|02                  Carcasa             PREV        DET   \n",
       "11  2221-PU-201|02                  Carcasa             PREV        MAR   \n",
       "12  2221-PU-201|02         Portarodamientos             INSP        MAR   \n",
       "13  2221-PU-201|02         Portarodamientos             LUBR        MAR   \n",
       "14  2221-PU-201|02                    Spool             INSP        DET   \n",
       "\n",
       "    Frequency                                       Primary task  \n",
       "0       165.0                 Inspección acople de alta de bomba  \n",
       "1       165.0                 Inspección acople de baja de bomba  \n",
       "2       165.0  Inspección de reductor de bomba\\nInspec nivel ...  \n",
       "3      4000.0                 Cambio aceite de reductor de bomba  \n",
       "4       660.0                  Insp general sistema enfriamiento  \n",
       "5      4000.0                 Cambio filtros aceite sist enfriam  \n",
       "6      8000.0                   Cambio bomba aceite sist enfriam  \n",
       "7       660.0                     Inspección de carcasa de bomba  \n",
       "8       165.0                 Inspección stuffing box de carcasa  \n",
       "9      1000.0  Cambio spare parte húmeda de bomba\\nCambio de ...  \n",
       "10     8000.0  Mtto externo de carcasa de bomba\\nCamb element...  \n",
       "11     8000.0                    Prueba de eficiencia de carcasa  \n",
       "12      165.0                  Insp caja de rodamientos de bomba  \n",
       "13     1000.0                   Lubricación rodamientos de bomba  \n",
       "14     1000.0                       Inspección de spool de bomba  "
      ],
      "text/html": "<div>\n<style scoped>\n    .dataframe tbody tr th:only-of-type {\n        vertical-align: middle;\n    }\n\n    .dataframe tbody tr th {\n        vertical-align: top;\n    }\n\n    .dataframe thead th {\n        text-align: right;\n    }\n</style>\n<table border=\"1\" class=\"dataframe\">\n  <thead>\n    <tr style=\"text-align: right;\">\n      <th></th>\n      <th>key_system</th>\n      <th>Component</th>\n      <th>Maintenance type</th>\n      <th>Constraint</th>\n      <th>Frequency</th>\n      <th>Primary task</th>\n    </tr>\n  </thead>\n  <tbody>\n    <tr>\n      <th>0</th>\n      <td>2221-PU-201|01</td>\n      <td>Acople de alta</td>\n      <td>INSP</td>\n      <td>MAR</td>\n      <td>165.0</td>\n      <td>Inspección acople de alta de bomba</td>\n    </tr>\n    <tr>\n      <th>1</th>\n      <td>2221-PU-201|01</td>\n      <td>Acople de baja</td>\n      <td>INSP</td>\n      <td>MAR</td>\n      <td>165.0</td>\n      <td>Inspección acople de baja de bomba</td>\n    </tr>\n    <tr>\n      <th>2</th>\n      <td>2221-PU-201|01</td>\n      <td>Reductor de velocidad</td>\n      <td>INSP</td>\n      <td>MAR</td>\n      <td>165.0</td>\n      <td>Inspección de reductor de bomba\\nInspec nivel ...</td>\n    </tr>\n    <tr>\n      <th>3</th>\n      <td>2221-PU-201|01</td>\n      <td>Reductor de velocidad</td>\n      <td>PREV</td>\n      <td>DET</td>\n      <td>4000.0</td>\n      <td>Cambio aceite de reductor de bomba</td>\n    </tr>\n    <tr>\n      <th>4</th>\n      <td>2221-PU-201|01</td>\n      <td>Sistema de enfriamiento</td>\n      <td>INSP</td>\n      <td>MAR</td>\n      <td>660.0</td>\n      <td>Insp general sistema enfriamiento</td>\n    </tr>\n    <tr>\n      <th>5</th>\n      <td>2221-PU-201|01</td>\n      <td>Sistema de enfriamiento</td>\n      <td>PREV</td>\n      <td>DET</td>\n      <td>4000.0</td>\n      <td>Cambio filtros aceite sist enfriam</td>\n    </tr>\n    <tr>\n      <th>6</th>\n      <td>2221-PU-201|01</td>\n      <td>Sistema de enfriamiento</td>\n      <td>PREV</td>\n      <td>DET</td>\n      <td>8000.0</td>\n      <td>Cambio bomba aceite sist enfriam</td>\n    </tr>\n    <tr>\n      <th>7</th>\n      <td>2221-PU-201|02</td>\n      <td>Carcasa</td>\n      <td>INSP</td>\n      <td>DET</td>\n      <td>660.0</td>\n      <td>Inspección de carcasa de bomba</td>\n    </tr>\n    <tr>\n      <th>8</th>\n      <td>2221-PU-201|02</td>\n      <td>Carcasa</td>\n      <td>INSP</td>\n      <td>MAR</td>\n      <td>165.0</td>\n      <td>Inspección stuffing box de carcasa</td>\n    </tr>\n    <tr>\n      <th>9</th>\n      <td>2221-PU-201|02</td>\n      <td>Carcasa</td>\n      <td>PREV</td>\n      <td>DET</td>\n      <td>1000.0</td>\n      <td>Cambio spare parte húmeda de bomba\\nCambio de ...</td>\n    </tr>\n    <tr>\n      <th>10</th>\n      <td>2221-PU-201|02</td>\n      <td>Carcasa</td>\n      <td>PREV</td>\n      <td>DET</td>\n      <td>8000.0</td>\n      <td>Mtto externo de carcasa de bomba\\nCamb element...</td>\n    </tr>\n    <tr>\n      <th>11</th>\n      <td>2221-PU-201|02</td>\n      <td>Carcasa</td>\n      <td>PREV</td>\n      <td>MAR</td>\n      <td>8000.0</td>\n      <td>Prueba de eficiencia de carcasa</td>\n    </tr>\n    <tr>\n      <th>12</th>\n      <td>2221-PU-201|02</td>\n      <td>Portarodamientos</td>\n      <td>INSP</td>\n      <td>MAR</td>\n      <td>165.0</td>\n      <td>Insp caja de rodamientos de bomba</td>\n    </tr>\n    <tr>\n      <th>13</th>\n      <td>2221-PU-201|02</td>\n      <td>Portarodamientos</td>\n      <td>LUBR</td>\n      <td>MAR</td>\n      <td>1000.0</td>\n      <td>Lubricación rodamientos de bomba</td>\n    </tr>\n    <tr>\n      <th>14</th>\n      <td>2221-PU-201|02</td>\n      <td>Spool</td>\n      <td>INSP</td>\n      <td>DET</td>\n      <td>1000.0</td>\n      <td>Inspección de spool de bomba</td>\n    </tr>\n  </tbody>\n</table>\n</div>"
     },
     "metadata": {},
     "execution_count": 805
    }
   ],
   "source": [
    "datacombine"
   ]
  },
  {
   "cell_type": "code",
   "execution_count": null,
   "metadata": {},
   "outputs": [],
   "source": []
  }
 ]
}