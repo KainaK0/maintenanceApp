{
 "metadata": {
  "language_info": {
   "codemirror_mode": {
    "name": "ipython",
    "version": 3
   },
   "file_extension": ".py",
   "mimetype": "text/x-python",
   "name": "python",
   "nbconvert_exporter": "python",
   "pygments_lexer": "ipython3",
   "version": "3.8.7-final"
  },
  "orig_nbformat": 2,
  "kernelspec": {
   "name": "python3",
   "display_name": "Python 3.8.7 64-bit",
   "metadata": {
    "interpreter": {
     "hash": "c627be1547c7c874688ddee1aaaa67b367275f1752d282bff5eb427acd241334"
    }
   }
  }
 },
 "nbformat": 4,
 "nbformat_minor": 2,
 "cells": [
  {
   "cell_type": "code",
   "execution_count": 242,
   "metadata": {},
   "outputs": [],
   "source": [
    "import pandas as pd\n",
    "import numpy as np\n",
    "import os"
   ]
  },
  {
   "cell_type": "code",
   "execution_count": 243,
   "metadata": {},
   "outputs": [],
   "source": [
    "folder = r'C:\\Users\\jcallomamanib\\Documents\\GitProjects\\maintenanceApp\\02. Data2HR\\data'\n",
    "asset_data = 'AssetData.csv'\n",
    "asset_system = 'AssetStructureA&S.csv'\n",
    "system_component = 'AssetStructureS&C.csv'\n",
    "component_dutie = 'DutieStructureC&D.csv'\n",
    "dutie_data = 'DutieStructureD&D.csv'\n",
    "dutie_resource = 'DutieStructureD&R.csv'\n",
    "wbs = 'WBS.csv'\n",
    "\n",
    "ruteA_D = os.path.join(folder,asset_data)\n",
    "ruteA_S = os.path.join(folder,asset_system)\n",
    "ruteS_C = os.path.join(folder,system_component)\n",
    "ruteC_D = os.path.join(folder,component_dutie)\n",
    "ruteD_D = os.path.join(folder,dutie_data)\n",
    "ruteD_R = os.path.join(folder,dutie_resource)\n",
    "rute_wbs = os.path.join(folder,wbs)\n"
   ]
  },
  {
   "cell_type": "code",
   "execution_count": 244,
   "metadata": {},
   "outputs": [],
   "source": [
    "dataA_D = pd.read_csv(ruteA_D, dtype = {'Cod sap':str})\n",
    "dataA_S = pd.read_csv(ruteA_S, dtype = {'System':str})\n",
    "dataS_C = pd.read_csv(ruteS_C)\n",
    "dataC_D = pd.read_csv(ruteC_D)\n",
    "dataD_D = pd.read_csv(ruteD_D, dtype = {'Specialist':str})\n",
    "dataD_R = pd.read_csv(ruteD_R, dtype = {'Cod. Material':str})\n",
    "data_wbs = pd.read_csv(rute_wbs)"
   ]
  },
  {
   "cell_type": "code",
   "execution_count": 335,
   "metadata": {},
   "outputs": [],
   "source": [
    "# All the conditional activities are remove\n",
    "dataD_D_1task = dataD_D.loc[dataD_D.loc[:,'Maintenance type'] != 'COND',:].reset_index(drop = True)\n",
    "dataD_D_2task = dataD_D.loc[dataD_D.loc[:,'Maintenance type'] == 'COND',:].reset_index(drop = True)\n",
    "# All the non Mechanical or Predective activities are remove\n",
    "dataD_D_1T_MP = dataD_D_1task.loc[(dataD_D_1task.loc[:,'Specialist']=='TEC-MEC') | (dataD_D_1task.loc[:,'Specialist']=='TEC-PRD'),:].reset_index(drop = True)\n",
    "dataD_D_1T_M = dataD_D_1task.loc[dataD_D_1task.loc[:,'Specialist']=='TEC-MEC',:].reset_index(drop = True)\n",
    "dataD_D_1T_P = dataD_D_1task.loc[dataD_D_1task.loc[:,'Specialist']=='TEC-PRD',:].reset_index(drop = True)\n"
   ]
  },
  {
   "cell_type": "code",
   "execution_count": 336,
   "metadata": {},
   "outputs": [],
   "source": [
    "# Removing Spanish information\n",
    "asset_SP_EN = ['WBS_1_ES', 'WBS_2_ES', 'WBS_3_ES']\n",
    "dataA_D_EN = dataA_D.drop(asset_SP_EN, axis=1)\n",
    "# All Johan&Jorge clearence\n",
    "dataA_D_JJ = dataA_D_EN.loc[dataA_D.loc[:,'Responsable']=='Johan&Jorge',:].sort_values(by='Asset tag').reset_index(drop = True)"
   ]
  },
  {
   "cell_type": "code",
   "execution_count": 339,
   "metadata": {},
   "outputs": [
    {
     "output_type": "stream",
     "name": "stdout",
     "text": [
      "Wall time: 51.4 ms\n"
     ]
    }
   ],
   "source": [
    "%%time\n",
    "# \n",
    "dataA_D_JJ_S = pd.merge(dataA_D_JJ,dataA_S,how = 'left',on = 'Asset tag')\n",
    "dataA_S_C_JJ = pd.merge(dataA_D_JJ_S, dataS_C, how='left', on = 'key_system')\n",
    "dataA_S_C_D_JJ = pd.merge(dataA_S_C_JJ, dataC_D, how='left', on='key_component')\n",
    "dataAllcompileMP = pd.merge(dataA_S_C_D_JJ, dataD_D_1T_MP, how = 'inner', on = 'key_dutie')\n",
    "dataAllcompileP = pd.merge(dataA_S_C_D_JJ, dataD_D_1T_P, how = 'inner', on = 'key_dutie')\n",
    "dataAllcompileM = pd.merge(dataA_S_C_D_JJ, dataD_D_1T_M, how = 'inner', on = 'key_dutie')"
   ]
  },
  {
   "cell_type": "code",
   "execution_count": 466,
   "metadata": {},
   "outputs": [
    {
     "output_type": "execute_result",
     "data": {
      "text/plain": [
       "Index(['Asset tag', 'Cod sap', 'WBS_1_EN', 'WBS_2_EN', 'WBS_3_EN',\n",
       "       'Responsable', 'key_system', 'System', 'key_component', 'Component',\n",
       "       'key_dutie', 'Primary task', 'Primary task detail activity',\n",
       "       'Maintenance type', 'Specialist', 'Constraint', 'Time', 'Amount Craft',\n",
       "       'Estrategy', 'Unidad Periodo', 'Estrategy_eq'],\n",
       "      dtype='object')"
      ]
     },
     "metadata": {},
     "execution_count": 466
    }
   ],
   "source": [
    "dataAllcompileM.columns"
   ]
  },
  {
   "cell_type": "code",
   "execution_count": 484,
   "metadata": {},
   "outputs": [],
   "source": [
    "filtertype = dataAllcompileM.loc[:,'Maintenance type'] == 'INSP'\n",
    "filterunidad = dataAllcompileM.loc[:,'Unidad Periodo'] == 'H'\n",
    "filterhour = dataAllcompileM.loc[:,'Estrategy'] == 1400\n",
    "dataAllcompileM.loc[filtertype & filterunidad,'Estrategy_eq'] = (dataAllcompileM.loc[filtertype & filterunidad,'Estrategy']/(24*7)).round(0)"
   ]
  },
  {
   "cell_type": "code",
   "execution_count": 485,
   "metadata": {},
   "outputs": [
    {
     "output_type": "execute_result",
     "data": {
      "text/plain": [
       "Estrategy  Estrategy_eq\n",
       "165.0      1.0             242\n",
       "330.0      2.0             101\n",
       "660.0      4.0             711\n",
       "1000.0     6.0              24\n",
       "1400.0     8.0               2\n",
       "1500.0     9.0               7\n",
       "2000.0     12.0            168\n",
       "3000.0     18.0              4\n",
       "4000.0     24.0             89\n",
       "6000.0     36.0              1\n",
       "8000.0     48.0             79\n",
       "dtype: int64"
      ]
     },
     "metadata": {},
     "execution_count": 485
    }
   ],
   "source": [
    "dataAllcompileM.loc[filtertype & filterunidad,['Estrategy','Estrategy_eq']].groupby(['Estrategy','Estrategy_eq']).size()"
   ]
  },
  {
   "cell_type": "code",
   "execution_count": 486,
   "metadata": {},
   "outputs": [
    {
     "output_type": "execute_result",
     "data": {
      "text/plain": [
       "                key_dutie               Primary task  \\\n",
       "104  2223-ML-201|06-06-01  Inspección de componentes   \n",
       "444  2252-ML-202|05-07-01  Inspección de componentes   \n",
       "\n",
       "                          Primary task detail activity Constraint  Time  \\\n",
       "104  Inspección las pantallas del trommel, la espir...        DET   6.0   \n",
       "444  Inspección las pantallas del trommel, la espir...        DET   6.0   \n",
       "\n",
       "     Estrategy  Estrategy_eq  \n",
       "104     1400.0           8.0  \n",
       "444     1400.0           8.0  "
      ],
      "text/html": "<div>\n<style scoped>\n    .dataframe tbody tr th:only-of-type {\n        vertical-align: middle;\n    }\n\n    .dataframe tbody tr th {\n        vertical-align: top;\n    }\n\n    .dataframe thead th {\n        text-align: right;\n    }\n</style>\n<table border=\"1\" class=\"dataframe\">\n  <thead>\n    <tr style=\"text-align: right;\">\n      <th></th>\n      <th>key_dutie</th>\n      <th>Primary task</th>\n      <th>Primary task detail activity</th>\n      <th>Constraint</th>\n      <th>Time</th>\n      <th>Estrategy</th>\n      <th>Estrategy_eq</th>\n    </tr>\n  </thead>\n  <tbody>\n    <tr>\n      <th>104</th>\n      <td>2223-ML-201|06-06-01</td>\n      <td>Inspección de componentes</td>\n      <td>Inspección las pantallas del trommel, la espir...</td>\n      <td>DET</td>\n      <td>6.0</td>\n      <td>1400.0</td>\n      <td>8.0</td>\n    </tr>\n    <tr>\n      <th>444</th>\n      <td>2252-ML-202|05-07-01</td>\n      <td>Inspección de componentes</td>\n      <td>Inspección las pantallas del trommel, la espir...</td>\n      <td>DET</td>\n      <td>6.0</td>\n      <td>1400.0</td>\n      <td>8.0</td>\n    </tr>\n  </tbody>\n</table>\n</div>"
     },
     "metadata": {},
     "execution_count": 486
    }
   ],
   "source": [
    "dataAllcompileM.loc[filtertype & filterunidad & filterhour,['key_dutie','Primary task','Primary task detail activity', 'Constraint', 'Time','Estrategy','Estrategy_eq']]"
   ]
  },
  {
   "cell_type": "code",
   "execution_count": 480,
   "metadata": {},
   "outputs": [
    {
     "output_type": "execute_result",
     "data": {
      "text/plain": [
       "'Bloquear el downcomer a intervenir, separar las conexiones laterales de la tubería de aire, revisar el interior de las tubería y limpiar si es necesario, instalar los acople de las líneas de aire, revisar las demás conexiones de aire.'"
      ]
     },
     "metadata": {},
     "execution_count": 480
    }
   ],
   "source": [
    "dataAllcompileM.loc[filtertype & filterunidad & filterhour,'Primary task detail activity'][307]"
   ]
  },
  {
   "cell_type": "code",
   "execution_count": null,
   "metadata": {},
   "outputs": [],
   "source": [
    "dataD_D_1T_M.loc[filtertype & filterunidad,['Estrategy','Estrategy_eq']]"
   ]
  },
  {
   "cell_type": "code",
   "execution_count": 397,
   "metadata": {},
   "outputs": [
    {
     "output_type": "execute_result",
     "data": {
      "text/plain": [
       "        key_system                Component Maintenance type Constraint  \\\n",
       "0   2221-PU-201|01           Acople de alta             INSP        MAR   \n",
       "1   2221-PU-201|01           Acople de baja             INSP        MAR   \n",
       "2   2221-PU-201|01    Reductor de velocidad             INSP        MAR   \n",
       "3   2221-PU-201|01    Reductor de velocidad             PREV        DET   \n",
       "4   2221-PU-201|01  Sistema de enfriamiento             INSP        MAR   \n",
       "5   2221-PU-201|01  Sistema de enfriamiento             PREV        DET   \n",
       "6   2221-PU-201|01  Sistema de enfriamiento             PREV        DET   \n",
       "7   2221-PU-201|02                  Carcasa             INSP        DET   \n",
       "8   2221-PU-201|02                  Carcasa             INSP        MAR   \n",
       "9   2221-PU-201|02                  Carcasa             PREV        DET   \n",
       "10  2221-PU-201|02                  Carcasa             PREV        DET   \n",
       "11  2221-PU-201|02                  Carcasa             PREV        MAR   \n",
       "12  2221-PU-201|02         Portarodamientos             INSP        MAR   \n",
       "13  2221-PU-201|02         Portarodamientos             LUBR        MAR   \n",
       "14  2221-PU-201|02                    Spool             INSP        DET   \n",
       "\n",
       "    Estrategy                                       Primary task  \n",
       "0       165.0                 Inspección acople de alta de bomba  \n",
       "1       165.0                 Inspección acople de baja de bomba  \n",
       "2       165.0  Inspección de reductor de bomba\\nInspec nivel ...  \n",
       "3      4000.0                 Cambio aceite de reductor de bomba  \n",
       "4       660.0                  Insp general sistema enfriamiento  \n",
       "5      4000.0                 Cambio filtros aceite sist enfriam  \n",
       "6      8000.0                   Cambio bomba aceite sist enfriam  \n",
       "7       660.0                     Inspección de carcasa de bomba  \n",
       "8       165.0                 Inspección stuffing box de carcasa  \n",
       "9      1000.0  Cambio spare parte húmeda de bomba\\nCambio de ...  \n",
       "10     8000.0  Mtto externo de carcasa de bomba\\nCamb element...  \n",
       "11     8000.0                    Prueba de eficiencia de carcasa  \n",
       "12      165.0                  Insp caja de rodamientos de bomba  \n",
       "13     1000.0                   Lubricación rodamientos de bomba  \n",
       "14     1000.0                       Inspección de spool de bomba  "
      ],
      "text/html": "<div>\n<style scoped>\n    .dataframe tbody tr th:only-of-type {\n        vertical-align: middle;\n    }\n\n    .dataframe tbody tr th {\n        vertical-align: top;\n    }\n\n    .dataframe thead th {\n        text-align: right;\n    }\n</style>\n<table border=\"1\" class=\"dataframe\">\n  <thead>\n    <tr style=\"text-align: right;\">\n      <th></th>\n      <th>key_system</th>\n      <th>Component</th>\n      <th>Maintenance type</th>\n      <th>Constraint</th>\n      <th>Estrategy</th>\n      <th>Primary task</th>\n    </tr>\n  </thead>\n  <tbody>\n    <tr>\n      <th>0</th>\n      <td>2221-PU-201|01</td>\n      <td>Acople de alta</td>\n      <td>INSP</td>\n      <td>MAR</td>\n      <td>165.0</td>\n      <td>Inspección acople de alta de bomba</td>\n    </tr>\n    <tr>\n      <th>1</th>\n      <td>2221-PU-201|01</td>\n      <td>Acople de baja</td>\n      <td>INSP</td>\n      <td>MAR</td>\n      <td>165.0</td>\n      <td>Inspección acople de baja de bomba</td>\n    </tr>\n    <tr>\n      <th>2</th>\n      <td>2221-PU-201|01</td>\n      <td>Reductor de velocidad</td>\n      <td>INSP</td>\n      <td>MAR</td>\n      <td>165.0</td>\n      <td>Inspección de reductor de bomba\\nInspec nivel ...</td>\n    </tr>\n    <tr>\n      <th>3</th>\n      <td>2221-PU-201|01</td>\n      <td>Reductor de velocidad</td>\n      <td>PREV</td>\n      <td>DET</td>\n      <td>4000.0</td>\n      <td>Cambio aceite de reductor de bomba</td>\n    </tr>\n    <tr>\n      <th>4</th>\n      <td>2221-PU-201|01</td>\n      <td>Sistema de enfriamiento</td>\n      <td>INSP</td>\n      <td>MAR</td>\n      <td>660.0</td>\n      <td>Insp general sistema enfriamiento</td>\n    </tr>\n    <tr>\n      <th>5</th>\n      <td>2221-PU-201|01</td>\n      <td>Sistema de enfriamiento</td>\n      <td>PREV</td>\n      <td>DET</td>\n      <td>4000.0</td>\n      <td>Cambio filtros aceite sist enfriam</td>\n    </tr>\n    <tr>\n      <th>6</th>\n      <td>2221-PU-201|01</td>\n      <td>Sistema de enfriamiento</td>\n      <td>PREV</td>\n      <td>DET</td>\n      <td>8000.0</td>\n      <td>Cambio bomba aceite sist enfriam</td>\n    </tr>\n    <tr>\n      <th>7</th>\n      <td>2221-PU-201|02</td>\n      <td>Carcasa</td>\n      <td>INSP</td>\n      <td>DET</td>\n      <td>660.0</td>\n      <td>Inspección de carcasa de bomba</td>\n    </tr>\n    <tr>\n      <th>8</th>\n      <td>2221-PU-201|02</td>\n      <td>Carcasa</td>\n      <td>INSP</td>\n      <td>MAR</td>\n      <td>165.0</td>\n      <td>Inspección stuffing box de carcasa</td>\n    </tr>\n    <tr>\n      <th>9</th>\n      <td>2221-PU-201|02</td>\n      <td>Carcasa</td>\n      <td>PREV</td>\n      <td>DET</td>\n      <td>1000.0</td>\n      <td>Cambio spare parte húmeda de bomba\\nCambio de ...</td>\n    </tr>\n    <tr>\n      <th>10</th>\n      <td>2221-PU-201|02</td>\n      <td>Carcasa</td>\n      <td>PREV</td>\n      <td>DET</td>\n      <td>8000.0</td>\n      <td>Mtto externo de carcasa de bomba\\nCamb element...</td>\n    </tr>\n    <tr>\n      <th>11</th>\n      <td>2221-PU-201|02</td>\n      <td>Carcasa</td>\n      <td>PREV</td>\n      <td>MAR</td>\n      <td>8000.0</td>\n      <td>Prueba de eficiencia de carcasa</td>\n    </tr>\n    <tr>\n      <th>12</th>\n      <td>2221-PU-201|02</td>\n      <td>Portarodamientos</td>\n      <td>INSP</td>\n      <td>MAR</td>\n      <td>165.0</td>\n      <td>Insp caja de rodamientos de bomba</td>\n    </tr>\n    <tr>\n      <th>13</th>\n      <td>2221-PU-201|02</td>\n      <td>Portarodamientos</td>\n      <td>LUBR</td>\n      <td>MAR</td>\n      <td>1000.0</td>\n      <td>Lubricación rodamientos de bomba</td>\n    </tr>\n    <tr>\n      <th>14</th>\n      <td>2221-PU-201|02</td>\n      <td>Spool</td>\n      <td>INSP</td>\n      <td>DET</td>\n      <td>1000.0</td>\n      <td>Inspección de spool de bomba</td>\n    </tr>\n  </tbody>\n</table>\n</div>"
     },
     "metadata": {},
     "execution_count": 397
    }
   ],
   "source": [
    "columnfilter = ['key_system', 'Component','Primary task', 'Maintenance type', 'Specialist', 'Constraint', 'Time', 'Amount Craft','Estrategy', 'Unidad Periodo']\n",
    "# '2253-PU-212'\n",
    "rowfilter = dataAllcompileM.loc[:,'Asset tag'] == '2221-PU-201'\n",
    "# dataAllcompile.loc[rowfilter,columnfilter]\n",
    "dataAllcompileM.loc[rowfilter,columnfilter].groupby(['key_system','Component','Maintenance type','Constraint','Estrategy']).agg({'Primary task': lambda x: \"\\n\".join(x)}).reset_index()"
   ]
  },
  {
   "cell_type": "code",
   "execution_count": null,
   "metadata": {},
   "outputs": [],
   "source": [
    "other = dataAllcompileM.loc[:,columnfilter].groupby(['key_system','Component','Maintenance type','Constraint','Estrategy']).size()"
   ]
  },
  {
   "cell_type": "code",
   "execution_count": 359,
   "metadata": {},
   "outputs": [
    {
     "output_type": "execute_result",
     "data": {
      "text/plain": [
       "            key_system              Component Maintenance type Constraint  \\\n",
       "2       2221-PU-201|01  Reductor de velocidad             INSP        MAR   \n",
       "9       2221-PU-201|02                Carcasa             PREV        DET   \n",
       "10      2221-PU-201|02                Carcasa             PREV        DET   \n",
       "16      2222-CY-201|01    Batería de ciclones             PREV        DET   \n",
       "17      2222-CY-201|01    Batería de ciclones             PREV        DET   \n",
       "...                ...                    ...              ...        ...   \n",
       "2755  4561-FL-40883|01                 Placas             INSP        DET   \n",
       "2758  4561-FL-40883|02      Tanque hidráulico             INSP        MAR   \n",
       "2760  4561-FL-40883|02      Tanque hidráulico             PREV        DET   \n",
       "2765  4561-PU-40850|02                Carcasa             PREV        DET   \n",
       "2795  4561-TK-40888|01                 Tanque             INSP        MAR   \n",
       "\n",
       "      Estrategy  0  \n",
       "2         165.0  2  \n",
       "9        1000.0  4  \n",
       "10       8000.0  2  \n",
       "16       1000.0  3  \n",
       "17       8000.0  4  \n",
       "...         ... ..  \n",
       "2755        6.0  2  \n",
       "2758        6.0  2  \n",
       "2760        6.0  2  \n",
       "2765     8000.0  2  \n",
       "2795        1.0  4  \n",
       "\n",
       "[344 rows x 6 columns]"
      ],
      "text/html": "<div>\n<style scoped>\n    .dataframe tbody tr th:only-of-type {\n        vertical-align: middle;\n    }\n\n    .dataframe tbody tr th {\n        vertical-align: top;\n    }\n\n    .dataframe thead th {\n        text-align: right;\n    }\n</style>\n<table border=\"1\" class=\"dataframe\">\n  <thead>\n    <tr style=\"text-align: right;\">\n      <th></th>\n      <th>key_system</th>\n      <th>Component</th>\n      <th>Maintenance type</th>\n      <th>Constraint</th>\n      <th>Estrategy</th>\n      <th>0</th>\n    </tr>\n  </thead>\n  <tbody>\n    <tr>\n      <th>2</th>\n      <td>2221-PU-201|01</td>\n      <td>Reductor de velocidad</td>\n      <td>INSP</td>\n      <td>MAR</td>\n      <td>165.0</td>\n      <td>2</td>\n    </tr>\n    <tr>\n      <th>9</th>\n      <td>2221-PU-201|02</td>\n      <td>Carcasa</td>\n      <td>PREV</td>\n      <td>DET</td>\n      <td>1000.0</td>\n      <td>4</td>\n    </tr>\n    <tr>\n      <th>10</th>\n      <td>2221-PU-201|02</td>\n      <td>Carcasa</td>\n      <td>PREV</td>\n      <td>DET</td>\n      <td>8000.0</td>\n      <td>2</td>\n    </tr>\n    <tr>\n      <th>16</th>\n      <td>2222-CY-201|01</td>\n      <td>Batería de ciclones</td>\n      <td>PREV</td>\n      <td>DET</td>\n      <td>1000.0</td>\n      <td>3</td>\n    </tr>\n    <tr>\n      <th>17</th>\n      <td>2222-CY-201|01</td>\n      <td>Batería de ciclones</td>\n      <td>PREV</td>\n      <td>DET</td>\n      <td>8000.0</td>\n      <td>4</td>\n    </tr>\n    <tr>\n      <th>...</th>\n      <td>...</td>\n      <td>...</td>\n      <td>...</td>\n      <td>...</td>\n      <td>...</td>\n      <td>...</td>\n    </tr>\n    <tr>\n      <th>2755</th>\n      <td>4561-FL-40883|01</td>\n      <td>Placas</td>\n      <td>INSP</td>\n      <td>DET</td>\n      <td>6.0</td>\n      <td>2</td>\n    </tr>\n    <tr>\n      <th>2758</th>\n      <td>4561-FL-40883|02</td>\n      <td>Tanque hidráulico</td>\n      <td>INSP</td>\n      <td>MAR</td>\n      <td>6.0</td>\n      <td>2</td>\n    </tr>\n    <tr>\n      <th>2760</th>\n      <td>4561-FL-40883|02</td>\n      <td>Tanque hidráulico</td>\n      <td>PREV</td>\n      <td>DET</td>\n      <td>6.0</td>\n      <td>2</td>\n    </tr>\n    <tr>\n      <th>2765</th>\n      <td>4561-PU-40850|02</td>\n      <td>Carcasa</td>\n      <td>PREV</td>\n      <td>DET</td>\n      <td>8000.0</td>\n      <td>2</td>\n    </tr>\n    <tr>\n      <th>2795</th>\n      <td>4561-TK-40888|01</td>\n      <td>Tanque</td>\n      <td>INSP</td>\n      <td>MAR</td>\n      <td>1.0</td>\n      <td>4</td>\n    </tr>\n  </tbody>\n</table>\n<p>344 rows × 6 columns</p>\n</div>"
     },
     "metadata": {},
     "execution_count": 359
    }
   ],
   "source": [
    "other.reset_index().loc[other.reset_index()[0]>1,:]"
   ]
  },
  {
   "cell_type": "code",
   "execution_count": 362,
   "metadata": {},
   "outputs": [
    {
     "output_type": "execute_result",
     "data": {
      "text/plain": [
       "        key_system                Component  \\\n",
       "0   2221-PU-201|01           Acople de alta   \n",
       "1   2221-PU-201|01           Acople de baja   \n",
       "2   2221-PU-201|01    Reductor de velocidad   \n",
       "3   2221-PU-201|01    Reductor de velocidad   \n",
       "4   2221-PU-201|01    Reductor de velocidad   \n",
       "5   2221-PU-201|01  Sistema de enfriamiento   \n",
       "6   2221-PU-201|01  Sistema de enfriamiento   \n",
       "7   2221-PU-201|01  Sistema de enfriamiento   \n",
       "8   2221-PU-201|02                  Carcasa   \n",
       "9   2221-PU-201|02                  Carcasa   \n",
       "10  2221-PU-201|02                  Carcasa   \n",
       "11  2221-PU-201|02                  Carcasa   \n",
       "12  2221-PU-201|02                  Carcasa   \n",
       "13  2221-PU-201|02                  Carcasa   \n",
       "14  2221-PU-201|02                  Carcasa   \n",
       "15  2221-PU-201|02                  Carcasa   \n",
       "16  2221-PU-201|02                  Carcasa   \n",
       "17  2221-PU-201|02         Portarodamientos   \n",
       "18  2221-PU-201|02         Portarodamientos   \n",
       "19  2221-PU-201|02                    Spool   \n",
       "\n",
       "                          Primary task Maintenance type Specialist Constraint  \\\n",
       "0   Inspección acople de alta de bomba             INSP    TEC-MEC        MAR   \n",
       "1   Inspección acople de baja de bomba             INSP    TEC-MEC        MAR   \n",
       "2      Inspección de reductor de bomba             INSP    TEC-MEC        MAR   \n",
       "3   Inspec nivel de aceite de reductor             INSP    TEC-MEC        MAR   \n",
       "4   Cambio aceite de reductor de bomba             PREV    TEC-MEC        DET   \n",
       "5    Insp general sistema enfriamiento             INSP    TEC-MEC        MAR   \n",
       "6     Cambio bomba aceite sist enfriam             PREV    TEC-MEC        DET   \n",
       "7   Cambio filtros aceite sist enfriam             PREV    TEC-MEC        DET   \n",
       "8       Inspección de carcasa de bomba             INSP    TEC-MEC        DET   \n",
       "9   Cambio spare parte húmeda de bomba             PREV    TEC-MEC        DET   \n",
       "10  Cambio de revestimiento de carcasa             PREV    TEC-MEC        DET   \n",
       "11  Inspección stuffing box de carcasa             INSP    TEC-MEC        MAR   \n",
       "12  Cambio estopas de carcasa de bomba             PREV    TEC-MEC        DET   \n",
       "13     Prueba de eficiencia de carcasa             PREV    TEC-MEC        MAR   \n",
       "14         Cambio de impulsor de bomba             PREV    TEC-MEC        DET   \n",
       "15    Mtto externo de carcasa de bomba             PREV    TEC-MEC        DET   \n",
       "16    Camb elementos d unión d carcasa             PREV    TEC-MEC        DET   \n",
       "17   Insp caja de rodamientos de bomba             INSP    TEC-MEC        MAR   \n",
       "18    Lubricación rodamientos de bomba             LUBR    TEC-MEC        MAR   \n",
       "19        Inspección de spool de bomba             INSP    TEC-MEC        DET   \n",
       "\n",
       "     Time  Amount Craft  Estrategy Unidad Periodo  \n",
       "0    0.25             1      165.0              H  \n",
       "1    0.25             1      165.0              H  \n",
       "2    0.25             1      165.0              H  \n",
       "3    0.25             1      165.0              H  \n",
       "4    4.00             2     4000.0              H  \n",
       "5    0.25             1      660.0              H  \n",
       "6    3.00             2     8000.0              H  \n",
       "7    2.00             1     4000.0              H  \n",
       "8    3.00             2      660.0              H  \n",
       "9   12.00             5     1000.0              H  \n",
       "10   8.00             3     1000.0              H  \n",
       "11   0.25             1      165.0              H  \n",
       "12   4.00             3     1000.0              H  \n",
       "13   1.00             2     8000.0              H  \n",
       "14   6.00             3     1000.0              H  \n",
       "15   5.00             2     8000.0              H  \n",
       "16   3.00             2     8000.0              H  \n",
       "17   0.25             1      165.0              H  \n",
       "18   2.00             2     1000.0              H  \n",
       "19   2.00             2     1000.0              H  "
      ],
      "text/html": "<div>\n<style scoped>\n    .dataframe tbody tr th:only-of-type {\n        vertical-align: middle;\n    }\n\n    .dataframe tbody tr th {\n        vertical-align: top;\n    }\n\n    .dataframe thead th {\n        text-align: right;\n    }\n</style>\n<table border=\"1\" class=\"dataframe\">\n  <thead>\n    <tr style=\"text-align: right;\">\n      <th></th>\n      <th>key_system</th>\n      <th>Component</th>\n      <th>Primary task</th>\n      <th>Maintenance type</th>\n      <th>Specialist</th>\n      <th>Constraint</th>\n      <th>Time</th>\n      <th>Amount Craft</th>\n      <th>Estrategy</th>\n      <th>Unidad Periodo</th>\n    </tr>\n  </thead>\n  <tbody>\n    <tr>\n      <th>0</th>\n      <td>2221-PU-201|01</td>\n      <td>Acople de alta</td>\n      <td>Inspección acople de alta de bomba</td>\n      <td>INSP</td>\n      <td>TEC-MEC</td>\n      <td>MAR</td>\n      <td>0.25</td>\n      <td>1</td>\n      <td>165.0</td>\n      <td>H</td>\n    </tr>\n    <tr>\n      <th>1</th>\n      <td>2221-PU-201|01</td>\n      <td>Acople de baja</td>\n      <td>Inspección acople de baja de bomba</td>\n      <td>INSP</td>\n      <td>TEC-MEC</td>\n      <td>MAR</td>\n      <td>0.25</td>\n      <td>1</td>\n      <td>165.0</td>\n      <td>H</td>\n    </tr>\n    <tr>\n      <th>2</th>\n      <td>2221-PU-201|01</td>\n      <td>Reductor de velocidad</td>\n      <td>Inspección de reductor de bomba</td>\n      <td>INSP</td>\n      <td>TEC-MEC</td>\n      <td>MAR</td>\n      <td>0.25</td>\n      <td>1</td>\n      <td>165.0</td>\n      <td>H</td>\n    </tr>\n    <tr>\n      <th>3</th>\n      <td>2221-PU-201|01</td>\n      <td>Reductor de velocidad</td>\n      <td>Inspec nivel de aceite de reductor</td>\n      <td>INSP</td>\n      <td>TEC-MEC</td>\n      <td>MAR</td>\n      <td>0.25</td>\n      <td>1</td>\n      <td>165.0</td>\n      <td>H</td>\n    </tr>\n    <tr>\n      <th>4</th>\n      <td>2221-PU-201|01</td>\n      <td>Reductor de velocidad</td>\n      <td>Cambio aceite de reductor de bomba</td>\n      <td>PREV</td>\n      <td>TEC-MEC</td>\n      <td>DET</td>\n      <td>4.00</td>\n      <td>2</td>\n      <td>4000.0</td>\n      <td>H</td>\n    </tr>\n    <tr>\n      <th>5</th>\n      <td>2221-PU-201|01</td>\n      <td>Sistema de enfriamiento</td>\n      <td>Insp general sistema enfriamiento</td>\n      <td>INSP</td>\n      <td>TEC-MEC</td>\n      <td>MAR</td>\n      <td>0.25</td>\n      <td>1</td>\n      <td>660.0</td>\n      <td>H</td>\n    </tr>\n    <tr>\n      <th>6</th>\n      <td>2221-PU-201|01</td>\n      <td>Sistema de enfriamiento</td>\n      <td>Cambio bomba aceite sist enfriam</td>\n      <td>PREV</td>\n      <td>TEC-MEC</td>\n      <td>DET</td>\n      <td>3.00</td>\n      <td>2</td>\n      <td>8000.0</td>\n      <td>H</td>\n    </tr>\n    <tr>\n      <th>7</th>\n      <td>2221-PU-201|01</td>\n      <td>Sistema de enfriamiento</td>\n      <td>Cambio filtros aceite sist enfriam</td>\n      <td>PREV</td>\n      <td>TEC-MEC</td>\n      <td>DET</td>\n      <td>2.00</td>\n      <td>1</td>\n      <td>4000.0</td>\n      <td>H</td>\n    </tr>\n    <tr>\n      <th>8</th>\n      <td>2221-PU-201|02</td>\n      <td>Carcasa</td>\n      <td>Inspección de carcasa de bomba</td>\n      <td>INSP</td>\n      <td>TEC-MEC</td>\n      <td>DET</td>\n      <td>3.00</td>\n      <td>2</td>\n      <td>660.0</td>\n      <td>H</td>\n    </tr>\n    <tr>\n      <th>9</th>\n      <td>2221-PU-201|02</td>\n      <td>Carcasa</td>\n      <td>Cambio spare parte húmeda de bomba</td>\n      <td>PREV</td>\n      <td>TEC-MEC</td>\n      <td>DET</td>\n      <td>12.00</td>\n      <td>5</td>\n      <td>1000.0</td>\n      <td>H</td>\n    </tr>\n    <tr>\n      <th>10</th>\n      <td>2221-PU-201|02</td>\n      <td>Carcasa</td>\n      <td>Cambio de revestimiento de carcasa</td>\n      <td>PREV</td>\n      <td>TEC-MEC</td>\n      <td>DET</td>\n      <td>8.00</td>\n      <td>3</td>\n      <td>1000.0</td>\n      <td>H</td>\n    </tr>\n    <tr>\n      <th>11</th>\n      <td>2221-PU-201|02</td>\n      <td>Carcasa</td>\n      <td>Inspección stuffing box de carcasa</td>\n      <td>INSP</td>\n      <td>TEC-MEC</td>\n      <td>MAR</td>\n      <td>0.25</td>\n      <td>1</td>\n      <td>165.0</td>\n      <td>H</td>\n    </tr>\n    <tr>\n      <th>12</th>\n      <td>2221-PU-201|02</td>\n      <td>Carcasa</td>\n      <td>Cambio estopas de carcasa de bomba</td>\n      <td>PREV</td>\n      <td>TEC-MEC</td>\n      <td>DET</td>\n      <td>4.00</td>\n      <td>3</td>\n      <td>1000.0</td>\n      <td>H</td>\n    </tr>\n    <tr>\n      <th>13</th>\n      <td>2221-PU-201|02</td>\n      <td>Carcasa</td>\n      <td>Prueba de eficiencia de carcasa</td>\n      <td>PREV</td>\n      <td>TEC-MEC</td>\n      <td>MAR</td>\n      <td>1.00</td>\n      <td>2</td>\n      <td>8000.0</td>\n      <td>H</td>\n    </tr>\n    <tr>\n      <th>14</th>\n      <td>2221-PU-201|02</td>\n      <td>Carcasa</td>\n      <td>Cambio de impulsor de bomba</td>\n      <td>PREV</td>\n      <td>TEC-MEC</td>\n      <td>DET</td>\n      <td>6.00</td>\n      <td>3</td>\n      <td>1000.0</td>\n      <td>H</td>\n    </tr>\n    <tr>\n      <th>15</th>\n      <td>2221-PU-201|02</td>\n      <td>Carcasa</td>\n      <td>Mtto externo de carcasa de bomba</td>\n      <td>PREV</td>\n      <td>TEC-MEC</td>\n      <td>DET</td>\n      <td>5.00</td>\n      <td>2</td>\n      <td>8000.0</td>\n      <td>H</td>\n    </tr>\n    <tr>\n      <th>16</th>\n      <td>2221-PU-201|02</td>\n      <td>Carcasa</td>\n      <td>Camb elementos d unión d carcasa</td>\n      <td>PREV</td>\n      <td>TEC-MEC</td>\n      <td>DET</td>\n      <td>3.00</td>\n      <td>2</td>\n      <td>8000.0</td>\n      <td>H</td>\n    </tr>\n    <tr>\n      <th>17</th>\n      <td>2221-PU-201|02</td>\n      <td>Portarodamientos</td>\n      <td>Insp caja de rodamientos de bomba</td>\n      <td>INSP</td>\n      <td>TEC-MEC</td>\n      <td>MAR</td>\n      <td>0.25</td>\n      <td>1</td>\n      <td>165.0</td>\n      <td>H</td>\n    </tr>\n    <tr>\n      <th>18</th>\n      <td>2221-PU-201|02</td>\n      <td>Portarodamientos</td>\n      <td>Lubricación rodamientos de bomba</td>\n      <td>LUBR</td>\n      <td>TEC-MEC</td>\n      <td>MAR</td>\n      <td>2.00</td>\n      <td>2</td>\n      <td>1000.0</td>\n      <td>H</td>\n    </tr>\n    <tr>\n      <th>19</th>\n      <td>2221-PU-201|02</td>\n      <td>Spool</td>\n      <td>Inspección de spool de bomba</td>\n      <td>INSP</td>\n      <td>TEC-MEC</td>\n      <td>DET</td>\n      <td>2.00</td>\n      <td>2</td>\n      <td>1000.0</td>\n      <td>H</td>\n    </tr>\n  </tbody>\n</table>\n</div>"
     },
     "metadata": {},
     "execution_count": 362
    }
   ],
   "source": [
    "dataAllcompileM.loc[rowfilter,columnfilter].reset_index(drop=True)"
   ]
  },
  {
   "cell_type": "code",
   "execution_count": null,
   "metadata": {},
   "outputs": [],
   "source": []
  }
 ]
}