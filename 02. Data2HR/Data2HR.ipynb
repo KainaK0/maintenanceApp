{
 "metadata": {
  "language_info": {
   "codemirror_mode": {
    "name": "ipython",
    "version": 3
   },
   "file_extension": ".py",
   "mimetype": "text/x-python",
   "name": "python",
   "nbconvert_exporter": "python",
   "pygments_lexer": "ipython3",
   "version": "3.8.7-final"
  },
  "orig_nbformat": 2,
  "kernelspec": {
   "name": "python3",
   "display_name": "Python 3.8.7 64-bit",
   "metadata": {
    "interpreter": {
     "hash": "c627be1547c7c874688ddee1aaaa67b367275f1752d282bff5eb427acd241334"
    }
   }
  }
 },
 "nbformat": 4,
 "nbformat_minor": 2,
 "cells": [
  {
   "cell_type": "code",
   "execution_count": 79,
   "metadata": {},
   "outputs": [],
   "source": [
    "import pandas as pd\n",
    "import numpy as np\n",
    "import os"
   ]
  },
  {
   "cell_type": "code",
   "execution_count": 58,
   "metadata": {},
   "outputs": [],
   "source": [
    "folder = r'C:\\Users\\jcallomamanib\\Documents\\GitProjects\\maintenanceApp\\02. Data2HR\\data'\n",
    "asset_system = 'AssetStructureA&S.csv'\n",
    "system_component = 'AssetStructureS&C.csv'\n",
    "component_dutie = 'DutieStructureC&D.csv'\n",
    "dutie_data = 'DutieStructureD&D.csv'\n",
    "dutie_resource = 'DutieStructureD&R.csv'\n",
    "ruteA_S = os.path.join(folder,asset_system)\n",
    "ruteS_C = os.path.join(folder,system_component)\n",
    "ruteC_D = os.path.join(folder,component_dutie)\n",
    "ruteD_D = os.path.join(folder,dutie_data)\n",
    "ruteD_R = os.path.join(folder,dutie_resource)\n"
   ]
  },
  {
   "cell_type": "code",
   "execution_count": 103,
   "metadata": {},
   "outputs": [],
   "source": [
    "dataA_S = pd.read_csv(ruteA_S, dtype= {'System':str})\n",
    "dataS_C = pd.read_csv(ruteS_C)\n",
    "dataC_D = pd.read_csv(ruteC_D)\n",
    "dataD_D = pd.read_csv(ruteD_D)\n",
    "dataD_R = pd.read_csv(ruteD_R, dtype= {'Cod. Material':str})"
   ]
  },
  {
   "cell_type": "code",
   "execution_count": 123,
   "metadata": {},
   "outputs": [],
   "source": [
    "dataD_D_1task = dataD_D.loc[dataD_D.loc[:,'Maintenance type'] != 'COND',:]\n",
    "dataD_D_2task = dataD_D.loc[dataD_D.loc[:,'Maintenance type'] == 'COND',:]"
   ]
  },
  {
   "cell_type": "code",
   "execution_count": 140,
   "metadata": {},
   "outputs": [
    {
     "output_type": "execute_result",
     "data": {
      "text/plain": [
       "                  key_dutie Maintenance type Especialist Constraint  Time  \\\n",
       "0      2111-FE-201|01-01-01             INSP     TEC-ELE        MAR   1.0   \n",
       "1      2111-FE-201|01-01-02             PREV     TEC-ELE        DET   2.0   \n",
       "2      2111-FE-201|01-01-03             PREV     TEC-ELE        DET   1.0   \n",
       "3      2111-FE-201|01-01-04             PREV     TEC-ELE        DET   0.5   \n",
       "4      2111-FE-201|01-01-05             PREV     TEC-ELE        DET   1.0   \n",
       "...                     ...              ...         ...        ...   ...   \n",
       "16583  2281-TK-226|02-01-04             PREV     TEC-ELE        DET   2.0   \n",
       "16584  2281-TK-226|02-02-01             INSP     TEC-MEC        DET   0.5   \n",
       "16585  2281-TK-226|03-01-01             INSP     TEC-INS        MAR   1.0   \n",
       "16586  2281-TK-226|03-01-02             PREV     TEC-INS        DET   2.5   \n",
       "16588  2281-TK-226|03-02-01             PREV     TEC-INS        DET   1.0   \n",
       "\n",
       "       Amount Craft  Estrategy Unidad Periodo  \n",
       "0               2.0        1.0              M  \n",
       "1               2.0     2000.0              H  \n",
       "2               2.0     4000.0              H  \n",
       "3               2.0     4000.0              H  \n",
       "4               2.0     4000.0              H  \n",
       "...             ...        ...            ...  \n",
       "16583           2.0        1.0              A  \n",
       "16584           1.0        1.0              A  \n",
       "16585           2.0        1.0              M  \n",
       "16586           2.0        6.0              M  \n",
       "16588           2.0        6.0              M  \n",
       "\n",
       "[12715 rows x 8 columns]"
      ],
      "text/html": "<div>\n<style scoped>\n    .dataframe tbody tr th:only-of-type {\n        vertical-align: middle;\n    }\n\n    .dataframe tbody tr th {\n        vertical-align: top;\n    }\n\n    .dataframe thead th {\n        text-align: right;\n    }\n</style>\n<table border=\"1\" class=\"dataframe\">\n  <thead>\n    <tr style=\"text-align: right;\">\n      <th></th>\n      <th>key_dutie</th>\n      <th>Maintenance type</th>\n      <th>Especialist</th>\n      <th>Constraint</th>\n      <th>Time</th>\n      <th>Amount Craft</th>\n      <th>Estrategy</th>\n      <th>Unidad Periodo</th>\n    </tr>\n  </thead>\n  <tbody>\n    <tr>\n      <th>0</th>\n      <td>2111-FE-201|01-01-01</td>\n      <td>INSP</td>\n      <td>TEC-ELE</td>\n      <td>MAR</td>\n      <td>1.0</td>\n      <td>2.0</td>\n      <td>1.0</td>\n      <td>M</td>\n    </tr>\n    <tr>\n      <th>1</th>\n      <td>2111-FE-201|01-01-02</td>\n      <td>PREV</td>\n      <td>TEC-ELE</td>\n      <td>DET</td>\n      <td>2.0</td>\n      <td>2.0</td>\n      <td>2000.0</td>\n      <td>H</td>\n    </tr>\n    <tr>\n      <th>2</th>\n      <td>2111-FE-201|01-01-03</td>\n      <td>PREV</td>\n      <td>TEC-ELE</td>\n      <td>DET</td>\n      <td>1.0</td>\n      <td>2.0</td>\n      <td>4000.0</td>\n      <td>H</td>\n    </tr>\n    <tr>\n      <th>3</th>\n      <td>2111-FE-201|01-01-04</td>\n      <td>PREV</td>\n      <td>TEC-ELE</td>\n      <td>DET</td>\n      <td>0.5</td>\n      <td>2.0</td>\n      <td>4000.0</td>\n      <td>H</td>\n    </tr>\n    <tr>\n      <th>4</th>\n      <td>2111-FE-201|01-01-05</td>\n      <td>PREV</td>\n      <td>TEC-ELE</td>\n      <td>DET</td>\n      <td>1.0</td>\n      <td>2.0</td>\n      <td>4000.0</td>\n      <td>H</td>\n    </tr>\n    <tr>\n      <th>...</th>\n      <td>...</td>\n      <td>...</td>\n      <td>...</td>\n      <td>...</td>\n      <td>...</td>\n      <td>...</td>\n      <td>...</td>\n      <td>...</td>\n    </tr>\n    <tr>\n      <th>16583</th>\n      <td>2281-TK-226|02-01-04</td>\n      <td>PREV</td>\n      <td>TEC-ELE</td>\n      <td>DET</td>\n      <td>2.0</td>\n      <td>2.0</td>\n      <td>1.0</td>\n      <td>A</td>\n    </tr>\n    <tr>\n      <th>16584</th>\n      <td>2281-TK-226|02-02-01</td>\n      <td>INSP</td>\n      <td>TEC-MEC</td>\n      <td>DET</td>\n      <td>0.5</td>\n      <td>1.0</td>\n      <td>1.0</td>\n      <td>A</td>\n    </tr>\n    <tr>\n      <th>16585</th>\n      <td>2281-TK-226|03-01-01</td>\n      <td>INSP</td>\n      <td>TEC-INS</td>\n      <td>MAR</td>\n      <td>1.0</td>\n      <td>2.0</td>\n      <td>1.0</td>\n      <td>M</td>\n    </tr>\n    <tr>\n      <th>16586</th>\n      <td>2281-TK-226|03-01-02</td>\n      <td>PREV</td>\n      <td>TEC-INS</td>\n      <td>DET</td>\n      <td>2.5</td>\n      <td>2.0</td>\n      <td>6.0</td>\n      <td>M</td>\n    </tr>\n    <tr>\n      <th>16588</th>\n      <td>2281-TK-226|03-02-01</td>\n      <td>PREV</td>\n      <td>TEC-INS</td>\n      <td>DET</td>\n      <td>1.0</td>\n      <td>2.0</td>\n      <td>6.0</td>\n      <td>M</td>\n    </tr>\n  </tbody>\n</table>\n<p>12715 rows × 8 columns</p>\n</div>"
     },
     "metadata": {},
     "execution_count": 140
    }
   ],
   "source": [
    "dataD_D_1task.iloc[dataD_D_1task,[0,3,4,5,6,7,8,9]]"
   ]
  },
  {
   "cell_type": "code",
   "execution_count": null,
   "metadata": {},
   "outputs": [],
   "source": []
  }
 ]
}