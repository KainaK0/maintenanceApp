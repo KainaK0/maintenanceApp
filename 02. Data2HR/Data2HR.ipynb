{
 "metadata": {
  "language_info": {
   "codemirror_mode": {
    "name": "ipython",
    "version": 3
   },
   "file_extension": ".py",
   "mimetype": "text/x-python",
   "name": "python",
   "nbconvert_exporter": "python",
   "pygments_lexer": "ipython3",
   "version": "3.8.7-final"
  },
  "orig_nbformat": 2,
  "kernelspec": {
   "name": "python3",
   "display_name": "Python 3.8.7 64-bit",
   "metadata": {
    "interpreter": {
     "hash": "c627be1547c7c874688ddee1aaaa67b367275f1752d282bff5eb427acd241334"
    }
   }
  }
 },
 "nbformat": 4,
 "nbformat_minor": 2,
 "cells": [
  {
   "cell_type": "code",
   "execution_count": 142,
   "metadata": {},
   "outputs": [],
   "source": [
    "import pandas as pd\n",
    "import numpy as np\n",
    "import os"
   ]
  },
  {
   "cell_type": "code",
   "execution_count": 143,
   "metadata": {},
   "outputs": [],
   "source": [
    "folder = r'C:\\Users\\jcallomamanib\\Documents\\GitProjects\\maintenanceApp\\02. Data2HR\\data'\n",
    "asset_system = 'AssetStructureA&S.csv'\n",
    "system_component = 'AssetStructureS&C.csv'\n",
    "component_dutie = 'DutieStructureC&D.csv'\n",
    "dutie_data = 'DutieStructureD&D.csv'\n",
    "dutie_resource = 'DutieStructureD&R.csv'\n",
    "ruteA_S = os.path.join(folder,asset_system)\n",
    "ruteS_C = os.path.join(folder,system_component)\n",
    "ruteC_D = os.path.join(folder,component_dutie)\n",
    "ruteD_D = os.path.join(folder,dutie_data)\n",
    "ruteD_R = os.path.join(folder,dutie_resource)\n"
   ]
  },
  {
   "cell_type": "code",
   "execution_count": 163,
   "metadata": {},
   "outputs": [],
   "source": [
    "dataA_S = pd.read_csv(ruteA_S, dtype= {'System':str})\n",
    "dataS_C = pd.read_csv(ruteS_C)\n",
    "dataC_D = pd.read_csv(ruteC_D)\n",
    "dataD_D = pd.read_csv(ruteD_D)\n",
    "dataD_R = pd.read_csv(ruteD_R, dtype= {'Cod. Material':str})"
   ]
  },
  {
   "cell_type": "code",
   "execution_count": 164,
   "metadata": {},
   "outputs": [],
   "source": [
    "dataD_D_1task = dataD_D.loc[dataD_D.loc[:,'Maintenance type'] != 'COND',:].reset_index(drop = True, inplace = True)\n",
    "dataD_D_2task = dataD_D.loc[dataD_D.loc[:,'Maintenance type'] == 'COND',:].reset_index(drop = True, inplace = True)"
   ]
  },
  {
   "cell_type": "code",
   "execution_count": 165,
   "metadata": {},
   "outputs": [],
   "source": [
    "dataD_D_1task"
   ]
  },
  {
   "cell_type": "code",
   "execution_count": 155,
   "metadata": {},
   "outputs": [
    {
     "output_type": "execute_result",
     "data": {
      "text/plain": [
       "               key_dutie Maintenance type Especialist Constraint  Estrategy  \\\n",
       "0   2111-FE-201|01-01-01             INSP     TEC-ELE        MAR        1.0   \n",
       "1   2111-FE-201|01-01-02             PREV     TEC-ELE        DET     2000.0   \n",
       "2   2111-FE-201|01-01-03             PREV     TEC-ELE        DET     4000.0   \n",
       "3   2111-FE-201|01-01-04             PREV     TEC-ELE        DET     4000.0   \n",
       "4   2111-FE-201|01-01-05             PREV     TEC-ELE        DET     4000.0   \n",
       "5   2111-FE-201|01-01-06             PREV     TEC-ELE        DET     4000.0   \n",
       "7   2111-FE-201|01-01-08             PREV     TEC-ELE        DET     4000.0   \n",
       "8   2111-FE-201|01-01-09             LUBR     TEC-ELE        MAR    12000.0   \n",
       "9   2111-FE-201|01-01-10             INSP     TEC-ELE        MAR        1.0   \n",
       "10  2111-FE-201|01-01-11             INSP     TEC-ELE        MAR        1.0   \n",
       "11  2111-FE-201|01-01-12             PRED    TEC-PRED        MAR      750.0   \n",
       "12  2111-FE-201|01-01-13             PRED    TEC-PRED        MAR      750.0   \n",
       "13  2111-FE-201|01-02-01             PREV     TEC-ELE        DET     4000.0   \n",
       "14  2111-FE-201|01-03-01             INSP     TEC-ELE        MAR        1.0   \n",
       "15  2111-FE-201|01-03-02             PREV     TEC-ELE        DET     4000.0   \n",
       "16  2111-FE-201|01-04-01             INSP     TEC-MEC        MAR      330.0   \n",
       "17  2111-FE-201|01-04-02             INSP     TEC-MEC        MAR      660.0   \n",
       "18  2111-FE-201|01-04-03             PRED    TEC-PRED        MAR      750.0   \n",
       "19  2111-FE-201|01-04-04             PREV     TEC-MEC        DET     4000.0   \n",
       "21  2111-FE-201|01-05-01             INSP     TEC-MEC        MAR      660.0   \n",
       "22  2111-FE-201|01-05-02             INSP     TEC-MEC        DET     4000.0   \n",
       "23  2111-FE-201|01-05-03             LUBR     TEC-MEC        MAR      660.0   \n",
       "24  2111-FE-201|01-05-04             PREV     TEC-MEC        DET     4000.0   \n",
       "27  2111-FE-201|01-05-07             PRED    TEC-PRED        DET     4000.0   \n",
       "30  2111-FE-201|02-01-01             INSP     TEC-MEC        DET      660.0   \n",
       "31  2111-FE-201|02-01-02             INSP     TEC-MEC        DET     2000.0   \n",
       "33  2111-FE-201|02-02-01             INSP     TEC-MEC        DET      660.0   \n",
       "34  2111-FE-201|02-02-02             INSP     TEC-MEC        DET     2000.0   \n",
       "36  2111-FE-201|03-01-01             PRED    TEC-PRED        DET      750.0   \n",
       "37  2111-FE-201|03-01-02             INSP     TEC-MEC        DET     4000.0   \n",
       "39  2111-FE-201|03-02-01             INSP     TEC-MEC        DET     4000.0   \n",
       "41  2111-FE-201|04-01-01             INSP     TEC-INS        MAR        1.0   \n",
       "42  2111-FE-201|04-01-02             PREV     TEC-INS        DET     4000.0   \n",
       "44  2122-FE-213|01-01-01             INSP     TEC-ELE        MAR        1.0   \n",
       "45  2122-FE-213|01-01-02             PREV     TEC-ELE        DET     2000.0   \n",
       "46  2122-FE-213|01-01-03             PREV     TEC-ELE        DET     4000.0   \n",
       "47  2122-FE-213|01-01-04             PREV     TEC-ELE        DET     4000.0   \n",
       "48  2122-FE-213|01-01-05             PREV     TEC-ELE        DET     4000.0   \n",
       "49  2122-FE-213|01-01-06             PREV     TEC-ELE        DET     4000.0   \n",
       "51  2122-FE-213|01-01-08             PREV     TEC-ELE        DET     4000.0   \n",
       "\n",
       "   Unidad Periodo  \n",
       "0               M  \n",
       "1               H  \n",
       "2               H  \n",
       "3               H  \n",
       "4               H  \n",
       "5               H  \n",
       "7               H  \n",
       "8               H  \n",
       "9               M  \n",
       "10              M  \n",
       "11              H  \n",
       "12              H  \n",
       "13              H  \n",
       "14              M  \n",
       "15              H  \n",
       "16              H  \n",
       "17              H  \n",
       "18              H  \n",
       "19              H  \n",
       "21              H  \n",
       "22              H  \n",
       "23              H  \n",
       "24              H  \n",
       "27              H  \n",
       "30              H  \n",
       "31              H  \n",
       "33              H  \n",
       "34              H  \n",
       "36              H  \n",
       "37              H  \n",
       "39              H  \n",
       "41              M  \n",
       "42              H  \n",
       "44              M  \n",
       "45              H  \n",
       "46              H  \n",
       "47              H  \n",
       "48              H  \n",
       "49              H  \n",
       "51              H  "
      ],
      "text/html": "<div>\n<style scoped>\n    .dataframe tbody tr th:only-of-type {\n        vertical-align: middle;\n    }\n\n    .dataframe tbody tr th {\n        vertical-align: top;\n    }\n\n    .dataframe thead th {\n        text-align: right;\n    }\n</style>\n<table border=\"1\" class=\"dataframe\">\n  <thead>\n    <tr style=\"text-align: right;\">\n      <th></th>\n      <th>key_dutie</th>\n      <th>Maintenance type</th>\n      <th>Especialist</th>\n      <th>Constraint</th>\n      <th>Estrategy</th>\n      <th>Unidad Periodo</th>\n    </tr>\n  </thead>\n  <tbody>\n    <tr>\n      <th>0</th>\n      <td>2111-FE-201|01-01-01</td>\n      <td>INSP</td>\n      <td>TEC-ELE</td>\n      <td>MAR</td>\n      <td>1.0</td>\n      <td>M</td>\n    </tr>\n    <tr>\n      <th>1</th>\n      <td>2111-FE-201|01-01-02</td>\n      <td>PREV</td>\n      <td>TEC-ELE</td>\n      <td>DET</td>\n      <td>2000.0</td>\n      <td>H</td>\n    </tr>\n    <tr>\n      <th>2</th>\n      <td>2111-FE-201|01-01-03</td>\n      <td>PREV</td>\n      <td>TEC-ELE</td>\n      <td>DET</td>\n      <td>4000.0</td>\n      <td>H</td>\n    </tr>\n    <tr>\n      <th>3</th>\n      <td>2111-FE-201|01-01-04</td>\n      <td>PREV</td>\n      <td>TEC-ELE</td>\n      <td>DET</td>\n      <td>4000.0</td>\n      <td>H</td>\n    </tr>\n    <tr>\n      <th>4</th>\n      <td>2111-FE-201|01-01-05</td>\n      <td>PREV</td>\n      <td>TEC-ELE</td>\n      <td>DET</td>\n      <td>4000.0</td>\n      <td>H</td>\n    </tr>\n    <tr>\n      <th>5</th>\n      <td>2111-FE-201|01-01-06</td>\n      <td>PREV</td>\n      <td>TEC-ELE</td>\n      <td>DET</td>\n      <td>4000.0</td>\n      <td>H</td>\n    </tr>\n    <tr>\n      <th>7</th>\n      <td>2111-FE-201|01-01-08</td>\n      <td>PREV</td>\n      <td>TEC-ELE</td>\n      <td>DET</td>\n      <td>4000.0</td>\n      <td>H</td>\n    </tr>\n    <tr>\n      <th>8</th>\n      <td>2111-FE-201|01-01-09</td>\n      <td>LUBR</td>\n      <td>TEC-ELE</td>\n      <td>MAR</td>\n      <td>12000.0</td>\n      <td>H</td>\n    </tr>\n    <tr>\n      <th>9</th>\n      <td>2111-FE-201|01-01-10</td>\n      <td>INSP</td>\n      <td>TEC-ELE</td>\n      <td>MAR</td>\n      <td>1.0</td>\n      <td>M</td>\n    </tr>\n    <tr>\n      <th>10</th>\n      <td>2111-FE-201|01-01-11</td>\n      <td>INSP</td>\n      <td>TEC-ELE</td>\n      <td>MAR</td>\n      <td>1.0</td>\n      <td>M</td>\n    </tr>\n    <tr>\n      <th>11</th>\n      <td>2111-FE-201|01-01-12</td>\n      <td>PRED</td>\n      <td>TEC-PRED</td>\n      <td>MAR</td>\n      <td>750.0</td>\n      <td>H</td>\n    </tr>\n    <tr>\n      <th>12</th>\n      <td>2111-FE-201|01-01-13</td>\n      <td>PRED</td>\n      <td>TEC-PRED</td>\n      <td>MAR</td>\n      <td>750.0</td>\n      <td>H</td>\n    </tr>\n    <tr>\n      <th>13</th>\n      <td>2111-FE-201|01-02-01</td>\n      <td>PREV</td>\n      <td>TEC-ELE</td>\n      <td>DET</td>\n      <td>4000.0</td>\n      <td>H</td>\n    </tr>\n    <tr>\n      <th>14</th>\n      <td>2111-FE-201|01-03-01</td>\n      <td>INSP</td>\n      <td>TEC-ELE</td>\n      <td>MAR</td>\n      <td>1.0</td>\n      <td>M</td>\n    </tr>\n    <tr>\n      <th>15</th>\n      <td>2111-FE-201|01-03-02</td>\n      <td>PREV</td>\n      <td>TEC-ELE</td>\n      <td>DET</td>\n      <td>4000.0</td>\n      <td>H</td>\n    </tr>\n    <tr>\n      <th>16</th>\n      <td>2111-FE-201|01-04-01</td>\n      <td>INSP</td>\n      <td>TEC-MEC</td>\n      <td>MAR</td>\n      <td>330.0</td>\n      <td>H</td>\n    </tr>\n    <tr>\n      <th>17</th>\n      <td>2111-FE-201|01-04-02</td>\n      <td>INSP</td>\n      <td>TEC-MEC</td>\n      <td>MAR</td>\n      <td>660.0</td>\n      <td>H</td>\n    </tr>\n    <tr>\n      <th>18</th>\n      <td>2111-FE-201|01-04-03</td>\n      <td>PRED</td>\n      <td>TEC-PRED</td>\n      <td>MAR</td>\n      <td>750.0</td>\n      <td>H</td>\n    </tr>\n    <tr>\n      <th>19</th>\n      <td>2111-FE-201|01-04-04</td>\n      <td>PREV</td>\n      <td>TEC-MEC</td>\n      <td>DET</td>\n      <td>4000.0</td>\n      <td>H</td>\n    </tr>\n    <tr>\n      <th>21</th>\n      <td>2111-FE-201|01-05-01</td>\n      <td>INSP</td>\n      <td>TEC-MEC</td>\n      <td>MAR</td>\n      <td>660.0</td>\n      <td>H</td>\n    </tr>\n    <tr>\n      <th>22</th>\n      <td>2111-FE-201|01-05-02</td>\n      <td>INSP</td>\n      <td>TEC-MEC</td>\n      <td>DET</td>\n      <td>4000.0</td>\n      <td>H</td>\n    </tr>\n    <tr>\n      <th>23</th>\n      <td>2111-FE-201|01-05-03</td>\n      <td>LUBR</td>\n      <td>TEC-MEC</td>\n      <td>MAR</td>\n      <td>660.0</td>\n      <td>H</td>\n    </tr>\n    <tr>\n      <th>24</th>\n      <td>2111-FE-201|01-05-04</td>\n      <td>PREV</td>\n      <td>TEC-MEC</td>\n      <td>DET</td>\n      <td>4000.0</td>\n      <td>H</td>\n    </tr>\n    <tr>\n      <th>27</th>\n      <td>2111-FE-201|01-05-07</td>\n      <td>PRED</td>\n      <td>TEC-PRED</td>\n      <td>DET</td>\n      <td>4000.0</td>\n      <td>H</td>\n    </tr>\n    <tr>\n      <th>30</th>\n      <td>2111-FE-201|02-01-01</td>\n      <td>INSP</td>\n      <td>TEC-MEC</td>\n      <td>DET</td>\n      <td>660.0</td>\n      <td>H</td>\n    </tr>\n    <tr>\n      <th>31</th>\n      <td>2111-FE-201|02-01-02</td>\n      <td>INSP</td>\n      <td>TEC-MEC</td>\n      <td>DET</td>\n      <td>2000.0</td>\n      <td>H</td>\n    </tr>\n    <tr>\n      <th>33</th>\n      <td>2111-FE-201|02-02-01</td>\n      <td>INSP</td>\n      <td>TEC-MEC</td>\n      <td>DET</td>\n      <td>660.0</td>\n      <td>H</td>\n    </tr>\n    <tr>\n      <th>34</th>\n      <td>2111-FE-201|02-02-02</td>\n      <td>INSP</td>\n      <td>TEC-MEC</td>\n      <td>DET</td>\n      <td>2000.0</td>\n      <td>H</td>\n    </tr>\n    <tr>\n      <th>36</th>\n      <td>2111-FE-201|03-01-01</td>\n      <td>PRED</td>\n      <td>TEC-PRED</td>\n      <td>DET</td>\n      <td>750.0</td>\n      <td>H</td>\n    </tr>\n    <tr>\n      <th>37</th>\n      <td>2111-FE-201|03-01-02</td>\n      <td>INSP</td>\n      <td>TEC-MEC</td>\n      <td>DET</td>\n      <td>4000.0</td>\n      <td>H</td>\n    </tr>\n    <tr>\n      <th>39</th>\n      <td>2111-FE-201|03-02-01</td>\n      <td>INSP</td>\n      <td>TEC-MEC</td>\n      <td>DET</td>\n      <td>4000.0</td>\n      <td>H</td>\n    </tr>\n    <tr>\n      <th>41</th>\n      <td>2111-FE-201|04-01-01</td>\n      <td>INSP</td>\n      <td>TEC-INS</td>\n      <td>MAR</td>\n      <td>1.0</td>\n      <td>M</td>\n    </tr>\n    <tr>\n      <th>42</th>\n      <td>2111-FE-201|04-01-02</td>\n      <td>PREV</td>\n      <td>TEC-INS</td>\n      <td>DET</td>\n      <td>4000.0</td>\n      <td>H</td>\n    </tr>\n    <tr>\n      <th>44</th>\n      <td>2122-FE-213|01-01-01</td>\n      <td>INSP</td>\n      <td>TEC-ELE</td>\n      <td>MAR</td>\n      <td>1.0</td>\n      <td>M</td>\n    </tr>\n    <tr>\n      <th>45</th>\n      <td>2122-FE-213|01-01-02</td>\n      <td>PREV</td>\n      <td>TEC-ELE</td>\n      <td>DET</td>\n      <td>2000.0</td>\n      <td>H</td>\n    </tr>\n    <tr>\n      <th>46</th>\n      <td>2122-FE-213|01-01-03</td>\n      <td>PREV</td>\n      <td>TEC-ELE</td>\n      <td>DET</td>\n      <td>4000.0</td>\n      <td>H</td>\n    </tr>\n    <tr>\n      <th>47</th>\n      <td>2122-FE-213|01-01-04</td>\n      <td>PREV</td>\n      <td>TEC-ELE</td>\n      <td>DET</td>\n      <td>4000.0</td>\n      <td>H</td>\n    </tr>\n    <tr>\n      <th>48</th>\n      <td>2122-FE-213|01-01-05</td>\n      <td>PREV</td>\n      <td>TEC-ELE</td>\n      <td>DET</td>\n      <td>4000.0</td>\n      <td>H</td>\n    </tr>\n    <tr>\n      <th>49</th>\n      <td>2122-FE-213|01-01-06</td>\n      <td>PREV</td>\n      <td>TEC-ELE</td>\n      <td>DET</td>\n      <td>4000.0</td>\n      <td>H</td>\n    </tr>\n    <tr>\n      <th>51</th>\n      <td>2122-FE-213|01-01-08</td>\n      <td>PREV</td>\n      <td>TEC-ELE</td>\n      <td>DET</td>\n      <td>4000.0</td>\n      <td>H</td>\n    </tr>\n  </tbody>\n</table>\n</div>"
     },
     "metadata": {},
     "execution_count": 155
    }
   ],
   "source": [
    "dataD_D_1task.iloc[:,[0,3,4,5,8,9]].head(40)"
   ]
  },
  {
   "cell_type": "code",
   "execution_count": null,
   "metadata": {},
   "outputs": [],
   "source": []
  }
 ]
}