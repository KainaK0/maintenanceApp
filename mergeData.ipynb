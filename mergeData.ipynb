{
 "cells": [
  {
   "cell_type": "code",
   "execution_count": 1,
   "metadata": {},
   "outputs": [],
   "source": [
    "import pandas as pd\n",
    "import os"
   ]
  },
  {
   "cell_type": "code",
   "execution_count": 2,
   "metadata": {},
   "outputs": [],
   "source": [
    "folder = r'C:\\Users\\johan\\OneDrive\\Marcobre\\1.0 PROJECTS\\01. Crear budget de mantenimiento\\Plan de mantenimiento Oxidos\\26.10'\n",
    "activityFile = r'activities.csv'\n",
    "materialFile = r'spareparts.csv'\n",
    "mergeFile = r'mergedata.csv'"
   ]
  },
  {
   "cell_type": "code",
   "execution_count": 3,
   "metadata": {},
   "outputs": [],
   "source": [
    "activityRute = os.path.join(folder, activityFile)\n",
    "materialRute = os.path.join(folder, materialFile)\n",
    "mergerute = os.path.join(folder, mergeFile)"
   ]
  },
  {
   "cell_type": "code",
   "execution_count": 4,
   "metadata": {},
   "outputs": [],
   "source": [
    "actividades = pd.read_csv(activityRute)"
   ]
  },
  {
   "cell_type": "code",
   "execution_count": 5,
   "metadata": {},
   "outputs": [
    {
     "output_type": "execute_result",
     "data": {
      "text/plain": [
       "(2967, 9)"
      ]
     },
     "metadata": {},
     "execution_count": 5
    }
   ],
   "source": [
    "actividades.shape"
   ]
  },
  {
   "cell_type": "code",
   "execution_count": 6,
   "metadata": {},
   "outputs": [],
   "source": [
    "materiales = pd.read_csv(materialRute)"
   ]
  },
  {
   "cell_type": "code",
   "execution_count": 7,
   "metadata": {},
   "outputs": [
    {
     "output_type": "execute_result",
     "data": {
      "text/plain": [
       "(756, 5)"
      ]
     },
     "metadata": {},
     "execution_count": 7
    }
   ],
   "source": [
    "materiales.shape"
   ]
  },
  {
   "cell_type": "code",
   "execution_count": 9,
   "metadata": {},
   "outputs": [],
   "source": [
    "actMat = pd.merge(actividades, materiales, on = 'onColumn', how = 'left')"
   ]
  },
  {
   "cell_type": "code",
   "execution_count": 10,
   "metadata": {},
   "outputs": [
    {
     "output_type": "execute_result",
     "data": {
      "text/plain": [
       "(3230, 13)"
      ]
     },
     "metadata": {},
     "execution_count": 10
    }
   ],
   "source": [
    "actMat.shape"
   ]
  },
  {
   "cell_type": "code",
   "execution_count": 11,
   "metadata": {},
   "outputs": [],
   "source": [
    "actMat.to_csv(mergerute, encoding='utf-8-sig')"
   ]
  },
  {
   "cell_type": "code",
   "execution_count": 12,
   "metadata": {},
   "outputs": [
    {
     "output_type": "execute_result",
     "data": {
      "text/plain": [
       "            onColumn          TAG PAQUETE  COD SAP   CANT\n",
       "0  2111-FE-201-1..20  2111-FE-201    4000  2530846  14.53\n",
       "1  2111-FE-201-1..25  2111-FE-201    4000  2530835   4.00\n",
       "2   2111-FE-201-1..9  2111-FE-201   12000  2530835   0.06\n",
       "3  2111-FE-201-1..26  2111-FE-201  A COND  3041898   1.00\n",
       "4  2111-FE-201-1..26  2111-FE-201  A COND  3041899   1.00"
      ],
      "text/html": "<div>\n<style scoped>\n    .dataframe tbody tr th:only-of-type {\n        vertical-align: middle;\n    }\n\n    .dataframe tbody tr th {\n        vertical-align: top;\n    }\n\n    .dataframe thead th {\n        text-align: right;\n    }\n</style>\n<table border=\"1\" class=\"dataframe\">\n  <thead>\n    <tr style=\"text-align: right;\">\n      <th></th>\n      <th>onColumn</th>\n      <th>TAG</th>\n      <th>PAQUETE</th>\n      <th>COD SAP</th>\n      <th>CANT</th>\n    </tr>\n  </thead>\n  <tbody>\n    <tr>\n      <th>0</th>\n      <td>2111-FE-201-1..20</td>\n      <td>2111-FE-201</td>\n      <td>4000</td>\n      <td>2530846</td>\n      <td>14.53</td>\n    </tr>\n    <tr>\n      <th>1</th>\n      <td>2111-FE-201-1..25</td>\n      <td>2111-FE-201</td>\n      <td>4000</td>\n      <td>2530835</td>\n      <td>4.00</td>\n    </tr>\n    <tr>\n      <th>2</th>\n      <td>2111-FE-201-1..9</td>\n      <td>2111-FE-201</td>\n      <td>12000</td>\n      <td>2530835</td>\n      <td>0.06</td>\n    </tr>\n    <tr>\n      <th>3</th>\n      <td>2111-FE-201-1..26</td>\n      <td>2111-FE-201</td>\n      <td>A COND</td>\n      <td>3041898</td>\n      <td>1.00</td>\n    </tr>\n    <tr>\n      <th>4</th>\n      <td>2111-FE-201-1..26</td>\n      <td>2111-FE-201</td>\n      <td>A COND</td>\n      <td>3041899</td>\n      <td>1.00</td>\n    </tr>\n  </tbody>\n</table>\n</div>"
     },
     "metadata": {},
     "execution_count": 12
    }
   ],
   "source": [
    "materiales.head()"
   ]
  },
  {
   "cell_type": "code",
   "execution_count": 14,
   "metadata": {},
   "outputs": [
    {
     "output_type": "execute_result",
     "data": {
      "text/plain": [
       "           onColumn                                              TAREA  \\\n",
       "0  2111-FE-201-1..1      Motor eléctrico - Inspección general de motor   \n",
       "1  2111-FE-201-1..2      Motor eléctrico - Mtto menor de motor de faja   \n",
       "2  2111-FE-201-1..3  Motor eléctrico - Mtto caja de conexiones de m...   \n",
       "3  2111-FE-201-1..4  Motor eléctrico - Mtto caja de conexiones RTD ...   \n",
       "4  2111-FE-201-1..5      Motor eléctrico - Mtto de ventilador de motor   \n",
       "\n",
       "           TAG TIPO DE MANT    ESPEC ESTATUS  TIEMPO  CANT PAQUETE  \n",
       "0  2111-FE-201         INSP  TEC-ELE     MAR     1.0     2      1M  \n",
       "1  2111-FE-201         PREV  TEC-ELE     DET     2.0     2   2000H  \n",
       "2  2111-FE-201         PREV  TEC-ELE     DET     1.0     2   4000H  \n",
       "3  2111-FE-201         PREV  TEC-ELE     DET     0.5     2   4000H  \n",
       "4  2111-FE-201         PREV  TEC-ELE     DET     1.0     2   4000H  "
      ],
      "text/html": "<div>\n<style scoped>\n    .dataframe tbody tr th:only-of-type {\n        vertical-align: middle;\n    }\n\n    .dataframe tbody tr th {\n        vertical-align: top;\n    }\n\n    .dataframe thead th {\n        text-align: right;\n    }\n</style>\n<table border=\"1\" class=\"dataframe\">\n  <thead>\n    <tr style=\"text-align: right;\">\n      <th></th>\n      <th>onColumn</th>\n      <th>TAREA</th>\n      <th>TAG</th>\n      <th>TIPO DE MANT</th>\n      <th>ESPEC</th>\n      <th>ESTATUS</th>\n      <th>TIEMPO</th>\n      <th>CANT</th>\n      <th>PAQUETE</th>\n    </tr>\n  </thead>\n  <tbody>\n    <tr>\n      <th>0</th>\n      <td>2111-FE-201-1..1</td>\n      <td>Motor eléctrico - Inspección general de motor</td>\n      <td>2111-FE-201</td>\n      <td>INSP</td>\n      <td>TEC-ELE</td>\n      <td>MAR</td>\n      <td>1.0</td>\n      <td>2</td>\n      <td>1M</td>\n    </tr>\n    <tr>\n      <th>1</th>\n      <td>2111-FE-201-1..2</td>\n      <td>Motor eléctrico - Mtto menor de motor de faja</td>\n      <td>2111-FE-201</td>\n      <td>PREV</td>\n      <td>TEC-ELE</td>\n      <td>DET</td>\n      <td>2.0</td>\n      <td>2</td>\n      <td>2000H</td>\n    </tr>\n    <tr>\n      <th>2</th>\n      <td>2111-FE-201-1..3</td>\n      <td>Motor eléctrico - Mtto caja de conexiones de m...</td>\n      <td>2111-FE-201</td>\n      <td>PREV</td>\n      <td>TEC-ELE</td>\n      <td>DET</td>\n      <td>1.0</td>\n      <td>2</td>\n      <td>4000H</td>\n    </tr>\n    <tr>\n      <th>3</th>\n      <td>2111-FE-201-1..4</td>\n      <td>Motor eléctrico - Mtto caja de conexiones RTD ...</td>\n      <td>2111-FE-201</td>\n      <td>PREV</td>\n      <td>TEC-ELE</td>\n      <td>DET</td>\n      <td>0.5</td>\n      <td>2</td>\n      <td>4000H</td>\n    </tr>\n    <tr>\n      <th>4</th>\n      <td>2111-FE-201-1..5</td>\n      <td>Motor eléctrico - Mtto de ventilador de motor</td>\n      <td>2111-FE-201</td>\n      <td>PREV</td>\n      <td>TEC-ELE</td>\n      <td>DET</td>\n      <td>1.0</td>\n      <td>2</td>\n      <td>4000H</td>\n    </tr>\n  </tbody>\n</table>\n</div>"
     },
     "metadata": {},
     "execution_count": 14
    }
   ],
   "source": [
    "actividades.head()"
   ]
  },
  {
   "cell_type": "code",
   "execution_count": null,
   "metadata": {},
   "outputs": [],
   "source": []
  }
 ],
 "metadata": {
  "kernelspec": {
   "name": "Python 3.8.6 64-bit",
   "display_name": "Python 3.8.6 64-bit",
   "metadata": {
    "interpreter": {
     "hash": "1baa965d5efe3ac65b79dfc60c0d706280b1da80fedb7760faf2759126c4f253"
    }
   }
  },
  "language_info": {
   "codemirror_mode": {
    "name": "ipython",
    "version": 3
   },
   "file_extension": ".py",
   "mimetype": "text/x-python",
   "name": "python",
   "nbconvert_exporter": "python",
   "pygments_lexer": "ipython3",
   "version": "3.8.6-final"
  }
 },
 "nbformat": 4,
 "nbformat_minor": 4
}