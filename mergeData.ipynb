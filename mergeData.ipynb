{
 "cells": [
  {
   "cell_type": "code",
   "execution_count": 1,
   "metadata": {},
   "outputs": [],
   "source": [
    "import pandas as pd\n",
    "import os"
   ]
  },
  {
   "cell_type": "code",
   "execution_count": 2,
   "metadata": {},
   "outputs": [],
   "source": [
    "folder = r'C:\\Users\\johan\\OneDrive\\Marcobre\\1.0 PROJECTS\\Crear plan de mantenimiento trimestral\\Plan de mantenimiento Oxidos y Sulfuros Trimestral\\v2'\n",
    "activityFile = r'actividades.csv'\n",
    "materialFile = r'materiales.csv'\n",
    "mergeFile = r'mergedate.csv'"
   ]
  },
  {
   "cell_type": "code",
   "execution_count": 3,
   "metadata": {},
   "outputs": [],
   "source": [
    "activityRute = os.path.join(folder, activityFile)\n",
    "materialRute = os.path.join(folder, materialFile)\n",
    "mergerute = os.path.join(folder, mergeFile)"
   ]
  },
  {
   "cell_type": "code",
   "execution_count": 9,
   "metadata": {},
   "outputs": [],
   "source": [
    "actividades = pd.read_csv(activityRute)"
   ]
  },
  {
   "cell_type": "code",
   "execution_count": 14,
   "metadata": {},
   "outputs": [
    {
     "data": {
      "text/plain": [
       "(9735, 8)"
      ]
     },
     "execution_count": 14,
     "metadata": {},
     "output_type": "execute_result"
    }
   ],
   "source": [
    "actividades.shape"
   ]
  },
  {
   "cell_type": "code",
   "execution_count": 10,
   "metadata": {},
   "outputs": [],
   "source": [
    "materiales = pd.read_csv(materialRute)"
   ]
  },
  {
   "cell_type": "code",
   "execution_count": 15,
   "metadata": {},
   "outputs": [
    {
     "data": {
      "text/plain": [
       "(1430, 4)"
      ]
     },
     "execution_count": 15,
     "metadata": {},
     "output_type": "execute_result"
    }
   ],
   "source": [
    "materiales.shape"
   ]
  },
  {
   "cell_type": "code",
   "execution_count": 16,
   "metadata": {},
   "outputs": [],
   "source": [
    "actMat = pd.merge(actividades, materiales, on = 'pivotcolumn', how = 'left')"
   ]
  },
  {
   "cell_type": "code",
   "execution_count": 18,
   "metadata": {},
   "outputs": [
    {
     "data": {
      "text/plain": [
       "(10167, 11)"
      ]
     },
     "execution_count": 18,
     "metadata": {},
     "output_type": "execute_result"
    }
   ],
   "source": [
    "actMat.shape"
   ]
  },
  {
   "cell_type": "code",
   "execution_count": 19,
   "metadata": {},
   "outputs": [],
   "source": [
    "actMat.to_csv(mergerute, encoding='utf-8-sig')"
   ]
  },
  {
   "cell_type": "code",
   "execution_count": 20,
   "metadata": {},
   "outputs": [
    {
     "data": {
      "text/html": [
       "<div>\n",
       "<style scoped>\n",
       "    .dataframe tbody tr th:only-of-type {\n",
       "        vertical-align: middle;\n",
       "    }\n",
       "\n",
       "    .dataframe tbody tr th {\n",
       "        vertical-align: top;\n",
       "    }\n",
       "\n",
       "    .dataframe thead th {\n",
       "        text-align: right;\n",
       "    }\n",
       "</style>\n",
       "<table border=\"1\" class=\"dataframe\">\n",
       "  <thead>\n",
       "    <tr style=\"text-align: right;\">\n",
       "      <th></th>\n",
       "      <th>pivotcolumn</th>\n",
       "      <th>COD SAP</th>\n",
       "      <th>CANT</th>\n",
       "      <th>PAQUETE</th>\n",
       "    </tr>\n",
       "  </thead>\n",
       "  <tbody>\n",
       "    <tr>\n",
       "      <th>0</th>\n",
       "      <td>5552-PU-518-1..10</td>\n",
       "      <td>2530835</td>\n",
       "      <td>0.05</td>\n",
       "      <td>12000</td>\n",
       "    </tr>\n",
       "    <tr>\n",
       "      <th>1</th>\n",
       "      <td>5552-PU-518-2..14</td>\n",
       "      <td>3045854</td>\n",
       "      <td>1.00</td>\n",
       "      <td>4000</td>\n",
       "    </tr>\n",
       "    <tr>\n",
       "      <th>2</th>\n",
       "      <td>5552-PU-518-2..12</td>\n",
       "      <td>3045848</td>\n",
       "      <td>1.00</td>\n",
       "      <td>8000</td>\n",
       "    </tr>\n",
       "    <tr>\n",
       "      <th>3</th>\n",
       "      <td>5552-PU-518-2..12</td>\n",
       "      <td>3045856</td>\n",
       "      <td>1.00</td>\n",
       "      <td>8000</td>\n",
       "    </tr>\n",
       "    <tr>\n",
       "      <th>4</th>\n",
       "      <td>5552-PU-518-2..12</td>\n",
       "      <td>3045860</td>\n",
       "      <td>1.00</td>\n",
       "      <td>8000</td>\n",
       "    </tr>\n",
       "  </tbody>\n",
       "</table>\n",
       "</div>"
      ],
      "text/plain": [
       "         pivotcolumn  COD SAP  CANT PAQUETE\n",
       "0  5552-PU-518-1..10  2530835  0.05   12000\n",
       "1  5552-PU-518-2..14  3045854  1.00    4000\n",
       "2  5552-PU-518-2..12  3045848  1.00    8000\n",
       "3  5552-PU-518-2..12  3045856  1.00    8000\n",
       "4  5552-PU-518-2..12  3045860  1.00    8000"
      ]
     },
     "execution_count": 20,
     "metadata": {},
     "output_type": "execute_result"
    }
   ],
   "source": [
    "materiales.head()"
   ]
  },
  {
   "cell_type": "code",
   "execution_count": 21,
   "metadata": {},
   "outputs": [
    {
     "data": {
      "text/html": [
       "<div>\n",
       "<style scoped>\n",
       "    .dataframe tbody tr th:only-of-type {\n",
       "        vertical-align: middle;\n",
       "    }\n",
       "\n",
       "    .dataframe tbody tr th {\n",
       "        vertical-align: top;\n",
       "    }\n",
       "\n",
       "    .dataframe thead th {\n",
       "        text-align: right;\n",
       "    }\n",
       "</style>\n",
       "<table border=\"1\" class=\"dataframe\">\n",
       "  <thead>\n",
       "    <tr style=\"text-align: right;\">\n",
       "      <th></th>\n",
       "      <th>pivotcolumn</th>\n",
       "      <th>Actividad</th>\n",
       "      <th>TIPO DE MANT</th>\n",
       "      <th>ESPEC</th>\n",
       "      <th>TIEMPO</th>\n",
       "      <th>CANT</th>\n",
       "      <th>PAQUETE</th>\n",
       "      <th>CRITICIDAD</th>\n",
       "    </tr>\n",
       "  </thead>\n",
       "  <tbody>\n",
       "    <tr>\n",
       "      <th>0</th>\n",
       "      <td>5552-PU-518-1..1</td>\n",
       "      <td>Motor eléctrico - Inspección general de motor</td>\n",
       "      <td>INSP</td>\n",
       "      <td>TEC-ELE</td>\n",
       "      <td>1.0</td>\n",
       "      <td>2.0</td>\n",
       "      <td>2S</td>\n",
       "      <td>Medio</td>\n",
       "    </tr>\n",
       "    <tr>\n",
       "      <th>1</th>\n",
       "      <td>5552-PU-518-1..2</td>\n",
       "      <td>Motor eléctrico - Limpieza exterior de motor</td>\n",
       "      <td>PREV</td>\n",
       "      <td>TEC-ELE</td>\n",
       "      <td>1.0</td>\n",
       "      <td>2.0</td>\n",
       "      <td>2000H</td>\n",
       "      <td>Medio</td>\n",
       "    </tr>\n",
       "    <tr>\n",
       "      <th>2</th>\n",
       "      <td>5552-PU-518-1..3</td>\n",
       "      <td>Motor eléctrico - Mtto caja de conexiones de m...</td>\n",
       "      <td>PREV</td>\n",
       "      <td>TEC-ELE</td>\n",
       "      <td>1.0</td>\n",
       "      <td>2.0</td>\n",
       "      <td>4000H</td>\n",
       "      <td>Medio</td>\n",
       "    </tr>\n",
       "    <tr>\n",
       "      <th>3</th>\n",
       "      <td>5552-PU-518-1..4</td>\n",
       "      <td>Motor eléctrico - Mtto caja de conexiones RTD ...</td>\n",
       "      <td>PREV</td>\n",
       "      <td>TEC-ELE</td>\n",
       "      <td>1.0</td>\n",
       "      <td>2.0</td>\n",
       "      <td>4000H</td>\n",
       "      <td>Medio</td>\n",
       "    </tr>\n",
       "    <tr>\n",
       "      <th>4</th>\n",
       "      <td>5552-PU-518-1..5</td>\n",
       "      <td>Motor eléctrico - Verificación de Termistor de...</td>\n",
       "      <td>PREV</td>\n",
       "      <td>TEC-ELE</td>\n",
       "      <td>1.0</td>\n",
       "      <td>2.0</td>\n",
       "      <td>4000H</td>\n",
       "      <td>Medio</td>\n",
       "    </tr>\n",
       "  </tbody>\n",
       "</table>\n",
       "</div>"
      ],
      "text/plain": [
       "        pivotcolumn                                          Actividad  \\\n",
       "0  5552-PU-518-1..1      Motor eléctrico - Inspección general de motor   \n",
       "1  5552-PU-518-1..2       Motor eléctrico - Limpieza exterior de motor   \n",
       "2  5552-PU-518-1..3  Motor eléctrico - Mtto caja de conexiones de m...   \n",
       "3  5552-PU-518-1..4  Motor eléctrico - Mtto caja de conexiones RTD ...   \n",
       "4  5552-PU-518-1..5  Motor eléctrico - Verificación de Termistor de...   \n",
       "\n",
       "  TIPO DE MANT    ESPEC  TIEMPO  CANT PAQUETE CRITICIDAD  \n",
       "0         INSP  TEC-ELE     1.0   2.0      2S      Medio  \n",
       "1         PREV  TEC-ELE     1.0   2.0   2000H      Medio  \n",
       "2         PREV  TEC-ELE     1.0   2.0   4000H      Medio  \n",
       "3         PREV  TEC-ELE     1.0   2.0   4000H      Medio  \n",
       "4         PREV  TEC-ELE     1.0   2.0   4000H      Medio  "
      ]
     },
     "execution_count": 21,
     "metadata": {},
     "output_type": "execute_result"
    }
   ],
   "source": [
    "actividades.head()"
   ]
  },
  {
   "cell_type": "code",
   "execution_count": null,
   "metadata": {},
   "outputs": [],
   "source": []
  }
 ],
 "metadata": {
  "kernelspec": {
   "display_name": "Python 3",
   "language": "python",
   "name": "python3"
  },
  "language_info": {
   "codemirror_mode": {
    "name": "ipython",
    "version": 3
   },
   "file_extension": ".py",
   "mimetype": "text/x-python",
   "name": "python",
   "nbconvert_exporter": "python",
   "pygments_lexer": "ipython3",
   "version": "3.8.6"
  }
 },
 "nbformat": 4,
 "nbformat_minor": 4
}
