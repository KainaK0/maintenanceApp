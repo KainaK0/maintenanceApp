{
 "metadata": {
  "language_info": {
   "codemirror_mode": {
    "name": "ipython",
    "version": 3
   },
   "file_extension": ".py",
   "mimetype": "text/x-python",
   "name": "python",
   "nbconvert_exporter": "python",
   "pygments_lexer": "ipython3",
   "version": "3.8.6-final"
  },
  "orig_nbformat": 2,
  "kernelspec": {
   "name": "python3",
   "display_name": "Python 3.8.6 64-bit",
   "metadata": {
    "interpreter": {
     "hash": "1baa965d5efe3ac65b79dfc60c0d706280b1da80fedb7760faf2759126c4f253"
    }
   }
  }
 },
 "nbformat": 4,
 "nbformat_minor": 2,
 "cells": [
  {
   "cell_type": "code",
   "execution_count": 1,
   "metadata": {},
   "outputs": [],
   "source": [
    "import pandas as pd\n",
    "import os"
   ]
  },
  {
   "cell_type": "code",
   "execution_count": 25,
   "metadata": {},
   "outputs": [],
   "source": [
    " dbiw29 = pd.read_excel(r'C:\\Users\\johan\\OneDrive\\Marcobre\\1.0 PROJECTS\\08. KPIs de Mantenimiento\\DB\\AVISOS.xlsx')"
   ]
  },
  {
   "cell_type": "code",
   "execution_count": 26,
   "metadata": {},
   "outputs": [
    {
     "output_type": "execute_result",
     "data": {
      "text/plain": [
       "Index(['Clase de aviso', 'Descripción', 'Ubicac.técnica', 'Equipo',\n",
       "       'Pto.tbjo.resp.', 'Denominación', 'Aviso', 'Creado el', 'Creado por',\n",
       "       'Status sistema',\n",
       "       ...\n",
       "       'DispTrasAvería', 'DispAntesAvería', 'Oficina ventas', 'Gr.vendedores',\n",
       "       'Organiz.ventas', 'Canal distrib.', 'Moneda', 'Pos.mantenim.',\n",
       "       'Plan mant.prev.', 'Cl.actividad PM'],\n",
       "      dtype='object', length=109)"
      ]
     },
     "metadata": {},
     "execution_count": 26
    }
   ],
   "source": [
    "dbiw29.columns"
   ]
  },
  {
   "cell_type": "code",
   "execution_count": 27,
   "metadata": {},
   "outputs": [
    {
     "output_type": "execute_result",
     "data": {
      "text/plain": [
       "Empty DataFrame\n",
       "Columns: [Clase de aviso, Descripción, Ubicac.técnica, Equipo, Pto.tbjo.resp., Denominación, Aviso, Creado el, Creado por, Status sistema, Indicador ABC, Nº dirección, Modificado el, Modificado por, Modif.a las, Activo fijo, Subnúmero, EstInsTrasMed, EstInsTr avería, EstInsAn avería, Ctro.p.pto.tbj., Cl.prioridad, Orden, Fin de avería, Inicio avería, Repercusión, Hora fin avería, Hora in.avería, Conjunto, Denom.conjunto, Área de empresa, Equipo afectado, Fecha ref., Hora referencia, Fecha de pedido, Nº de pedido, UbicTécnAfect, Sociedad, Población, Distrito, País, Ctrl.técnico el, Dat.dispositivo, Duración parada, Campo clasif., Creado a las, División, Emplaz/Imputac., Texto expl., Grupo planif., Ctrl.técnico de, Centro planif., Documento venta, Posición, Sociedad CO, Centro coste, Codif.txt.cód., TextoGrp.codif., Cliente, Fin deseado, Hora fin des., Denominación2, Material, Unidad, Parada, Local, Hora del aviso, Lista, Nº objeto, Status paging, Denom. ejecut., DenomIntRespEj, Ejecutante, InterlRespEjec, Denominación3, Código postal, Prioridad, Prioridad4, Codificación, Fecha de cierre, Fecha de aviso, Grupo códigos, Autor del aviso, Hora de cierre, Perfil catálogo, Región, Revisión, Número de serie, Sector, Emplazamiento, Calle, Inicio deseado, Hora inic.des., Ce.emplazam., Teléfono, Status usuario, Centro PtoTbjo, Pedido cliente, DispTrasMedida, DispTrasAvería, ...]\n",
       "Index: []\n",
       "\n",
       "[0 rows x 109 columns]"
      ],
      "text/html": "<div>\n<style scoped>\n    .dataframe tbody tr th:only-of-type {\n        vertical-align: middle;\n    }\n\n    .dataframe tbody tr th {\n        vertical-align: top;\n    }\n\n    .dataframe thead th {\n        text-align: right;\n    }\n</style>\n<table border=\"1\" class=\"dataframe\">\n  <thead>\n    <tr style=\"text-align: right;\">\n      <th></th>\n      <th>Clase de aviso</th>\n      <th>Descripción</th>\n      <th>Ubicac.técnica</th>\n      <th>Equipo</th>\n      <th>Pto.tbjo.resp.</th>\n      <th>Denominación</th>\n      <th>Aviso</th>\n      <th>Creado el</th>\n      <th>Creado por</th>\n      <th>Status sistema</th>\n      <th>...</th>\n      <th>DispTrasAvería</th>\n      <th>DispAntesAvería</th>\n      <th>Oficina ventas</th>\n      <th>Gr.vendedores</th>\n      <th>Organiz.ventas</th>\n      <th>Canal distrib.</th>\n      <th>Moneda</th>\n      <th>Pos.mantenim.</th>\n      <th>Plan mant.prev.</th>\n      <th>Cl.actividad PM</th>\n    </tr>\n  </thead>\n  <tbody>\n  </tbody>\n</table>\n<p>0 rows × 109 columns</p>\n</div>"
     },
     "metadata": {},
     "execution_count": 27
    }
   ],
   "source": [
    "dbiw29.loc[dbiw29.loc[:,\"Aviso\"].duplicated(),:] "
   ]
  },
  {
   "cell_type": "code",
   "execution_count": 5,
   "metadata": {},
   "outputs": [],
   "source": [
    "folderRuta = r'C:\\Users\\johan\\OneDrive\\Marcobre\\1.0 PROJECTS\\05. Catalogacion de Valvulas\\Válvulas Emerson\\111B - Spare Parts\\2. Catalogacion Spare Parts'\n"
   ]
  },
  {
   "cell_type": "code",
   "execution_count": 3,
   "metadata": {},
   "outputs": [],
   "source": [
    "columns = ['Line Number', 'Item Name / Short Description', 'Item Long Description',\n",
    "       'Manufacturer of Item', 'Item Manufacturers Part Number',\n",
    "       'Supplier of Item', 'Suppliers Part Number', 'Unit of Measure (UM)',\n",
    "       'Hazardous Material Code (if applicable)',\n",
    "       'Dimensions (L x W x H) in meters', 'Weight (kg)',\n",
    "       'Preservation / Special Storage Required (Y/N)',\n",
    "       'Parent Equipment Tag Number (List all applicable tag numbers)',\n",
    "       'Manufacturer Drawing Ref (if applic.)', 'Qty per Fitment',\n",
    "       'Qty Installed', 'Price per UM', 'Currency', 'Price Valid until Date',\n",
    "       'Standard Package', 'Lead-time in days', 'Start Up & Commissioning',\n",
    "       'Safety Stock', 'Estimated 1st Year Usage', 'Estimated 2nd Year Usage',\n",
    "       'Item Classification', 'Valuation Category', 'Recommended ROP',\n",
    "       'Recommended MAX ', 'Note','PO']"
   ]
  },
  {
   "cell_type": "code",
   "execution_count": 8,
   "metadata": {},
   "outputs": [
    {
     "output_type": "execute_result",
     "data": {
      "text/plain": [
       "31"
      ]
     },
     "metadata": {},
     "execution_count": 8
    }
   ],
   "source": [
    "len(columns)"
   ]
  },
  {
   "cell_type": "code",
   "execution_count": 9,
   "metadata": {},
   "outputs": [
    {
     "output_type": "stream",
     "name": "stdout",
     "text": [
      "1 - 10-DDCV-900.xlsx - (1, 31) - (1, 31)\n",
      "2 - 10-VS900BB.xlsx - (2, 31) - (3, 31)\n",
      "3 - 12-VS300BB.xlsx - (2, 31) - (5, 31)\n",
      "4 - 12-VS900BB.xlsx - (2, 31) - (7, 31)\n",
      "5 - 16-NG2RF9FDDNL3GC2 - VB71.xlsx - (1, 31) - (8, 31)\n",
      "6 - 16-NG2RF9FDDNL3GC2 - VB74.xlsx - (1, 31) - (9, 31)\n",
      "7 - 16-VS900BB.xlsx - (2, 31) - (11, 31)\n",
      "8 - 18-NG2RF1FDDNL1GC2.xlsx - (1, 31) - (12, 31)\n",
      "9 - 18-VS150BB.xlsx - (2, 31) - (14, 31)\n",
      "10 - 24-DDVC-150.xlsx - (1, 31) - (15, 31)\n",
      "11 - 24inch-LUG 36-150-T717-GB.xlsx - (1, 31) - (16, 31)\n",
      "12 - 34-SS2RF1FDDNP5LC1.xlsx - (1, 31) - (17, 31)\n",
      "13 - 3K6JLTJOS-E55JSPL.xlsx - (2, 31) - (19, 31)\n",
      "14 - 4-NG2RF1FDDNL5LC2.xlsx - (1, 31) - (20, 31)\n",
      "15 - 4-NG2RF3FDDNL1L.xlsx - (1, 31) - (21, 31)\n",
      "16 - 4-NG2RF9FDDNL3G.xlsx - (1, 31) - (22, 31)\n",
      "17 - 46305-68XSPL.xlsx - (2, 31) - (24, 31)\n",
      "18 - 6-VS900BB.xlsx - (2, 31) - (26, 31)\n",
      "19 - ARGPE-6-HP-585C-DVC-1.xlsx - (21, 31) - (47, 31)\n"
     ]
    }
   ],
   "source": [
    "listnames = os.listdir(folderRuta)\n",
    "compSpareParts = pd.DataFrame()\n",
    "counter = 0\n",
    "for x in listnames:\n",
    "    datacomp = pd.read_excel(os.path.join(folderRuta,x), header = None)\n",
    "    datacomp=datacomp.loc[~datacomp.loc[:,1].isnull(),:].reset_index(drop=True).drop(index = [0,1])\n",
    "    datacomp.loc[:,'PO'] = x[0:-5]\n",
    "    compSpareParts = pd.concat([compSpareParts,datacomp])\n",
    "    counter = counter + 1\n",
    "    print(str(counter)+' - '+x+' - ' + str(datacomp.shape) + ' - ' + str(compSpareParts.shape))\n",
    "\n",
    "compSpareParts.columns = columns\n",
    "compSpareParts.reset_index(drop = True, inplace = True)\n"
   ]
  },
  {
   "cell_type": "code",
   "execution_count": 10,
   "metadata": {},
   "outputs": [
    {
     "output_type": "execute_result",
     "data": {
      "text/plain": [
       "0                                SPKIT-10-DDCV-900-SOFT\n",
       "1                                      800000000057SG00\n",
       "2                                      34401AE10-0540J8\n",
       "3                                      345000021GT-45JG\n",
       "4                                      344U1AC12-0420J8\n",
       "5                                      800000000062SG00\n",
       "6                                      34401AE12-0580J8\n",
       "7                           VID000327Q819K002NMF101100G\n",
       "8                           VID000327Q819K002NMF101100G\n",
       "9                                      800000000070SG00\n",
       "10                                     34401AE16-0635J8\n",
       "11                          VID000327Q831K002NMG101100G\n",
       "12                                     345AB21GP-1300JG\n",
       "13                                     344U1AB18-0480J8\n",
       "14                              SPKIT-24-DDCV-150-METAL\n",
       "15    SPARE PART KIT FOR KEY BFV 24\" LUG 36,150,T717...\n",
       "16                          VID000327S531D002CWP000000M\n",
       "17                                             11480803\n",
       "18                                             10074080\n",
       "19                          VID000327N671K002XCU101000M\n",
       "20                          VID000327N673K002XCP101000M\n",
       "21                          VID000327Q679K002NMF101000G\n",
       "22                                             10041952\n",
       "23                                             10131039\n",
       "24                                     800000000049SG00\n",
       "25                                     34401AE06-0420J8\n",
       "26                                          1J8733X0212\n",
       "27                                          BN9730X0032\n",
       "28                                          GG27447X032\n",
       "29                                          13B0119X042\n",
       "30                                          13B0120X042\n",
       "31                                          36A5444X292\n",
       "32                                          10A5409X232\n",
       "33                                          10A5410X052\n",
       "34                                          10A5411X022\n",
       "35                                          23B0094X382\n",
       "36                                          15A1283X012\n",
       "37                                          1J108506992\n",
       "38                                          1D5604000A2\n",
       "39                                          1H863714042\n",
       "40                                          R585CX00022\n",
       "41                                          GG53748X012\n",
       "42                                          18B7713X012\n",
       "43                                          38B6041X152\n",
       "44                                          19B5402X012\n",
       "45                                          19B5403X012\n",
       "46                                          38B5786X052\n",
       "Name: Item Manufacturers Part Number, dtype: object"
      ]
     },
     "metadata": {},
     "execution_count": 10
    }
   ],
   "source": [
    "compSpareParts.iloc[:,4]"
   ]
  },
  {
   "cell_type": "code",
   "execution_count": 16,
   "metadata": {},
   "outputs": [
    {
     "output_type": "execute_result",
     "data": {
      "text/plain": [
       "    Line Number Item Name / Short Description        Item Long Description  \\\n",
       "330           4     DVC - GAUGE,PRESS,1-INCH     DVC - GAUGE,PRESS,1-INCH    \n",
       "331           5       DVC - I/P ASSY/SHROUD        DVC - I/P ASSY/SHROUD     \n",
       "332           6         DVC - KIT,ELASTOMER          DVC - KIT,ELASTOMER     \n",
       "333           7   DVC  KIT,MISC SMALL HDWRE    DVC  KIT,MISC SMALL HDWRE     \n",
       "334           8         DVC - RELAY ASSEMBLY         DVC - RELAY ASSEMBLY    \n",
       "\n",
       "    Manufacturer of Item Item Manufacturers Part Number  \\\n",
       "330               Fisher                    18B7713X012   \n",
       "331               Fisher                    38B6041X152   \n",
       "332               Fisher                    19B5402X012   \n",
       "333               Fisher                    19B5403X012   \n",
       "334               Fisher                    38B5786X132   \n",
       "\n",
       "                            Supplier of Item Suppliers Part Number  \\\n",
       "330  EMERSON PROCESS MANAGEMENT DEL PERU SAC           18B7713X012   \n",
       "331  EMERSON PROCESS MANAGEMENT DEL PERU SAC           38B6041X152   \n",
       "332  EMERSON PROCESS MANAGEMENT DEL PERU SAC           19B5402X012   \n",
       "333  EMERSON PROCESS MANAGEMENT DEL PERU SAC           19B5403X012   \n",
       "334  EMERSON PROCESS MANAGEMENT DEL PERU SAC           38B5786X132   \n",
       "\n",
       "    Unit of Measure (UM) Hazardous Material Code (if applicable)  \\\n",
       "330                   PZ                                       N   \n",
       "331                   PZ                                       N   \n",
       "332                   PZ                                       N   \n",
       "333                   PZ                                       N   \n",
       "334                   PZ                                       N   \n",
       "\n",
       "    Dimensions (L x W x H) in meters  ... Start Up & Commissioning  \\\n",
       "330                              NaN  ...                        0   \n",
       "331                              NaN  ...                        0   \n",
       "332                              NaN  ...                        0   \n",
       "333                              NaN  ...                        0   \n",
       "334                              NaN  ...                        0   \n",
       "\n",
       "    Safety Stock Estimated 1st Year Usage Estimated 2nd Year Usage  \\\n",
       "330          NaN                      NaN                      NaN   \n",
       "331          NaN                      NaN                      NaN   \n",
       "332          NaN                      NaN                      NaN   \n",
       "333          NaN                      NaN                      NaN   \n",
       "334          NaN                      NaN                      NaN   \n",
       "\n",
       "    Item Classification Valuation Category Recommended ROP Recommended MAX   \\\n",
       "330                 NaN                NaN             NaN              NaN   \n",
       "331                 NaN                NaN             NaN              NaN   \n",
       "332                 NaN                NaN             NaN              NaN   \n",
       "333                 NaN                NaN             NaN              NaN   \n",
       "334                 NaN                NaN             NaN              NaN   \n",
       "\n",
       "    Note               PO  \n",
       "330  NaN  NTC050NB1FA1B00  \n",
       "331  NaN  NTC050NB1FA1B00  \n",
       "332  NaN  NTC050NB1FA1B00  \n",
       "333  NaN  NTC050NB1FA1B00  \n",
       "334  NaN  NTC050NB1FA1B00  \n",
       "\n",
       "[5 rows x 31 columns]"
      ],
      "text/html": "<div>\n<style scoped>\n    .dataframe tbody tr th:only-of-type {\n        vertical-align: middle;\n    }\n\n    .dataframe tbody tr th {\n        vertical-align: top;\n    }\n\n    .dataframe thead th {\n        text-align: right;\n    }\n</style>\n<table border=\"1\" class=\"dataframe\">\n  <thead>\n    <tr style=\"text-align: right;\">\n      <th></th>\n      <th>Line Number</th>\n      <th>Item Name / Short Description</th>\n      <th>Item Long Description</th>\n      <th>Manufacturer of Item</th>\n      <th>Item Manufacturers Part Number</th>\n      <th>Supplier of Item</th>\n      <th>Suppliers Part Number</th>\n      <th>Unit of Measure (UM)</th>\n      <th>Hazardous Material Code (if applicable)</th>\n      <th>Dimensions (L x W x H) in meters</th>\n      <th>...</th>\n      <th>Start Up &amp; Commissioning</th>\n      <th>Safety Stock</th>\n      <th>Estimated 1st Year Usage</th>\n      <th>Estimated 2nd Year Usage</th>\n      <th>Item Classification</th>\n      <th>Valuation Category</th>\n      <th>Recommended ROP</th>\n      <th>Recommended MAX</th>\n      <th>Note</th>\n      <th>PO</th>\n    </tr>\n  </thead>\n  <tbody>\n    <tr>\n      <th>330</th>\n      <td>4</td>\n      <td>DVC - GAUGE,PRESS,1-INCH</td>\n      <td>DVC - GAUGE,PRESS,1-INCH</td>\n      <td>Fisher</td>\n      <td>18B7713X012</td>\n      <td>EMERSON PROCESS MANAGEMENT DEL PERU SAC</td>\n      <td>18B7713X012</td>\n      <td>PZ</td>\n      <td>N</td>\n      <td>NaN</td>\n      <td>...</td>\n      <td>0</td>\n      <td>NaN</td>\n      <td>NaN</td>\n      <td>NaN</td>\n      <td>NaN</td>\n      <td>NaN</td>\n      <td>NaN</td>\n      <td>NaN</td>\n      <td>NaN</td>\n      <td>NTC050NB1FA1B00</td>\n    </tr>\n    <tr>\n      <th>331</th>\n      <td>5</td>\n      <td>DVC - I/P ASSY/SHROUD</td>\n      <td>DVC - I/P ASSY/SHROUD</td>\n      <td>Fisher</td>\n      <td>38B6041X152</td>\n      <td>EMERSON PROCESS MANAGEMENT DEL PERU SAC</td>\n      <td>38B6041X152</td>\n      <td>PZ</td>\n      <td>N</td>\n      <td>NaN</td>\n      <td>...</td>\n      <td>0</td>\n      <td>NaN</td>\n      <td>NaN</td>\n      <td>NaN</td>\n      <td>NaN</td>\n      <td>NaN</td>\n      <td>NaN</td>\n      <td>NaN</td>\n      <td>NaN</td>\n      <td>NTC050NB1FA1B00</td>\n    </tr>\n    <tr>\n      <th>332</th>\n      <td>6</td>\n      <td>DVC - KIT,ELASTOMER</td>\n      <td>DVC - KIT,ELASTOMER</td>\n      <td>Fisher</td>\n      <td>19B5402X012</td>\n      <td>EMERSON PROCESS MANAGEMENT DEL PERU SAC</td>\n      <td>19B5402X012</td>\n      <td>PZ</td>\n      <td>N</td>\n      <td>NaN</td>\n      <td>...</td>\n      <td>0</td>\n      <td>NaN</td>\n      <td>NaN</td>\n      <td>NaN</td>\n      <td>NaN</td>\n      <td>NaN</td>\n      <td>NaN</td>\n      <td>NaN</td>\n      <td>NaN</td>\n      <td>NTC050NB1FA1B00</td>\n    </tr>\n    <tr>\n      <th>333</th>\n      <td>7</td>\n      <td>DVC  KIT,MISC SMALL HDWRE</td>\n      <td>DVC  KIT,MISC SMALL HDWRE</td>\n      <td>Fisher</td>\n      <td>19B5403X012</td>\n      <td>EMERSON PROCESS MANAGEMENT DEL PERU SAC</td>\n      <td>19B5403X012</td>\n      <td>PZ</td>\n      <td>N</td>\n      <td>NaN</td>\n      <td>...</td>\n      <td>0</td>\n      <td>NaN</td>\n      <td>NaN</td>\n      <td>NaN</td>\n      <td>NaN</td>\n      <td>NaN</td>\n      <td>NaN</td>\n      <td>NaN</td>\n      <td>NaN</td>\n      <td>NTC050NB1FA1B00</td>\n    </tr>\n    <tr>\n      <th>334</th>\n      <td>8</td>\n      <td>DVC - RELAY ASSEMBLY</td>\n      <td>DVC - RELAY ASSEMBLY</td>\n      <td>Fisher</td>\n      <td>38B5786X132</td>\n      <td>EMERSON PROCESS MANAGEMENT DEL PERU SAC</td>\n      <td>38B5786X132</td>\n      <td>PZ</td>\n      <td>N</td>\n      <td>NaN</td>\n      <td>...</td>\n      <td>0</td>\n      <td>NaN</td>\n      <td>NaN</td>\n      <td>NaN</td>\n      <td>NaN</td>\n      <td>NaN</td>\n      <td>NaN</td>\n      <td>NaN</td>\n      <td>NaN</td>\n      <td>NTC050NB1FA1B00</td>\n    </tr>\n  </tbody>\n</table>\n<p>5 rows × 31 columns</p>\n</div>"
     },
     "metadata": {},
     "execution_count": 16
    }
   ],
   "source": [
    "compSpareParts.tail()"
   ]
  },
  {
   "cell_type": "code",
   "execution_count": 13,
   "metadata": {},
   "outputs": [],
   "source": [
    "compSpareParts.to_csv(r'C:\\Users\\johan\\OneDrive\\Marcobre\\1.0 PROJECTS\\05. Catalogacion de Valvulas\\Válvulas Emerson\\111B - Spare Parts\\comp-111B.csv', encoding = 'utf-8')"
   ]
  },
  {
   "cell_type": "code",
   "execution_count": 14,
   "metadata": {},
   "outputs": [],
   "source": [
    "compSpareParts.to_excel(r'C:\\Users\\johan\\OneDrive\\Marcobre\\1.0 PROJECTS\\05. Catalogacion de Valvulas\\Válvulas Emerson\\111B - Spare Parts\\comp-111B.xlsx')"
   ]
  },
  {
   "cell_type": "code",
   "execution_count": null,
   "metadata": {},
   "outputs": [],
   "source": []
  }
 ]
}