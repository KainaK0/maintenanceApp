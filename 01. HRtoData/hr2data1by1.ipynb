{
 "cells": [
  {
   "cell_type": "code",
   "execution_count": 1,
   "metadata": {},
   "outputs": [],
   "source": [
    "import pandas as pd\n",
    "import numpy as np\n",
    "import os"
   ]
  },
  {
   "cell_type": "code",
   "execution_count": 2,
   "metadata": {},
   "outputs": [],
   "source": [
    "filefolder = r'C:\\Users\\johan\\OneDrive\\Marcobre\\1.0 PROJECTS\\01. Crear budget de mantenimiento\\hr2csv'\n",
    "filename = r'5._Carga de hoja de ruta - GRUPO 12 (03.11) UBTC.xlsx'\n",
    "mergeHRname = r'HR\\csv\\mergeHR.csv'\n",
    "a = r'HR'\n",
    "EQ2GHRname = r'Hoja Resumen- CARGA A SAP.xlsx'"
   ]
  },
  {
   "cell_type": "code",
   "execution_count": 3,
   "metadata": {},
   "outputs": [],
   "source": [
    "HRrute = os.path.join(filefolder,a,filename)\n",
    "mergeHRrute = os.path.join(filefolder,mergeHRname)\n",
    "EQ2GHRrute = os.path.join(filefolder,EQ2GHRname)"
   ]
  },
  {
   "cell_type": "code",
   "execution_count": 484,
   "metadata": {},
   "outputs": [],
   "source": [
    "flag = 0\n",
    "grupo1 = 12\n",
    "grupo2 = 12"
   ]
  },
  {
   "cell_type": "code",
   "execution_count": 485,
   "metadata": {},
   "outputs": [],
   "source": [
    "#db1 = pd.read_excel(HRrute,sheet_name=flag, skiprows = 6, header = None)\n",
    "db = pd.read_csv(r'C:\\Users\\johan\\OneDrive\\Marcobre\\1.0 PROJECTS\\01. Crear budget de mantenimiento\\hr2csv\\allHRdata.csv')\n",
    "eq2ghr = pd.read_excel(EQ2GHRrute,sheet_name=0, header=0)"
   ]
  },
  {
   "cell_type": "code",
   "execution_count": 486,
   "metadata": {},
   "outputs": [],
   "source": [
    "eq2ghr.drop(columns=['OBSERVACIONES','PLAN DE MANTENIMIENTO','HOJA DE RUTA TIPO EQUIPO','HOJA DE RUTA INSTRUCCIÓN'],inplace=True)"
   ]
  },
  {
   "cell_type": "code",
   "execution_count": 487,
   "metadata": {},
   "outputs": [],
   "source": [
    "eq2ghr.columns = ['TAG','DescripcionEquipo','GrupoTS','GrupoHR','EqSAP','PuntoMedida']\n",
    "#eq2ghr = eq2ghr.loc[(eq2ghr.loc[:,'GrupoTS']== grupo1) | (eq2ghr.loc[:,'GrupoTS']== grupo2),:]\n",
    "#eq2ghr.loc[(eq2ghr.loc[:,'EqSAP']== 'UBT','EqSAP')] = 0\n",
    "#eq2ghr.loc[:,'EqSAP'] = eq2ghr.loc[:,'EqSAP'].astype(float)"
   ]
  },
  {
   "cell_type": "code",
   "execution_count": 488,
   "metadata": {},
   "outputs": [],
   "source": [
    "db.columns = db.columns.astype(int)"
   ]
  },
  {
   "cell_type": "code",
   "execution_count": 489,
   "metadata": {
    "tags": []
   },
   "outputs": [],
   "source": [
    "# Hojas de ruta\n",
    "HR = db.loc[db.iloc[:,0] == 1,:]\n",
    "HR.drop(labels=[11,12,13,14,15,16,17], axis = 1, inplace = True)\n",
    "HRcolumnsname = [0,'GrupoHREQ','Contador','HRDescripcion','HRPuesto','Centro','Utilizacion','GPlanificacion', 'EstadoGlobal','EstadoInstalacion','Estrategia']\n",
    "HR.columns = HRcolumnsname\n",
    "HR.loc[:,'HRContador'] = HR['GrupoHREQ'].astype(str) + HR['Contador']\n",
    "# Add maintenance estrategy of each actiivitie, and type of equipment\n",
    "HR.loc[:,'EstrategiaMTTO'] = HR.loc[:,'HRDescripcion'].str.split('_',expand = True)[0] \n",
    "HR.loc[:,'ClaseEq'] = HR.loc[:,'HRDescripcion'].str.split('_',expand = True)[2]"
   ]
  },
  {
   "cell_type": "code",
   "execution_count": 493,
   "metadata": {},
   "outputs": [],
   "source": [
    "EQlist = HR.drop_duplicates(subset = ['GrupoHREQ'])\n",
    "#EQlist.drop(labels = [0,2,3,4,5,6,7,8,9,10], axis=1, inplace= True)\n",
    "EQlist.reset_index(drop= True,inplace=True)"
   ]
  },
  {
   "cell_type": "code",
   "execution_count": 494,
   "metadata": {},
   "outputs": [],
   "source": [
    "# Posiciones de las Hojas de Ruta\n",
    "PHR = db.loc[db.iloc[:,0] == 2,:]\n",
    "PHR.drop(columns = [10,11,12,13,14,15,16,17],inplace = True)\n",
    "PHRcolumnsname = [0,'GrupoHREQ','pos','Puesto','ClaseOT','Actividades','HH','H','ACant','AHoras']\n",
    "PHR.columns = PHRcolumnsname"
   ]
  },
  {
   "cell_type": "code",
   "execution_count": 495,
   "metadata": {},
   "outputs": [],
   "source": [
    "# Actividad detallada de laPosiciones de las Hojas de Ruta\n",
    "AHR = db.loc[db.iloc[:,0] == 3,:]"
   ]
  },
  {
   "cell_type": "code",
   "execution_count": 496,
   "metadata": {
    "tags": []
   },
   "outputs": [
    {
     "output_type": "stream",
     "name": "stdout",
     "text": [
      "Wall time: 27min 32s\n"
     ]
    }
   ],
   "source": [
    "%%time\n",
    "# Conectar Posiciones de HR con la HR a traves de HRContador del HR al PHR\n",
    "nm1=0\n",
    "#HR.tail(1).index.values[0] = last index of HR dataframe\n",
    "for m in PHR.index:\n",
    "    for n in HR.index:\n",
    "        if nm1<=m and m<=n:\n",
    "            PHR.loc[m,'HRContador'] = HR.loc[nm1,'HRContador']\n",
    "            break\n",
    "        elif m>=HR.tail(1).index.values[0]:\n",
    "            PHR.loc[m,'HRContador'] = HR.loc[HR.tail(1).index.values[0],'HRContador']\n",
    "            break\n",
    "        nm1 = n\n",
    "PHR.loc[:,'posHRContador'] = PHR.loc[:,'HRContador'] + PHR.loc[:,'pos'].astype(str)"
   ]
  },
  {
   "cell_type": "code",
   "execution_count": 497,
   "metadata": {},
   "outputs": [],
   "source": [
    "# Materiales de Hojas de Ruta\n",
    "MHR = db.loc[db.iloc[:,0] == 4,:]\n",
    "MHR = MHR.drop(columns = [4,5,6,7,8,9,10,11,12,13,14,15,16,17])\n",
    "MHRcolumnsname = [0,'GrupoHREQ','Material','MCantidad']\n",
    "MHR.columns = MHRcolumnsname"
   ]
  },
  {
   "cell_type": "code",
   "execution_count": 499,
   "metadata": {},
   "outputs": [
    {
     "output_type": "stream",
     "name": "stdout",
     "text": [
      "Wall time: 8min 57s\n"
     ]
    }
   ],
   "source": [
    "%%time\n",
    "# Conectar Posiciones de HR con la HR a traves de posHRContador del PHR al MHR\n",
    "nm1=0\n",
    "#HR.tail(1).index.values[0] = last index of HR dataframe\n",
    "for m in MHR.index:\n",
    "    for n in PHR.index:\n",
    "        if nm1<=m and m<=n:\n",
    "            MHR.loc[m,'posHRContador'] = PHR.loc[nm1,'posHRContador']\n",
    "            MHR.loc[m,'HRContador'] = PHR.loc[nm1,'HRContador']\n",
    "            break\n",
    "        elif m>=PHR.tail(1).index.values[0]:\n",
    "            MHR.loc[m,'posHRContador'] = PHR.loc[PHR.tail(1).index.values[0],'posHRContador']\n",
    "            MHR.loc[m,'HRContador'] = PHR.loc[PHR.tail(1).index.values[0],'HRContador']\n",
    "            break\n",
    "        nm1 = n\n",
    "#PHR.loc[:,'posHRContador'] = PHR.loc[:,'HRContador'] + PHR.loc[:,'pos'].astype(str)"
   ]
  },
  {
   "cell_type": "code",
   "execution_count": 500,
   "metadata": {},
   "outputs": [],
   "source": [
    "# Materiales de Estrategia de Ruta\n",
    "EPHR = db.loc[db.iloc[:,0] == 5,:]\n",
    "EPHR.drop(columns = [3,4,5,6,7,8,9,10,11,12,13,14,15,16,17],inplace = True)\n",
    "EPHR.columns = [0,'GrupoHREQ','Frecuencia']"
   ]
  },
  {
   "cell_type": "code",
   "execution_count": 501,
   "metadata": {},
   "outputs": [
    {
     "output_type": "stream",
     "name": "stdout",
     "text": [
      "Wall time: 48min 45s\n"
     ]
    }
   ],
   "source": [
    "%%time\n",
    "# Conectar Estrategias de HR con la posicion de la HR\n",
    "nm1=0\n",
    "#HR.tail(1).index.values[0] = last index of HR dataframe\n",
    "for m in EPHR.index:\n",
    "    for n in PHR.index:\n",
    "        if nm1<=m and m<=n:\n",
    "            EPHR.loc[m,'posHRContador'] = PHR.loc[nm1,'posHRContador']\n",
    "            #EPHR.loc[m,'HRContador'] = PHR.loc[nm1,'HRContador']\n",
    "            break\n",
    "        elif m>=PHR.tail(1).index.values[0]:\n",
    "            EPHR.loc[m,'posHRContador'] = PHR.loc[PHR.tail(1).index.values[0],'posHRContador']\n",
    "            #EPHR.loc[m,'HRContador'] = PHR.loc[HR.tail(1).index.values[0],'HRContador']\n",
    "            break\n",
    "        nm1 = n\n",
    "#PHR.loc[:,'posHRContador'] = PHR.loc[:,'HRContador'] + PHR.loc[:,'pos'].astype(str)"
   ]
  },
  {
   "source": [
    "PHRE = pd.merge(PHR.loc[:,['pos','Actividades','Puesto','ClaseOT','ACant','AHoras','HRContador','posHRContador']],EPHR.loc[:,['Frecuencia','posHRContador']],on = 'posHRContador',how = 'left')"
   ],
   "cell_type": "code",
   "metadata": {},
   "execution_count": 502,
   "outputs": []
  },
  {
   "cell_type": "code",
   "execution_count": 503,
   "metadata": {},
   "outputs": [],
   "source": [
    "posHRwithMHR = pd.merge(PHRE.loc[:,['pos','Actividades','Puesto','ClaseOT','ACant','AHoras','HRContador','posHRContador','Frecuencia']],MHR.loc[:,['posHRContador','Material','MCantidad']],on='posHRContador',how='left')"
   ]
  },
  {
   "cell_type": "code",
   "execution_count": 504,
   "metadata": {},
   "outputs": [],
   "source": [
    "allDutiesMat = pd.merge(HR.loc[:,['GrupoHREQ','Contador','HRPuesto','EstrategiaMTTO','HRDescripcion','HRContador','Estrategia']],posHRwithMHR,on='HRContador',how='left')"
   ]
  },
  {
   "cell_type": "code",
   "execution_count": null,
   "metadata": {},
   "outputs": [],
   "source": [
    "#allDutiesMat = pd.merge(HR.loc[:,['GrupoHREQ','Contador','HRPuesto','EstrategiaMTTO','HRDescripcion','HRContador','Estrategia']],PHRE.loc[:,['pos','Actividades','Puesto','ClaseOT','ACant','AHoras','HRContador','posHRContador','Frecuencia']],on='HRContador',how='left')"
   ]
  },
  {
   "cell_type": "code",
   "execution_count": null,
   "metadata": {},
   "outputs": [],
   "source": [
    "#allDutiesMat.to_csv(mergeHRrute, encoding = 'utf-8-sig')"
   ]
  },
  {
   "cell_type": "code",
   "execution_count": 505,
   "metadata": {},
   "outputs": [],
   "source": [
    "#if flag == 1:    \n",
    "#    PruebaEQ = pd.merge(eq2ghr.loc[:,['TAG', 'DescripcionEquipo', 'GrupoTS', 'GrupoHR', 'EqSAP', #'PuntoMedida']],allDutiesMat,left_on='EqSAP',right_on='GrupoHREQ',how='right')\n",
    "#    PruebaEQ.to_csv(mergeHRrute, encoding = 'utf-8-sig')"
   ]
  },
  {
   "cell_type": "code",
   "execution_count": 506,
   "metadata": {},
   "outputs": [],
   "source": [
    "#if flag == 0:    \n",
    "#    PruebaINS = pd.merge(eq2ghr.loc[:,['TAG', 'DescripcionEquipo', 'GrupoTS', 'GrupoHR', 'EqSAP', #'PuntoMedida']],allDutiesMat,left_on='GrupoHR',right_on='GrupoHREQ',how='right')\n",
    "#    PruebaINS.to_csv(mergeHRrute, encoding = 'utf-8-sig')"
   ]
  },
  {
   "cell_type": "code",
   "execution_count": 527,
   "metadata": {},
   "outputs": [
    {
     "output_type": "execute_result",
     "data": {
      "text/plain": [
       "array(['COND', 'INSP', 'PREV', 'LUBR', 'PRED', nan], dtype=object)"
      ]
     },
     "metadata": {},
     "execution_count": 527
    }
   ],
   "source": [
    "allDutiesMat.loc[:,'EstrategiaMTTO'].unique()"
   ]
  },
  {
   "cell_type": "code",
   "execution_count": 525,
   "metadata": {},
   "outputs": [
    {
     "output_type": "execute_result",
     "data": {
      "text/plain": [
       "Empty DataFrame\n",
       "Columns: [GrupoHREQ, Contador, HRPuesto, EstrategiaMTTO, HRDescripcion, HRContador, Estrategia, pos, Actividades, Puesto, ClaseOT, ACant, AHoras, posHRContador, Frecuencia, Material, MCantidad]\n",
       "Index: []"
      ],
      "text/html": "<div>\n<style scoped>\n    .dataframe tbody tr th:only-of-type {\n        vertical-align: middle;\n    }\n\n    .dataframe tbody tr th {\n        vertical-align: top;\n    }\n\n    .dataframe thead th {\n        text-align: right;\n    }\n</style>\n<table border=\"1\" class=\"dataframe\">\n  <thead>\n    <tr style=\"text-align: right;\">\n      <th></th>\n      <th>GrupoHREQ</th>\n      <th>Contador</th>\n      <th>HRPuesto</th>\n      <th>EstrategiaMTTO</th>\n      <th>HRDescripcion</th>\n      <th>HRContador</th>\n      <th>Estrategia</th>\n      <th>pos</th>\n      <th>Actividades</th>\n      <th>Puesto</th>\n      <th>ClaseOT</th>\n      <th>ACant</th>\n      <th>AHoras</th>\n      <th>posHRContador</th>\n      <th>Frecuencia</th>\n      <th>Material</th>\n      <th>MCantidad</th>\n    </tr>\n  </thead>\n  <tbody>\n  </tbody>\n</table>\n</div>"
     },
     "metadata": {},
     "execution_count": 525
    }
   ],
   "source": [
    "allDutiesMat.loc[allDutiesMat.loc[:,'EstrategiaMTTO'] == allDutiesMat.loc[:,'EstrategiaMTTO'].unique()[5] ,:]"
   ]
  },
  {
   "cell_type": "code",
   "execution_count": null,
   "metadata": {},
   "outputs": [],
   "source": [
    "\n",
    "PruebaEQ = pd.merge(eq2ghr.loc[:,['TAG', 'DescripcionEquipo', 'GrupoTS', 'GrupoHR', 'EqSAP', 'PuntoMedida']],allDutiesMat,left_on='EqSAP',right_on='GrupoHREQ',how='right')"
   ]
  },
  {
   "cell_type": "code",
   "execution_count": null,
   "metadata": {},
   "outputs": [],
   "source": [
    "PruebaINS = pd.merge(eq2ghr.loc[:,['TAG', 'DescripcionEquipo', 'GrupoTS', 'GrupoHR', 'EqSAP', 'PuntoMedida']],allDutiesMat,left_on='GrupoHR',right_on='GrupoHREQ',how='right')"
   ]
  }
 ],
 "metadata": {
  "kernelspec": {
   "name": "python3",
   "display_name": "Python 3.8.6 64-bit",
   "metadata": {
    "interpreter": {
     "hash": "1baa965d5efe3ac65b79dfc60c0d706280b1da80fedb7760faf2759126c4f253"
    }
   }
  },
  "language_info": {
   "codemirror_mode": {
    "name": "ipython",
    "version": 3
   },
   "file_extension": ".py",
   "mimetype": "text/x-python",
   "name": "python",
   "nbconvert_exporter": "python",
   "pygments_lexer": "ipython3",
   "version": "3.8.6-final"
  }
 },
 "nbformat": 4,
 "nbformat_minor": 4
}