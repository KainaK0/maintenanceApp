{
 "cells": [
  {
   "cell_type": "code",
   "execution_count": 46,
   "metadata": {},
   "outputs": [],
   "source": [
    "import pandas as pd\n",
    "import os\n",
    "from datetime import date,time,datetime"
   ]
  },
  {
   "cell_type": "code",
   "execution_count": 41,
   "metadata": {},
   "outputs": [],
   "source": [
    "rute = r'C:\\Users\\johan\\OneDrive\\Marcobre\\1.0 PROJECTS\\01. Crear budget de mantenimiento\\hr2csv'\n",
    "ip10name = r'Frecuencias de MTTO.xlsx'\n",
    "mergeHRname = r'HR\\csv\\Loading 03.10.20V2\\GR1_12.xlsx'"
   ]
  },
  {
   "cell_type": "code",
   "execution_count": 42,
   "metadata": {},
   "outputs": [],
   "source": [
    "ip10rute = os.path.join(rute,ip10name)\n",
    "mergeHRrute = os.path.join(rute, mergeHRname)"
   ]
  },
  {
   "cell_type": "code",
   "execution_count": 43,
   "metadata": {},
   "outputs": [],
   "source": [
    "ip10 = pd.read_excel(ip10rute, sheet_name = 'IP10', header = 0)\n",
    "mergeHR = pd.read_excel(mergeHRrute, sheet_name = 'mergeHR', header = 0)\n",
    "mergeHR.drop(columns=['Oxidos','Nada1','Nada2','Nada3','Nada4','Nada5','Nada6','Nada7','Nada8','Nada9','Nada10','Nada11','Nada12'],inplace = True)"
   ]
  },
  {
   "cell_type": "code",
   "execution_count": 44,
   "metadata": {},
   "outputs": [
    {
     "output_type": "execute_result",
     "data": {
      "text/plain": [
       "  Estrategia ClaveFrecuencia  Item  Frecuencia Unidad Descripcion Frecuencias  \\\n",
       "0     HOR002              H1     1          50      H                50 Horas   \n",
       "1     HOR003              H2     2         165      H               165 Horas   \n",
       "2     HOR004              H3     3         330      H               330 Horas   \n",
       "3     HOR005              H4     4         660      H               660 Horas   \n",
       "4     HOR006              H5     5         750      H               750 Horas   \n",
       "\n",
       "   Secuencia  Jerarquia  \n",
       "0          1          1  \n",
       "1          2          2  \n",
       "2          3          3  \n",
       "3          4          4  \n",
       "4          5          5  "
      ],
      "text/html": "<div>\n<style scoped>\n    .dataframe tbody tr th:only-of-type {\n        vertical-align: middle;\n    }\n\n    .dataframe tbody tr th {\n        vertical-align: top;\n    }\n\n    .dataframe thead th {\n        text-align: right;\n    }\n</style>\n<table border=\"1\" class=\"dataframe\">\n  <thead>\n    <tr style=\"text-align: right;\">\n      <th></th>\n      <th>Estrategia</th>\n      <th>ClaveFrecuencia</th>\n      <th>Item</th>\n      <th>Frecuencia</th>\n      <th>Unidad</th>\n      <th>Descripcion Frecuencias</th>\n      <th>Secuencia</th>\n      <th>Jerarquia</th>\n    </tr>\n  </thead>\n  <tbody>\n    <tr>\n      <th>0</th>\n      <td>HOR002</td>\n      <td>H1</td>\n      <td>1</td>\n      <td>50</td>\n      <td>H</td>\n      <td>50 Horas</td>\n      <td>1</td>\n      <td>1</td>\n    </tr>\n    <tr>\n      <th>1</th>\n      <td>HOR003</td>\n      <td>H2</td>\n      <td>2</td>\n      <td>165</td>\n      <td>H</td>\n      <td>165 Horas</td>\n      <td>2</td>\n      <td>2</td>\n    </tr>\n    <tr>\n      <th>2</th>\n      <td>HOR004</td>\n      <td>H3</td>\n      <td>3</td>\n      <td>330</td>\n      <td>H</td>\n      <td>330 Horas</td>\n      <td>3</td>\n      <td>3</td>\n    </tr>\n    <tr>\n      <th>3</th>\n      <td>HOR005</td>\n      <td>H4</td>\n      <td>4</td>\n      <td>660</td>\n      <td>H</td>\n      <td>660 Horas</td>\n      <td>4</td>\n      <td>4</td>\n    </tr>\n    <tr>\n      <th>4</th>\n      <td>HOR006</td>\n      <td>H5</td>\n      <td>5</td>\n      <td>750</td>\n      <td>H</td>\n      <td>750 Horas</td>\n      <td>5</td>\n      <td>5</td>\n    </tr>\n  </tbody>\n</table>\n</div>"
     },
     "metadata": {},
     "execution_count": 44
    }
   ],
   "source": [
    "ip10.head()"
   ]
  },
  {
   "cell_type": "code",
   "execution_count": 45,
   "metadata": {},
   "outputs": [
    {
     "output_type": "execute_result",
     "data": {
      "text/plain": [
       "   Item          TAG                        DescripcionEquipo  GrupoTS  \\\n",
       "0     0  5552-PU-518  BOMBA CENT GOULDS IC42 SIZE 150-125-315      1.0   \n",
       "1     1  5552-PU-518  BOMBA CENT GOULDS IC42 SIZE 150-125-315      1.0   \n",
       "2     2  5552-PU-518  BOMBA CENT GOULDS IC42 SIZE 150-125-315      1.0   \n",
       "3     3  5552-PU-518  BOMBA CENT GOULDS IC42 SIZE 150-125-315      1.0   \n",
       "4     4  5552-PU-518  BOMBA CENT GOULDS IC42 SIZE 150-125-315      1.0   \n",
       "\n",
       "   GrupoHR     EqSAP PuntoMedida GrupoHREQ Contador HRPuesto  ... pos  \\\n",
       "0  MBOM001  10016566       13402  10016566       X1  TEC-MEC  ...  10   \n",
       "1  MBOM001  10016566       13402  10016566       X1  TEC-MEC  ...  10   \n",
       "2  MBOM001  10016566       13402  10016566       X1  TEC-MEC  ...  10   \n",
       "3  MBOM001  10016566       13402  10016566       X2  TEC-MEC  ...  10   \n",
       "4  MBOM001  10016566       13402  10016566       X2  TEC-MEC  ...  10   \n",
       "\n",
       "                              Actividades   Puesto ClaseOT  ACant AHoras  \\\n",
       "0          Cambio de rodamientos de bomba  TEC-MEC    PM01      2    5.0   \n",
       "1          Cambio de rodamientos de bomba  TEC-MEC    PM01      2    5.0   \n",
       "2          Cambio de rodamientos de bomba  TEC-MEC    PM01      2    5.0   \n",
       "3  Mantenimiento de eje de impulsor bomba  TEC-MEC    PM01      2    4.0   \n",
       "4  Mantenimiento de eje de impulsor bomba  TEC-MEC    PM01      2    4.0   \n",
       "\n",
       "  posHRContador Frecuencia   Material  MCantidad  \n",
       "0  10016566X110        NaN  3045853.0        1.0  \n",
       "1  10016566X110        NaN  3045849.0        1.0  \n",
       "2  10016566X110        NaN  3045850.0        1.0  \n",
       "3  10016566X210        NaN  3045855.0        1.0  \n",
       "4  10016566X210        NaN  3045858.0        1.0  \n",
       "\n",
       "[5 rows x 24 columns]"
      ],
      "text/html": "<div>\n<style scoped>\n    .dataframe tbody tr th:only-of-type {\n        vertical-align: middle;\n    }\n\n    .dataframe tbody tr th {\n        vertical-align: top;\n    }\n\n    .dataframe thead th {\n        text-align: right;\n    }\n</style>\n<table border=\"1\" class=\"dataframe\">\n  <thead>\n    <tr style=\"text-align: right;\">\n      <th></th>\n      <th>Item</th>\n      <th>TAG</th>\n      <th>DescripcionEquipo</th>\n      <th>GrupoTS</th>\n      <th>GrupoHR</th>\n      <th>EqSAP</th>\n      <th>PuntoMedida</th>\n      <th>GrupoHREQ</th>\n      <th>Contador</th>\n      <th>HRPuesto</th>\n      <th>...</th>\n      <th>pos</th>\n      <th>Actividades</th>\n      <th>Puesto</th>\n      <th>ClaseOT</th>\n      <th>ACant</th>\n      <th>AHoras</th>\n      <th>posHRContador</th>\n      <th>Frecuencia</th>\n      <th>Material</th>\n      <th>MCantidad</th>\n    </tr>\n  </thead>\n  <tbody>\n    <tr>\n      <th>0</th>\n      <td>0</td>\n      <td>5552-PU-518</td>\n      <td>BOMBA CENT GOULDS IC42 SIZE 150-125-315</td>\n      <td>1.0</td>\n      <td>MBOM001</td>\n      <td>10016566</td>\n      <td>13402</td>\n      <td>10016566</td>\n      <td>X1</td>\n      <td>TEC-MEC</td>\n      <td>...</td>\n      <td>10</td>\n      <td>Cambio de rodamientos de bomba</td>\n      <td>TEC-MEC</td>\n      <td>PM01</td>\n      <td>2</td>\n      <td>5.0</td>\n      <td>10016566X110</td>\n      <td>NaN</td>\n      <td>3045853.0</td>\n      <td>1.0</td>\n    </tr>\n    <tr>\n      <th>1</th>\n      <td>1</td>\n      <td>5552-PU-518</td>\n      <td>BOMBA CENT GOULDS IC42 SIZE 150-125-315</td>\n      <td>1.0</td>\n      <td>MBOM001</td>\n      <td>10016566</td>\n      <td>13402</td>\n      <td>10016566</td>\n      <td>X1</td>\n      <td>TEC-MEC</td>\n      <td>...</td>\n      <td>10</td>\n      <td>Cambio de rodamientos de bomba</td>\n      <td>TEC-MEC</td>\n      <td>PM01</td>\n      <td>2</td>\n      <td>5.0</td>\n      <td>10016566X110</td>\n      <td>NaN</td>\n      <td>3045849.0</td>\n      <td>1.0</td>\n    </tr>\n    <tr>\n      <th>2</th>\n      <td>2</td>\n      <td>5552-PU-518</td>\n      <td>BOMBA CENT GOULDS IC42 SIZE 150-125-315</td>\n      <td>1.0</td>\n      <td>MBOM001</td>\n      <td>10016566</td>\n      <td>13402</td>\n      <td>10016566</td>\n      <td>X1</td>\n      <td>TEC-MEC</td>\n      <td>...</td>\n      <td>10</td>\n      <td>Cambio de rodamientos de bomba</td>\n      <td>TEC-MEC</td>\n      <td>PM01</td>\n      <td>2</td>\n      <td>5.0</td>\n      <td>10016566X110</td>\n      <td>NaN</td>\n      <td>3045850.0</td>\n      <td>1.0</td>\n    </tr>\n    <tr>\n      <th>3</th>\n      <td>3</td>\n      <td>5552-PU-518</td>\n      <td>BOMBA CENT GOULDS IC42 SIZE 150-125-315</td>\n      <td>1.0</td>\n      <td>MBOM001</td>\n      <td>10016566</td>\n      <td>13402</td>\n      <td>10016566</td>\n      <td>X2</td>\n      <td>TEC-MEC</td>\n      <td>...</td>\n      <td>10</td>\n      <td>Mantenimiento de eje de impulsor bomba</td>\n      <td>TEC-MEC</td>\n      <td>PM01</td>\n      <td>2</td>\n      <td>4.0</td>\n      <td>10016566X210</td>\n      <td>NaN</td>\n      <td>3045855.0</td>\n      <td>1.0</td>\n    </tr>\n    <tr>\n      <th>4</th>\n      <td>4</td>\n      <td>5552-PU-518</td>\n      <td>BOMBA CENT GOULDS IC42 SIZE 150-125-315</td>\n      <td>1.0</td>\n      <td>MBOM001</td>\n      <td>10016566</td>\n      <td>13402</td>\n      <td>10016566</td>\n      <td>X2</td>\n      <td>TEC-MEC</td>\n      <td>...</td>\n      <td>10</td>\n      <td>Mantenimiento de eje de impulsor bomba</td>\n      <td>TEC-MEC</td>\n      <td>PM01</td>\n      <td>2</td>\n      <td>4.0</td>\n      <td>10016566X210</td>\n      <td>NaN</td>\n      <td>3045858.0</td>\n      <td>1.0</td>\n    </tr>\n  </tbody>\n</table>\n<p>5 rows × 24 columns</p>\n</div>"
     },
     "metadata": {},
     "execution_count": 45
    }
   ],
   "source": [
    "mergeHR.head()"
   ]
  },
  {
   "cell_type": "code",
   "execution_count": 58,
   "metadata": {},
   "outputs": [],
   "source": [
    "FechaInicio = '01-01-2020'\n",
    "FechaFin = '31-12-2021'"
   ]
  },
  {
   "cell_type": "code",
   "execution_count": 62,
   "metadata": {},
   "outputs": [
    {
     "output_type": "execute_result",
     "data": {
      "text/plain": [
       "datetime.date(2021, 12, 31)"
      ]
     },
     "metadata": {},
     "execution_count": 62
    }
   ],
   "source": [
    "datetime.strptime(FechaFin,r'%d-%m-%Y').date()"
   ]
  },
  {
   "cell_type": "code",
   "execution_count": 73,
   "metadata": {},
   "outputs": [],
   "source": [
    "filerute = r'C:\\Users\\johan\\OneDrive\\Marcobre\\1.0 PROJECTS\\01. Crear budget de mantenimiento\\hr2csv\\HR'"
   ]
  },
  {
   "cell_type": "code",
   "execution_count": 74,
   "metadata": {},
   "outputs": [],
   "source": [
    "listHRfiles = os.listdir(filerute)"
   ]
  },
  {
   "cell_type": "code",
   "execution_count": 87,
   "metadata": {},
   "outputs": [],
   "source": [
    "HRfiles = [a for a in listHRfiles if a.find('xlsx')>1]"
   ]
  },
  {
   "cell_type": "code",
   "execution_count": 132,
   "metadata": {},
   "outputs": [
    {
     "output_type": "stream",
     "name": "stdout",
     "text": [
      "0 - 0 - (428, 18) - (428, 18)5._Carga de hoja de ruta - GRUPO 10 (31.10 - PARTE2) V2.xlsx\n",
      "0 - 1 - (1483, 18) - (1911, 18)5._Carga de hoja de ruta - GRUPO 10 (31.10 - PARTE2) V2.xlsx\n",
      "1 - 0 - (1139, 18) - (3050, 18)5._Carga de hoja de ruta - GRUPO 11 EQ CON CAL (02.11) V2.xlsx\n",
      "1 - 1 - (590, 18) - (3640, 18)5._Carga de hoja de ruta - GRUPO 11 EQ CON CAL (02.11) V2.xlsx\n",
      "2 - 0 - (6008, 18) - (9648, 18)5._Carga de hoja de ruta - GRUPO 11 EQ CON PTO MEDIDA (02.11) V2.xlsx\n",
      "2 - 1 - (2531, 18) - (12179, 18)5._Carga de hoja de ruta - GRUPO 11 EQ CON PTO MEDIDA (02.11) V2.xlsx\n",
      "3 - 0 - (1953, 18) - (14132, 18)5._Carga de hoja de ruta - GRUPO 11 EQ CON UBTC (02.11) V2.xlsx\n",
      "3 - 1 - (642, 18) - (14774, 18)5._Carga de hoja de ruta - GRUPO 11 EQ CON UBTC (02.11) V2.xlsx\n",
      "4 - 0 - (421, 18) - (15195, 18)5._Carga de hoja de ruta - GRUPO 12 (03.11) EQ CON CAL.xlsx\n",
      "4 - 1 - (278, 18) - (15473, 18)5._Carga de hoja de ruta - GRUPO 12 (03.11) EQ CON CAL.xlsx\n",
      "5 - 0 - (2610, 18) - (18083, 18)5._Carga de hoja de ruta - GRUPO 12 (03.11) EQ CON PTO MEDIDA.xlsx\n",
      "5 - 1 - (1021, 18) - (19104, 18)5._Carga de hoja de ruta - GRUPO 12 (03.11) EQ CON PTO MEDIDA.xlsx\n",
      "6 - 0 - (4422, 18) - (23526, 18)5._Carga de hoja de ruta - GRUPO 12 (03.11) UBTC.xlsx\n",
      "6 - 1 - (2333, 18) - (25859, 18)5._Carga de hoja de ruta - GRUPO 12 (03.11) UBTC.xlsx\n",
      "7 - 0 - (9867, 18) - (35726, 18)5._Carga de hoja de ruta - GRUPO 5 Y 6 V2.xlsx\n",
      "7 - 1 - (3908, 18) - (39634, 18)5._Carga de hoja de ruta - GRUPO 5 Y 6 V2.xlsx\n",
      "8 - 0 - (5383, 18) - (45017, 18)5._Carga de hoja de ruta - GRUPO 7 (28.10) V2.xlsx\n",
      "8 - 1 - (3558, 18) - (48575, 18)5._Carga de hoja de ruta - GRUPO 7 (28.10) V2.xlsx\n",
      "9 - 0 - (6517, 18) - (55092, 18)5._Carga de hoja de ruta - GRUPO 8 (30.10) V2.xlsx\n",
      "9 - 1 - (3541, 18) - (58633, 18)5._Carga de hoja de ruta - GRUPO 8 (30.10) V2.xlsx\n",
      "10 - 0 - (5552, 18) - (64185, 18)5._Carga de hoja de ruta - GRUPO 9 (31.10) V2.xlsx\n",
      "10 - 1 - (2710, 18) - (66895, 18)5._Carga de hoja de ruta - GRUPO 9 (31.10) V2.xlsx\n",
      "11 - 0 - (1487, 18) - (68382, 18)5._Carga de hoja de ruta - PUERTO 2 (GRUPO 2).xlsx\n",
      "11 - 1 - (701, 18) - (69083, 18)5._Carga de hoja de ruta - PUERTO 2 (GRUPO 2).xlsx\n",
      "12 - 0 - (816, 18) - (69899, 18)5._Carga de hoja de ruta - PUERTO V1 PRD (GRUPO 1).xlsx\n",
      "12 - 1 - (272, 18) - (70171, 18)5._Carga de hoja de ruta - PUERTO V1 PRD (GRUPO 1).xlsx\n",
      "13 - 0 - (2971, 18) - (73142, 18)5._Carga de hoja de ruta JP11 PRD (GRUPO 3).xlsx\n",
      "13 - 1 - (867, 18) - (74009, 18)5._Carga de hoja de ruta JP11 PRD (GRUPO 3).xlsx\n",
      "14 - 0 - (18227, 18) - (92236, 18)5._Carga de hoja de ruta JP11 PRD 2 (GRUPO 4).xlsx\n",
      "14 - 1 - (4606, 18) - (96842, 18)5._Carga de hoja de ruta JP11 PRD 2 (GRUPO 4).xlsx\n"
     ]
    }
   ],
   "source": [
    "counter = 0\n",
    "HRdb1 = pd.DataFrame(columns=[0, 1, 2, 3, 4, 5, 6, 7, 8, 9, 10, 11, 12, 13, 14, 15, 16, 17])\n",
    "for m in HRfiles:\n",
    "    for n in range(2):\n",
    "        HRdb = pd.read_excel(os.path.join(filerute,m),sheet_name=n,header = None,skiprows=6)\n",
    "        HRdb1 = pd.concat([HRdb,HRdb1])\n",
    "        \n",
    "        print(str(counter)+\" - \"+str(n)+\" - \"+str(HRdb.shape)+\" - \"+str(HRdb1.shape)+m)\n",
    "    counter = counter +1"
   ]
  },
  {
   "cell_type": "code",
   "execution_count": 131,
   "metadata": {},
   "outputs": [
    {
     "output_type": "execute_result",
     "data": {
      "text/plain": [
       "(96842, 18)"
      ]
     },
     "metadata": {},
     "execution_count": 131
    }
   ],
   "source": [
    "HRdb1.shape"
   ]
  },
  {
   "cell_type": "code",
   "execution_count": 124,
   "metadata": {},
   "outputs": [],
   "source": []
  },
  {
   "cell_type": "code",
   "execution_count": null,
   "metadata": {},
   "outputs": [],
   "source": []
  }
 ],
 "metadata": {
  "kernelspec": {
   "name": "Python 3.8.6 64-bit",
   "display_name": "Python 3.8.6 64-bit",
   "metadata": {
    "interpreter": {
     "hash": "1baa965d5efe3ac65b79dfc60c0d706280b1da80fedb7760faf2759126c4f253"
    }
   }
  }
 },
 "nbformat": 4,
 "nbformat_minor": 4
}