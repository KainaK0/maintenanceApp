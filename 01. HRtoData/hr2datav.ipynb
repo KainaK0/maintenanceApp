{
 "cells": [
  {
   "cell_type": "code",
   "execution_count": 1,
   "metadata": {},
   "outputs": [],
   "source": [
    "import pandas as pd\n",
    "import numpy as np\n",
    "import os"
   ]
  },
  {
   "cell_type": "code",
   "execution_count": 2,
   "metadata": {},
   "outputs": [],
   "source": [
    "filefolder = r'C:\\Users\\johan\\OneDrive\\Marcobre\\1.0 PROJECTS\\01. Crear budget de mantenimiento\\hr2csv\\TECSUP\\HR'\n",
    "filename = r'allHRdata.csv'\n",
    "mergeHRname = r'mergeHR.csv'\n",
    "EQ2GHRname = r'Hoja Resumen- CARGA A SAP V09.11.xlsx'"
   ]
  },
  {
   "cell_type": "code",
   "execution_count": 3,
   "metadata": {},
   "outputs": [],
   "source": [
    "HRrute = os.path.join(filefolder,filename)\n",
    "mergeHRrute = os.path.join(filefolder,mergeHRname)\n",
    "EQ2GHRrute = os.path.join(filefolder,EQ2GHRname)"
   ]
  },
  {
   "cell_type": "code",
   "execution_count": 4,
   "metadata": {},
   "outputs": [
    {
     "output_type": "execute_result",
     "data": {
      "text/plain": [
       "'C:\\\\Users\\\\johan\\\\OneDrive\\\\Marcobre\\\\1.0 PROJECTS\\\\01. Crear budget de mantenimiento\\\\hr2csv\\\\TECSUP\\\\HR\\\\allHRdata.csv'"
      ]
     },
     "metadata": {},
     "execution_count": 4
    }
   ],
   "source": [
    "HRrute"
   ]
  },
  {
   "cell_type": "code",
   "execution_count": 5,
   "metadata": {},
   "outputs": [],
   "source": [
    "#db1 = pd.read_excel(HRrute,sheet_name=flag, skiprows = 6, header = None)\n",
    "db = pd.read_csv(HRrute)\n",
    "\n",
    "eq2ghr = pd.read_excel(EQ2GHRrute,sheet_name=0, header=0)"
   ]
  },
  {
   "cell_type": "code",
   "execution_count": 6,
   "metadata": {},
   "outputs": [],
   "source": [
    "eq2ghr.drop(columns=['OBSERVACIONES','PLAN DE MANTENIMIENTO','HOJA DE RUTA TIPO EQUIPO','HOJA DE RUTA INSTRUCCIÓN'],inplace=True)"
   ]
  },
  {
   "cell_type": "code",
   "execution_count": 7,
   "metadata": {},
   "outputs": [],
   "source": [
    "eq2ghr.columns = ['TAG','DescripcionEquipo','GrupoTS','GrupoHR','EqSAP','PuntoMedida']\n",
    "#eq2ghr = eq2ghr.loc[(eq2ghr.loc[:,'GrupoTS']== grupo1) | (eq2ghr.loc[:,'GrupoTS']== grupo2),:]\n",
    "#eq2ghr.loc[(eq2ghr.loc[:,'EqSAP']== 'UBT','EqSAP')] = 0\n",
    "#eq2ghr.loc[:,'EqSAP'] = eq2ghr.loc[:,'EqSAP'].astype(float)"
   ]
  },
  {
   "cell_type": "code",
   "execution_count": 8,
   "metadata": {},
   "outputs": [],
   "source": [
    "db.columns = db.columns.astype(int)"
   ]
  },
  {
   "cell_type": "code",
   "execution_count": 9,
   "metadata": {
    "tags": []
   },
   "outputs": [],
   "source": [
    "# Hojas de ruta\n",
    "HR = db.loc[db.iloc[:,0] == 1,:]\n",
    "HR.drop(labels=[11,12,13,14,15,16,17], axis = 1, inplace = True)\n",
    "HRcolumnsname = [0,'GrupoHR','Contador','HRDescripcion','HRPuesto','Centro','Utilizacion','GPlanificacion', 'EstadoGlobal','EstadoInstalacion','Estrategia']\n",
    "HR.columns = HRcolumnsname\n",
    "HR.loc[:,'HRContador'] = HR['GrupoHR'].astype(str) + HR['Contador']\n",
    "# Add maintenance estrategy of each actiivitie, and type of equipment\n",
    "HR.loc[:,'EstrategiaMTTO'] = HR.loc[:,'HRDescripcion'].str.split('_',expand = True)[0] \n",
    "HR.loc[:,'ClaseEq'] = HR.loc[:,'HRDescripcion'].str.split('_',expand = True)[2]"
   ]
  },
  {
   "cell_type": "code",
   "execution_count": 10,
   "metadata": {},
   "outputs": [],
   "source": [
    "# Posiciones de las Hojas de Ruta\n",
    "PHR = db.loc[db.iloc[:,0] == 2,:]\n",
    "PHR.drop(columns = [10,11,12,13,14,15,16,17],inplace = True)\n",
    "PHRcolumnsname = [0,'GrupoHR','pos','Puesto','ClaseOT','Actividades','HH','H','ACant','AHoras']\n",
    "PHR.columns = PHRcolumnsname"
   ]
  },
  {
   "cell_type": "code",
   "execution_count": 11,
   "metadata": {},
   "outputs": [],
   "source": [
    "# Actividad detallada de laPosiciones de las Hojas de Ruta\n",
    "AHR = db.loc[db.iloc[:,0] == 3,:]"
   ]
  },
  {
   "cell_type": "code",
   "execution_count": 12,
   "metadata": {
    "tags": []
   },
   "outputs": [
    {
     "output_type": "stream",
     "name": "stdout",
     "text": [
      "Wall time: 30min 19s\n"
     ]
    }
   ],
   "source": [
    "%%time\n",
    "# Conectar Posiciones de HR con la HR a traves de HRContador del HR al PHR\n",
    "nm1=0\n",
    "#HR.tail(1).index.values[0] = last index of HR dataframe\n",
    "for m in PHR.index:\n",
    "    for n in HR.index:\n",
    "        if nm1<=m and m<=n:\n",
    "            PHR.loc[m,'HRContador'] = HR.loc[nm1,'HRContador']\n",
    "            break\n",
    "        elif m>=HR.tail(1).index.values[0]:\n",
    "            PHR.loc[m,'HRContador'] = HR.loc[HR.tail(1).index.values[0],'HRContador']\n",
    "            break\n",
    "        nm1 = n\n",
    "PHR.loc[:,'posHRContador'] = PHR.loc[:,'HRContador'] + PHR.loc[:,'pos'].astype(str)"
   ]
  },
  {
   "cell_type": "code",
   "execution_count": 13,
   "metadata": {},
   "outputs": [],
   "source": [
    "# Materiales de Hojas de Ruta\n",
    "MHR = db.loc[db.iloc[:,0] == 4,:]\n",
    "MHR = MHR.drop(columns = [4,5,6,7,8,9,10,11,12,13,14,15,16,17])\n",
    "MHRcolumnsname = [0,'GrupoHR','Material','MCantidad']\n",
    "MHR.columns = MHRcolumnsname"
   ]
  },
  {
   "cell_type": "code",
   "execution_count": 14,
   "metadata": {},
   "outputs": [
    {
     "output_type": "stream",
     "name": "stdout",
     "text": [
      "Wall time: 8min 30s\n"
     ]
    }
   ],
   "source": [
    "%%time\n",
    "# Conectar Posiciones de HR con la HR a traves de posHRContador del PHR al MHR\n",
    "nm1=0\n",
    "#HR.tail(1).index.values[0] = last index of HR dataframe\n",
    "for m in MHR.index:\n",
    "    for n in PHR.index:\n",
    "        if nm1<=m and m<=n:\n",
    "            MHR.loc[m,'posHRContador'] = PHR.loc[nm1,'posHRContador']\n",
    "            MHR.loc[m,'HRContador'] = PHR.loc[nm1,'HRContador']\n",
    "            break\n",
    "        elif m>=PHR.tail(1).index.values[0]:\n",
    "            MHR.loc[m,'posHRContador'] = PHR.loc[PHR.tail(1).index.values[0],'posHRContador']\n",
    "            MHR.loc[m,'HRContador'] = PHR.loc[PHR.tail(1).index.values[0],'HRContador']\n",
    "            break\n",
    "        nm1 = n\n",
    "#PHR.loc[:,'posHRContador'] = PHR.loc[:,'HRContador'] + PHR.loc[:,'pos'].astype(str)"
   ]
  },
  {
   "cell_type": "code",
   "execution_count": 15,
   "metadata": {},
   "outputs": [],
   "source": [
    "# Materiales de Estrategia de Ruta\n",
    "EPHR = db.loc[db.iloc[:,0] == 5,:]\n",
    "EPHR.drop(columns = [3,4,5,6,7,8,9,10,11,12,13,14,15,16,17],inplace = True)\n",
    "EPHR.columns = [0,'GrupoHR','Frecuencia']"
   ]
  },
  {
   "cell_type": "code",
   "execution_count": 19,
   "metadata": {},
   "outputs": [
    {
     "output_type": "stream",
     "name": "stdout",
     "text": [
      "Wall time: 43min 38s\n"
     ]
    }
   ],
   "source": [
    "%%time\n",
    "# Conectar Estrategias de HR con la posicion de la HR\n",
    "nm1=0\n",
    "#HR.tail(1).index.values[0] = last index of HR dataframe\n",
    "for m in EPHR.index:\n",
    "    for n in PHR.index:\n",
    "        if nm1<=m and m<=n:\n",
    "            EPHR.loc[m,'posHRContador'] = PHR.loc[nm1,'posHRContador']\n",
    "            #EPHR.loc[m,'HRContador'] = PHR.loc[nm1,'HRContador']\n",
    "            break\n",
    "        elif m>=PHR.tail(1).index.values[0]:\n",
    "            EPHR.loc[m,'posHRContador'] = PHR.loc[PHR.tail(1).index.values[0],'posHRContador']\n",
    "            #EPHR.loc[m,'HRContador'] = PHR.loc[HR.tail(1).index.values[0],'HRContador']\n",
    "            break\n",
    "        nm1 = n\n",
    "#PHR.loc[:,'posHRContador'] = PHR.loc[:,'HRContador'] + PHR.loc[:,'pos'].astype(str)"
   ]
  },
  {
   "cell_type": "code",
   "execution_count": null,
   "metadata": {},
   "outputs": [],
   "source": []
  },
  {
   "source": [
    "PHRE = pd.merge(PHR.loc[:,['pos','Actividades','Puesto','ClaseOT','ACant','AHoras','HRContador','posHRContador']],EPHR.loc[:,['Frecuencia','posHRContador']],on = 'posHRContador',how = 'left')"
   ],
   "cell_type": "code",
   "metadata": {},
   "execution_count": 20,
   "outputs": []
  },
  {
   "cell_type": "code",
   "execution_count": 21,
   "metadata": {},
   "outputs": [],
   "source": [
    "allDuties = pd.merge(HR.loc[:,['GrupoHR','Contador','HRDescripcion','HRPuesto','GPlanificacion','EstadoGlobal','EstadoInstalacion','Estrategia','HRContador','EstrategiaMTTO']], PHRE.loc[:,['pos', 'Actividades', 'Puesto', 'ClaseOT', 'ACant', 'AHoras','HRContador', 'posHRContador', 'Frecuencia']], on = 'HRContador', how = 'left')"
   ]
  },
  {
   "cell_type": "code",
   "execution_count": 22,
   "metadata": {},
   "outputs": [],
   "source": [
    "allDutiesMat = pd.merge(allDuties,MHR.loc[:,['posHRContador','Material','MCantidad']],on='posHRContador',how='left')"
   ]
  },
  {
   "cell_type": "code",
   "execution_count": 23,
   "metadata": {},
   "outputs": [],
   "source": [
    "HR.to_csv(filefolder + r'\\HR.csv', encoding= 'utf-8')\n",
    "PHRE.to_csv(filefolder + r'\\PHRE.csv', encoding= 'utf-8')\n",
    "allDuties.to_csv(filefolder + r'\\allDuties.csv', encoding= 'utf-8')\n",
    "allDutiesMat.to_csv(filefolder + r'\\allDutiesMat.csv', encoding= 'utf-8')"
   ]
  },
  {
   "cell_type": "code",
   "execution_count": null,
   "metadata": {},
   "outputs": [],
   "source": []
  }
 ],
 "metadata": {
  "kernelspec": {
   "name": "python3",
   "display_name": "Python 3.8.6 64-bit",
   "metadata": {
    "interpreter": {
     "hash": "1baa965d5efe3ac65b79dfc60c0d706280b1da80fedb7760faf2759126c4f253"
    }
   }
  },
  "language_info": {
   "codemirror_mode": {
    "name": "ipython",
    "version": 3
   },
   "file_extension": ".py",
   "mimetype": "text/x-python",
   "name": "python",
   "nbconvert_exporter": "python",
   "pygments_lexer": "ipython3",
   "version": "3.8.6-final"
  }
 },
 "nbformat": 4,
 "nbformat_minor": 4
}