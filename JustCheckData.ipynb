{
 "metadata": {
  "language_info": {
   "codemirror_mode": {
    "name": "ipython",
    "version": 3
   },
   "file_extension": ".py",
   "mimetype": "text/x-python",
   "name": "python",
   "nbconvert_exporter": "python",
   "pygments_lexer": "ipython3",
   "version": "3.8.6-final"
  },
  "orig_nbformat": 2,
  "kernelspec": {
   "name": "python3",
   "display_name": "Python 3.8.6 64-bit",
   "metadata": {
    "interpreter": {
     "hash": "1baa965d5efe3ac65b79dfc60c0d706280b1da80fedb7760faf2759126c4f253"
    }
   }
  }
 },
 "nbformat": 4,
 "nbformat_minor": 2,
 "cells": [
  {
   "cell_type": "code",
   "execution_count": 51,
   "metadata": {},
   "outputs": [],
   "source": [
    "import pandas as pd\n",
    "import numpy as np\n",
    "import os"
   ]
  },
  {
   "cell_type": "code",
   "execution_count": 7,
   "metadata": {},
   "outputs": [],
   "source": [
    " dbiw29 = pd.read_excel(r'C:\\Users\\johan\\OneDrive\\Marcobre\\1.0 PROJECTS\\08. KPIs de Mantenimiento\\DB\\AVISOS.xlsx')"
   ]
  },
  {
   "cell_type": "code",
   "execution_count": 8,
   "metadata": {},
   "outputs": [
    {
     "output_type": "execute_result",
     "data": {
      "text/plain": [
       "Index(['Clase de aviso', 'Descripción', 'Ubicac.técnica', 'Equipo',\n",
       "       'Pto.tbjo.resp.', 'Denominación', 'Aviso', 'Creado el', 'Creado por',\n",
       "       'Status sistema',\n",
       "       ...\n",
       "       'DispTrasAvería', 'DispAntesAvería', 'Oficina ventas', 'Gr.vendedores',\n",
       "       'Organiz.ventas', 'Canal distrib.', 'Moneda', 'Pos.mantenim.',\n",
       "       'Plan mant.prev.', 'Cl.actividad PM'],\n",
       "      dtype='object', length=109)"
      ]
     },
     "metadata": {},
     "execution_count": 8
    }
   ],
   "source": [
    "dbiw29.columns"
   ]
  },
  {
   "cell_type": "code",
   "execution_count": 12,
   "metadata": {},
   "outputs": [
    {
     "output_type": "execute_result",
     "data": {
      "text/plain": [
       "Empty DataFrame\n",
       "Columns: [Clase de aviso, Descripción, Ubicac.técnica, Equipo, Pto.tbjo.resp., Denominación, Aviso, Creado el, Creado por, Status sistema, Indicador ABC, Nº dirección, Modificado el, Modificado por, Modif.a las, Activo fijo, Subnúmero, EstInsTrasMed, EstInsTr avería, EstInsAn avería, Ctro.p.pto.tbj., Cl.prioridad, Orden, Fin de avería, Inicio avería, Repercusión, Hora fin avería, Hora in.avería, Conjunto, Denom.conjunto, Área de empresa, Equipo afectado, Fecha ref., Hora referencia, Fecha de pedido, Nº de pedido, UbicTécnAfect, Sociedad, Población, Distrito, País, Ctrl.técnico el, Dat.dispositivo, Duración parada, Campo clasif., Creado a las, División, Emplaz/Imputac., Texto expl., Grupo planif., Ctrl.técnico de, Centro planif., Documento venta, Posición, Sociedad CO, Centro coste, Codif.txt.cód., TextoGrp.codif., Cliente, Fin deseado, Hora fin des., Denominación2, Material, Unidad, Parada, Local, Hora del aviso, Lista, Nº objeto, Status paging, Denom. ejecut., DenomIntRespEj, Ejecutante, InterlRespEjec, Denominación3, Código postal, Prioridad, Prioridad4, Codificación, Fecha de cierre, Fecha de aviso, Grupo códigos, Autor del aviso, Hora de cierre, Perfil catálogo, Región, Revisión, Número de serie, Sector, Emplazamiento, Calle, Inicio deseado, Hora inic.des., Ce.emplazam., Teléfono, Status usuario, Centro PtoTbjo, Pedido cliente, DispTrasMedida, DispTrasAvería, ...]\n",
       "Index: []\n",
       "\n",
       "[0 rows x 109 columns]"
      ],
      "text/html": "<div>\n<style scoped>\n    .dataframe tbody tr th:only-of-type {\n        vertical-align: middle;\n    }\n\n    .dataframe tbody tr th {\n        vertical-align: top;\n    }\n\n    .dataframe thead th {\n        text-align: right;\n    }\n</style>\n<table border=\"1\" class=\"dataframe\">\n  <thead>\n    <tr style=\"text-align: right;\">\n      <th></th>\n      <th>Clase de aviso</th>\n      <th>Descripción</th>\n      <th>Ubicac.técnica</th>\n      <th>Equipo</th>\n      <th>Pto.tbjo.resp.</th>\n      <th>Denominación</th>\n      <th>Aviso</th>\n      <th>Creado el</th>\n      <th>Creado por</th>\n      <th>Status sistema</th>\n      <th>...</th>\n      <th>DispTrasAvería</th>\n      <th>DispAntesAvería</th>\n      <th>Oficina ventas</th>\n      <th>Gr.vendedores</th>\n      <th>Organiz.ventas</th>\n      <th>Canal distrib.</th>\n      <th>Moneda</th>\n      <th>Pos.mantenim.</th>\n      <th>Plan mant.prev.</th>\n      <th>Cl.actividad PM</th>\n    </tr>\n  </thead>\n  <tbody>\n  </tbody>\n</table>\n<p>0 rows × 109 columns</p>\n</div>"
     },
     "metadata": {},
     "execution_count": 12
    }
   ],
   "source": [
    "dbiw29.loc[dbiw29.loc[:,\"Aviso\"].duplicated(),:] "
   ]
  },
  {
   "cell_type": "code",
   "execution_count": 17,
   "metadata": {},
   "outputs": [],
   "source": [
    "folderRuta = r'C:\\Users\\johan\\OneDrive\\Marcobre\\1.0 PROJECTS\\05. Catalogacion de Valvulas\\Válvulas Emerson\\111A - Spare Parts\\111A - Spare Parts\\2. Catalogacion Spare Parts'\n"
   ]
  },
  {
   "cell_type": "code",
   "execution_count": 19,
   "metadata": {},
   "outputs": [],
   "source": [
    "listnames = os.listdir(folderRuta)"
   ]
  },
  {
   "cell_type": "code",
   "execution_count": 113,
   "metadata": {},
   "outputs": [],
   "source": [
    "columns = ['Line Number', 'Item Name / Short Description', 'Item Long Description',\n",
    "       'Manufacturer of Item', 'Item Manufacturers Part Number',\n",
    "       'Supplier of Item', 'Suppliers Part Number', 'Unit of Measure (UM)',\n",
    "       'Hazardous Material Code (if applicable)',\n",
    "       'Dimensions (L x W x H) in meters', 'Weight (kg)',\n",
    "       'Preservation / Special Storage Required (Y/N)',\n",
    "       'Parent Equipment Tag Number (List all applicable tag numbers)',\n",
    "       'Manufacturer Drawing Ref (if applic.)', 'Qty per Fitment',\n",
    "       'Qty Installed', 'Price per UM', 'Currency', 'Price Valid until Date',\n",
    "       'Standard Package', 'Lead-time in days', 'Start Up & Commissioning',\n",
    "       'Safety Stock', 'Estimated 1st Year Usage', 'Estimated 2nd Year Usage',\n",
    "       'Item Classification', 'Valuation Category', 'Recommended ROP',\n",
    "       'Recommended MAX ', 'Note','PO']"
   ]
  },
  {
   "cell_type": "code",
   "execution_count": 136,
   "metadata": {},
   "outputs": [],
   "source": [
    "compSpareParts.columns = columns"
   ]
  },
  {
   "cell_type": "code",
   "execution_count": 134,
   "metadata": {},
   "outputs": [
    {
     "output_type": "stream",
     "name": "stdout",
     "text": [
      "1 - ITEM PO 001.xlsx - (1, 31) - (1, 31)\n",
      "2 - ITEM PO 002.xlsx - (1, 31) - (2, 31)\n",
      "3 - ITEM PO 003.xlsx - (1, 31) - (3, 31)\n",
      "4 - ITEM PO 004.xlsx - (1, 31) - (4, 31)\n",
      "5 - ITEM PO 005.xlsx - (1, 31) - (5, 31)\n",
      "6 - ITEM PO 006.xlsx - (1, 31) - (6, 31)\n",
      "7 - ITEM PO 007.xlsx - (1, 31) - (7, 31)\n",
      "8 - ITEM PO 008.xlsx - (1, 31) - (8, 31)\n",
      "9 - ITEM PO 009.xlsx - (1, 31) - (9, 31)\n",
      "10 - ITEM PO 010.xlsx - (1, 31) - (10, 31)\n",
      "11 - ITEM PO 011.xlsx - (1, 31) - (11, 31)\n",
      "12 - ITEM PO 012, 410.xlsx - (1, 31) - (12, 31)\n",
      "13 - ITEM PO 013, 411.xlsx - (1, 31) - (13, 31)\n",
      "14 - ITEM PO 014.xlsx - (1, 31) - (14, 31)\n",
      "15 - ITEM PO 015, 419.xlsx - (1, 31) - (15, 31)\n",
      "16 - ITEM PO 016.xlsx - (1, 31) - (16, 31)\n",
      "17 - ITEM PO 017.xlsx - (1, 31) - (17, 31)\n",
      "18 - ITEM PO 018, 019, 399.xlsx - (1, 31) - (18, 31)\n",
      "19 - ITEM PO 020.xlsx - (1, 31) - (19, 31)\n",
      "20 - ITEM PO 021.xlsx - (1, 31) - (20, 31)\n",
      "21 - ITEM PO 022, 400.xlsx - (1, 31) - (21, 31)\n",
      "22 - ITEM PO 023.xlsx - (1, 31) - (22, 31)\n",
      "23 - ITEM PO 024.xlsx - (1, 31) - (23, 31)\n",
      "24 - ITEM PO 025, 418.xlsx - (1, 31) - (24, 31)\n",
      "25 - ITEM PO 026.xlsx - (1, 31) - (25, 31)\n",
      "26 - ITEM PO 027, 401.xlsx - (1, 31) - (26, 31)\n",
      "27 - ITEM PO 028.xlsx - (1, 31) - (27, 31)\n",
      "28 - ITEM PO 029.xlsx - (1, 31) - (28, 31)\n",
      "29 - ITEM PO 030, 403.xlsx - (2, 31) - (30, 31)\n",
      "30 - ITEM PO 031.xlsx - (2, 31) - (32, 31)\n",
      "31 - ITEM PO 032.xlsx - (1, 31) - (33, 31)\n",
      "32 - ITEM PO 033.xlsx - (1, 31) - (34, 31)\n",
      "33 - ITEM PO 034.xlsx - (1, 31) - (35, 31)\n",
      "34 - ITEM PO 035.xlsx - (2, 31) - (37, 31)\n",
      "35 - ITEM PO 036.xlsx - (1, 31) - (38, 31)\n",
      "36 - ITEM PO 037.xlsx - (1, 31) - (39, 31)\n",
      "37 - ITEM PO 038.xlsx - (1, 31) - (40, 31)\n",
      "38 - ITEM PO 039.xlsx - (1, 31) - (41, 31)\n",
      "39 - ITEM PO 040.xlsx - (1, 31) - (42, 31)\n",
      "40 - ITEM PO 041.xlsx - (1, 31) - (43, 31)\n",
      "41 - ITEM PO 042.xlsx - (1, 31) - (44, 31)\n",
      "42 - ITEM PO 043.xlsx - (1, 31) - (45, 31)\n",
      "43 - ITEM PO 044.xlsx - (1, 31) - (46, 31)\n",
      "44 - ITEM PO 045, 046, 404.xlsx - (1, 31) - (47, 31)\n",
      "45 - ITEM PO 046.xlsx - (1, 31) - (48, 31)\n",
      "46 - ITEM PO 047.xlsx - (1, 31) - (49, 31)\n",
      "47 - ITEM PO 048.xlsx - (1, 31) - (50, 31)\n",
      "48 - ITEM PO 049.xlsx - (1, 31) - (51, 31)\n",
      "49 - ITEM PO 050.xlsx - (1, 31) - (52, 31)\n",
      "50 - ITEM PO 051.xlsx - (1, 31) - (53, 31)\n",
      "51 - ITEM PO 052.xlsx - (1, 31) - (54, 31)\n",
      "52 - ITEM PO 053.xlsx - (1, 31) - (55, 31)\n",
      "53 - ITEM PO 054.xlsx - (1, 31) - (56, 31)\n",
      "54 - ITEM PO 055.xlsx - (1, 31) - (57, 31)\n",
      "55 - ITEM PO 056.xlsx - (1, 31) - (58, 31)\n",
      "56 - ITEM PO 057.xlsx - (1, 31) - (59, 31)\n",
      "57 - ITEM PO 058.xlsx - (1, 31) - (60, 31)\n",
      "58 - ITEM PO 059.xlsx - (1, 31) - (61, 31)\n",
      "59 - ITEM PO 060.xlsx - (1, 31) - (62, 31)\n",
      "60 - ITEM PO 062.xlsx - (1, 31) - (63, 31)\n",
      "61 - ITEM PO 063.xlsx - (1, 31) - (64, 31)\n",
      "62 - ITEM PO 064.xlsx - (1, 31) - (65, 31)\n",
      "63 - ITEM PO 065.xlsx - (1, 31) - (66, 31)\n",
      "64 - ITEM PO 066.xlsx - (1, 31) - (67, 31)\n",
      "65 - ITEM PO 067.xlsx - (1, 31) - (68, 31)\n",
      "66 - ITEM PO 068.xlsx - (1, 31) - (69, 31)\n",
      "67 - ITEM PO 069.xlsx - (1, 31) - (70, 31)\n",
      "68 - ITEM PO 070.xlsx - (1, 31) - (71, 31)\n",
      "69 - ITEM PO 071.xlsx - (1, 31) - (72, 31)\n",
      "70 - ITEM PO 072.xlsx - (1, 31) - (73, 31)\n",
      "71 - ITEM PO 073.xlsx - (1, 31) - (74, 31)\n",
      "72 - ITEM PO 074.xlsx - (1, 31) - (75, 31)\n",
      "73 - ITEM PO 075.xlsx - (1, 31) - (76, 31)\n",
      "74 - ITEM PO 076.xlsx - (1, 31) - (77, 31)\n",
      "75 - ITEM PO 077.xlsx - (1, 31) - (78, 31)\n",
      "76 - ITEM PO 078.xlsx - (1, 31) - (79, 31)\n",
      "77 - ITEM PO 079.xlsx - (1, 31) - (80, 31)\n",
      "78 - ITEM PO 080.xlsx - (1, 31) - (81, 31)\n",
      "79 - ITEM PO 081.xlsx - (1, 31) - (82, 31)\n",
      "80 - ITEM PO 082.xlsx - (1, 31) - (83, 31)\n",
      "81 - ITEM PO 083.xlsx - (1, 31) - (84, 31)\n",
      "82 - ITEM PO 084.xlsx - (1, 31) - (85, 31)\n",
      "83 - ITEM PO 085, 405.xlsx - (1, 31) - (86, 31)\n",
      "84 - ITEM PO 086.xlsx - (1, 31) - (87, 31)\n",
      "85 - ITEM PO 087.xlsx - (1, 31) - (88, 31)\n",
      "86 - ITEM PO 088.xlsx - (1, 31) - (89, 31)\n",
      "87 - ITEM PO 089.xlsx - (1, 31) - (90, 31)\n",
      "88 - ITEM PO 090.xlsx - (1, 31) - (91, 31)\n",
      "89 - ITEM PO 091.xlsx - (1, 31) - (92, 31)\n",
      "90 - ITEM PO 092.xlsx - (1, 31) - (93, 31)\n",
      "91 - ITEM PO 093.xlsx - (1, 31) - (94, 31)\n",
      "92 - ITEM PO 094.xlsx - (1, 31) - (95, 31)\n",
      "93 - ITEM PO 095.xlsx - (1, 31) - (96, 31)\n",
      "94 - ITEM PO 096.xlsx - (1, 31) - (97, 31)\n",
      "95 - ITEM PO 097.xlsx - (1, 31) - (98, 31)\n",
      "96 - ITEM PO 098.xlsx - (1, 31) - (99, 31)\n",
      "97 - ITEM PO 099.xlsx - (1, 31) - (100, 31)\n",
      "98 - ITEM PO 100.xlsx - (1, 31) - (101, 31)\n",
      "99 - ITEM PO 101, 386.xlsx - (1, 31) - (102, 31)\n",
      "100 - ITEM PO 102, 387.xlsx - (1, 31) - (103, 31)\n",
      "101 - ITEM PO 103.xlsx - (1, 31) - (104, 31)\n",
      "102 - ITEM PO 104.xlsx - (1, 31) - (105, 31)\n",
      "103 - ITEM PO 105, 397, 413.xlsx - (1, 31) - (106, 31)\n",
      "104 - ITEM PO 106, 406.xlsx - (1, 31) - (107, 31)\n",
      "105 - ITEM PO 107.xlsx - (1, 31) - (108, 31)\n",
      "106 - ITEM PO 108.xlsx - (1, 31) - (109, 31)\n",
      "107 - ITEM PO 109.xlsx - (1, 31) - (110, 31)\n",
      "108 - ITEM PO 110.xlsx - (1, 31) - (111, 31)\n",
      "109 - ITEM PO 111.xlsx - (1, 31) - (112, 31)\n",
      "110 - ITEM PO 112.xlsx - (1, 31) - (113, 31)\n",
      "111 - ITEM PO 113.xlsx - (4, 31) - (117, 31)\n",
      "112 - ITEM PO 114.xlsx - (1, 31) - (118, 31)\n",
      "113 - ITEM PO 115.xlsx - (1, 31) - (119, 31)\n",
      "114 - ITEM PO 116.xlsx - (1, 31) - (120, 31)\n",
      "115 - ITEM PO 117.xlsx - (1, 31) - (121, 31)\n",
      "116 - ITEM PO 118.xlsx - (1, 31) - (122, 31)\n",
      "117 - ITEM PO 119.xlsx - (1, 31) - (123, 31)\n",
      "118 - ITEM PO 120.xlsx - (1, 31) - (124, 31)\n",
      "119 - ITEM PO 121.xlsx - (1, 31) - (125, 31)\n",
      "120 - ITEM PO 122.xlsx - (1, 31) - (126, 31)\n",
      "121 - ITEM PO 123.xlsx - (1, 31) - (127, 31)\n",
      "122 - ITEM PO 124.xlsx - (1, 31) - (128, 31)\n",
      "123 - ITEM PO 125.xlsx - (1, 31) - (129, 31)\n",
      "124 - ITEM PO 126.xlsx - (1, 31) - (130, 31)\n",
      "125 - ITEM PO 127.xlsx - (1, 31) - (131, 31)\n",
      "126 - ITEM PO 128.xlsx - (1, 31) - (132, 31)\n",
      "127 - ITEM PO 129.xlsx - (1, 31) - (133, 31)\n",
      "128 - ITEM PO 130.xlsx - (1, 31) - (134, 31)\n",
      "129 - ITEM PO 131.xlsx - (2, 31) - (136, 31)\n",
      "130 - ITEM PO 132.xlsx - (2, 31) - (138, 31)\n",
      "131 - ITEM PO 133.xlsx - (1, 31) - (139, 31)\n",
      "132 - ITEM PO 134.xlsx - (1, 31) - (140, 31)\n",
      "133 - ITEM PO 135, 234, 243, 251, 259, 267, 275, 283, 291, 299, 307, 315, 323, 331, 339, 347.xlsx - (2, 31) - (142, 31)\n",
      "134 - ITEM PO 136, 148, 388, 391.xlsx - (2, 31) - (144, 31)\n",
      "135 - ITEM PO 137, 149, 389, 392.xlsx - (2, 31) - (146, 31)\n",
      "136 - ITEM PO 138, 150.xlsx - (1, 31) - (147, 31)\n",
      "137 - ITEM PO 139, 151 , 393.xlsx - (2, 31) - (149, 31)\n",
      "138 - ITEM PO 140, 152, 394.xlsx - (1, 31) - (150, 31)\n",
      "139 - ITEM PO 141.xlsx - (1, 31) - (151, 31)\n",
      "140 - ITEM PO 142.xlsx - (2, 31) - (153, 31)\n",
      "141 - ITEM PO 143.xlsx - (1, 31) - (154, 31)\n",
      "142 - ITEM PO 144, 390.xlsx - (2, 31) - (156, 31)\n",
      "143 - ITEM PO 145.xlsx - (1, 31) - (157, 31)\n",
      "144 - ITEM PO 146.xlsx - (2, 31) - (159, 31)\n",
      "145 - ITEM PO 147.xlsx - (1, 31) - (160, 31)\n",
      "146 - ITEM PO 153.xlsx - (1, 31) - (161, 31)\n",
      "147 - ITEM PO 154.xlsx - (1, 31) - (162, 31)\n",
      "148 - ITEM PO 155.xlsx - (1, 31) - (163, 31)\n",
      "149 - ITEM PO 156, 407.xlsx - (3, 31) - (166, 31)\n",
      "150 - ITEM PO 157, 408.xlsx - (3, 31) - (169, 31)\n",
      "151 - ITEM PO 158.xlsx - (3, 31) - (172, 31)\n",
      "152 - ITEM PO 159.xlsx - (3, 31) - (175, 31)\n",
      "153 - ITEM PO 160.xlsx - (3, 31) - (178, 31)\n",
      "154 - ITEM PO 161.xlsx - (3, 31) - (181, 31)\n",
      "155 - ITEM PO 162.xlsx - (3, 31) - (184, 31)\n",
      "156 - ITEM PO 163.xlsx - (3, 31) - (187, 31)\n",
      "157 - ITEM PO 164, 409.xlsx - (3, 31) - (190, 31)\n",
      "158 - ITEM PO 165.xlsx - (2, 31) - (192, 31)\n",
      "159 - ITEM PO 166.xlsx - (4, 31) - (196, 31)\n",
      "160 - ITEM PO 167.xlsx - (4, 31) - (200, 31)\n",
      "161 - ITEM PO 169.xlsx - (1, 31) - (201, 31)\n",
      "162 - ITEM PO 170.xlsx - (6, 31) - (207, 31)\n",
      "163 - ITEM PO 171.xlsx - (8, 31) - (215, 31)\n",
      "164 - ITEM PO 173.xlsx - (5, 31) - (220, 31)\n",
      "165 - ITEM PO 174.xlsx - (1, 31) - (221, 31)\n",
      "166 - ITEM PO 175, 176, 181, 198.xlsx - (1, 31) - (222, 31)\n",
      "167 - ITEM PO 177, 178, 179, 184, 188, 203, 204.xlsx - (8, 31) - (230, 31)\n",
      "168 - ITEM PO 180, 183, 190, 192, 193, 197, 220, 221, 222, 223, 224, 225, 420.xlsx - (2, 31) - (232, 31)\n",
      "169 - ITEM PO 182, 191.xlsx - (8, 31) - (240, 31)\n",
      "170 - ITEM PO 185.xlsx - (5, 31) - (245, 31)\n",
      "171 - ITEM PO 186, 187, 199, 200.xlsx - (8, 31) - (253, 31)\n",
      "172 - ITEM PO 189.xlsx - (8, 31) - (261, 31)\n",
      "173 - ITEM PO 194.xlsx - (5, 31) - (266, 31)\n",
      "174 - ITEM PO 195, 208, 210.xlsx - (8, 31) - (274, 31)\n",
      "175 - ITEM PO 196.xlsx - (8, 31) - (282, 31)\n",
      "176 - ITEM PO 201, 205, 415, 417.xlsx - (8, 31) - (290, 31)\n",
      "177 - ITEM PO 202, 206, 416.xlsx - (8, 31) - (298, 31)\n",
      "178 - ITEM PO 207, 209, 213, 214.xlsx - (5, 31) - (303, 31)\n",
      "179 - ITEM PO 211.xlsx - (8, 31) - (311, 31)\n",
      "180 - ITEM PO 212.xlsx - (5, 31) - (316, 31)\n",
      "181 - ITEM PO 215, 216, 217, 218, 219.xlsx - (5, 31) - (321, 31)\n",
      "182 - ITEM PO 226.xlsx - (5, 31) - (326, 31)\n",
      "183 - ITEM PO 227,228,229,235,236,237,244,245,252,253,260,261,268,269,276,277,284,285,292,293,300,301,308,309,316,317,324,325,332,333,340,341.xlsx - (5, 31) - (331, 31)\n",
      "184 - ITEM PO 230, 238, 246, 254, 262, 270, 278, 286, 294, 302, 310, 318, 326, 334,342.xlsx - (5, 31) - (336, 31)\n",
      "185 - ITEM PO 231, 239, 247, 255, 263, 271, 279, 287, 295, 303, 311, 319, 327, 335, 343.xlsx - (5, 31) - (341, 31)\n",
      "186 - ITEM PO 232,233,240,241,248,249,256,257,264,265,272,273,280,281,288,289,296,297,304,305,312,313,320,321,328,329,336,337,344,345,346.xlsx - (5, 31) - (346, 31)\n",
      "187 - ITEM PO 242, 250, 258, 266, 274, 282, 290, 298, 306, 314, 322, 330, 338.xlsx - (5, 31) - (351, 31)\n",
      "188 - ITEM PO 348.xlsx - (1, 31) - (352, 31)\n",
      "189 - ITEM PO 349.xlsx - (1, 31) - (353, 31)\n",
      "190 - ITEM PO 350.xlsx - (1, 31) - (354, 31)\n",
      "191 - ITEM PO 351, 352.xlsx - (5, 31) - (359, 31)\n",
      "192 - ITEM PO 353.xlsx - (2, 31) - (361, 31)\n",
      "193 - ITEM PO 354.xlsx - (2, 31) - (363, 31)\n",
      "194 - ITEM PO 355, 356, 357, 365, 368.xlsx - (5, 31) - (368, 31)\n",
      "195 - ITEM PO 358, 359, 360.xlsx - (5, 31) - (373, 31)\n",
      "196 - ITEM PO 361, 362, 363,364, 366, 367, 369, 370.xlsx - (5, 31) - (378, 31)\n",
      "197 - ITEM PO 380, 382.xlsx - (1, 31) - (379, 31)\n",
      "198 - ITEM PO 381.xlsx - (1, 31) - (380, 31)\n",
      "199 - ITEM PO 383.xlsx - (3, 31) - (383, 31)\n",
      "200 - ITEM PO 384.xlsx - (3, 31) - (386, 31)\n",
      "201 - ITEM PO 385.xlsx - (1, 31) - (387, 31)\n",
      "202 - ITEM PO 395.xlsx - (1, 31) - (388, 31)\n",
      "203 - ITEM PO 396.xlsx - (1, 31) - (389, 31)\n",
      "204 - ITEM PO 398, 421.xlsx - (1, 31) - (390, 31)\n",
      "205 - ITEM PO 402.xlsx - (1, 31) - (391, 31)\n",
      "206 - ITEM PO 412.xlsx - (1, 31) - (392, 31)\n",
      "207 - ITEM PO 414.xlsx - (1, 31) - (393, 31)\n",
      "208 - ITEM PO 422.xlsx - (2, 31) - (395, 31)\n",
      "209 - ITEM PO 423.xlsx - (1, 31) - (396, 31)\n",
      "210 - ITEM PO 424.xlsx - (1, 31) - (397, 31)\n"
     ]
    }
   ],
   "source": [
    "compSpareParts = pd.DataFrame()\n",
    "counter = 0\n",
    "for x in listnames:\n",
    "    datacomp = pd.read_excel(os.path.join(folderRuta,x), header = None)\n",
    "    datacomp=datacomp.loc[~datacomp.loc[:,1].isnull(),:].reset_index(drop=True).drop(index = [0,1])\n",
    "    datacomp.loc[:,'PO'] = x[0:-5]\n",
    "    compSpareParts = pd.concat([compSpareParts,datacomp])\n",
    "    counter = counter + 1\n",
    "    print(str(counter)+' - '+x+' - ' + str(datacomp.shape) + ' - ' + str(compSpareParts.shape))\n",
    "\n",
    "compSpareParts.columns = columns\n"
   ]
  },
  {
   "cell_type": "code",
   "execution_count": 126,
   "metadata": {},
   "outputs": [],
   "source": [
    "db = pd.read_excel(os.path.join(folderRuta,listnames[33]), header=None)"
   ]
  },
  {
   "cell_type": "code",
   "execution_count": 137,
   "metadata": {},
   "outputs": [
    {
     "output_type": "execute_result",
     "data": {
      "text/plain": [
       "  Line Number Item Name / Short Description  \\\n",
       "2           1                  Valvula Bola   \n",
       "2           1                  Válvula Bola   \n",
       "2           1                  Válvula Bola   \n",
       "2           1                 Valvula Bola    \n",
       "2           1                 Valvula Bola    \n",
       "\n",
       "                               Item Long Description Manufacturer of Item  \\\n",
       "2  3/4\" Ball Valve Full Bore FL RF Class 150 Side...                KBALL   \n",
       "2  1\" Ball Valve Full Bore FL RF Class 150 Side E...                KBALL   \n",
       "2  2\" Ball Valve Full Bore FL RF Class 150 Side E...                KBALL   \n",
       "2  3\" Ball Valve Full Bore FL RF Class 150 Side E...                KBALL   \n",
       "2  4\" Ball Valve Full Bore FL RF Class 150 Side E...                KBALL   \n",
       "\n",
       "  Item Manufacturers Part Number                         Supplier of Item  \\\n",
       "2                F190SRT15RFL006  EMERSON PROCESS MANAGEMENT DEL PERU SAC   \n",
       "2                F190SRT15RFL010  EMERSON PROCESS MANAGEMENT DEL PERU SAC   \n",
       "2                F190SRT15RFL020  EMERSON PROCESS MANAGEMENT DEL PERU SAC   \n",
       "2                F190SRT15RFL030  EMERSON PROCESS MANAGEMENT DEL PERU SAC   \n",
       "2                F190SRT15RFL040  EMERSON PROCESS MANAGEMENT DEL PERU SAC   \n",
       "\n",
       "  Suppliers Part Number Unit of Measure (UM)  \\\n",
       "2       F190SRT15RFL006                   PZ   \n",
       "2       F190SRT15RFL010                   PZ   \n",
       "2       F190SRT15RFL020                   PZ   \n",
       "2       F190SRT15RFL030                   PZ   \n",
       "2       F190SRT15RFL040                   PZ   \n",
       "\n",
       "  Hazardous Material Code (if applicable) Dimensions (L x W x H) in meters  \\\n",
       "2                                     NaN                              NaN   \n",
       "2                                     NaN                              NaN   \n",
       "2                                     NaN                              NaN   \n",
       "2                                     NaN                              NaN   \n",
       "2                                     NaN                              NaN   \n",
       "\n",
       "   ... Start Up & Commissioning Safety Stock Estimated 1st Year Usage  \\\n",
       "2  ...                        0            0                        3   \n",
       "2  ...                        0            0                        1   \n",
       "2  ...                        0            0                        2   \n",
       "2  ...                        0            0                        1   \n",
       "2  ...                        0            0                        1   \n",
       "\n",
       "  Estimated 2nd Year Usage Item Classification   Valuation Category  \\\n",
       "2                        3               Vital  Repuestos Mecánicos   \n",
       "2                        1               Vital  Repuestos Mecánicos   \n",
       "2                        2               Vital  Repuestos Mecánicos   \n",
       "2                        1               Vital  Repuestos Mecánicos   \n",
       "2                        1               Vital  Repuestos Mecánicos   \n",
       "\n",
       "  Recommended ROP Recommended MAX  Note           PO  \n",
       "2             NaN              NaN  NaN  ITEM PO 001  \n",
       "2             NaN              NaN  NaN  ITEM PO 002  \n",
       "2             NaN              NaN  NaN  ITEM PO 003  \n",
       "2             NaN              NaN  NaN  ITEM PO 004  \n",
       "2             NaN              NaN  NaN  ITEM PO 005  \n",
       "\n",
       "[5 rows x 31 columns]"
      ],
      "text/html": "<div>\n<style scoped>\n    .dataframe tbody tr th:only-of-type {\n        vertical-align: middle;\n    }\n\n    .dataframe tbody tr th {\n        vertical-align: top;\n    }\n\n    .dataframe thead th {\n        text-align: right;\n    }\n</style>\n<table border=\"1\" class=\"dataframe\">\n  <thead>\n    <tr style=\"text-align: right;\">\n      <th></th>\n      <th>Line Number</th>\n      <th>Item Name / Short Description</th>\n      <th>Item Long Description</th>\n      <th>Manufacturer of Item</th>\n      <th>Item Manufacturers Part Number</th>\n      <th>Supplier of Item</th>\n      <th>Suppliers Part Number</th>\n      <th>Unit of Measure (UM)</th>\n      <th>Hazardous Material Code (if applicable)</th>\n      <th>Dimensions (L x W x H) in meters</th>\n      <th>...</th>\n      <th>Start Up &amp; Commissioning</th>\n      <th>Safety Stock</th>\n      <th>Estimated 1st Year Usage</th>\n      <th>Estimated 2nd Year Usage</th>\n      <th>Item Classification</th>\n      <th>Valuation Category</th>\n      <th>Recommended ROP</th>\n      <th>Recommended MAX</th>\n      <th>Note</th>\n      <th>PO</th>\n    </tr>\n  </thead>\n  <tbody>\n    <tr>\n      <th>2</th>\n      <td>1</td>\n      <td>Valvula Bola</td>\n      <td>3/4\" Ball Valve Full Bore FL RF Class 150 Side...</td>\n      <td>KBALL</td>\n      <td>F190SRT15RFL006</td>\n      <td>EMERSON PROCESS MANAGEMENT DEL PERU SAC</td>\n      <td>F190SRT15RFL006</td>\n      <td>PZ</td>\n      <td>NaN</td>\n      <td>NaN</td>\n      <td>...</td>\n      <td>0</td>\n      <td>0</td>\n      <td>3</td>\n      <td>3</td>\n      <td>Vital</td>\n      <td>Repuestos Mecánicos</td>\n      <td>NaN</td>\n      <td>NaN</td>\n      <td>NaN</td>\n      <td>ITEM PO 001</td>\n    </tr>\n    <tr>\n      <th>2</th>\n      <td>1</td>\n      <td>Válvula Bola</td>\n      <td>1\" Ball Valve Full Bore FL RF Class 150 Side E...</td>\n      <td>KBALL</td>\n      <td>F190SRT15RFL010</td>\n      <td>EMERSON PROCESS MANAGEMENT DEL PERU SAC</td>\n      <td>F190SRT15RFL010</td>\n      <td>PZ</td>\n      <td>NaN</td>\n      <td>NaN</td>\n      <td>...</td>\n      <td>0</td>\n      <td>0</td>\n      <td>1</td>\n      <td>1</td>\n      <td>Vital</td>\n      <td>Repuestos Mecánicos</td>\n      <td>NaN</td>\n      <td>NaN</td>\n      <td>NaN</td>\n      <td>ITEM PO 002</td>\n    </tr>\n    <tr>\n      <th>2</th>\n      <td>1</td>\n      <td>Válvula Bola</td>\n      <td>2\" Ball Valve Full Bore FL RF Class 150 Side E...</td>\n      <td>KBALL</td>\n      <td>F190SRT15RFL020</td>\n      <td>EMERSON PROCESS MANAGEMENT DEL PERU SAC</td>\n      <td>F190SRT15RFL020</td>\n      <td>PZ</td>\n      <td>NaN</td>\n      <td>NaN</td>\n      <td>...</td>\n      <td>0</td>\n      <td>0</td>\n      <td>2</td>\n      <td>2</td>\n      <td>Vital</td>\n      <td>Repuestos Mecánicos</td>\n      <td>NaN</td>\n      <td>NaN</td>\n      <td>NaN</td>\n      <td>ITEM PO 003</td>\n    </tr>\n    <tr>\n      <th>2</th>\n      <td>1</td>\n      <td>Valvula Bola</td>\n      <td>3\" Ball Valve Full Bore FL RF Class 150 Side E...</td>\n      <td>KBALL</td>\n      <td>F190SRT15RFL030</td>\n      <td>EMERSON PROCESS MANAGEMENT DEL PERU SAC</td>\n      <td>F190SRT15RFL030</td>\n      <td>PZ</td>\n      <td>NaN</td>\n      <td>NaN</td>\n      <td>...</td>\n      <td>0</td>\n      <td>0</td>\n      <td>1</td>\n      <td>1</td>\n      <td>Vital</td>\n      <td>Repuestos Mecánicos</td>\n      <td>NaN</td>\n      <td>NaN</td>\n      <td>NaN</td>\n      <td>ITEM PO 004</td>\n    </tr>\n    <tr>\n      <th>2</th>\n      <td>1</td>\n      <td>Valvula Bola</td>\n      <td>4\" Ball Valve Full Bore FL RF Class 150 Side E...</td>\n      <td>KBALL</td>\n      <td>F190SRT15RFL040</td>\n      <td>EMERSON PROCESS MANAGEMENT DEL PERU SAC</td>\n      <td>F190SRT15RFL040</td>\n      <td>PZ</td>\n      <td>NaN</td>\n      <td>NaN</td>\n      <td>...</td>\n      <td>0</td>\n      <td>0</td>\n      <td>1</td>\n      <td>1</td>\n      <td>Vital</td>\n      <td>Repuestos Mecánicos</td>\n      <td>NaN</td>\n      <td>NaN</td>\n      <td>NaN</td>\n      <td>ITEM PO 005</td>\n    </tr>\n  </tbody>\n</table>\n<p>5 rows × 31 columns</p>\n</div>"
     },
     "metadata": {},
     "execution_count": 137
    }
   ],
   "source": [
    "compSpareParts.head()"
   ]
  },
  {
   "cell_type": "code",
   "execution_count": 127,
   "metadata": {},
   "outputs": [],
   "source": [
    "a = db.loc[~db.loc[:,1].isnull(),:].reset_index(drop=True).drop(index = [0,1])"
   ]
  },
  {
   "cell_type": "code",
   "execution_count": 128,
   "metadata": {},
   "outputs": [],
   "source": [
    "a.loc[:,'PO'] = listnames[0][0:-5]\n"
   ]
  },
  {
   "cell_type": "code",
   "execution_count": 131,
   "metadata": {},
   "outputs": [
    {
     "output_type": "execute_result",
     "data": {
      "text/plain": [
       "   0                                   1  \\\n",
       "2  1                          Ball Valve   \n",
       "3  2  Spare part Kit for NTB050NB1FA1L00   \n",
       "\n",
       "                                                   2         3  \\\n",
       "2  NTB050NB1FA1L00 // 87TAGSCHILDN NTB BALL VALVE...  NEOTECHA   \n",
       "3  Spare part Kit for NTB050NB1FA1L00\\nKH-050NTBS...  NEOTECHA   \n",
       "\n",
       "                                 4        5                                6  \\\n",
       "2  NTB050NB1FA1L00 // 87TAGSCHILDN  EMERSON  NTB050NB1FA1L00 // 87TAGSCHILDN   \n",
       "3                     SPKIT-NTB050  EMERSON                     SPKIT-NTB050   \n",
       "\n",
       "    7    8    9  ... 21 22 23 24     25                   26   27   28   29  \\\n",
       "2  PZ  NaN  NaN  ...  0  0  3  3  Vital  Repuestos Mecánicos  NaN  NaN  NaN   \n",
       "3  PZ  NaN  NaN  ...  0  0  1  1  Vital  Repuestos Mecánicos  NaN  NaN  NaN   \n",
       "\n",
       "            PO  \n",
       "2  ITEM PO 001  \n",
       "3  ITEM PO 001  \n",
       "\n",
       "[2 rows x 31 columns]"
      ],
      "text/html": "<div>\n<style scoped>\n    .dataframe tbody tr th:only-of-type {\n        vertical-align: middle;\n    }\n\n    .dataframe tbody tr th {\n        vertical-align: top;\n    }\n\n    .dataframe thead th {\n        text-align: right;\n    }\n</style>\n<table border=\"1\" class=\"dataframe\">\n  <thead>\n    <tr style=\"text-align: right;\">\n      <th></th>\n      <th>0</th>\n      <th>1</th>\n      <th>2</th>\n      <th>3</th>\n      <th>4</th>\n      <th>5</th>\n      <th>6</th>\n      <th>7</th>\n      <th>8</th>\n      <th>9</th>\n      <th>...</th>\n      <th>21</th>\n      <th>22</th>\n      <th>23</th>\n      <th>24</th>\n      <th>25</th>\n      <th>26</th>\n      <th>27</th>\n      <th>28</th>\n      <th>29</th>\n      <th>PO</th>\n    </tr>\n  </thead>\n  <tbody>\n    <tr>\n      <th>2</th>\n      <td>1</td>\n      <td>Ball Valve</td>\n      <td>NTB050NB1FA1L00 // 87TAGSCHILDN NTB BALL VALVE...</td>\n      <td>NEOTECHA</td>\n      <td>NTB050NB1FA1L00 // 87TAGSCHILDN</td>\n      <td>EMERSON</td>\n      <td>NTB050NB1FA1L00 // 87TAGSCHILDN</td>\n      <td>PZ</td>\n      <td>NaN</td>\n      <td>NaN</td>\n      <td>...</td>\n      <td>0</td>\n      <td>0</td>\n      <td>3</td>\n      <td>3</td>\n      <td>Vital</td>\n      <td>Repuestos Mecánicos</td>\n      <td>NaN</td>\n      <td>NaN</td>\n      <td>NaN</td>\n      <td>ITEM PO 001</td>\n    </tr>\n    <tr>\n      <th>3</th>\n      <td>2</td>\n      <td>Spare part Kit for NTB050NB1FA1L00</td>\n      <td>Spare part Kit for NTB050NB1FA1L00\\nKH-050NTBS...</td>\n      <td>NEOTECHA</td>\n      <td>SPKIT-NTB050</td>\n      <td>EMERSON</td>\n      <td>SPKIT-NTB050</td>\n      <td>PZ</td>\n      <td>NaN</td>\n      <td>NaN</td>\n      <td>...</td>\n      <td>0</td>\n      <td>0</td>\n      <td>1</td>\n      <td>1</td>\n      <td>Vital</td>\n      <td>Repuestos Mecánicos</td>\n      <td>NaN</td>\n      <td>NaN</td>\n      <td>NaN</td>\n      <td>ITEM PO 001</td>\n    </tr>\n  </tbody>\n</table>\n<p>2 rows × 31 columns</p>\n</div>"
     },
     "metadata": {},
     "execution_count": 131
    }
   ],
   "source": [
    "a"
   ]
  },
  {
   "cell_type": "code",
   "execution_count": null,
   "metadata": {},
   "outputs": [],
   "source": []
  }
 ]
}