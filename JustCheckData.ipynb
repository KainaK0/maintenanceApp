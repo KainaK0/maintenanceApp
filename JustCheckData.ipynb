{
 "metadata": {
  "language_info": {
   "codemirror_mode": {
    "name": "ipython",
    "version": 3
   },
   "file_extension": ".py",
   "mimetype": "text/x-python",
   "name": "python",
   "nbconvert_exporter": "python",
   "pygments_lexer": "ipython3",
   "version": "3.8.6-final"
  },
  "orig_nbformat": 2,
  "kernelspec": {
   "name": "python3",
   "display_name": "Python 3.8.6 64-bit",
   "metadata": {
    "interpreter": {
     "hash": "1baa965d5efe3ac65b79dfc60c0d706280b1da80fedb7760faf2759126c4f253"
    }
   }
  }
 },
 "nbformat": 4,
 "nbformat_minor": 2,
 "cells": [
  {
   "cell_type": "code",
   "execution_count": 1,
   "metadata": {},
   "outputs": [],
   "source": [
    "import pandas as pd\n",
    "import os"
   ]
  },
  {
   "cell_type": "code",
   "execution_count": 25,
   "metadata": {},
   "outputs": [],
   "source": [
    " dbiw29 = pd.read_excel(r'C:\\Users\\johan\\OneDrive\\Marcobre\\1.0 PROJECTS\\08. KPIs de Mantenimiento\\DB\\AVISOS.xlsx')"
   ]
  },
  {
   "cell_type": "code",
   "execution_count": 26,
   "metadata": {},
   "outputs": [
    {
     "output_type": "execute_result",
     "data": {
      "text/plain": [
       "Index(['Clase de aviso', 'Descripción', 'Ubicac.técnica', 'Equipo',\n",
       "       'Pto.tbjo.resp.', 'Denominación', 'Aviso', 'Creado el', 'Creado por',\n",
       "       'Status sistema',\n",
       "       ...\n",
       "       'DispTrasAvería', 'DispAntesAvería', 'Oficina ventas', 'Gr.vendedores',\n",
       "       'Organiz.ventas', 'Canal distrib.', 'Moneda', 'Pos.mantenim.',\n",
       "       'Plan mant.prev.', 'Cl.actividad PM'],\n",
       "      dtype='object', length=109)"
      ]
     },
     "metadata": {},
     "execution_count": 26
    }
   ],
   "source": [
    "dbiw29.columns"
   ]
  },
  {
   "cell_type": "code",
   "execution_count": 27,
   "metadata": {},
   "outputs": [
    {
     "output_type": "execute_result",
     "data": {
      "text/plain": [
       "Empty DataFrame\n",
       "Columns: [Clase de aviso, Descripción, Ubicac.técnica, Equipo, Pto.tbjo.resp., Denominación, Aviso, Creado el, Creado por, Status sistema, Indicador ABC, Nº dirección, Modificado el, Modificado por, Modif.a las, Activo fijo, Subnúmero, EstInsTrasMed, EstInsTr avería, EstInsAn avería, Ctro.p.pto.tbj., Cl.prioridad, Orden, Fin de avería, Inicio avería, Repercusión, Hora fin avería, Hora in.avería, Conjunto, Denom.conjunto, Área de empresa, Equipo afectado, Fecha ref., Hora referencia, Fecha de pedido, Nº de pedido, UbicTécnAfect, Sociedad, Población, Distrito, País, Ctrl.técnico el, Dat.dispositivo, Duración parada, Campo clasif., Creado a las, División, Emplaz/Imputac., Texto expl., Grupo planif., Ctrl.técnico de, Centro planif., Documento venta, Posición, Sociedad CO, Centro coste, Codif.txt.cód., TextoGrp.codif., Cliente, Fin deseado, Hora fin des., Denominación2, Material, Unidad, Parada, Local, Hora del aviso, Lista, Nº objeto, Status paging, Denom. ejecut., DenomIntRespEj, Ejecutante, InterlRespEjec, Denominación3, Código postal, Prioridad, Prioridad4, Codificación, Fecha de cierre, Fecha de aviso, Grupo códigos, Autor del aviso, Hora de cierre, Perfil catálogo, Región, Revisión, Número de serie, Sector, Emplazamiento, Calle, Inicio deseado, Hora inic.des., Ce.emplazam., Teléfono, Status usuario, Centro PtoTbjo, Pedido cliente, DispTrasMedida, DispTrasAvería, ...]\n",
       "Index: []\n",
       "\n",
       "[0 rows x 109 columns]"
      ],
      "text/html": "<div>\n<style scoped>\n    .dataframe tbody tr th:only-of-type {\n        vertical-align: middle;\n    }\n\n    .dataframe tbody tr th {\n        vertical-align: top;\n    }\n\n    .dataframe thead th {\n        text-align: right;\n    }\n</style>\n<table border=\"1\" class=\"dataframe\">\n  <thead>\n    <tr style=\"text-align: right;\">\n      <th></th>\n      <th>Clase de aviso</th>\n      <th>Descripción</th>\n      <th>Ubicac.técnica</th>\n      <th>Equipo</th>\n      <th>Pto.tbjo.resp.</th>\n      <th>Denominación</th>\n      <th>Aviso</th>\n      <th>Creado el</th>\n      <th>Creado por</th>\n      <th>Status sistema</th>\n      <th>...</th>\n      <th>DispTrasAvería</th>\n      <th>DispAntesAvería</th>\n      <th>Oficina ventas</th>\n      <th>Gr.vendedores</th>\n      <th>Organiz.ventas</th>\n      <th>Canal distrib.</th>\n      <th>Moneda</th>\n      <th>Pos.mantenim.</th>\n      <th>Plan mant.prev.</th>\n      <th>Cl.actividad PM</th>\n    </tr>\n  </thead>\n  <tbody>\n  </tbody>\n</table>\n<p>0 rows × 109 columns</p>\n</div>"
     },
     "metadata": {},
     "execution_count": 27
    }
   ],
   "source": [
    "dbiw29.loc[dbiw29.loc[:,\"Aviso\"].duplicated(),:] "
   ]
  },
  {
   "cell_type": "code",
   "execution_count": 9,
   "metadata": {},
   "outputs": [],
   "source": [
    "folderRuta = r'C:\\Users\\johan\\OneDrive\\Marcobre\\1.0 PROJECTS\\05. Catalogacion de Valvulas\\Válvulas Emerson\\224A - Spare Parts\\224A - Spare Parts\\2. Catalogacion Spare Parts'\n"
   ]
  },
  {
   "cell_type": "code",
   "execution_count": 10,
   "metadata": {},
   "outputs": [],
   "source": [
    "columns = ['Line Number', 'Item Name / Short Description', 'Item Long Description',\n",
    "       'Manufacturer of Item', 'Item Manufacturers Part Number',\n",
    "       'Supplier of Item', 'Suppliers Part Number', 'Unit of Measure (UM)',\n",
    "       'Hazardous Material Code (if applicable)',\n",
    "       'Dimensions (L x W x H) in meters', 'Weight (kg)',\n",
    "       'Preservation / Special Storage Required (Y/N)',\n",
    "       'Parent Equipment Tag Number (List all applicable tag numbers)',\n",
    "       'Manufacturer Drawing Ref (if applic.)', 'Qty per Fitment',\n",
    "       'Qty Installed', 'Price per UM', 'Currency', 'Price Valid until Date',\n",
    "       'Standard Package', 'Lead-time in days', 'Start Up & Commissioning',\n",
    "       'Safety Stock', 'Estimated 1st Year Usage', 'Estimated 2nd Year Usage',\n",
    "       'Item Classification', 'Valuation Category', 'Recommended ROP',\n",
    "       'Recommended MAX ', 'Note','PO']"
   ]
  },
  {
   "cell_type": "code",
   "execution_count": 14,
   "metadata": {},
   "outputs": [
    {
     "output_type": "stream",
     "name": "stdout",
     "text": [
      "1 - 014050103WMDB00.xlsx - (8, 31) - (8, 31)\n",
      "2 - 014080103WMDB00 Electric Actuator.xlsx - (2, 31) - (10, 31)\n",
      "3 - 014080103WMDB00.xlsx - (8, 31) - (18, 31)\n",
      "4 - 014100103WMDB00.xlsx - (8, 31) - (26, 31)\n",
      "5 - 014150103WMDB00.xlsx - (8, 31) - (34, 31)\n",
      "6 - 014200103WMDB00.xlsx - (8, 31) - (42, 31)\n",
      "7 - 1.5F2JLTJOS-E15M1J.xlsx - (2, 31) - (44, 31)\n",
      "8 - 1D2JLTJOS-E15J.xlsx - (2, 31) - (46, 31)\n",
      "9 - 1E2JLTJOS-E15J.xlsx - (2, 31) - (48, 31)\n",
      "10 - 2J3JLTJOS-EOR15M1J.xlsx - (3, 31) - (51, 31)\n",
      "11 - 37025A7ACSC10-CC09.xlsx - (10, 31) - (61, 31)\n",
      "12 - 37300V7ACSC10ACO.xlsx - (9, 31) - (70, 31)\n",
      "13 - 63EG-1021-5634700S.xlsx - (12, 31) - (82, 31)\n",
      "14 - ARGPE-1-V150-DX-2052-DVC.xlsx - (15, 31) - (97, 31)\n",
      "15 - ARGPE-10-8580-2052-DVC-1.xlsx - (19, 31) - (116, 31)\n",
      "16 - ARGPE-15-GX-ALLOY-DVC-1.xlsx - (13, 31) - (129, 31)\n",
      "17 - ARGPE-2-V150-2052-DVC-1.xlsx - (15, 31) - (144, 31)\n",
      "18 - ARGPE-2-V150-DX-2052-DVC.xlsx - (15, 31) - (159, 31)\n",
      "19 - ARGPE-37050A7ACSC10-CC12.xlsx - (10, 31) - (169, 31)\n",
      "20 - ARGPE-4-8580-2052-DVC-2.xlsx - (20, 31) - (189, 31)\n",
      "21 - ARGPE-4-V150-DX-1.xlsx - (10, 31) - (199, 31)\n",
      "22 - ARGPE-6-V150-DX-2052-DVC.xlsx - (18, 31) - (217, 31)\n",
      "23 - BE31.5 PFKO150-553RXNR-S.xlsx - (1, 31) - (218, 31)\n",
      "24 - EGR-1137-5634701S.xlsx - (10, 31) - (228, 31)\n",
      "25 - GRW0400-D0D2S2E0A1K-0000000.xlsx - (8, 31) - (236, 31)\n",
      "26 - LR12-2973-2091204.xlsx - (8, 31) - (244, 31)\n",
      "27 - LR12-2993-2987679.xlsx - (15, 31) - (259, 31)\n",
      "28 - M95H-3063-2265013.xlsx - (1, 31) - (260, 31)\n",
      "29 - M95H-3063-3147370.xlsx - (5, 31) - (265, 31)\n",
      "30 - MR1-1030-492549.xlsx - (5, 31) - (270, 31)\n",
      "31 - MR1-1030-499483.xlsx - (6, 31) - (276, 31)\n",
      "32 - MR10-1730-411006.xlsx - (6, 31) - (282, 31)\n",
      "33 - MR10-1730-533588.xlsx - (5, 31) - (287, 31)\n",
      "34 - NSD050N02WM4B00.xlsx - (8, 31) - (295, 31)\n",
      "35 - NSD080N02WM4B00.xlsx - (8, 31) - (303, 31)\n",
      "36 - NSD100N02WM4B00.xlsx - (8, 31) - (311, 31)\n",
      "37 - NSD150N02WM4B00.xlsx - (8, 31) - (319, 31)\n",
      "38 - NTC025NB1FA1B00.xlsx - (8, 31) - (327, 31)\n",
      "39 - NTC050NB1FA1B00.xlsx - (8, 31) - (335, 31)\n"
     ]
    }
   ],
   "source": [
    "listnames = os.listdir(folderRuta)\n",
    "compSpareParts = pd.DataFrame()\n",
    "counter = 0\n",
    "for x in listnames:\n",
    "    datacomp = pd.read_excel(os.path.join(folderRuta,x), header = None)\n",
    "    datacomp=datacomp.loc[~datacomp.loc[:,1].isnull(),:].reset_index(drop=True).drop(index = [0,1])\n",
    "    datacomp.loc[:,'PO'] = x[0:-5]\n",
    "    compSpareParts = pd.concat([compSpareParts,datacomp])\n",
    "    counter = counter + 1\n",
    "    print(str(counter)+' - '+x+' - ' + str(datacomp.shape) + ' - ' + str(compSpareParts.shape))\n",
    "\n",
    "compSpareParts.columns = columns\n",
    "compSpareParts.reset_index(drop = True, inplace = True)\n"
   ]
  },
  {
   "cell_type": "code",
   "execution_count": 15,
   "metadata": {},
   "outputs": [
    {
     "output_type": "execute_result",
     "data": {
      "text/plain": [
       "0      014050103WMDB00\n",
       "1             11143366\n",
       "2          GG53748X012\n",
       "3          18B7713X012\n",
       "4          38B6041X152\n",
       "            ...       \n",
       "330        18B7713X012\n",
       "331        38B6041X152\n",
       "332        19B5402X012\n",
       "333        19B5403X012\n",
       "334        38B5786X132\n",
       "Name: Item Manufacturers Part Number, Length: 335, dtype: object"
      ]
     },
     "metadata": {},
     "execution_count": 15
    }
   ],
   "source": [
    "compSpareParts.iloc[:,4]"
   ]
  },
  {
   "cell_type": "code",
   "execution_count": 16,
   "metadata": {},
   "outputs": [
    {
     "output_type": "execute_result",
     "data": {
      "text/plain": [
       "    Line Number Item Name / Short Description        Item Long Description  \\\n",
       "330           4     DVC - GAUGE,PRESS,1-INCH     DVC - GAUGE,PRESS,1-INCH    \n",
       "331           5       DVC - I/P ASSY/SHROUD        DVC - I/P ASSY/SHROUD     \n",
       "332           6         DVC - KIT,ELASTOMER          DVC - KIT,ELASTOMER     \n",
       "333           7   DVC  KIT,MISC SMALL HDWRE    DVC  KIT,MISC SMALL HDWRE     \n",
       "334           8         DVC - RELAY ASSEMBLY         DVC - RELAY ASSEMBLY    \n",
       "\n",
       "    Manufacturer of Item Item Manufacturers Part Number  \\\n",
       "330               Fisher                    18B7713X012   \n",
       "331               Fisher                    38B6041X152   \n",
       "332               Fisher                    19B5402X012   \n",
       "333               Fisher                    19B5403X012   \n",
       "334               Fisher                    38B5786X132   \n",
       "\n",
       "                            Supplier of Item Suppliers Part Number  \\\n",
       "330  EMERSON PROCESS MANAGEMENT DEL PERU SAC           18B7713X012   \n",
       "331  EMERSON PROCESS MANAGEMENT DEL PERU SAC           38B6041X152   \n",
       "332  EMERSON PROCESS MANAGEMENT DEL PERU SAC           19B5402X012   \n",
       "333  EMERSON PROCESS MANAGEMENT DEL PERU SAC           19B5403X012   \n",
       "334  EMERSON PROCESS MANAGEMENT DEL PERU SAC           38B5786X132   \n",
       "\n",
       "    Unit of Measure (UM) Hazardous Material Code (if applicable)  \\\n",
       "330                   PZ                                       N   \n",
       "331                   PZ                                       N   \n",
       "332                   PZ                                       N   \n",
       "333                   PZ                                       N   \n",
       "334                   PZ                                       N   \n",
       "\n",
       "    Dimensions (L x W x H) in meters  ... Start Up & Commissioning  \\\n",
       "330                              NaN  ...                        0   \n",
       "331                              NaN  ...                        0   \n",
       "332                              NaN  ...                        0   \n",
       "333                              NaN  ...                        0   \n",
       "334                              NaN  ...                        0   \n",
       "\n",
       "    Safety Stock Estimated 1st Year Usage Estimated 2nd Year Usage  \\\n",
       "330          NaN                      NaN                      NaN   \n",
       "331          NaN                      NaN                      NaN   \n",
       "332          NaN                      NaN                      NaN   \n",
       "333          NaN                      NaN                      NaN   \n",
       "334          NaN                      NaN                      NaN   \n",
       "\n",
       "    Item Classification Valuation Category Recommended ROP Recommended MAX   \\\n",
       "330                 NaN                NaN             NaN              NaN   \n",
       "331                 NaN                NaN             NaN              NaN   \n",
       "332                 NaN                NaN             NaN              NaN   \n",
       "333                 NaN                NaN             NaN              NaN   \n",
       "334                 NaN                NaN             NaN              NaN   \n",
       "\n",
       "    Note               PO  \n",
       "330  NaN  NTC050NB1FA1B00  \n",
       "331  NaN  NTC050NB1FA1B00  \n",
       "332  NaN  NTC050NB1FA1B00  \n",
       "333  NaN  NTC050NB1FA1B00  \n",
       "334  NaN  NTC050NB1FA1B00  \n",
       "\n",
       "[5 rows x 31 columns]"
      ],
      "text/html": "<div>\n<style scoped>\n    .dataframe tbody tr th:only-of-type {\n        vertical-align: middle;\n    }\n\n    .dataframe tbody tr th {\n        vertical-align: top;\n    }\n\n    .dataframe thead th {\n        text-align: right;\n    }\n</style>\n<table border=\"1\" class=\"dataframe\">\n  <thead>\n    <tr style=\"text-align: right;\">\n      <th></th>\n      <th>Line Number</th>\n      <th>Item Name / Short Description</th>\n      <th>Item Long Description</th>\n      <th>Manufacturer of Item</th>\n      <th>Item Manufacturers Part Number</th>\n      <th>Supplier of Item</th>\n      <th>Suppliers Part Number</th>\n      <th>Unit of Measure (UM)</th>\n      <th>Hazardous Material Code (if applicable)</th>\n      <th>Dimensions (L x W x H) in meters</th>\n      <th>...</th>\n      <th>Start Up &amp; Commissioning</th>\n      <th>Safety Stock</th>\n      <th>Estimated 1st Year Usage</th>\n      <th>Estimated 2nd Year Usage</th>\n      <th>Item Classification</th>\n      <th>Valuation Category</th>\n      <th>Recommended ROP</th>\n      <th>Recommended MAX</th>\n      <th>Note</th>\n      <th>PO</th>\n    </tr>\n  </thead>\n  <tbody>\n    <tr>\n      <th>330</th>\n      <td>4</td>\n      <td>DVC - GAUGE,PRESS,1-INCH</td>\n      <td>DVC - GAUGE,PRESS,1-INCH</td>\n      <td>Fisher</td>\n      <td>18B7713X012</td>\n      <td>EMERSON PROCESS MANAGEMENT DEL PERU SAC</td>\n      <td>18B7713X012</td>\n      <td>PZ</td>\n      <td>N</td>\n      <td>NaN</td>\n      <td>...</td>\n      <td>0</td>\n      <td>NaN</td>\n      <td>NaN</td>\n      <td>NaN</td>\n      <td>NaN</td>\n      <td>NaN</td>\n      <td>NaN</td>\n      <td>NaN</td>\n      <td>NaN</td>\n      <td>NTC050NB1FA1B00</td>\n    </tr>\n    <tr>\n      <th>331</th>\n      <td>5</td>\n      <td>DVC - I/P ASSY/SHROUD</td>\n      <td>DVC - I/P ASSY/SHROUD</td>\n      <td>Fisher</td>\n      <td>38B6041X152</td>\n      <td>EMERSON PROCESS MANAGEMENT DEL PERU SAC</td>\n      <td>38B6041X152</td>\n      <td>PZ</td>\n      <td>N</td>\n      <td>NaN</td>\n      <td>...</td>\n      <td>0</td>\n      <td>NaN</td>\n      <td>NaN</td>\n      <td>NaN</td>\n      <td>NaN</td>\n      <td>NaN</td>\n      <td>NaN</td>\n      <td>NaN</td>\n      <td>NaN</td>\n      <td>NTC050NB1FA1B00</td>\n    </tr>\n    <tr>\n      <th>332</th>\n      <td>6</td>\n      <td>DVC - KIT,ELASTOMER</td>\n      <td>DVC - KIT,ELASTOMER</td>\n      <td>Fisher</td>\n      <td>19B5402X012</td>\n      <td>EMERSON PROCESS MANAGEMENT DEL PERU SAC</td>\n      <td>19B5402X012</td>\n      <td>PZ</td>\n      <td>N</td>\n      <td>NaN</td>\n      <td>...</td>\n      <td>0</td>\n      <td>NaN</td>\n      <td>NaN</td>\n      <td>NaN</td>\n      <td>NaN</td>\n      <td>NaN</td>\n      <td>NaN</td>\n      <td>NaN</td>\n      <td>NaN</td>\n      <td>NTC050NB1FA1B00</td>\n    </tr>\n    <tr>\n      <th>333</th>\n      <td>7</td>\n      <td>DVC  KIT,MISC SMALL HDWRE</td>\n      <td>DVC  KIT,MISC SMALL HDWRE</td>\n      <td>Fisher</td>\n      <td>19B5403X012</td>\n      <td>EMERSON PROCESS MANAGEMENT DEL PERU SAC</td>\n      <td>19B5403X012</td>\n      <td>PZ</td>\n      <td>N</td>\n      <td>NaN</td>\n      <td>...</td>\n      <td>0</td>\n      <td>NaN</td>\n      <td>NaN</td>\n      <td>NaN</td>\n      <td>NaN</td>\n      <td>NaN</td>\n      <td>NaN</td>\n      <td>NaN</td>\n      <td>NaN</td>\n      <td>NTC050NB1FA1B00</td>\n    </tr>\n    <tr>\n      <th>334</th>\n      <td>8</td>\n      <td>DVC - RELAY ASSEMBLY</td>\n      <td>DVC - RELAY ASSEMBLY</td>\n      <td>Fisher</td>\n      <td>38B5786X132</td>\n      <td>EMERSON PROCESS MANAGEMENT DEL PERU SAC</td>\n      <td>38B5786X132</td>\n      <td>PZ</td>\n      <td>N</td>\n      <td>NaN</td>\n      <td>...</td>\n      <td>0</td>\n      <td>NaN</td>\n      <td>NaN</td>\n      <td>NaN</td>\n      <td>NaN</td>\n      <td>NaN</td>\n      <td>NaN</td>\n      <td>NaN</td>\n      <td>NaN</td>\n      <td>NTC050NB1FA1B00</td>\n    </tr>\n  </tbody>\n</table>\n<p>5 rows × 31 columns</p>\n</div>"
     },
     "metadata": {},
     "execution_count": 16
    }
   ],
   "source": [
    "compSpareParts.tail()"
   ]
  },
  {
   "cell_type": "code",
   "execution_count": 17,
   "metadata": {},
   "outputs": [],
   "source": [
    "compSpareParts.to_csv(r'C:\\Users\\johan\\OneDrive\\Marcobre\\1.0 PROJECTS\\05. Catalogacion de Valvulas\\Válvulas Emerson\\224A - Spare Parts\\224A - Spare Parts\\comp.csv', encoding = 'utf-8')"
   ]
  },
  {
   "cell_type": "code",
   "execution_count": 18,
   "metadata": {},
   "outputs": [],
   "source": [
    "compSpareParts.to_excel(r'C:\\Users\\johan\\OneDrive\\Marcobre\\1.0 PROJECTS\\05. Catalogacion de Valvulas\\Válvulas Emerson\\224A - Spare Parts\\224A - Spare Parts\\comp.xlsx')"
   ]
  },
  {
   "cell_type": "code",
   "execution_count": null,
   "metadata": {},
   "outputs": [],
   "source": []
  }
 ]
}