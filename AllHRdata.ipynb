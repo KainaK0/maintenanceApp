{
 "cells": [
  {
   "cell_type": "code",
   "execution_count": 1,
   "metadata": {},
   "outputs": [],
   "source": [
    "import pandas as pd\n",
    "import os"
   ]
  },
  {
   "cell_type": "code",
   "execution_count": 3,
   "metadata": {},
   "outputs": [
    {
     "output_type": "stream",
     "name": "stdout",
     "text": [
      "0 - 0 - (428, 18) - (428, 18)5._Carga de hoja de ruta - GRUPO 10 (31.10 - PARTE2) V2.xlsx\n",
      "0 - 1 - (1483, 18) - (1911, 18)5._Carga de hoja de ruta - GRUPO 10 (31.10 - PARTE2) V2.xlsx\n",
      "1 - 0 - (1139, 18) - (3050, 18)5._Carga de hoja de ruta - GRUPO 11 EQ CON CAL (02.11) V2.xlsx\n",
      "1 - 1 - (590, 18) - (3640, 18)5._Carga de hoja de ruta - GRUPO 11 EQ CON CAL (02.11) V2.xlsx\n",
      "2 - 0 - (6008, 18) - (9648, 18)5._Carga de hoja de ruta - GRUPO 11 EQ CON PTO MEDIDA (02.11) V2.xlsx\n",
      "2 - 1 - (2531, 18) - (12179, 18)5._Carga de hoja de ruta - GRUPO 11 EQ CON PTO MEDIDA (02.11) V2.xlsx\n",
      "3 - 0 - (1953, 18) - (14132, 18)5._Carga de hoja de ruta - GRUPO 11 EQ CON UBTC (02.11) V2.xlsx\n",
      "3 - 1 - (642, 18) - (14774, 18)5._Carga de hoja de ruta - GRUPO 11 EQ CON UBTC (02.11) V2.xlsx\n",
      "4 - 0 - (421, 18) - (15195, 18)5._Carga de hoja de ruta - GRUPO 12 (03.11) EQ CON CAL.xlsx\n",
      "4 - 1 - (278, 18) - (15473, 18)5._Carga de hoja de ruta - GRUPO 12 (03.11) EQ CON CAL.xlsx\n",
      "5 - 0 - (2610, 18) - (18083, 18)5._Carga de hoja de ruta - GRUPO 12 (03.11) EQ CON PTO MEDIDA.xlsx\n",
      "5 - 1 - (1021, 18) - (19104, 18)5._Carga de hoja de ruta - GRUPO 12 (03.11) EQ CON PTO MEDIDA.xlsx\n",
      "6 - 0 - (4422, 18) - (23526, 18)5._Carga de hoja de ruta - GRUPO 12 (03.11) UBTC.xlsx\n",
      "6 - 1 - (2333, 18) - (25859, 18)5._Carga de hoja de ruta - GRUPO 12 (03.11) UBTC.xlsx\n",
      "7 - 0 - (9867, 18) - (35726, 18)5._Carga de hoja de ruta - GRUPO 5 Y 6 V2.xlsx\n",
      "7 - 1 - (3908, 18) - (39634, 18)5._Carga de hoja de ruta - GRUPO 5 Y 6 V2.xlsx\n",
      "8 - 0 - (5383, 18) - (45017, 18)5._Carga de hoja de ruta - GRUPO 7 (28.10) V2.xlsx\n",
      "8 - 1 - (3558, 18) - (48575, 18)5._Carga de hoja de ruta - GRUPO 7 (28.10) V2.xlsx\n",
      "9 - 0 - (6517, 18) - (55092, 18)5._Carga de hoja de ruta - GRUPO 8 (30.10) V2.xlsx\n",
      "9 - 1 - (3541, 18) - (58633, 18)5._Carga de hoja de ruta - GRUPO 8 (30.10) V2.xlsx\n",
      "10 - 0 - (5552, 18) - (64185, 18)5._Carga de hoja de ruta - GRUPO 9 (31.10) V2.xlsx\n",
      "10 - 1 - (2710, 18) - (66895, 18)5._Carga de hoja de ruta - GRUPO 9 (31.10) V2.xlsx\n",
      "11 - 0 - (1487, 18) - (68382, 18)5._Carga de hoja de ruta - PUERTO 2 (GRUPO 2).xlsx\n",
      "11 - 1 - (701, 18) - (69083, 18)5._Carga de hoja de ruta - PUERTO 2 (GRUPO 2).xlsx\n",
      "12 - 0 - (816, 18) - (69899, 18)5._Carga de hoja de ruta - PUERTO V1 PRD (GRUPO 1).xlsx\n",
      "12 - 1 - (272, 18) - (70171, 18)5._Carga de hoja de ruta - PUERTO V1 PRD (GRUPO 1).xlsx\n",
      "13 - 0 - (2971, 18) - (73142, 18)5._Carga de hoja de ruta JP11 PRD (GRUPO 3).xlsx\n",
      "13 - 1 - (867, 18) - (74009, 18)5._Carga de hoja de ruta JP11 PRD (GRUPO 3).xlsx\n",
      "14 - 0 - (18227, 18) - (92236, 18)5._Carga de hoja de ruta JP11 PRD 2 (GRUPO 4).xlsx\n",
      "14 - 1 - (4606, 18) - (96842, 18)5._Carga de hoja de ruta JP11 PRD 2 (GRUPO 4).xlsx\n"
     ]
    }
   ],
   "source": [
    "filerute = r'C:\\Users\\johan\\OneDrive\\Marcobre\\1.0 PROJECTS\\01. Crear budget de mantenimiento\\hr2csv\\HR'\n",
    "\n",
    "listHRfiles = os.listdir(filerute)\n",
    "HRfiles = [a for a in listHRfiles if a.find('xlsx')>1]\n",
    "\n",
    "counter = 0\n",
    "HRdb1 = pd.DataFrame(columns=[0, 1, 2, 3, 4, 5, 6, 7, 8, 9, 10, 11, 12, 13, 14, 15, 16, 17])\n",
    "for m in HRfiles:\n",
    "    for n in range(2):\n",
    "        HRdb = pd.read_excel(os.path.join(filerute,m),sheet_name=n,header = None,skiprows=6)\n",
    "        HRdb1 = pd.concat([HRdb,HRdb1])\n",
    "        \n",
    "        print(str(counter)+\" - \"+str(n)+\" - \"+str(HRdb.shape)+\" - \"+str(HRdb1.shape)+m)\n",
    "    counter = counter +1"
   ]
  },
  {
   "cell_type": "code",
   "execution_count": 22,
   "metadata": {},
   "outputs": [],
   "source": [
    "HRdb1.to_csv(filerute[0:-3] + r'\\allHRdata.csv',encoding='utf-8')"
   ]
  },
  {
   "cell_type": "code",
   "execution_count": 21,
   "metadata": {},
   "outputs": [
    {
     "output_type": "execute_result",
     "data": {
      "text/plain": [
       "'C:\\\\Users\\\\johan\\\\OneDrive\\\\Marcobre\\\\1.0 PROJECTS\\\\01. Crear budget de mantenimiento\\\\hr2csv\\\\allHRdata.csv'"
      ]
     },
     "metadata": {},
     "execution_count": 21
    }
   ],
   "source": [
    "filerute[0:-3] + r'\\allHRdata.csv'"
   ]
  }
 ],
 "metadata": {
  "kernelspec": {
   "name": "Python 3.8.6 64-bit",
   "display_name": "Python 3.8.6 64-bit",
   "metadata": {
    "interpreter": {
     "hash": "1baa965d5efe3ac65b79dfc60c0d706280b1da80fedb7760faf2759126c4f253"
    }
   }
  }
 },
 "nbformat": 4,
 "nbformat_minor": 4
}