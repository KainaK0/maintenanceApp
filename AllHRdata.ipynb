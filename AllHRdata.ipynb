{
 "cells": [
  {
   "cell_type": "code",
   "execution_count": 1,
   "metadata": {},
   "outputs": [],
   "source": [
    "import pandas as pd\n",
    "import os"
   ]
  },
  {
   "cell_type": "code",
   "execution_count": 2,
   "metadata": {},
   "outputs": [
    {
     "output_type": "stream",
     "name": "stdout",
     "text": [
      "0 - 0 - (421, 18) - (421, 18)5._Carga de hoja de ruta - GRUPO 10 V5.xlsx\n",
      "0 - 1 - (1499, 18) - (1920, 18)5._Carga de hoja de ruta - GRUPO 10 V5.xlsx\n",
      "1 - 0 - (1139, 18) - (3059, 18)5._Carga de hoja de ruta - GRUPO 11 EQ CAL V5.xlsx\n",
      "1 - 1 - (590, 18) - (3649, 18)5._Carga de hoja de ruta - GRUPO 11 EQ CAL V5.xlsx\n",
      "2 - 0 - (6008, 18) - (9657, 18)5._Carga de hoja de ruta - GRUPO 11 EQ PTO V5.xlsx\n",
      "2 - 1 - (2531, 18) - (12188, 18)5._Carga de hoja de ruta - GRUPO 11 EQ PTO V5.xlsx\n",
      "3 - 0 - (973, 18) - (13161, 18)5._Carga de hoja de ruta - GRUPO 11 UBT CAL V6.xlsx\n",
      "3 - 1 - (711, 18) - (13872, 18)5._Carga de hoja de ruta - GRUPO 11 UBT CAL V6.xlsx\n",
      "4 - 0 - (375, 18) - (14247, 18)5._Carga de hoja de ruta - GRUPO 12 EQ CAL V5.xlsx\n",
      "4 - 1 - (262, 18) - (14509, 18)5._Carga de hoja de ruta - GRUPO 12 EQ CAL V5.xlsx\n",
      "5 - 0 - (2693, 18) - (17202, 18)5._Carga de hoja de ruta - GRUPO 12 EQ PTO V5.xlsx\n",
      "5 - 1 - (1037, 18) - (18239, 18)5._Carga de hoja de ruta - GRUPO 12 EQ PTO V5.xlsx\n",
      "6 - 0 - (4422, 18) - (22661, 18)5._Carga de hoja de ruta - GRUPO 12 UBT PTO V5.xlsx\n",
      "6 - 1 - (2333, 18) - (24994, 18)5._Carga de hoja de ruta - GRUPO 12 UBT PTO V5.xlsx\n",
      "7 - 0 - (18227, 18) - (43221, 18)5._Carga de hoja de ruta - GRUPO 4 V5.xlsx\n",
      "7 - 1 - (4875, 18) - (48096, 18)5._Carga de hoja de ruta - GRUPO 4 V5.xlsx\n",
      "8 - 0 - (9867, 18) - (57963, 18)5._Carga de hoja de ruta - GRUPO 5,6 V5.xlsx\n",
      "8 - 1 - (3908, 18) - (61871, 18)5._Carga de hoja de ruta - GRUPO 5,6 V5.xlsx\n",
      "9 - 0 - (5383, 18) - (67254, 18)5._Carga de hoja de ruta - GRUPO 7 V5.xlsx\n",
      "9 - 1 - (3558, 18) - (70812, 18)5._Carga de hoja de ruta - GRUPO 7 V5.xlsx\n",
      "10 - 0 - (6517, 18) - (77329, 18)5._Carga de hoja de ruta - GRUPO 8 V5.xlsx\n",
      "10 - 1 - (3541, 18) - (80870, 18)5._Carga de hoja de ruta - GRUPO 8 V5.xlsx\n",
      "11 - 0 - (5550, 18) - (86420, 18)5._Carga de hoja de ruta - GRUPO 9 V6.xlsx\n",
      "11 - 1 - (2710, 18) - (89130, 18)5._Carga de hoja de ruta - GRUPO 9 V6.xlsx\n",
      "12 - 0 - (1487, 18) - (90617, 18)5._Carga de hoja de ruta - PUERTO 2 (GRUPO 2).xlsx\n",
      "12 - 1 - (701, 18) - (91318, 18)5._Carga de hoja de ruta - PUERTO 2 (GRUPO 2).xlsx\n",
      "13 - 0 - (816, 18) - (92134, 18)5._Carga de hoja de ruta - PUERTO V1 PRD (GRUPO 1).xlsx\n",
      "13 - 1 - (272, 18) - (92406, 18)5._Carga de hoja de ruta - PUERTO V1 PRD (GRUPO 1).xlsx\n",
      "14 - 0 - (2971, 18) - (95377, 18)5._Carga de hoja de ruta JP11 PRD (GRUPO 3).xlsx\n",
      "14 - 1 - (867, 18) - (96244, 18)5._Carga de hoja de ruta JP11 PRD (GRUPO 3).xlsx\n"
     ]
    }
   ],
   "source": [
    "filerute = r'C:\\Users\\johan\\OneDrive\\Marcobre\\1.0 PROJECTS\\01. Crear budget de mantenimiento\\hr2csv\\TECSUP\\HR\\HOJA DE RUTA V5'\n",
    "\n",
    "listHRfiles = os.listdir(filerute)\n",
    "HRfiles = [a for a in listHRfiles if a.find('xlsx')>1]\n",
    "\n",
    "counter = 0\n",
    "HRdb1 = pd.DataFrame(columns=[0, 1, 2, 3, 4, 5, 6, 7, 8, 9, 10, 11, 12, 13, 14, 15, 16, 17])\n",
    "for m in HRfiles:\n",
    "    for n in range(2):\n",
    "        HRdb = pd.read_excel(os.path.join(filerute,m),sheet_name=n,header = None,skiprows=6)\n",
    "        HRdb1 = pd.concat([HRdb,HRdb1])\n",
    "        \n",
    "        print(str(counter)+\" - \"+str(n)+\" - \"+str(HRdb.shape)+\" - \"+str(HRdb1.shape)+m)\n",
    "    counter = counter +1"
   ]
  },
  {
   "cell_type": "code",
   "execution_count": 3,
   "metadata": {},
   "outputs": [],
   "source": [
    "HRfiles = [a for a in listHRfiles if a.find('xlsx')>1]"
   ]
  },
  {
   "cell_type": "code",
   "execution_count": 4,
   "metadata": {},
   "outputs": [],
   "source": [
    "rutecomp = r'C:\\Users\\johan\\OneDrive\\Marcobre\\1.0 PROJECTS\\01. Crear budget de mantenimiento\\hr2csv\\TECSUP\\HR'\n",
    "HRdb1.to_csv(rutecomp + r'\\allHRdata.csv',encoding='utf-8',index = False)"
   ]
  },
  {
   "cell_type": "code",
   "execution_count": 5,
   "metadata": {},
   "outputs": [],
   "source": [
    "a = [HRfiles[1][HRfiles[1].find('GRUPO') + 6 + a:HRfiles[1].find('GRUPO') + 7 + a] for a in range(len(HRfiles[1][HRfiles[1].find('GRUPO') + 6:]))]"
   ]
  },
  {
   "cell_type": "code",
   "execution_count": 6,
   "metadata": {},
   "outputs": [
    {
     "output_type": "execute_result",
     "data": {
      "text/plain": [
       "['10 ',\n",
       " '11 ',\n",
       " '11 ',\n",
       " '11 ',\n",
       " '12 ',\n",
       " '12 ',\n",
       " '12 ',\n",
       " '4 V',\n",
       " '5,6',\n",
       " '7 V',\n",
       " '8 V',\n",
       " '9 V',\n",
       " '2).',\n",
       " '1).',\n",
       " '3).']"
      ]
     },
     "metadata": {},
     "execution_count": 6
    }
   ],
   "source": [
    "[HRfiles[b][HRfiles[b].find('GRUPO') + 6:HRfiles[b].find('GRUPO') + 9] for b in range(len(HRfiles))]"
   ]
  },
  {
   "cell_type": "code",
   "execution_count": 60,
   "metadata": {},
   "outputs": [
    {
     "output_type": "execute_result",
     "data": {
      "text/plain": [
       "17"
      ]
     },
     "metadata": {},
     "execution_count": 60
    }
   ],
   "source": [
    "len(HRfiles)"
   ]
  },
  {
   "cell_type": "code",
   "execution_count": null,
   "metadata": {},
   "outputs": [],
   "source": [
    "HRfiles[1].rfind()"
   ]
  },
  {
   "source": [
    "HRdb1.head()"
   ],
   "cell_type": "code",
   "metadata": {},
   "execution_count": null,
   "outputs": []
  },
  {
   "cell_type": "code",
   "execution_count": null,
   "metadata": {},
   "outputs": [],
   "source": []
  }
 ],
 "metadata": {
  "kernelspec": {
   "name": "python3",
   "display_name": "Python 3.8.6 64-bit",
   "metadata": {
    "interpreter": {
     "hash": "1baa965d5efe3ac65b79dfc60c0d706280b1da80fedb7760faf2759126c4f253"
    }
   }
  }
 },
 "nbformat": 4,
 "nbformat_minor": 4
}