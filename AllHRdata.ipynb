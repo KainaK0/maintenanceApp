{
 "cells": [
  {
   "cell_type": "code",
   "execution_count": 1,
   "metadata": {},
   "outputs": [],
   "source": [
    "import pandas as pd\n",
    "import os"
   ]
  },
  {
   "cell_type": "code",
   "execution_count": 19,
   "metadata": {},
   "outputs": [
    {
     "output_type": "stream",
     "name": "stdout",
     "text": [
      "0 - 0 - (421, 18) - (421, 18)5._Carga de hoja de ruta - GRUPO 10 V5.xlsx\n",
      "0 - 1 - (1499, 18) - (1920, 18)5._Carga de hoja de ruta - GRUPO 10 V5.xlsx\n",
      "1 - 0 - (1139, 18) - (3059, 18)5._Carga de hoja de ruta - GRUPO 11 EQ CAL V5.xlsx\n",
      "1 - 1 - (590, 18) - (3649, 18)5._Carga de hoja de ruta - GRUPO 11 EQ CAL V5.xlsx\n",
      "2 - 0 - (6008, 18) - (9657, 18)5._Carga de hoja de ruta - GRUPO 11 EQ PTO V5.xlsx\n",
      "2 - 1 - (2531, 18) - (12188, 18)5._Carga de hoja de ruta - GRUPO 11 EQ PTO V5.xlsx\n",
      "3 - 0 - (2103, 18) - (14291, 18)5._Carga de hoja de ruta - GRUPO 11 UBT CAL V5.xlsx\n",
      "3 - 1 - (711, 18) - (15002, 18)5._Carga de hoja de ruta - GRUPO 11 UBT CAL V5.xlsx\n",
      "4 - 0 - (973, 18) - (15975, 18)5._Carga de hoja de ruta - GRUPO 11 UBT CAL V6.xlsx\n",
      "4 - 1 - (711, 18) - (16686, 18)5._Carga de hoja de ruta - GRUPO 11 UBT CAL V6.xlsx\n",
      "5 - 0 - (375, 18) - (17061, 18)5._Carga de hoja de ruta - GRUPO 12 EQ CAL V5.xlsx\n",
      "5 - 1 - (262, 18) - (17323, 18)5._Carga de hoja de ruta - GRUPO 12 EQ CAL V5.xlsx\n",
      "6 - 0 - (2693, 18) - (20016, 18)5._Carga de hoja de ruta - GRUPO 12 EQ PTO V5.xlsx\n",
      "6 - 1 - (1037, 18) - (21053, 18)5._Carga de hoja de ruta - GRUPO 12 EQ PTO V5.xlsx\n",
      "7 - 0 - (4422, 18) - (25475, 18)5._Carga de hoja de ruta - GRUPO 12 UBT PTO V5.xlsx\n",
      "7 - 1 - (2333, 18) - (27808, 18)5._Carga de hoja de ruta - GRUPO 12 UBT PTO V5.xlsx\n",
      "8 - 0 - (18227, 18) - (46035, 18)5._Carga de hoja de ruta - GRUPO 4 V5.xlsx\n",
      "8 - 1 - (4875, 18) - (50910, 18)5._Carga de hoja de ruta - GRUPO 4 V5.xlsx\n",
      "9 - 0 - (9867, 18) - (60777, 18)5._Carga de hoja de ruta - GRUPO 5,6 V5.xlsx\n",
      "9 - 1 - (3908, 18) - (64685, 18)5._Carga de hoja de ruta - GRUPO 5,6 V5.xlsx\n",
      "10 - 0 - (5383, 18) - (70068, 18)5._Carga de hoja de ruta - GRUPO 7 V5.xlsx\n",
      "10 - 1 - (3558, 18) - (73626, 18)5._Carga de hoja de ruta - GRUPO 7 V5.xlsx\n",
      "11 - 0 - (6517, 18) - (80143, 18)5._Carga de hoja de ruta - GRUPO 8 V5.xlsx\n",
      "11 - 1 - (3541, 18) - (83684, 18)5._Carga de hoja de ruta - GRUPO 8 V5.xlsx\n",
      "12 - 0 - (5552, 18) - (89236, 18)5._Carga de hoja de ruta - GRUPO 9 V5.xlsx\n",
      "12 - 1 - (2710, 18) - (91946, 18)5._Carga de hoja de ruta - GRUPO 9 V5.xlsx\n",
      "13 - 0 - (5550, 18) - (97496, 18)5._Carga de hoja de ruta - GRUPO 9 V6.xlsx\n",
      "13 - 1 - (2710, 18) - (100206, 18)5._Carga de hoja de ruta - GRUPO 9 V6.xlsx\n",
      "14 - 0 - (1487, 18) - (101693, 18)5._Carga de hoja de ruta - PUERTO 2 (GRUPO 2).xlsx\n",
      "14 - 1 - (701, 18) - (102394, 18)5._Carga de hoja de ruta - PUERTO 2 (GRUPO 2).xlsx\n",
      "15 - 0 - (816, 18) - (103210, 18)5._Carga de hoja de ruta - PUERTO V1 PRD (GRUPO 1).xlsx\n",
      "15 - 1 - (272, 18) - (103482, 18)5._Carga de hoja de ruta - PUERTO V1 PRD (GRUPO 1).xlsx\n",
      "16 - 0 - (2971, 18) - (106453, 18)5._Carga de hoja de ruta JP11 PRD (GRUPO 3).xlsx\n",
      "16 - 1 - (867, 18) - (107320, 18)5._Carga de hoja de ruta JP11 PRD (GRUPO 3).xlsx\n"
     ]
    }
   ],
   "source": [
    "filerute = r'C:\\Users\\johan\\OneDrive\\Marcobre\\1.0 PROJECTS\\01. Crear budget de mantenimiento\\hr2csv\\TECSUP\\HR\\HOJA DE RUTA V5'\n",
    "\n",
    "listHRfiles = os.listdir(filerute)\n",
    "HRfiles = [a for a in listHRfiles if a.find('xlsx')>1]\n",
    "\n",
    "counter = 0\n",
    "HRdb1 = pd.DataFrame(columns=[0, 1, 2, 3, 4, 5, 6, 7, 8, 9, 10, 11, 12, 13, 14, 15, 16, 17])\n",
    "for m in HRfiles:\n",
    "    for n in range(2):\n",
    "        HRdb = pd.read_excel(os.path.join(filerute,m),sheet_name=n,header = None,skiprows=6)\n",
    "        HRdb1 = pd.concat([HRdb,HRdb1])\n",
    "        \n",
    "        print(str(counter)+\" - \"+str(n)+\" - \"+str(HRdb.shape)+\" - \"+str(HRdb1.shape)+m)\n",
    "    counter = counter +1"
   ]
  },
  {
   "cell_type": "code",
   "execution_count": 20,
   "metadata": {},
   "outputs": [],
   "source": [
    "rutecomp = r'C:\\Users\\johan\\OneDrive\\Marcobre\\1.0 PROJECTS\\01. Crear budget de mantenimiento\\hr2csv\\TECSUP\\HR'\n",
    "HRdb1.to_csv(rutecomp + r'\\allHRdata.csv',encoding='utf-8',index = False)"
   ]
  },
  {
   "cell_type": "code",
   "execution_count": 22,
   "metadata": {},
   "outputs": [
    {
     "output_type": "execute_result",
     "data": {
      "text/plain": [
       "(107320, 18)"
      ]
     },
     "metadata": {},
     "execution_count": 22
    }
   ],
   "source": [
    "HRdb1.shape"
   ]
  },
  {
   "source": [
    "HRdb1.head()"
   ],
   "cell_type": "code",
   "metadata": {},
   "execution_count": 23,
   "outputs": [
    {
     "output_type": "execute_result",
     "data": {
      "text/plain": [
       "  0         1                                                  2   \\\n",
       "0  1  10016632                                                 X1   \n",
       "1  2  10016632                                                 10   \n",
       "2  3  10016632              Cambio botella y/o rodam (en taller)    \n",
       "3  3  10016632  Abrir el botella para dejar visibles y expuest...   \n",
       "4  3  10016632  internos, retirar sellos laberinto, tuercas de...   \n",
       "\n",
       "                                         3        4   \\\n",
       "0  COND_MEC_CELDA Cambio botella o rodamien  TEC-MEC   \n",
       "1                                   TEC-MEC     PM01   \n",
       "2                                       NaN      NaN   \n",
       "3                                       NaN      NaN   \n",
       "4                                       NaN      NaN   \n",
       "\n",
       "                                      5     6    7    8    9       10  11  12  \\\n",
       "0                                   JP11   4.0  P01  4.0  1.0  HOR002 NaN NaN   \n",
       "1  Cambio botella y/o rodam (en taller)   16.0    H  2.0  8.0       H NaN NaN   \n",
       "2                                    NaN   NaN  NaN  NaN  NaN     NaN NaN NaN   \n",
       "3                                    NaN   NaN  NaN  NaN  NaN     NaN NaN NaN   \n",
       "4                                    NaN   NaN  NaN  NaN  NaN     NaN NaN NaN   \n",
       "\n",
       "   13  14  15  16  17  \n",
       "0 NaN NaN NaN NaN NaN  \n",
       "1 NaN NaN NaN NaN NaN  \n",
       "2 NaN NaN NaN NaN NaN  \n",
       "3 NaN NaN NaN NaN NaN  \n",
       "4 NaN NaN NaN NaN NaN  "
      ],
      "text/html": "<div>\n<style scoped>\n    .dataframe tbody tr th:only-of-type {\n        vertical-align: middle;\n    }\n\n    .dataframe tbody tr th {\n        vertical-align: top;\n    }\n\n    .dataframe thead th {\n        text-align: right;\n    }\n</style>\n<table border=\"1\" class=\"dataframe\">\n  <thead>\n    <tr style=\"text-align: right;\">\n      <th></th>\n      <th>0</th>\n      <th>1</th>\n      <th>2</th>\n      <th>3</th>\n      <th>4</th>\n      <th>5</th>\n      <th>6</th>\n      <th>7</th>\n      <th>8</th>\n      <th>9</th>\n      <th>10</th>\n      <th>11</th>\n      <th>12</th>\n      <th>13</th>\n      <th>14</th>\n      <th>15</th>\n      <th>16</th>\n      <th>17</th>\n    </tr>\n  </thead>\n  <tbody>\n    <tr>\n      <th>0</th>\n      <td>1</td>\n      <td>10016632</td>\n      <td>X1</td>\n      <td>COND_MEC_CELDA Cambio botella o rodamien</td>\n      <td>TEC-MEC</td>\n      <td>JP11</td>\n      <td>4.0</td>\n      <td>P01</td>\n      <td>4.0</td>\n      <td>1.0</td>\n      <td>HOR002</td>\n      <td>NaN</td>\n      <td>NaN</td>\n      <td>NaN</td>\n      <td>NaN</td>\n      <td>NaN</td>\n      <td>NaN</td>\n      <td>NaN</td>\n    </tr>\n    <tr>\n      <th>1</th>\n      <td>2</td>\n      <td>10016632</td>\n      <td>10</td>\n      <td>TEC-MEC</td>\n      <td>PM01</td>\n      <td>Cambio botella y/o rodam (en taller)</td>\n      <td>16.0</td>\n      <td>H</td>\n      <td>2.0</td>\n      <td>8.0</td>\n      <td>H</td>\n      <td>NaN</td>\n      <td>NaN</td>\n      <td>NaN</td>\n      <td>NaN</td>\n      <td>NaN</td>\n      <td>NaN</td>\n      <td>NaN</td>\n    </tr>\n    <tr>\n      <th>2</th>\n      <td>3</td>\n      <td>10016632</td>\n      <td>Cambio botella y/o rodam (en taller)</td>\n      <td>NaN</td>\n      <td>NaN</td>\n      <td>NaN</td>\n      <td>NaN</td>\n      <td>NaN</td>\n      <td>NaN</td>\n      <td>NaN</td>\n      <td>NaN</td>\n      <td>NaN</td>\n      <td>NaN</td>\n      <td>NaN</td>\n      <td>NaN</td>\n      <td>NaN</td>\n      <td>NaN</td>\n      <td>NaN</td>\n    </tr>\n    <tr>\n      <th>3</th>\n      <td>3</td>\n      <td>10016632</td>\n      <td>Abrir el botella para dejar visibles y expuest...</td>\n      <td>NaN</td>\n      <td>NaN</td>\n      <td>NaN</td>\n      <td>NaN</td>\n      <td>NaN</td>\n      <td>NaN</td>\n      <td>NaN</td>\n      <td>NaN</td>\n      <td>NaN</td>\n      <td>NaN</td>\n      <td>NaN</td>\n      <td>NaN</td>\n      <td>NaN</td>\n      <td>NaN</td>\n      <td>NaN</td>\n    </tr>\n    <tr>\n      <th>4</th>\n      <td>3</td>\n      <td>10016632</td>\n      <td>internos, retirar sellos laberinto, tuercas de...</td>\n      <td>NaN</td>\n      <td>NaN</td>\n      <td>NaN</td>\n      <td>NaN</td>\n      <td>NaN</td>\n      <td>NaN</td>\n      <td>NaN</td>\n      <td>NaN</td>\n      <td>NaN</td>\n      <td>NaN</td>\n      <td>NaN</td>\n      <td>NaN</td>\n      <td>NaN</td>\n      <td>NaN</td>\n      <td>NaN</td>\n    </tr>\n  </tbody>\n</table>\n</div>"
     },
     "metadata": {},
     "execution_count": 23
    }
   ]
  },
  {
   "cell_type": "code",
   "execution_count": null,
   "metadata": {},
   "outputs": [],
   "source": []
  }
 ],
 "metadata": {
  "kernelspec": {
   "name": "python3",
   "display_name": "Python 3.8.6 64-bit",
   "metadata": {
    "interpreter": {
     "hash": "1baa965d5efe3ac65b79dfc60c0d706280b1da80fedb7760faf2759126c4f253"
    }
   }
  }
 },
 "nbformat": 4,
 "nbformat_minor": 4
}