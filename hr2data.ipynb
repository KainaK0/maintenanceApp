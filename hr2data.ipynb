{
 "cells": [
  {
   "cell_type": "code",
   "execution_count": 1,
   "metadata": {},
   "outputs": [],
   "source": [
    "import pandas as pd\n",
    "import os"
   ]
  },
  {
   "cell_type": "code",
   "execution_count": 2,
   "metadata": {},
   "outputs": [],
   "source": [
    "filefolder = r'C:\\Users\\johan\\OneDrive\\Marcobre\\1.0 PROJECTS\\01. Crear budget de mantenimiento\\hr2csv'\n",
    "filename = r'5._Carga de hoja de ruta - GRUPO 5.xlsx'"
   ]
  },
  {
   "cell_type": "code",
   "execution_count": 3,
   "metadata": {},
   "outputs": [],
   "source": [
    "filerute = os.path.join(filefolder,filename)"
   ]
  },
  {
   "cell_type": "code",
   "execution_count": 10,
   "metadata": {},
   "outputs": [],
   "source": [
    "db = pd.read_excel(filerute,sheet_name=0, skiprows = 6, header = None)"
   ]
  },
  {
   "cell_type": "code",
   "execution_count": 151,
   "metadata": {
    "tags": []
   },
   "outputs": [],
   "source": [
    "# Hojas de ruta\n",
    "HR = db.loc[db.iloc[:,0] == 1,:]\n",
    "HR.drop(labels=[11,12,13,14,15,16,17], axis = 1, inplace = True)\n",
    "HRcolumnsname = [0,'Eq','Contador','HRDescripcion','HRPuesto','Centro','Utilizacion','GPlanificacion', 'EstadoGlobal','EstadoInstalacion','Estrategia']\n",
    "HR.columns = HRcolumnsname\n",
    "HR.loc[:,'HRContador'] = HR['Eq'] + HR['Contador']"
   ]
  },
  {
   "cell_type": "code",
   "execution_count": 43,
   "metadata": {},
   "outputs": [],
   "source": [
    "EQlist = HR.drop_duplicates(subset = ['Eq'])\n",
    "#EQlist.drop(labels = [0,2,3,4,5,6,7,8,9,10], axis=1, inplace= True)\n",
    "EQlist.reset_index(drop= True,inplace=True)"
   ]
  },
  {
   "cell_type": "code",
   "execution_count": 166,
   "metadata": {},
   "outputs": [],
   "source": [
    "# Posiciones de las Hojas de Ruta\n",
    "PHR = db.loc[db.iloc[:,0] == 2,:]\n",
    "PHR.drop(columns = [10,11,12,13,14,15,16,17],inplace = True)\n",
    "PHRcolumnsname = [0,'Eq','pos','Puesto','ClaseOT','Actividades','HH','H','ACant','AHoras']\n",
    "PHR.columns = PHRcolumnsname"
   ]
  },
  {
   "cell_type": "code",
   "execution_count": 45,
   "metadata": {},
   "outputs": [],
   "source": [
    "# Actividad detallada de laPosiciones de las Hojas de Ruta\n",
    "AHR = db.loc[db.iloc[:,0] == 3,:]"
   ]
  },
  {
   "cell_type": "code",
   "execution_count": 198,
   "metadata": {
    "tags": []
   },
   "outputs": [],
   "source": [
    "nm1=0\n",
    "#HR.tail(1).index.values[0] = last index of HR dataframe\n",
    "for m in PHR.index:\n",
    "    for n in HR.index:\n",
    "        if nm1<=m and m<=n:\n",
    "            PHR.loc[m,'HRContador'] = HR.loc[nm1,'HRContador']\n",
    "            break\n",
    "        elif m>=HR.tail(1).index.values[0]:\n",
    "            PHR.loc[m,'HRContador'] = HR.loc[HR.tail(1).index.values[0],'HRContador']\n",
    "            break\n",
    "        nm1 = n\n",
    "PHR.loc[:,'posHRContador'] = PHR.loc[:,'HRContador'] + PHR.loc[:,'pos'].astype(str)"
   ]
  },
  {
   "cell_type": "code",
   "execution_count": 194,
   "metadata": {},
   "outputs": [],
   "source": []
  },
  {
   "cell_type": "code",
   "execution_count": 200,
   "metadata": {},
   "outputs": [
    {
     "output_type": "execute_result",
     "data": {
      "text/plain": [
       "0"
      ]
     },
     "metadata": {},
     "execution_count": 200
    }
   ],
   "source": [
    "PHR.duplicated(subset = 'posHRContador').sum()"
   ]
  },
  {
   "cell_type": "code",
   "execution_count": 206,
   "metadata": {},
   "outputs": [],
   "source": [
    "# Materiales de Hojas de Ruta\n",
    "MHR = db.loc[db.iloc[:,0] == 4,:]\n",
    "MHR = MHR.drop(columns = [4,5,6,7,8,9,10,11,12,13,14,15,16,17])\n",
    "MHRcolumnsname = [0,'Eq','Material','MCantidad']\n",
    "MHR.columns = MHRcolumnsname"
   ]
  },
  {
   "cell_type": "code",
   "execution_count": 214,
   "metadata": {},
   "outputs": [],
   "source": [
    "nm1=0\n",
    "#HR.tail(1).index.values[0] = last index of HR dataframe\n",
    "for m in MHR.index:\n",
    "    for n in PHR.index:\n",
    "        if nm1<=m and m<=n:\n",
    "            MHR.loc[m,'posHRContador'] = PHR.loc[nm1,'posHRContador']\n",
    "            MHR.loc[m,'HRContador'] = PHR.loc[nm1,'HRContador']\n",
    "            break\n",
    "        elif m>=PHR.tail(1).index.values[0]:\n",
    "            MHR.loc[m,'posHRContador'] = PHR.loc[HR.tail(1).index.values[0],'posHRContador']\n",
    "            MHR.loc[m,'HRContador'] = PHR.loc[HR.tail(1).index.values[0],'HRContador']\n",
    "            break\n",
    "        nm1 = n\n",
    "#PHR.loc[:,'posHRContador'] = PHR.loc[:,'HRContador'] + PHR.loc[:,'pos'].astype(str)"
   ]
  },
  {
   "cell_type": "code",
   "execution_count": 247,
   "metadata": {},
   "outputs": [
    {
     "output_type": "execute_result",
     "data": {
      "text/plain": [
       "     0       Eq Contador                    HRDescripcion HRPuesto Centro  \\\n",
       "0    1  MBOM020       M1  INSP_MEC_BOMBA_SUMMIT 2196MTO-7  TEC-MEC   JP11   \n",
       "24   1  MBOM020       M2  PREV_MEC_BOMBA_SUMMIT 2196MTO-7  TEC-MEC   JP11   \n",
       "67   1  MBOM020       E1  INSP_ELE_BOMBA_SUMMIT 2196MTO-7  TEC-ELE   JP11   \n",
       "77   1  MBOM020       E2  PREV_ELE_BOMBA_SUMMIT 2196MTO-7  TEC-ELE   JP11   \n",
       "143  1  MBOM020       I1  INSP_INS_BOMBA_SUMMIT 2196MTO-7  TEC-INS   JP11   \n",
       "\n",
       "     Utilizacion GPlanificacion  EstadoGlobal  EstadoInstalacion Estrategia  \\\n",
       "0            4.0            P01           4.0                1.0     HOR002   \n",
       "24           4.0            P01           4.0                1.0     HOR002   \n",
       "67           4.0            P01           4.0                1.0     CAL001   \n",
       "77           4.0            P01           4.0                1.0     HOR002   \n",
       "143          4.0            P01           4.0                1.0     CAL001   \n",
       "\n",
       "    HRContador  \n",
       "0    MBOM020M1  \n",
       "24   MBOM020M2  \n",
       "67   MBOM020E1  \n",
       "77   MBOM020E2  \n",
       "143  MBOM020I1  "
      ],
      "text/html": "<div>\n<style scoped>\n    .dataframe tbody tr th:only-of-type {\n        vertical-align: middle;\n    }\n\n    .dataframe tbody tr th {\n        vertical-align: top;\n    }\n\n    .dataframe thead th {\n        text-align: right;\n    }\n</style>\n<table border=\"1\" class=\"dataframe\">\n  <thead>\n    <tr style=\"text-align: right;\">\n      <th></th>\n      <th>0</th>\n      <th>Eq</th>\n      <th>Contador</th>\n      <th>HRDescripcion</th>\n      <th>HRPuesto</th>\n      <th>Centro</th>\n      <th>Utilizacion</th>\n      <th>GPlanificacion</th>\n      <th>EstadoGlobal</th>\n      <th>EstadoInstalacion</th>\n      <th>Estrategia</th>\n      <th>HRContador</th>\n    </tr>\n  </thead>\n  <tbody>\n    <tr>\n      <th>0</th>\n      <td>1</td>\n      <td>MBOM020</td>\n      <td>M1</td>\n      <td>INSP_MEC_BOMBA_SUMMIT 2196MTO-7</td>\n      <td>TEC-MEC</td>\n      <td>JP11</td>\n      <td>4.0</td>\n      <td>P01</td>\n      <td>4.0</td>\n      <td>1.0</td>\n      <td>HOR002</td>\n      <td>MBOM020M1</td>\n    </tr>\n    <tr>\n      <th>24</th>\n      <td>1</td>\n      <td>MBOM020</td>\n      <td>M2</td>\n      <td>PREV_MEC_BOMBA_SUMMIT 2196MTO-7</td>\n      <td>TEC-MEC</td>\n      <td>JP11</td>\n      <td>4.0</td>\n      <td>P01</td>\n      <td>4.0</td>\n      <td>1.0</td>\n      <td>HOR002</td>\n      <td>MBOM020M2</td>\n    </tr>\n    <tr>\n      <th>67</th>\n      <td>1</td>\n      <td>MBOM020</td>\n      <td>E1</td>\n      <td>INSP_ELE_BOMBA_SUMMIT 2196MTO-7</td>\n      <td>TEC-ELE</td>\n      <td>JP11</td>\n      <td>4.0</td>\n      <td>P01</td>\n      <td>4.0</td>\n      <td>1.0</td>\n      <td>CAL001</td>\n      <td>MBOM020E1</td>\n    </tr>\n    <tr>\n      <th>77</th>\n      <td>1</td>\n      <td>MBOM020</td>\n      <td>E2</td>\n      <td>PREV_ELE_BOMBA_SUMMIT 2196MTO-7</td>\n      <td>TEC-ELE</td>\n      <td>JP11</td>\n      <td>4.0</td>\n      <td>P01</td>\n      <td>4.0</td>\n      <td>1.0</td>\n      <td>HOR002</td>\n      <td>MBOM020E2</td>\n    </tr>\n    <tr>\n      <th>143</th>\n      <td>1</td>\n      <td>MBOM020</td>\n      <td>I1</td>\n      <td>INSP_INS_BOMBA_SUMMIT 2196MTO-7</td>\n      <td>TEC-INS</td>\n      <td>JP11</td>\n      <td>4.0</td>\n      <td>P01</td>\n      <td>4.0</td>\n      <td>1.0</td>\n      <td>CAL001</td>\n      <td>MBOM020I1</td>\n    </tr>\n  </tbody>\n</table>\n</div>"
     },
     "metadata": {},
     "execution_count": 247
    }
   ],
   "source": [
    "HR.head()"
   ]
  },
  {
   "cell_type": "code",
   "execution_count": 245,
   "metadata": {},
   "outputs": [],
   "source": [
    "allDutiesMat = pd.merge(PHR.loc[:,['Eq','pos','Actividades','Puesto','ClaseOT','ACant','AHoras','HRContador','posHRContador']],MHR.loc[:,['posHRContador','Material','MCantidad']],on='posHRContador',how='left')"
   ]
  },
  {
   "cell_type": "code",
   "execution_count": 246,
   "metadata": {},
   "outputs": [
    {
     "output_type": "execute_result",
     "data": {
      "text/plain": [
       "         Eq pos                               Actividades   Puesto ClaseOT  \\\n",
       "0   MBOM020  10  Inspeccion mantenimiento de acople 2000H  TEC-MEC    PM01   \n",
       "1   MBOM020  20             Inspeccion general bomba 330H  TEC-MEC    PM01   \n",
       "2   MBOM020  30             Inspeccion general bomba 660H  TEC-MEC    PM01   \n",
       "3   MBOM020  10                  Cambio de impulsor 4000H  TEC-MEC    PM01   \n",
       "4   MBOM020  20            Cambio de sello mecanico 8000H  TEC-MEC    PM01   \n",
       "5   MBOM020  30                       Cambio de eje 8000H  TEC-MEC    PM01   \n",
       "6   MBOM020  40        Cambio de elementos de union 8000H  TEC-MEC    PM01   \n",
       "7   MBOM020  50                Mtto general carcasa 8000H  TEC-MEC    PM01   \n",
       "8   MBOM020  10           Inspeccion general del motor 2S  TEC-ELE    PM01   \n",
       "9   MBOM020  10        Mantenimiento menor de motor 2000H  TEC-ELE    PM01   \n",
       "10  MBOM020  20                  Lubricacion motor 19000H  TEC-ELE    PM01   \n",
       "11  MBOM020  30           Mantenimiento Preventivo  8000H  TEC-ELE    PM01   \n",
       "12  MBOM020  40                   Mtto general motor 330H  TEC-ELE    PM01   \n",
       "\n",
       "    ACant  AHoras HRContador posHRContador Material MCantidad  \n",
       "0     1.0     1.0  MBOM020M1   MBOM020M110      NaN       NaN  \n",
       "1     2.0     0.4  MBOM020M1   MBOM020M120      NaN       NaN  \n",
       "2     2.0     0.6  MBOM020M1   MBOM020M130      NaN       NaN  \n",
       "3     3.0     6.0  MBOM020M2   MBOM020M210      NaN       NaN  \n",
       "4     2.0     3.0  MBOM020M2   MBOM020M220      NaN       NaN  \n",
       "5     2.0     5.0  MBOM020M2   MBOM020M230      NaN       NaN  \n",
       "6     2.0     1.0  MBOM020M2   MBOM020M240      NaN       NaN  \n",
       "7     2.0    18.0  MBOM020M2   MBOM020M250      NaN       NaN  \n",
       "8     2.0     0.5  MBOM020E1   MBOM020E110      NaN       NaN  \n",
       "9     2.0     2.0  MBOM020E2   MBOM020E210      NaN       NaN  \n",
       "10    1.0     0.5  MBOM020E2   MBOM020E220  2530835     0.026  \n",
       "11    2.0     2.0  MBOM020E2   MBOM020E230      NaN       NaN  \n",
       "12    2.0     0.5  MBOM020E2   MBOM020E240      NaN       NaN  "
      ],
      "text/html": "<div>\n<style scoped>\n    .dataframe tbody tr th:only-of-type {\n        vertical-align: middle;\n    }\n\n    .dataframe tbody tr th {\n        vertical-align: top;\n    }\n\n    .dataframe thead th {\n        text-align: right;\n    }\n</style>\n<table border=\"1\" class=\"dataframe\">\n  <thead>\n    <tr style=\"text-align: right;\">\n      <th></th>\n      <th>Eq</th>\n      <th>pos</th>\n      <th>Actividades</th>\n      <th>Puesto</th>\n      <th>ClaseOT</th>\n      <th>ACant</th>\n      <th>AHoras</th>\n      <th>HRContador</th>\n      <th>posHRContador</th>\n      <th>Material</th>\n      <th>MCantidad</th>\n    </tr>\n  </thead>\n  <tbody>\n    <tr>\n      <th>0</th>\n      <td>MBOM020</td>\n      <td>10</td>\n      <td>Inspeccion mantenimiento de acople 2000H</td>\n      <td>TEC-MEC</td>\n      <td>PM01</td>\n      <td>1.0</td>\n      <td>1.0</td>\n      <td>MBOM020M1</td>\n      <td>MBOM020M110</td>\n      <td>NaN</td>\n      <td>NaN</td>\n    </tr>\n    <tr>\n      <th>1</th>\n      <td>MBOM020</td>\n      <td>20</td>\n      <td>Inspeccion general bomba 330H</td>\n      <td>TEC-MEC</td>\n      <td>PM01</td>\n      <td>2.0</td>\n      <td>0.4</td>\n      <td>MBOM020M1</td>\n      <td>MBOM020M120</td>\n      <td>NaN</td>\n      <td>NaN</td>\n    </tr>\n    <tr>\n      <th>2</th>\n      <td>MBOM020</td>\n      <td>30</td>\n      <td>Inspeccion general bomba 660H</td>\n      <td>TEC-MEC</td>\n      <td>PM01</td>\n      <td>2.0</td>\n      <td>0.6</td>\n      <td>MBOM020M1</td>\n      <td>MBOM020M130</td>\n      <td>NaN</td>\n      <td>NaN</td>\n    </tr>\n    <tr>\n      <th>3</th>\n      <td>MBOM020</td>\n      <td>10</td>\n      <td>Cambio de impulsor 4000H</td>\n      <td>TEC-MEC</td>\n      <td>PM01</td>\n      <td>3.0</td>\n      <td>6.0</td>\n      <td>MBOM020M2</td>\n      <td>MBOM020M210</td>\n      <td>NaN</td>\n      <td>NaN</td>\n    </tr>\n    <tr>\n      <th>4</th>\n      <td>MBOM020</td>\n      <td>20</td>\n      <td>Cambio de sello mecanico 8000H</td>\n      <td>TEC-MEC</td>\n      <td>PM01</td>\n      <td>2.0</td>\n      <td>3.0</td>\n      <td>MBOM020M2</td>\n      <td>MBOM020M220</td>\n      <td>NaN</td>\n      <td>NaN</td>\n    </tr>\n    <tr>\n      <th>5</th>\n      <td>MBOM020</td>\n      <td>30</td>\n      <td>Cambio de eje 8000H</td>\n      <td>TEC-MEC</td>\n      <td>PM01</td>\n      <td>2.0</td>\n      <td>5.0</td>\n      <td>MBOM020M2</td>\n      <td>MBOM020M230</td>\n      <td>NaN</td>\n      <td>NaN</td>\n    </tr>\n    <tr>\n      <th>6</th>\n      <td>MBOM020</td>\n      <td>40</td>\n      <td>Cambio de elementos de union 8000H</td>\n      <td>TEC-MEC</td>\n      <td>PM01</td>\n      <td>2.0</td>\n      <td>1.0</td>\n      <td>MBOM020M2</td>\n      <td>MBOM020M240</td>\n      <td>NaN</td>\n      <td>NaN</td>\n    </tr>\n    <tr>\n      <th>7</th>\n      <td>MBOM020</td>\n      <td>50</td>\n      <td>Mtto general carcasa 8000H</td>\n      <td>TEC-MEC</td>\n      <td>PM01</td>\n      <td>2.0</td>\n      <td>18.0</td>\n      <td>MBOM020M2</td>\n      <td>MBOM020M250</td>\n      <td>NaN</td>\n      <td>NaN</td>\n    </tr>\n    <tr>\n      <th>8</th>\n      <td>MBOM020</td>\n      <td>10</td>\n      <td>Inspeccion general del motor 2S</td>\n      <td>TEC-ELE</td>\n      <td>PM01</td>\n      <td>2.0</td>\n      <td>0.5</td>\n      <td>MBOM020E1</td>\n      <td>MBOM020E110</td>\n      <td>NaN</td>\n      <td>NaN</td>\n    </tr>\n    <tr>\n      <th>9</th>\n      <td>MBOM020</td>\n      <td>10</td>\n      <td>Mantenimiento menor de motor 2000H</td>\n      <td>TEC-ELE</td>\n      <td>PM01</td>\n      <td>2.0</td>\n      <td>2.0</td>\n      <td>MBOM020E2</td>\n      <td>MBOM020E210</td>\n      <td>NaN</td>\n      <td>NaN</td>\n    </tr>\n    <tr>\n      <th>10</th>\n      <td>MBOM020</td>\n      <td>20</td>\n      <td>Lubricacion motor 19000H</td>\n      <td>TEC-ELE</td>\n      <td>PM01</td>\n      <td>1.0</td>\n      <td>0.5</td>\n      <td>MBOM020E2</td>\n      <td>MBOM020E220</td>\n      <td>2530835</td>\n      <td>0.026</td>\n    </tr>\n    <tr>\n      <th>11</th>\n      <td>MBOM020</td>\n      <td>30</td>\n      <td>Mantenimiento Preventivo  8000H</td>\n      <td>TEC-ELE</td>\n      <td>PM01</td>\n      <td>2.0</td>\n      <td>2.0</td>\n      <td>MBOM020E2</td>\n      <td>MBOM020E230</td>\n      <td>NaN</td>\n      <td>NaN</td>\n    </tr>\n    <tr>\n      <th>12</th>\n      <td>MBOM020</td>\n      <td>40</td>\n      <td>Mtto general motor 330H</td>\n      <td>TEC-ELE</td>\n      <td>PM01</td>\n      <td>2.0</td>\n      <td>0.5</td>\n      <td>MBOM020E2</td>\n      <td>MBOM020E240</td>\n      <td>NaN</td>\n      <td>NaN</td>\n    </tr>\n  </tbody>\n</table>\n</div>"
     },
     "metadata": {},
     "execution_count": 246
    }
   ],
   "source": [
    "allDutiesMat.head(13)"
   ]
  },
  {
   "cell_type": "code",
   "execution_count": null,
   "metadata": {},
   "outputs": [],
   "source": []
  }
 ],
 "metadata": {
  "kernelspec": {
   "name": "Python 3.8.6 64-bit",
   "display_name": "Python 3.8.6 64-bit",
   "metadata": {
    "interpreter": {
     "hash": "1baa965d5efe3ac65b79dfc60c0d706280b1da80fedb7760faf2759126c4f253"
    }
   }
  },
  "language_info": {
   "codemirror_mode": {
    "name": "ipython",
    "version": 3
   },
   "file_extension": ".py",
   "mimetype": "text/x-python",
   "name": "python",
   "nbconvert_exporter": "python",
   "pygments_lexer": "ipython3",
   "version": "3.8.6-final"
  }
 },
 "nbformat": 4,
 "nbformat_minor": 4
}