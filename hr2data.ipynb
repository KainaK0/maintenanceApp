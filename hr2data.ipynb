{
 "cells": [
  {
   "cell_type": "code",
   "execution_count": 1,
   "metadata": {},
   "outputs": [],
   "source": [
    "import pandas as pd\n",
    "import os"
   ]
  },
  {
   "cell_type": "code",
   "execution_count": 2,
   "metadata": {},
   "outputs": [],
   "source": [
    "filefolder = r'C:\\Users\\johan\\OneDrive\\Marcobre\\1.0 PROJECTS\\01. Crear budget de mantenimiento\\hr2csv'\n",
    "filename = r'5._Carga de hoja de ruta - GRUPO 5.xlsx'"
   ]
  },
  {
   "cell_type": "code",
   "execution_count": 3,
   "metadata": {},
   "outputs": [],
   "source": [
    "filerute = os.path.join(filefolder,filename)"
   ]
  },
  {
   "cell_type": "code",
   "execution_count": 4,
   "metadata": {},
   "outputs": [],
   "source": [
    "db = pd.read_excel(filerute,sheet_name=0, skiprows = 6, header = None)"
   ]
  },
  {
   "cell_type": "code",
   "execution_count": 5,
   "metadata": {
    "tags": []
   },
   "outputs": [],
   "source": [
    "# Hojas de ruta\n",
    "THR = db.loc[db.iloc[:,0] == 1,:]"
   ]
  },
  {
   "cell_type": "code",
   "execution_count": 6,
   "metadata": {},
   "outputs": [
    {
     "output_type": "execute_result",
     "data": {
      "text/plain": [
       "     0        1   2                                3         4     5    6   \\\n",
       "0     1  MBOM020  M1  INSP_MEC_BOMBA_SUMMIT 2196MTO-7   TEC-MEC  JP11  4.0   \n",
       "24    1  MBOM020  M2  PREV_MEC_BOMBA_SUMMIT 2196MTO-7   TEC-MEC  JP11  4.0   \n",
       "67    1  MBOM020  E1  INSP_ELE_BOMBA_SUMMIT 2196MTO-7   TEC-ELE  JP11  4.0   \n",
       "77    1  MBOM020  E2  PREV_ELE_BOMBA_SUMMIT 2196MTO-7   TEC-ELE  JP11  4.0   \n",
       "143   1  MBOM020  I1  INSP_INS_BOMBA_SUMMIT 2196MTO-7   TEC-INS  JP11  4.0   \n",
       "151   1  MBOM020  I2  PREV_INS_BOMBA_SUMMIT 2196MTO-7   TEC-INS  JP11  4.0   \n",
       "160   1  MBOM020  P1  PRED_CON_BOMBA_SUMMIT 2196MTO-7  TEC-PRED  JP11  4.0   \n",
       "193   1  MBOM021  M1     INSP_MEC_BOMBA_GOULDS 23SHK6   TEC-MEC  JP11  4.0   \n",
       "209   1  MBOM021  M2     PREV_MEC_BOMBA_GOULDS 23SHK6   TEC-MEC  JP11  4.0   \n",
       "252   1  MBOM021  E1     INSP_ELE_BOMBA_GOULDS 23SHK6   TEC-ELE  JP11  4.0   \n",
       "262   1  MBOM021  E2     PREV_ELE_BOMBA_GOULDS 23SHK6   TEC-ELE  JP11  4.0   \n",
       "328   1  MBOM021  I1     INSP_INS_BOMBA_GOULDS 23SHK6   TEC-INS  JP11  4.0   \n",
       "\n",
       "      7    8    9       10  11  12  13  14  15  16  17  \n",
       "0    P01  4.0  1.0  HOR002 NaN NaN NaN NaN NaN NaN NaN  \n",
       "24   P01  4.0  1.0  HOR002 NaN NaN NaN NaN NaN NaN NaN  \n",
       "67   P01  4.0  1.0  CAL001 NaN NaN NaN NaN NaN NaN NaN  \n",
       "77   P01  4.0  1.0  HOR002 NaN NaN NaN NaN NaN NaN NaN  \n",
       "143  P01  4.0  1.0  CAL001 NaN NaN NaN NaN NaN NaN NaN  \n",
       "151  P01  4.0  1.0  HOR002 NaN NaN NaN NaN NaN NaN NaN  \n",
       "160  P01  4.0  1.0  HOR002 NaN NaN NaN NaN NaN NaN NaN  \n",
       "193  P01  4.0  1.0  HOR002 NaN NaN NaN NaN NaN NaN NaN  \n",
       "209  P01  4.0  1.0  HOR002 NaN NaN NaN NaN NaN NaN NaN  \n",
       "252  P01  4.0  1.0  CAL001 NaN NaN NaN NaN NaN NaN NaN  \n",
       "262  P01  4.0  1.0  HOR002 NaN NaN NaN NaN NaN NaN NaN  \n",
       "328  P01  4.0  1.0  CAL001 NaN NaN NaN NaN NaN NaN NaN  "
      ],
      "text/html": "<div>\n<style scoped>\n    .dataframe tbody tr th:only-of-type {\n        vertical-align: middle;\n    }\n\n    .dataframe tbody tr th {\n        vertical-align: top;\n    }\n\n    .dataframe thead th {\n        text-align: right;\n    }\n</style>\n<table border=\"1\" class=\"dataframe\">\n  <thead>\n    <tr style=\"text-align: right;\">\n      <th></th>\n      <th>0</th>\n      <th>1</th>\n      <th>2</th>\n      <th>3</th>\n      <th>4</th>\n      <th>5</th>\n      <th>6</th>\n      <th>7</th>\n      <th>8</th>\n      <th>9</th>\n      <th>10</th>\n      <th>11</th>\n      <th>12</th>\n      <th>13</th>\n      <th>14</th>\n      <th>15</th>\n      <th>16</th>\n      <th>17</th>\n    </tr>\n  </thead>\n  <tbody>\n    <tr>\n      <th>0</th>\n      <td>1</td>\n      <td>MBOM020</td>\n      <td>M1</td>\n      <td>INSP_MEC_BOMBA_SUMMIT 2196MTO-7</td>\n      <td>TEC-MEC</td>\n      <td>JP11</td>\n      <td>4.0</td>\n      <td>P01</td>\n      <td>4.0</td>\n      <td>1.0</td>\n      <td>HOR002</td>\n      <td>NaN</td>\n      <td>NaN</td>\n      <td>NaN</td>\n      <td>NaN</td>\n      <td>NaN</td>\n      <td>NaN</td>\n      <td>NaN</td>\n    </tr>\n    <tr>\n      <th>24</th>\n      <td>1</td>\n      <td>MBOM020</td>\n      <td>M2</td>\n      <td>PREV_MEC_BOMBA_SUMMIT 2196MTO-7</td>\n      <td>TEC-MEC</td>\n      <td>JP11</td>\n      <td>4.0</td>\n      <td>P01</td>\n      <td>4.0</td>\n      <td>1.0</td>\n      <td>HOR002</td>\n      <td>NaN</td>\n      <td>NaN</td>\n      <td>NaN</td>\n      <td>NaN</td>\n      <td>NaN</td>\n      <td>NaN</td>\n      <td>NaN</td>\n    </tr>\n    <tr>\n      <th>67</th>\n      <td>1</td>\n      <td>MBOM020</td>\n      <td>E1</td>\n      <td>INSP_ELE_BOMBA_SUMMIT 2196MTO-7</td>\n      <td>TEC-ELE</td>\n      <td>JP11</td>\n      <td>4.0</td>\n      <td>P01</td>\n      <td>4.0</td>\n      <td>1.0</td>\n      <td>CAL001</td>\n      <td>NaN</td>\n      <td>NaN</td>\n      <td>NaN</td>\n      <td>NaN</td>\n      <td>NaN</td>\n      <td>NaN</td>\n      <td>NaN</td>\n    </tr>\n    <tr>\n      <th>77</th>\n      <td>1</td>\n      <td>MBOM020</td>\n      <td>E2</td>\n      <td>PREV_ELE_BOMBA_SUMMIT 2196MTO-7</td>\n      <td>TEC-ELE</td>\n      <td>JP11</td>\n      <td>4.0</td>\n      <td>P01</td>\n      <td>4.0</td>\n      <td>1.0</td>\n      <td>HOR002</td>\n      <td>NaN</td>\n      <td>NaN</td>\n      <td>NaN</td>\n      <td>NaN</td>\n      <td>NaN</td>\n      <td>NaN</td>\n      <td>NaN</td>\n    </tr>\n    <tr>\n      <th>143</th>\n      <td>1</td>\n      <td>MBOM020</td>\n      <td>I1</td>\n      <td>INSP_INS_BOMBA_SUMMIT 2196MTO-7</td>\n      <td>TEC-INS</td>\n      <td>JP11</td>\n      <td>4.0</td>\n      <td>P01</td>\n      <td>4.0</td>\n      <td>1.0</td>\n      <td>CAL001</td>\n      <td>NaN</td>\n      <td>NaN</td>\n      <td>NaN</td>\n      <td>NaN</td>\n      <td>NaN</td>\n      <td>NaN</td>\n      <td>NaN</td>\n    </tr>\n    <tr>\n      <th>151</th>\n      <td>1</td>\n      <td>MBOM020</td>\n      <td>I2</td>\n      <td>PREV_INS_BOMBA_SUMMIT 2196MTO-7</td>\n      <td>TEC-INS</td>\n      <td>JP11</td>\n      <td>4.0</td>\n      <td>P01</td>\n      <td>4.0</td>\n      <td>1.0</td>\n      <td>HOR002</td>\n      <td>NaN</td>\n      <td>NaN</td>\n      <td>NaN</td>\n      <td>NaN</td>\n      <td>NaN</td>\n      <td>NaN</td>\n      <td>NaN</td>\n    </tr>\n    <tr>\n      <th>160</th>\n      <td>1</td>\n      <td>MBOM020</td>\n      <td>P1</td>\n      <td>PRED_CON_BOMBA_SUMMIT 2196MTO-7</td>\n      <td>TEC-PRED</td>\n      <td>JP11</td>\n      <td>4.0</td>\n      <td>P01</td>\n      <td>4.0</td>\n      <td>1.0</td>\n      <td>HOR002</td>\n      <td>NaN</td>\n      <td>NaN</td>\n      <td>NaN</td>\n      <td>NaN</td>\n      <td>NaN</td>\n      <td>NaN</td>\n      <td>NaN</td>\n    </tr>\n    <tr>\n      <th>193</th>\n      <td>1</td>\n      <td>MBOM021</td>\n      <td>M1</td>\n      <td>INSP_MEC_BOMBA_GOULDS 23SHK6</td>\n      <td>TEC-MEC</td>\n      <td>JP11</td>\n      <td>4.0</td>\n      <td>P01</td>\n      <td>4.0</td>\n      <td>1.0</td>\n      <td>HOR002</td>\n      <td>NaN</td>\n      <td>NaN</td>\n      <td>NaN</td>\n      <td>NaN</td>\n      <td>NaN</td>\n      <td>NaN</td>\n      <td>NaN</td>\n    </tr>\n    <tr>\n      <th>209</th>\n      <td>1</td>\n      <td>MBOM021</td>\n      <td>M2</td>\n      <td>PREV_MEC_BOMBA_GOULDS 23SHK6</td>\n      <td>TEC-MEC</td>\n      <td>JP11</td>\n      <td>4.0</td>\n      <td>P01</td>\n      <td>4.0</td>\n      <td>1.0</td>\n      <td>HOR002</td>\n      <td>NaN</td>\n      <td>NaN</td>\n      <td>NaN</td>\n      <td>NaN</td>\n      <td>NaN</td>\n      <td>NaN</td>\n      <td>NaN</td>\n    </tr>\n    <tr>\n      <th>252</th>\n      <td>1</td>\n      <td>MBOM021</td>\n      <td>E1</td>\n      <td>INSP_ELE_BOMBA_GOULDS 23SHK6</td>\n      <td>TEC-ELE</td>\n      <td>JP11</td>\n      <td>4.0</td>\n      <td>P01</td>\n      <td>4.0</td>\n      <td>1.0</td>\n      <td>CAL001</td>\n      <td>NaN</td>\n      <td>NaN</td>\n      <td>NaN</td>\n      <td>NaN</td>\n      <td>NaN</td>\n      <td>NaN</td>\n      <td>NaN</td>\n    </tr>\n    <tr>\n      <th>262</th>\n      <td>1</td>\n      <td>MBOM021</td>\n      <td>E2</td>\n      <td>PREV_ELE_BOMBA_GOULDS 23SHK6</td>\n      <td>TEC-ELE</td>\n      <td>JP11</td>\n      <td>4.0</td>\n      <td>P01</td>\n      <td>4.0</td>\n      <td>1.0</td>\n      <td>HOR002</td>\n      <td>NaN</td>\n      <td>NaN</td>\n      <td>NaN</td>\n      <td>NaN</td>\n      <td>NaN</td>\n      <td>NaN</td>\n      <td>NaN</td>\n    </tr>\n    <tr>\n      <th>328</th>\n      <td>1</td>\n      <td>MBOM021</td>\n      <td>I1</td>\n      <td>INSP_INS_BOMBA_GOULDS 23SHK6</td>\n      <td>TEC-INS</td>\n      <td>JP11</td>\n      <td>4.0</td>\n      <td>P01</td>\n      <td>4.0</td>\n      <td>1.0</td>\n      <td>CAL001</td>\n      <td>NaN</td>\n      <td>NaN</td>\n      <td>NaN</td>\n      <td>NaN</td>\n      <td>NaN</td>\n      <td>NaN</td>\n      <td>NaN</td>\n    </tr>\n  </tbody>\n</table>\n</div>"
     },
     "metadata": {},
     "execution_count": 6
    }
   ],
   "source": [
    "THR.head(12)"
   ]
  },
  {
   "cell_type": "code",
   "execution_count": 7,
   "metadata": {},
   "outputs": [
    {
     "output_type": "execute_result",
     "data": {
      "text/plain": [
       "    0        1   2        3     4                                         5   \\\n",
       "1    2  MBOM020  10  TEC-MEC  PM01  Inspeccion mantenimiento de acople 2000H   \n",
       "6    2  MBOM020  20  TEC-MEC  PM01             Inspeccion general bomba 330H   \n",
       "15   2  MBOM020  30  TEC-MEC  PM01             Inspeccion general bomba 660H   \n",
       "25   2  MBOM020  10  TEC-MEC  PM01                  Cambio de impulsor 4000H   \n",
       "35   2  MBOM020  20  TEC-MEC  PM01            Cambio de sello mecanico 8000H   \n",
       "43   2  MBOM020  30  TEC-MEC  PM01                       Cambio de eje 8000H   \n",
       "50   2  MBOM020  40  TEC-MEC  PM01        Cambio de elementos de union 8000H   \n",
       "56   2  MBOM020  50  TEC-MEC  PM01                Mtto general carcasa 8000H   \n",
       "68   2  MBOM020  10  TEC-ELE  PM01           Inspeccion general del motor 2S   \n",
       "78   2  MBOM020  10  TEC-ELE  PM01        Mantenimiento menor de motor 2000H   \n",
       "85   2  MBOM020  20  TEC-ELE  PM01                  Lubricacion motor 19000H   \n",
       "97   2  MBOM020  30  TEC-ELE  PM01           Mantenimiento Preventivo  8000H   \n",
       "\n",
       "      6  7    8     9  10  11  12  13  14  15  16  17  \n",
       "1    1.0  H  1.0   1.0  H NaN NaN NaN NaN NaN NaN NaN  \n",
       "6    0.8  H  2.0   0.4  H NaN NaN NaN NaN NaN NaN NaN  \n",
       "15   1.2  H  2.0   0.6  H NaN NaN NaN NaN NaN NaN NaN  \n",
       "25  18.0  H  3.0   6.0  H NaN NaN NaN NaN NaN NaN NaN  \n",
       "35   6.0  H  2.0   3.0  H NaN NaN NaN NaN NaN NaN NaN  \n",
       "43  10.0  H  2.0   5.0  H NaN NaN NaN NaN NaN NaN NaN  \n",
       "50   2.0  H  2.0   1.0  H NaN NaN NaN NaN NaN NaN NaN  \n",
       "56  36.0  H  2.0  18.0  H NaN NaN NaN NaN NaN NaN NaN  \n",
       "68   1.0  H  2.0   0.5  H NaN NaN NaN NaN NaN NaN NaN  \n",
       "78   4.0  H  2.0   2.0  H NaN NaN NaN NaN NaN NaN NaN  \n",
       "85   0.5  H  1.0   0.5  H NaN NaN NaN NaN NaN NaN NaN  \n",
       "97   4.0  H  2.0   2.0  H NaN NaN NaN NaN NaN NaN NaN  "
      ],
      "text/html": "<div>\n<style scoped>\n    .dataframe tbody tr th:only-of-type {\n        vertical-align: middle;\n    }\n\n    .dataframe tbody tr th {\n        vertical-align: top;\n    }\n\n    .dataframe thead th {\n        text-align: right;\n    }\n</style>\n<table border=\"1\" class=\"dataframe\">\n  <thead>\n    <tr style=\"text-align: right;\">\n      <th></th>\n      <th>0</th>\n      <th>1</th>\n      <th>2</th>\n      <th>3</th>\n      <th>4</th>\n      <th>5</th>\n      <th>6</th>\n      <th>7</th>\n      <th>8</th>\n      <th>9</th>\n      <th>10</th>\n      <th>11</th>\n      <th>12</th>\n      <th>13</th>\n      <th>14</th>\n      <th>15</th>\n      <th>16</th>\n      <th>17</th>\n    </tr>\n  </thead>\n  <tbody>\n    <tr>\n      <th>1</th>\n      <td>2</td>\n      <td>MBOM020</td>\n      <td>10</td>\n      <td>TEC-MEC</td>\n      <td>PM01</td>\n      <td>Inspeccion mantenimiento de acople 2000H</td>\n      <td>1.0</td>\n      <td>H</td>\n      <td>1.0</td>\n      <td>1.0</td>\n      <td>H</td>\n      <td>NaN</td>\n      <td>NaN</td>\n      <td>NaN</td>\n      <td>NaN</td>\n      <td>NaN</td>\n      <td>NaN</td>\n      <td>NaN</td>\n    </tr>\n    <tr>\n      <th>6</th>\n      <td>2</td>\n      <td>MBOM020</td>\n      <td>20</td>\n      <td>TEC-MEC</td>\n      <td>PM01</td>\n      <td>Inspeccion general bomba 330H</td>\n      <td>0.8</td>\n      <td>H</td>\n      <td>2.0</td>\n      <td>0.4</td>\n      <td>H</td>\n      <td>NaN</td>\n      <td>NaN</td>\n      <td>NaN</td>\n      <td>NaN</td>\n      <td>NaN</td>\n      <td>NaN</td>\n      <td>NaN</td>\n    </tr>\n    <tr>\n      <th>15</th>\n      <td>2</td>\n      <td>MBOM020</td>\n      <td>30</td>\n      <td>TEC-MEC</td>\n      <td>PM01</td>\n      <td>Inspeccion general bomba 660H</td>\n      <td>1.2</td>\n      <td>H</td>\n      <td>2.0</td>\n      <td>0.6</td>\n      <td>H</td>\n      <td>NaN</td>\n      <td>NaN</td>\n      <td>NaN</td>\n      <td>NaN</td>\n      <td>NaN</td>\n      <td>NaN</td>\n      <td>NaN</td>\n    </tr>\n    <tr>\n      <th>25</th>\n      <td>2</td>\n      <td>MBOM020</td>\n      <td>10</td>\n      <td>TEC-MEC</td>\n      <td>PM01</td>\n      <td>Cambio de impulsor 4000H</td>\n      <td>18.0</td>\n      <td>H</td>\n      <td>3.0</td>\n      <td>6.0</td>\n      <td>H</td>\n      <td>NaN</td>\n      <td>NaN</td>\n      <td>NaN</td>\n      <td>NaN</td>\n      <td>NaN</td>\n      <td>NaN</td>\n      <td>NaN</td>\n    </tr>\n    <tr>\n      <th>35</th>\n      <td>2</td>\n      <td>MBOM020</td>\n      <td>20</td>\n      <td>TEC-MEC</td>\n      <td>PM01</td>\n      <td>Cambio de sello mecanico 8000H</td>\n      <td>6.0</td>\n      <td>H</td>\n      <td>2.0</td>\n      <td>3.0</td>\n      <td>H</td>\n      <td>NaN</td>\n      <td>NaN</td>\n      <td>NaN</td>\n      <td>NaN</td>\n      <td>NaN</td>\n      <td>NaN</td>\n      <td>NaN</td>\n    </tr>\n    <tr>\n      <th>43</th>\n      <td>2</td>\n      <td>MBOM020</td>\n      <td>30</td>\n      <td>TEC-MEC</td>\n      <td>PM01</td>\n      <td>Cambio de eje 8000H</td>\n      <td>10.0</td>\n      <td>H</td>\n      <td>2.0</td>\n      <td>5.0</td>\n      <td>H</td>\n      <td>NaN</td>\n      <td>NaN</td>\n      <td>NaN</td>\n      <td>NaN</td>\n      <td>NaN</td>\n      <td>NaN</td>\n      <td>NaN</td>\n    </tr>\n    <tr>\n      <th>50</th>\n      <td>2</td>\n      <td>MBOM020</td>\n      <td>40</td>\n      <td>TEC-MEC</td>\n      <td>PM01</td>\n      <td>Cambio de elementos de union 8000H</td>\n      <td>2.0</td>\n      <td>H</td>\n      <td>2.0</td>\n      <td>1.0</td>\n      <td>H</td>\n      <td>NaN</td>\n      <td>NaN</td>\n      <td>NaN</td>\n      <td>NaN</td>\n      <td>NaN</td>\n      <td>NaN</td>\n      <td>NaN</td>\n    </tr>\n    <tr>\n      <th>56</th>\n      <td>2</td>\n      <td>MBOM020</td>\n      <td>50</td>\n      <td>TEC-MEC</td>\n      <td>PM01</td>\n      <td>Mtto general carcasa 8000H</td>\n      <td>36.0</td>\n      <td>H</td>\n      <td>2.0</td>\n      <td>18.0</td>\n      <td>H</td>\n      <td>NaN</td>\n      <td>NaN</td>\n      <td>NaN</td>\n      <td>NaN</td>\n      <td>NaN</td>\n      <td>NaN</td>\n      <td>NaN</td>\n    </tr>\n    <tr>\n      <th>68</th>\n      <td>2</td>\n      <td>MBOM020</td>\n      <td>10</td>\n      <td>TEC-ELE</td>\n      <td>PM01</td>\n      <td>Inspeccion general del motor 2S</td>\n      <td>1.0</td>\n      <td>H</td>\n      <td>2.0</td>\n      <td>0.5</td>\n      <td>H</td>\n      <td>NaN</td>\n      <td>NaN</td>\n      <td>NaN</td>\n      <td>NaN</td>\n      <td>NaN</td>\n      <td>NaN</td>\n      <td>NaN</td>\n    </tr>\n    <tr>\n      <th>78</th>\n      <td>2</td>\n      <td>MBOM020</td>\n      <td>10</td>\n      <td>TEC-ELE</td>\n      <td>PM01</td>\n      <td>Mantenimiento menor de motor 2000H</td>\n      <td>4.0</td>\n      <td>H</td>\n      <td>2.0</td>\n      <td>2.0</td>\n      <td>H</td>\n      <td>NaN</td>\n      <td>NaN</td>\n      <td>NaN</td>\n      <td>NaN</td>\n      <td>NaN</td>\n      <td>NaN</td>\n      <td>NaN</td>\n    </tr>\n    <tr>\n      <th>85</th>\n      <td>2</td>\n      <td>MBOM020</td>\n      <td>20</td>\n      <td>TEC-ELE</td>\n      <td>PM01</td>\n      <td>Lubricacion motor 19000H</td>\n      <td>0.5</td>\n      <td>H</td>\n      <td>1.0</td>\n      <td>0.5</td>\n      <td>H</td>\n      <td>NaN</td>\n      <td>NaN</td>\n      <td>NaN</td>\n      <td>NaN</td>\n      <td>NaN</td>\n      <td>NaN</td>\n      <td>NaN</td>\n    </tr>\n    <tr>\n      <th>97</th>\n      <td>2</td>\n      <td>MBOM020</td>\n      <td>30</td>\n      <td>TEC-ELE</td>\n      <td>PM01</td>\n      <td>Mantenimiento Preventivo  8000H</td>\n      <td>4.0</td>\n      <td>H</td>\n      <td>2.0</td>\n      <td>2.0</td>\n      <td>H</td>\n      <td>NaN</td>\n      <td>NaN</td>\n      <td>NaN</td>\n      <td>NaN</td>\n      <td>NaN</td>\n      <td>NaN</td>\n      <td>NaN</td>\n    </tr>\n  </tbody>\n</table>\n</div>"
     },
     "metadata": {},
     "execution_count": 7
    }
   ],
   "source": [
    "# Posiciones de las Hojas de Ruta\n",
    "PHR = db.loc[db.iloc[:,0] == 2,:]\n",
    "PHR.head(12)"
   ]
  },
  {
   "cell_type": "code",
   "execution_count": 8,
   "metadata": {},
   "outputs": [
    {
     "output_type": "execute_result",
     "data": {
      "text/plain": [
       "    0        1                                                  2    3    4   \\\n",
       "2    3  MBOM020           Inspeccion mantenimiento de acople 2000H  NaN  NaN   \n",
       "3    3  MBOM020  Verificar ruido inusual y/o solturas en los el...  NaN  NaN   \n",
       "4    3  MBOM020  acople, ajustar elementos de union y reemplaza...  NaN  NaN   \n",
       "7    3  MBOM020                      Inspeccion general bomba 330H  NaN  NaN   \n",
       "8    3  MBOM020  * Inspeccion de caja de rodamientos 330H: Veri...  NaN  NaN   \n",
       "9    3  MBOM020  ruidos ni vibraciones inusuales, verificar la ...  NaN  NaN   \n",
       "10   3  MBOM020  80°C, verificar fugas de grasa por los sellos ...  NaN  NaN   \n",
       "11   3  MBOM020  * Inspeccion de sello mecanico 330H: Verificar...  NaN  NaN   \n",
       "12   3  MBOM020  de ser necesario realizar el cambio del kit de...  NaN  NaN   \n",
       "13   3  MBOM020                                  total del sello.   NaN  NaN   \n",
       "16   3  MBOM020                      Inspeccion general bomba 660H  NaN  NaN   \n",
       "17   3  MBOM020  * Inspeccion general de acople 660H: Verificar...  NaN  NaN   \n",
       "\n",
       "     5   6    7   8   9    10  11  12  13  14  15  16  17  \n",
       "2   NaN NaN  NaN NaN NaN  NaN NaN NaN NaN NaN NaN NaN NaN  \n",
       "3   NaN NaN  NaN NaN NaN  NaN NaN NaN NaN NaN NaN NaN NaN  \n",
       "4   NaN NaN  NaN NaN NaN  NaN NaN NaN NaN NaN NaN NaN NaN  \n",
       "7   NaN NaN  NaN NaN NaN  NaN NaN NaN NaN NaN NaN NaN NaN  \n",
       "8   NaN NaN  NaN NaN NaN  NaN NaN NaN NaN NaN NaN NaN NaN  \n",
       "9   NaN NaN  NaN NaN NaN  NaN NaN NaN NaN NaN NaN NaN NaN  \n",
       "10  NaN NaN  NaN NaN NaN  NaN NaN NaN NaN NaN NaN NaN NaN  \n",
       "11  NaN NaN  NaN NaN NaN  NaN NaN NaN NaN NaN NaN NaN NaN  \n",
       "12  NaN NaN  NaN NaN NaN  NaN NaN NaN NaN NaN NaN NaN NaN  \n",
       "13  NaN NaN  NaN NaN NaN  NaN NaN NaN NaN NaN NaN NaN NaN  \n",
       "16  NaN NaN  NaN NaN NaN  NaN NaN NaN NaN NaN NaN NaN NaN  \n",
       "17  NaN NaN  NaN NaN NaN  NaN NaN NaN NaN NaN NaN NaN NaN  "
      ],
      "text/html": "<div>\n<style scoped>\n    .dataframe tbody tr th:only-of-type {\n        vertical-align: middle;\n    }\n\n    .dataframe tbody tr th {\n        vertical-align: top;\n    }\n\n    .dataframe thead th {\n        text-align: right;\n    }\n</style>\n<table border=\"1\" class=\"dataframe\">\n  <thead>\n    <tr style=\"text-align: right;\">\n      <th></th>\n      <th>0</th>\n      <th>1</th>\n      <th>2</th>\n      <th>3</th>\n      <th>4</th>\n      <th>5</th>\n      <th>6</th>\n      <th>7</th>\n      <th>8</th>\n      <th>9</th>\n      <th>10</th>\n      <th>11</th>\n      <th>12</th>\n      <th>13</th>\n      <th>14</th>\n      <th>15</th>\n      <th>16</th>\n      <th>17</th>\n    </tr>\n  </thead>\n  <tbody>\n    <tr>\n      <th>2</th>\n      <td>3</td>\n      <td>MBOM020</td>\n      <td>Inspeccion mantenimiento de acople 2000H</td>\n      <td>NaN</td>\n      <td>NaN</td>\n      <td>NaN</td>\n      <td>NaN</td>\n      <td>NaN</td>\n      <td>NaN</td>\n      <td>NaN</td>\n      <td>NaN</td>\n      <td>NaN</td>\n      <td>NaN</td>\n      <td>NaN</td>\n      <td>NaN</td>\n      <td>NaN</td>\n      <td>NaN</td>\n      <td>NaN</td>\n    </tr>\n    <tr>\n      <th>3</th>\n      <td>3</td>\n      <td>MBOM020</td>\n      <td>Verificar ruido inusual y/o solturas en los el...</td>\n      <td>NaN</td>\n      <td>NaN</td>\n      <td>NaN</td>\n      <td>NaN</td>\n      <td>NaN</td>\n      <td>NaN</td>\n      <td>NaN</td>\n      <td>NaN</td>\n      <td>NaN</td>\n      <td>NaN</td>\n      <td>NaN</td>\n      <td>NaN</td>\n      <td>NaN</td>\n      <td>NaN</td>\n      <td>NaN</td>\n    </tr>\n    <tr>\n      <th>4</th>\n      <td>3</td>\n      <td>MBOM020</td>\n      <td>acople, ajustar elementos de union y reemplaza...</td>\n      <td>NaN</td>\n      <td>NaN</td>\n      <td>NaN</td>\n      <td>NaN</td>\n      <td>NaN</td>\n      <td>NaN</td>\n      <td>NaN</td>\n      <td>NaN</td>\n      <td>NaN</td>\n      <td>NaN</td>\n      <td>NaN</td>\n      <td>NaN</td>\n      <td>NaN</td>\n      <td>NaN</td>\n      <td>NaN</td>\n    </tr>\n    <tr>\n      <th>7</th>\n      <td>3</td>\n      <td>MBOM020</td>\n      <td>Inspeccion general bomba 330H</td>\n      <td>NaN</td>\n      <td>NaN</td>\n      <td>NaN</td>\n      <td>NaN</td>\n      <td>NaN</td>\n      <td>NaN</td>\n      <td>NaN</td>\n      <td>NaN</td>\n      <td>NaN</td>\n      <td>NaN</td>\n      <td>NaN</td>\n      <td>NaN</td>\n      <td>NaN</td>\n      <td>NaN</td>\n      <td>NaN</td>\n    </tr>\n    <tr>\n      <th>8</th>\n      <td>3</td>\n      <td>MBOM020</td>\n      <td>* Inspeccion de caja de rodamientos 330H: Veri...</td>\n      <td>NaN</td>\n      <td>NaN</td>\n      <td>NaN</td>\n      <td>NaN</td>\n      <td>NaN</td>\n      <td>NaN</td>\n      <td>NaN</td>\n      <td>NaN</td>\n      <td>NaN</td>\n      <td>NaN</td>\n      <td>NaN</td>\n      <td>NaN</td>\n      <td>NaN</td>\n      <td>NaN</td>\n      <td>NaN</td>\n    </tr>\n    <tr>\n      <th>9</th>\n      <td>3</td>\n      <td>MBOM020</td>\n      <td>ruidos ni vibraciones inusuales, verificar la ...</td>\n      <td>NaN</td>\n      <td>NaN</td>\n      <td>NaN</td>\n      <td>NaN</td>\n      <td>NaN</td>\n      <td>NaN</td>\n      <td>NaN</td>\n      <td>NaN</td>\n      <td>NaN</td>\n      <td>NaN</td>\n      <td>NaN</td>\n      <td>NaN</td>\n      <td>NaN</td>\n      <td>NaN</td>\n      <td>NaN</td>\n    </tr>\n    <tr>\n      <th>10</th>\n      <td>3</td>\n      <td>MBOM020</td>\n      <td>80°C, verificar fugas de grasa por los sellos ...</td>\n      <td>NaN</td>\n      <td>NaN</td>\n      <td>NaN</td>\n      <td>NaN</td>\n      <td>NaN</td>\n      <td>NaN</td>\n      <td>NaN</td>\n      <td>NaN</td>\n      <td>NaN</td>\n      <td>NaN</td>\n      <td>NaN</td>\n      <td>NaN</td>\n      <td>NaN</td>\n      <td>NaN</td>\n      <td>NaN</td>\n    </tr>\n    <tr>\n      <th>11</th>\n      <td>3</td>\n      <td>MBOM020</td>\n      <td>* Inspeccion de sello mecanico 330H: Verificar...</td>\n      <td>NaN</td>\n      <td>NaN</td>\n      <td>NaN</td>\n      <td>NaN</td>\n      <td>NaN</td>\n      <td>NaN</td>\n      <td>NaN</td>\n      <td>NaN</td>\n      <td>NaN</td>\n      <td>NaN</td>\n      <td>NaN</td>\n      <td>NaN</td>\n      <td>NaN</td>\n      <td>NaN</td>\n      <td>NaN</td>\n    </tr>\n    <tr>\n      <th>12</th>\n      <td>3</td>\n      <td>MBOM020</td>\n      <td>de ser necesario realizar el cambio del kit de...</td>\n      <td>NaN</td>\n      <td>NaN</td>\n      <td>NaN</td>\n      <td>NaN</td>\n      <td>NaN</td>\n      <td>NaN</td>\n      <td>NaN</td>\n      <td>NaN</td>\n      <td>NaN</td>\n      <td>NaN</td>\n      <td>NaN</td>\n      <td>NaN</td>\n      <td>NaN</td>\n      <td>NaN</td>\n      <td>NaN</td>\n    </tr>\n    <tr>\n      <th>13</th>\n      <td>3</td>\n      <td>MBOM020</td>\n      <td>total del sello.</td>\n      <td>NaN</td>\n      <td>NaN</td>\n      <td>NaN</td>\n      <td>NaN</td>\n      <td>NaN</td>\n      <td>NaN</td>\n      <td>NaN</td>\n      <td>NaN</td>\n      <td>NaN</td>\n      <td>NaN</td>\n      <td>NaN</td>\n      <td>NaN</td>\n      <td>NaN</td>\n      <td>NaN</td>\n      <td>NaN</td>\n    </tr>\n    <tr>\n      <th>16</th>\n      <td>3</td>\n      <td>MBOM020</td>\n      <td>Inspeccion general bomba 660H</td>\n      <td>NaN</td>\n      <td>NaN</td>\n      <td>NaN</td>\n      <td>NaN</td>\n      <td>NaN</td>\n      <td>NaN</td>\n      <td>NaN</td>\n      <td>NaN</td>\n      <td>NaN</td>\n      <td>NaN</td>\n      <td>NaN</td>\n      <td>NaN</td>\n      <td>NaN</td>\n      <td>NaN</td>\n      <td>NaN</td>\n    </tr>\n    <tr>\n      <th>17</th>\n      <td>3</td>\n      <td>MBOM020</td>\n      <td>* Inspeccion general de acople 660H: Verificar...</td>\n      <td>NaN</td>\n      <td>NaN</td>\n      <td>NaN</td>\n      <td>NaN</td>\n      <td>NaN</td>\n      <td>NaN</td>\n      <td>NaN</td>\n      <td>NaN</td>\n      <td>NaN</td>\n      <td>NaN</td>\n      <td>NaN</td>\n      <td>NaN</td>\n      <td>NaN</td>\n      <td>NaN</td>\n      <td>NaN</td>\n    </tr>\n  </tbody>\n</table>\n</div>"
     },
     "metadata": {},
     "execution_count": 8
    }
   ],
   "source": [
    "# Actividad detallada de laPosiciones de las Hojas de Ruta\n",
    "AHR = db.loc[db.iloc[:,0] == 3,:]\n",
    "AHR.head(12)"
   ]
  },
  {
   "cell_type": "code",
   "execution_count": null,
   "metadata": {},
   "outputs": [],
   "source": []
  }
 ],
 "metadata": {
  "kernelspec": {
   "name": "Python 3.8.6 64-bit",
   "display_name": "Python 3.8.6 64-bit",
   "metadata": {
    "interpreter": {
     "hash": "1baa965d5efe3ac65b79dfc60c0d706280b1da80fedb7760faf2759126c4f253"
    }
   }
  },
  "language_info": {
   "codemirror_mode": {
    "name": "ipython",
    "version": 3
   },
   "file_extension": ".py",
   "mimetype": "text/x-python",
   "name": "python",
   "nbconvert_exporter": "python",
   "pygments_lexer": "ipython3",
   "version": "3.8.6-final"
  }
 },
 "nbformat": 4,
 "nbformat_minor": 4
}