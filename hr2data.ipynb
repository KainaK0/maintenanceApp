{
 "cells": [
  {
   "cell_type": "code",
   "execution_count": 414,
   "metadata": {},
   "outputs": [],
   "source": [
    "import pandas as pd\n",
    "import os"
   ]
  },
  {
   "cell_type": "code",
   "execution_count": 415,
   "metadata": {},
   "outputs": [],
   "source": [
    "filefolder = r'C:\\Users\\johan\\OneDrive\\Marcobre\\1.0 PROJECTS\\01. Crear budget de mantenimiento\\hr2csv'\n",
    "filename = r'5._Carga de hoja de ruta - GRUPO 7 (28.10) V2.xlsx'\n",
    "mergeHRname = r'HR\\csv\\mergeHR.csv'\n",
    "a = r'HR'\n",
    "EQ2GHRname = r'Hoja Resumen- CARGA A SAP V03.11.xlsx'"
   ]
  },
  {
   "cell_type": "code",
   "execution_count": 416,
   "metadata": {},
   "outputs": [],
   "source": [
    "HRrute = os.path.join(filefolder,a,filename)\n",
    "mergeHRrute = os.path.join(filefolder,mergeHRname)\n",
    "EQ2GHRrute = os.path.join(filefolder,EQ2GHRname)"
   ]
  },
  {
   "cell_type": "code",
   "execution_count": 444,
   "metadata": {},
   "outputs": [],
   "source": [
    "flag = 1\n",
    "grupo1 = 7\n",
    "grupo2 = 7"
   ]
  },
  {
   "cell_type": "code",
   "execution_count": 417,
   "metadata": {},
   "outputs": [],
   "source": [
    "db = pd.read_excel(HRrute,sheet_name=flag, skiprows = 6, header = None)\n",
    "eq2ghr = pd.read_excel(EQ2GHRrute,sheet_name=0, header=0)"
   ]
  },
  {
   "cell_type": "code",
   "execution_count": 418,
   "metadata": {},
   "outputs": [],
   "source": [
    "eq2ghr.drop(columns=['OBSERVACIONES','PLAN DE MANTENIMIENTO','HOJA DE RUTA TIPO EQUIPO','HOJA DE RUTA INSTRUCCIÓN'],inplace=True)\n"
   ]
  },
  {
   "cell_type": "code",
   "execution_count": 419,
   "metadata": {},
   "outputs": [],
   "source": [
    "eq2ghr.columns = ['TAG','DescripcionEquipo','GrupoTS','GrupoHR','EqSAP','PuntoMedida']\n",
    "eq2ghr = eq2ghr.loc[(eq2ghr.loc[:,'GrupoTS']== grupo1) | (eq2ghr.loc[:,'GrupoTS']== grupo2),:]\n",
    "eq2ghr.loc[:,'EqSAP'] = eq2ghr.loc[:,'EqSAP'].astype(float)"
   ]
  },
  {
   "cell_type": "code",
   "execution_count": 420,
   "metadata": {},
   "outputs": [
    {
     "output_type": "execute_result",
     "data": {
      "text/plain": [
       "             TAG                         DescripcionEquipo  GrupoTS  GrupoHR  \\\n",
       "123  2262-CP-210        COMPRESOR AIRE INGERSOLL RAND R11i        7  MCOM008   \n",
       "124  3131-SC-301  ZARAND SCHENCKPROCESS SLD4385DXX 3995T/H        7  MZAR001   \n",
       "125  3142-SC-302  ZARAND SCHENCKPROCESS SLD4385DXX 1196T/H        7  MZAR001   \n",
       "126  3142-SC-303  ZARAND SCHENCKPROCESS SLD4385DXX 1196T/H        7  MZAR001   \n",
       "127  3142-SC-304  ZARAND SCHENCKPROCESS SLD4385DXX 1196T/H        7  MZAR001   \n",
       "\n",
       "          EqSAP PuntoMedida  \n",
       "123  10016667.0       12745  \n",
       "124  10016887.0       12391  \n",
       "125  10016904.0       12431  \n",
       "126  10016905.0       12435  \n",
       "127  10016906.0       12439  "
      ],
      "text/html": "<div>\n<style scoped>\n    .dataframe tbody tr th:only-of-type {\n        vertical-align: middle;\n    }\n\n    .dataframe tbody tr th {\n        vertical-align: top;\n    }\n\n    .dataframe thead th {\n        text-align: right;\n    }\n</style>\n<table border=\"1\" class=\"dataframe\">\n  <thead>\n    <tr style=\"text-align: right;\">\n      <th></th>\n      <th>TAG</th>\n      <th>DescripcionEquipo</th>\n      <th>GrupoTS</th>\n      <th>GrupoHR</th>\n      <th>EqSAP</th>\n      <th>PuntoMedida</th>\n    </tr>\n  </thead>\n  <tbody>\n    <tr>\n      <th>123</th>\n      <td>2262-CP-210</td>\n      <td>COMPRESOR AIRE INGERSOLL RAND R11i</td>\n      <td>7</td>\n      <td>MCOM008</td>\n      <td>10016667.0</td>\n      <td>12745</td>\n    </tr>\n    <tr>\n      <th>124</th>\n      <td>3131-SC-301</td>\n      <td>ZARAND SCHENCKPROCESS SLD4385DXX 3995T/H</td>\n      <td>7</td>\n      <td>MZAR001</td>\n      <td>10016887.0</td>\n      <td>12391</td>\n    </tr>\n    <tr>\n      <th>125</th>\n      <td>3142-SC-302</td>\n      <td>ZARAND SCHENCKPROCESS SLD4385DXX 1196T/H</td>\n      <td>7</td>\n      <td>MZAR001</td>\n      <td>10016904.0</td>\n      <td>12431</td>\n    </tr>\n    <tr>\n      <th>126</th>\n      <td>3142-SC-303</td>\n      <td>ZARAND SCHENCKPROCESS SLD4385DXX 1196T/H</td>\n      <td>7</td>\n      <td>MZAR001</td>\n      <td>10016905.0</td>\n      <td>12435</td>\n    </tr>\n    <tr>\n      <th>127</th>\n      <td>3142-SC-304</td>\n      <td>ZARAND SCHENCKPROCESS SLD4385DXX 1196T/H</td>\n      <td>7</td>\n      <td>MZAR001</td>\n      <td>10016906.0</td>\n      <td>12439</td>\n    </tr>\n  </tbody>\n</table>\n</div>"
     },
     "metadata": {},
     "execution_count": 420
    }
   ],
   "source": [
    "eq2ghr.head()"
   ]
  },
  {
   "cell_type": "code",
   "execution_count": 421,
   "metadata": {
    "tags": []
   },
   "outputs": [],
   "source": [
    "# Hojas de ruta\n",
    "HR = db.loc[db.iloc[:,0] == 1,:]\n",
    "HR.drop(labels=[11,12,13,14,15,16,17], axis = 1, inplace = True)\n",
    "HRcolumnsname = [0,'GrupoHREQ','Contador','HRDescripcion','HRPuesto','Centro','Utilizacion','GPlanificacion', 'EstadoGlobal','EstadoInstalacion','Estrategia']\n",
    "HR.columns = HRcolumnsname\n",
    "HR.loc[:,'HRContador'] = HR['GrupoHREQ'].astype(str) + HR['Contador']\n",
    "# Add maintenance estrategy of each actiivitie, and type of equipment\n",
    "HR.loc[:,'EstrategiaMTTO'] = HR.loc[:,'HRDescripcion'].str.split('_',expand = True)[0] \n",
    "#HR.loc[:,'ClaseEq'] = HR.loc[:,'HRDescripcion'].str.split('_',expand = True)[2]"
   ]
  },
  {
   "cell_type": "code",
   "execution_count": 422,
   "metadata": {},
   "outputs": [],
   "source": [
    "EQlist = HR.drop_duplicates(subset = ['GrupoHREQ'])\n",
    "#EQlist.drop(labels = [0,2,3,4,5,6,7,8,9,10], axis=1, inplace= True)\n",
    "EQlist.reset_index(drop= True,inplace=True)"
   ]
  },
  {
   "cell_type": "code",
   "execution_count": 423,
   "metadata": {},
   "outputs": [],
   "source": [
    "# Posiciones de las Hojas de Ruta\n",
    "PHR = db.loc[db.iloc[:,0] == 2,:]\n",
    "PHR.drop(columns = [10,11,12,13,14,15,16,17],inplace = True)\n",
    "PHRcolumnsname = [0,'GrupoHREQ','pos','Puesto','ClaseOT','Actividades','HH','H','ACant','AHoras']\n",
    "PHR.columns = PHRcolumnsname"
   ]
  },
  {
   "cell_type": "code",
   "execution_count": 424,
   "metadata": {},
   "outputs": [],
   "source": [
    "# Actividad detallada de laPosiciones de las Hojas de Ruta\n",
    "AHR = db.loc[db.iloc[:,0] == 3,:]"
   ]
  },
  {
   "cell_type": "code",
   "execution_count": 425,
   "metadata": {
    "tags": []
   },
   "outputs": [],
   "source": [
    "# Conectar Posiciones de HR con la HR a traves de HRContador del HR al PHR\n",
    "nm1=0\n",
    "#HR.tail(1).index.values[0] = last index of HR dataframe\n",
    "for m in PHR.index:\n",
    "    for n in HR.index:\n",
    "        if nm1<=m and m<=n:\n",
    "            PHR.loc[m,'HRContador'] = HR.loc[nm1,'HRContador']\n",
    "            break\n",
    "        elif m>=HR.tail(1).index.values[0]:\n",
    "            PHR.loc[m,'HRContador'] = HR.loc[HR.tail(1).index.values[0],'HRContador']\n",
    "            break\n",
    "        nm1 = n\n",
    "PHR.loc[:,'posHRContador'] = PHR.loc[:,'HRContador'] + PHR.loc[:,'pos'].astype(str)"
   ]
  },
  {
   "cell_type": "code",
   "execution_count": 426,
   "metadata": {},
   "outputs": [],
   "source": [
    "# Materiales de Hojas de Ruta\n",
    "MHR = db.loc[db.iloc[:,0] == 4,:]\n",
    "MHR = MHR.drop(columns = [4,5,6,7,8,9,10,11,12,13,14,15,16,17])\n",
    "MHRcolumnsname = [0,'GrupoHREQ','Material','MCantidad']\n",
    "MHR.columns = MHRcolumnsname"
   ]
  },
  {
   "cell_type": "code",
   "execution_count": 427,
   "metadata": {},
   "outputs": [],
   "source": [
    "# Conectar Posiciones de HR con la HR a traves de posHRContador del PHR al MHR\n",
    "nm1=0\n",
    "#HR.tail(1).index.values[0] = last index of HR dataframe\n",
    "for m in MHR.index:\n",
    "    for n in PHR.index:\n",
    "        if nm1<=m and m<=n:\n",
    "            MHR.loc[m,'posHRContador'] = PHR.loc[nm1,'posHRContador']\n",
    "            MHR.loc[m,'HRContador'] = PHR.loc[nm1,'HRContador']\n",
    "            break\n",
    "        elif m>=PHR.tail(1).index.values[0]:\n",
    "            MHR.loc[m,'posHRContador'] = PHR.loc[HR.tail(1).index.values[0],'posHRContador']\n",
    "            MHR.loc[m,'HRContador'] = PHR.loc[HR.tail(1).index.values[0],'HRContador']\n",
    "            break\n",
    "        nm1 = n\n",
    "#PHR.loc[:,'posHRContador'] = PHR.loc[:,'HRContador'] + PHR.loc[:,'pos'].astype(str)"
   ]
  },
  {
   "cell_type": "code",
   "execution_count": 428,
   "metadata": {},
   "outputs": [],
   "source": [
    "# Materiales de Estrategia de Ruta\n",
    "EPHR = db.loc[db.iloc[:,0] == 5,:]\n",
    "EPHR.drop(columns = [3,4,5,6,7,8,9,10,11,12,13,14,15,16,17],inplace = True)\n",
    "EPHR.columns = [0,'GrupoHREQ','Frecuencia']"
   ]
  },
  {
   "cell_type": "code",
   "execution_count": 429,
   "metadata": {},
   "outputs": [],
   "source": [
    "# Conectar Estrategias de HR con la posicion de la HR\n",
    "nm3=0\n",
    "#HR.tail(1).index.values[0] = last index of HR dataframe\n",
    "for o in EPHR.index:\n",
    "    for p in PHR.index:\n",
    "        if nm3<=o and o<=p:\n",
    "            EPHR.loc[o,'posHRContador'] = PHR.loc[nm3,'posHRContador']\n",
    "            #EPHR.loc[o,'HRContador'] = PHR.loc[nm3,'HRContador']\n",
    "            break\n",
    "        elif m>=PHR.tail(1).index.values[0]:\n",
    "            EPHR.loc[o,'posHRContador'] = PHR.loc[HR.tail(1).index.values[0],'posHRContador']\n",
    "            #EPHR.loc[o,'HRContador'] = PHR.loc[HR.tail(1).index.values[0],'HRContador']\n",
    "            break\n",
    "        nm3 = p\n",
    "#PHR.loc[:,'posHRContador'] = PHR.loc[:,'HRContador'] + PHR.loc[:,'pos'].astype(str)"
   ]
  },
  {
   "cell_type": "code",
   "execution_count": 430,
   "metadata": {},
   "outputs": [],
   "source": [
    "PHRE = pd.merge(PHR.loc[:,['pos','Actividades','Puesto','ClaseOT','ACant','AHoras','HRContador','posHRContador']],EPHR.loc[:,['Frecuencia','posHRContador']],on = 'posHRContador',how = 'left')"
   ]
  },
  {
   "cell_type": "code",
   "execution_count": 431,
   "metadata": {},
   "outputs": [],
   "source": [
    "posHRwithMHR = pd.merge(PHRE.loc[:,['pos','Actividades','Puesto','ClaseOT','ACant','AHoras','HRContador','posHRContador','Frecuencia']],MHR.loc[:,['posHRContador','Material','MCantidad']],on='posHRContador',how='left')"
   ]
  },
  {
   "cell_type": "code",
   "execution_count": 440,
   "metadata": {},
   "outputs": [],
   "source": [
    "allDutiesMat = pd.merge(HR.loc[:,['GrupoHREQ','Contador','HRPuesto','EstrategiaMTTO','HRDescripcion','HRContador','Estrategia']],posHRwithMHR,on='HRContador',how='left')"
   ]
  },
  {
   "cell_type": "code",
   "execution_count": 433,
   "metadata": {},
   "outputs": [],
   "source": [
    "#allDutiesMat = pd.merge(HR.loc[:,['Contador','HRDescripcion','HRPuesto','Eq','HRContador']],PHRE.loc[:,['pos','Actividades','Puesto','ClaseOT','ACant','AHoras','HRContador','posHRContador']],on='HRContador',how='left')"
   ]
  },
  {
   "cell_type": "code",
   "execution_count": 434,
   "metadata": {},
   "outputs": [],
   "source": [
    "#allDutiesMat.to_csv(mergeHRrute, encoding = 'utf-8-sig')"
   ]
  },
  {
   "cell_type": "code",
   "execution_count": 441,
   "metadata": {},
   "outputs": [],
   "source": [
    "if flag = 1:    \n",
    "    PruebaEQ = pd.merge(eq2ghr.loc[:,['TAG', 'DescripcionEquipo', 'GrupoTS', 'GrupoHR', 'EqSAP', 'PuntoMedida']],allDutiesMat,left_on='EqSAP',right_on='GrupoHREQ',how='right')\n",
    "    PruebaEQ.to_csv(mergeHRrute, encoding = 'utf-8-sig')"
   ]
  },
  {
   "cell_type": "code",
   "execution_count": 442,
   "metadata": {},
   "outputs": [],
   "source": [
    "if flag = 0:    \n",
    "    PruebaINS = pd.merge(eq2ghr.loc[:,['TAG', 'DescripcionEquipo', 'GrupoTS', 'GrupoHR', 'EqSAP', 'PuntoMedida']],allDutiesMat,left_on='GrupoHR',right_on='GrupoHREQ',how='right')\n",
    "    PruebaINS.to_csv(mergeHRrute, encoding = 'utf-8-sig')"
   ]
  }
 ],
 "metadata": {
  "kernelspec": {
   "name": "Python 3.8.6 64-bit",
   "display_name": "Python 3.8.6 64-bit",
   "metadata": {
    "interpreter": {
     "hash": "1baa965d5efe3ac65b79dfc60c0d706280b1da80fedb7760faf2759126c4f253"
    }
   }
  },
  "language_info": {
   "codemirror_mode": {
    "name": "ipython",
    "version": 3
   },
   "file_extension": ".py",
   "mimetype": "text/x-python",
   "name": "python",
   "nbconvert_exporter": "python",
   "pygments_lexer": "ipython3",
   "version": "3.8.6-final"
  }
 },
 "nbformat": 4,
 "nbformat_minor": 4
}